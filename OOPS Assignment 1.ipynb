{
 "cells": [
  {
   "cell_type": "markdown",
   "id": "0a1900ab-d6ae-4f8f-937e-e95dd5a65180",
   "metadata": {},
   "source": [
    "# OOP Assignment \n",
    "**By: Rahul Jauhari**"
   ]
  },
  {
   "cell_type": "markdown",
   "id": "fb4e9e13-e163-4220-8da4-51e80c603e1a",
   "metadata": {},
   "source": [
    "## Constructor "
   ]
  },
  {
   "cell_type": "markdown",
   "id": "803ccf3a-68cd-4374-8c9e-1820283e846f",
   "metadata": {},
   "source": [
    "1. What is a constructor in Python? Explain its purpose and usage."
   ]
  },
  {
   "cell_type": "markdown",
   "id": "b10b05f3-4562-4950-adcc-90e779a8271e",
   "metadata": {},
   "source": [
    "A constructor is a special function in python that is used to intialise an object of a class, when ever a object is instantiated the constructor is called first which initializes any data members of the class object. In python the constructor is called as \"__init__\" method that we define when we create a class."
   ]
  },
  {
   "cell_type": "code",
   "execution_count": 2,
   "id": "1c0d54bc-d4f0-48ba-9b30-c625b9a25127",
   "metadata": {},
   "outputs": [
    {
     "name": "stdout",
     "output_type": "stream",
     "text": [
      "value1\n",
      "value2\n"
     ]
    }
   ],
   "source": [
    "# This is an example of such constuctor created for the MyClass Class.\n",
    "class MyClass:\n",
    "    def __init__(self, arg1, arg2):\n",
    "        self.attribute1 = arg1\n",
    "        self.attribute2 = arg2\n",
    "\n",
    "my_instance = MyClass(\"value1\", \"value2\")\n",
    "print(my_instance.attribute1)\n",
    "print(my_instance.attribute2)"
   ]
  },
  {
   "cell_type": "markdown",
   "id": "0d7dc10d-36cd-4a90-be34-8c904409c433",
   "metadata": {},
   "source": [
    "As we cam see above values of atribute one and two are defined as given in constructor."
   ]
  },
  {
   "cell_type": "markdown",
   "id": "9c0f7190-b8ff-49ce-af13-b0c377050387",
   "metadata": {},
   "source": [
    "2. Differentiate between a parameterless constructor and a parameterized constructor in Python."
   ]
  },
  {
   "cell_type": "markdown",
   "id": "df5a42c3-d3f7-4ebe-a88b-ec0a8b925bb5",
   "metadata": {},
   "source": [
    "**Parameterless Constructor**\r\n",
    "\r\n",
    "A parameterless constructor, also known as a default constructor, does not take any parameters other than the self parameter.\r\n",
    "\r\n",
    "It is defined with the \"__init__\" method and initializes object attributes to default values or sets up the object's initial state without taking any external input.\r\n",
    "\r\n",
    "A parameterless constructor is typically used when you want to provide default values for an object's attribu\n",
    "t**es.\r\n",
    "\r\n",
    "\r\n",
    "Para eterized Co**structor:\r\n",
    "\r\n",
    "A parameterized constructor, as the name suggests, takes one or more parameters in addition to the self parameter.\r\n",
    "\r\n",
    "It allows you to pass specific values or data when creating an instance of the class, and these values are used to initialize the object's attributes.\r\n",
    "\r\n",
    "Parameterized constructors are useful when you want to customize the initial state of an object based on the provided input.put.tes."
   ]
  },
  {
   "cell_type": "markdown",
   "id": "19f2bb9c-2f77-4f9e-bcf4-9077331742e0",
   "metadata": {},
   "source": [
    "3. How do you define a constructor in a Python class? Provide an example."
   ]
  },
  {
   "cell_type": "markdown",
   "id": "6ffe21cb-fa4d-45b2-88dd-33bf525714c5",
   "metadata": {},
   "source": [
    "In Python, you define a constructor in a class using a special method named __init__. The __init__ method is automatically called when an object of the class is created, and it's used to initialize the object's attributes or set up its initial state. Here's how you define a constructor in a Python class:"
   ]
  },
  {
   "cell_type": "code",
   "execution_count": 3,
   "id": "43bda11e-1a1e-4c8d-92cb-c6d483409369",
   "metadata": {},
   "outputs": [],
   "source": [
    "# Same example as above\n",
    "class MyClass:\n",
    "    def __init__(self, arg1, arg2):\n",
    "        self.attribute1 = arg1\n",
    "        self.attribute2 = arg2\n",
    "\n",
    "my_instance = MyClass(\"value1\", \"value2\")\n"
   ]
  },
  {
   "cell_type": "markdown",
   "id": "c399797d-fd8b-4895-ae6a-965abfd8274f",
   "metadata": {},
   "source": [
    "4. Explain the `__init__` method in Python and its role in constructors."
   ]
  },
  {
   "cell_type": "markdown",
   "id": "fea951bf-37a5-4a11-ae1a-7afd677d754c",
   "metadata": {},
   "source": [
    "In Python, the __init__ method is a special method as it serves as the constructor for a class. The __init__ method is automatically called when an object of the class is created. Its primary role is to initialize the attributes (variables) of the object, providing them with initial values or setting up the initial state of the object."
   ]
  },
  {
   "cell_type": "markdown",
   "id": "b17e236d-3e51-48a3-9a8d-f8a327b38b05",
   "metadata": {},
   "source": [
    "5. In a class named `Person`, create a constructor that initializes the `name` and `age` attributes. Provide an example of creating an object of this class."
   ]
  },
  {
   "cell_type": "code",
   "execution_count": 5,
   "id": "9667c24d-b808-4388-8af5-6784cfe57192",
   "metadata": {},
   "outputs": [
    {
     "name": "stdout",
     "output_type": "stream",
     "text": [
      "Name:  Rahul\n",
      "Age:  21\n"
     ]
    }
   ],
   "source": [
    "class Person:\n",
    "    def __init__(self,name,age):\n",
    "        self.name = name\n",
    "        self.age = age\n",
    "\n",
    "\n",
    "obj = Person(\"Rahul\",21)\n",
    "print(\"Name: \",obj.name)\n",
    "print(\"Age: \",obj.age)"
   ]
  },
  {
   "cell_type": "markdown",
   "id": "446399b3-b5df-4bc2-bc29-a8b8b496073b",
   "metadata": {},
   "source": [
    "6. How can you call a constructor explicitly in Python? Give an example."
   ]
  },
  {
   "cell_type": "markdown",
   "id": "d8e1faa1-5378-4a48-bd08-ce19042b05a4",
   "metadata": {},
   "source": [
    "We can all constructors explicitly by using the \"super()\" function, we can use this only when wwe have a child class that is extending from the class who's constructor we want to call explicitly. This ensures that both the parent and child constructors are executed when creating an instance of child class. As shown below:"
   ]
  },
  {
   "cell_type": "code",
   "execution_count": 7,
   "id": "b5cdd993-e90b-40c1-bc88-2f599f081f88",
   "metadata": {},
   "outputs": [
    {
     "name": "stdout",
     "output_type": "stream",
     "text": [
      "parent_value\n",
      "child_value\n"
     ]
    }
   ],
   "source": [
    "class ParentClass:\n",
    "    def __init__(self, parent_arg):\n",
    "        self.parent_attribute = parent_arg\n",
    "\n",
    "class ChildClass(ParentClass):\n",
    "    def __init__(self, parent_arg, child_arg):\n",
    "        super().__init__(parent_arg)\n",
    "        self.child_attribute = child_arg\n",
    "\n",
    "child_instance = ChildClass(\"parent_value\", \"child_value\")\n",
    "\n",
    "print(child_instance.parent_attribute)\n",
    "print(child_instance.child_attribute)  \n"
   ]
  },
  {
   "cell_type": "markdown",
   "id": "61b74c94-76c8-4313-a445-421f939d4667",
   "metadata": {},
   "source": [
    "We usually use the super keyword, to initialize the parent attributes as the child object has all the properties of its parent, and if the parent attributes are not defined then their could be problems while accessing the value of a parent attribute using the child object, and thus breaking the property of inheritance. "
   ]
  },
  {
   "cell_type": "markdown",
   "id": "05f41772-6d35-48e3-b6e0-4c3b28fbb389",
   "metadata": {},
   "source": [
    "7. What is the significance of the `self` parameter in Python constructors? Explain with an example."
   ]
  },
  {
   "cell_type": "markdown",
   "id": "680a78f8-0352-4db9-8e0f-bda7e8bb8e54",
   "metadata": {},
   "source": [
    "The self parameter in Python constructors and methods is a reference to the instance of the class, which allows you to access and manipulate the object's attributes and methods. The self parameter is used to distinguish instance variables from local variables within the method."
   ]
  },
  {
   "cell_type": "code",
   "execution_count": 8,
   "id": "1ca8d83e-05bd-4164-8890-59e139d4ee25",
   "metadata": {},
   "outputs": [
    {
     "name": "stdout",
     "output_type": "stream",
     "text": [
      "attribute1: value1\n",
      "attribute2: value2\n"
     ]
    }
   ],
   "source": [
    "class MyClass:\n",
    "    def __init__(self, arg1, arg2):\n",
    "        self.attribute1 = arg1\n",
    "        self.attribute2 = arg2\n",
    "\n",
    "    def display_attributes(self):\n",
    "        print(f\"attribute1: {self.attribute1}\")\n",
    "        print(f\"attribute2: {self.attribute2}\")\n",
    "\n",
    "my_instance = MyClass(\"value1\", \"value2\")\n",
    "\n",
    "my_instance.display_attributes()"
   ]
  },
  {
   "cell_type": "markdown",
   "id": "f4711a9d-060f-4a42-bb63-6fb7873afc86",
   "metadata": {},
   "source": [
    "8. Discuss the concept of default constructors in Python. When are they used?"
   ]
  },
  {
   "cell_type": "markdown",
   "id": "bd8e9a9b-4648-47ae-9a54-f794bb47ff1b",
   "metadata": {},
   "source": [
    "Default constructors in Python can be achieved by defining a parameterless constructor, which is automatically called when an instance of a class is created without passing any arguments. In essence, the parameterless constructor serves as a default constructor."
   ]
  },
  {
   "cell_type": "code",
   "execution_count": 9,
   "id": "aba7d0ab-7d2a-4716-8d24-8817859a076f",
   "metadata": {},
   "outputs": [],
   "source": [
    "class MyClass:\n",
    "    def __init__(self):\n",
    "        self.attribute1 = \"default_value1\"\n",
    "        self.attribute2 = 0"
   ]
  },
  {
   "cell_type": "markdown",
   "id": "4db09797-6c57-44bb-b187-71d0c74e9e3b",
   "metadata": {},
   "source": [
    "9. Create a Python class called `Rectangle` with a constructor that initializes the `width` and `height` attributes. Provide a method to calculate the area of the rectangle"
   ]
  },
  {
   "cell_type": "code",
   "execution_count": 12,
   "id": "e84fc996-fa61-4106-bec7-50b763edcf5c",
   "metadata": {},
   "outputs": [
    {
     "name": "stdout",
     "output_type": "stream",
     "text": [
      "The area of the rectangle is 35\n"
     ]
    }
   ],
   "source": [
    "class Rectangle:\n",
    "    def __init__(self, width, height):\n",
    "        self.width = width\n",
    "        self.height = height\n",
    "\n",
    "    def calculate_area(self):\n",
    "        return self.width * self.height\n",
    "\n",
    "my_rectangle = Rectangle(5, 7)\n",
    "\n",
    "area = my_rectangle.calculate_area()\n",
    "print(f\"The area of the rectangle is {area}\")"
   ]
  },
  {
   "cell_type": "markdown",
   "id": "9d377498-02ee-490a-9f5f-2f1fa6ef6d43",
   "metadata": {},
   "source": [
    "10. How can you have multiple constructors in a Python class? Explain with an example."
   ]
  },
  {
   "cell_type": "markdown",
   "id": "c7e69aba-734a-4231-9b07-66f9be648a83",
   "metadata": {},
   "source": [
    "We can have multiple constructors by using default arguments and by creating methods that serve as alternative constructors by using the classmethod decorator"
   ]
  },
  {
   "cell_type": "code",
   "execution_count": 13,
   "id": "f7dc56bf-02d2-4151-9afe-1ff47fda7b5d",
   "metadata": {},
   "outputs": [
    {
     "name": "stdout",
     "output_type": "stream",
     "text": [
      "value1 value2\n",
      "default_value1 default_value2\n"
     ]
    }
   ],
   "source": [
    "class MyClass:\n",
    "    def __init__(self, arg1, arg2):\n",
    "        self.attribute1 = arg1\n",
    "        self.attribute2 = arg2\n",
    "\n",
    "    @classmethod\n",
    "    def from_default(cls):\n",
    "        return cls(\"default_value1\", \"default_value2\")\n",
    "\n",
    "instance1 = MyClass(\"value1\", \"value2\")\n",
    "\n",
    "instance2 = MyClass.from_default()\n",
    "\n",
    "print(instance1.attribute1, instance1.attribute2)  \n",
    "print(instance2.attribute1, instance2.attribute2)  "
   ]
  },
  {
   "cell_type": "markdown",
   "id": "20d6ec1c-6ee7-4c99-855c-698fdcb1d764",
   "metadata": {},
   "source": [
    "11. What is method overloading, and how is it related to constructors in Python?"
   ]
  },
  {
   "cell_type": "markdown",
   "id": "7816f936-4daf-416e-9a9f-7bb5c8f7933d",
   "metadata": {},
   "source": [
    "Method overloading is a concept in object-oriented programming that allows you to define multiple methods in a class with the same name but different parameter lists. Python provides flexibility in constructor arguments by allowing you to provide default values for parameters or to use alternative constructor methods such as the \"@classmethod\" decorator used in the previous question"
   ]
  },
  {
   "cell_type": "code",
   "execution_count": 14,
   "id": "819aa0ef-7ad4-4582-b90c-40f6c09fd960",
   "metadata": {},
   "outputs": [
    {
     "name": "stdout",
     "output_type": "stream",
     "text": [
      "default value\n",
      "value2\n"
     ]
    }
   ],
   "source": [
    "class MyClass:\n",
    "    def __init__(self,arg1,arg2=\"default value\"):\n",
    "        self.attribute1 = arg1\n",
    "        self.attribute2 = arg2\n",
    "\n",
    "    @classmethod\n",
    "    def from_def(cls):\n",
    "        return cls(\"def1\",\"def2\")\n",
    "\n",
    "instance1 = MyClass(\"value1\")\n",
    "\n",
    "instance2 = MyClass(\"value1\", \"value2\")\n",
    "\n",
    "print(instance1.attribute2)\n",
    "print(instance2.attribute2)"
   ]
  },
  {
   "cell_type": "markdown",
   "id": "17099cef-8576-45d5-852d-4c91822f94ae",
   "metadata": {},
   "source": [
    "12. Explain the use of the `super()` function in Python constructors. Provide an example."
   ]
  },
  {
   "cell_type": "markdown",
   "id": "a0abcbe0-2825-4042-9578-bfd82a29daae",
   "metadata": {},
   "source": [
    "The super() function is used in constructors to call the constructor of a parent class. This is particularly useful when you have a subclass and want to extend the behavior of the parent class while ensuring that the parent class's constructor is executed. The super() function allows you to access and invoke the methods or constructors of the parent class within the context of the child class."
   ]
  },
  {
   "cell_type": "code",
   "execution_count": 16,
   "id": "e0aa2f3c-b074-4d73-b168-209c4da9af9b",
   "metadata": {},
   "outputs": [
    {
     "name": "stdout",
     "output_type": "stream",
     "text": [
      "parent_value\n",
      "child_value\n"
     ]
    }
   ],
   "source": [
    "class ParentClass:\n",
    "    def __init__(self, parent_arg):\n",
    "        self.parent_attribute = parent_arg\n",
    "\n",
    "class ChildClass(ParentClass):\n",
    "    def __init__(self, parent_arg, child_arg):\n",
    "        super().__init__(parent_arg)\n",
    "        self.child_attribute = child_arg\n",
    "\n",
    "child_instance = ChildClass(\"parent_value\", \"child_value\")\n",
    "\n",
    "print(child_instance.parent_attribute) \n",
    "print(child_instance.child_attribute)  \n"
   ]
  },
  {
   "cell_type": "markdown",
   "id": "3077c7c1-34e4-49d5-92b8-390f4c36ce0d",
   "metadata": {},
   "source": [
    "13. Create a class called `Book` with a constructor that initializes the `title`, `author`, and `published_year` attributes. Provide a method to display book details."
   ]
  },
  {
   "cell_type": "code",
   "execution_count": 17,
   "id": "ebecc871-3c3a-4044-a304-b67bf6b9f5c1",
   "metadata": {},
   "outputs": [
    {
     "name": "stdout",
     "output_type": "stream",
     "text": [
      "Title: Lightning Theif\n",
      "Author: Rahul Jauhari\n",
      "Published Year: 2003\n"
     ]
    }
   ],
   "source": [
    "class Book:\n",
    "    def __init__(self, title, author, published_year):\n",
    "        self.title = title\n",
    "        self.author = author\n",
    "        self.published_year = published_year\n",
    "\n",
    "    def display_details(self):\n",
    "        print(\"Title: \" + self.title)\n",
    "        print(\"Author: \" + self.author)\n",
    "        print(\"Published Year: \" + str(self.published_year))\n",
    "\n",
    "book1 = Book(\"Lightning Theif\", \"Rahul Jauhari\", 2003)\n",
    "\n",
    "book1.display_details()\n"
   ]
  },
  {
   "cell_type": "markdown",
   "id": "3719a498-4ebe-414d-8b70-c1330f1627ea",
   "metadata": {},
   "source": [
    "14. Discuss the differences between constructors and regular methods in Python classes."
   ]
  },
  {
   "cell_type": "markdown",
   "id": "a737ad89-ccc6-4c8f-8c66-394b027b1767",
   "metadata": {},
   "source": [
    "Constructors, with the special name __init__, are responsible for initializing the attributes of an object when it is created, preparing it for use, and are automatically called at the object's instantiation. In contrast, regular methods can have any valid method name and define the behaviors or actions an object can perform. They require explicit invocation and can take additional parameters to execute specific tasks, often returning values as part of their functionality. While constructors establish the initial state of an object, regular methods enable a wide range of interactions and actions an object can undertake during its lifetime."
   ]
  },
  {
   "cell_type": "markdown",
   "id": "61c6a075-9e93-4910-9042-8ac50d6c0084",
   "metadata": {},
   "source": [
    "15. Explain the role of the `self` parameter in instance variable initialization within a constructor."
   ]
  },
  {
   "cell_type": "markdown",
   "id": "de69ae01-6021-4354-a6e3-0a23e09cc5c2",
   "metadata": {},
   "source": [
    "It represents the instance (object) itself, and it allows you to access and manipulate the object's attributes and methods within the class."
   ]
  },
  {
   "cell_type": "code",
   "execution_count": 18,
   "id": "b035f166-de6f-4700-b0a0-4793cee429a6",
   "metadata": {},
   "outputs": [
    {
     "name": "stdout",
     "output_type": "stream",
     "text": [
      "attribute1: value1\n",
      "attribute2: value2\n"
     ]
    }
   ],
   "source": [
    "class MyClass:\n",
    "    def __init__(self, arg1, arg2):\n",
    "        self.attribute1 = arg1  # Using self to initialize attribute1\n",
    "        self.attribute2 = arg2  # Using self to initialize attribute2\n",
    "\n",
    "    def display_attributes(self):\n",
    "        print(\"attribute1:\", self.attribute1)\n",
    "        print(\"attribute2:\", self.attribute2)\n",
    "\n",
    "# Creating an instance of MyClass\n",
    "my_instance = MyClass(\"value1\", \"value2\")\n",
    "\n",
    "# Accessing and displaying the object's attributes using 'self'\n",
    "my_instance.display_attributes()"
   ]
  },
  {
   "cell_type": "markdown",
   "id": "ed8c09e4-bc43-4b2f-97f2-cdd6b3a79ea9",
   "metadata": {},
   "source": [
    "16. How do you prevent a class from having multiple instances by using constructors in Python? Provide an example."
   ]
  },
  {
   "cell_type": "markdown",
   "id": "200bc36f-fb07-4c81-9e0b-b92aeb6334bb",
   "metadata": {},
   "source": [
    "We can implement a design pattern known as the Singleton pattern to ensure that a class has only one instance throughout the program. The Singleton pattern restricts the instantiation of a class to a single object and provides a way to access that instance globally."
   ]
  },
  {
   "cell_type": "code",
   "execution_count": 23,
   "id": "23f9b6aa-cdab-4085-9829-364199ea42cf",
   "metadata": {},
   "outputs": [
    {
     "name": "stdout",
     "output_type": "stream",
     "text": [
      "Somthing\n",
      "Other\n"
     ]
    }
   ],
   "source": [
    "class Singleton:\n",
    "    static_instance = None\n",
    "\n",
    "    def __init__(self,arg1):\n",
    "        if self.static_instance == None:\n",
    "            self.arg = arg1\n",
    "            self.static_instance = self\n",
    "        else:\n",
    "            return None\n",
    "\n",
    "obj1 = Singleton(\"Somthing\")\n",
    "obj2 = Singleton(\"Other\")\n",
    "\n",
    "print(obj1.arg)\n",
    "print(obj2.arg)"
   ]
  },
  {
   "cell_type": "markdown",
   "id": "7fb76aa2-290f-473f-8918-7b338fdd59fd",
   "metadata": {},
   "source": [
    "17. Create a Python class called `Student` with a constructor that takes a list of subjects as a parameter and initializes the `subjects` attribute"
   ]
  },
  {
   "cell_type": "code",
   "execution_count": 25,
   "id": "4c7d1c78-38fc-44c4-a3de-9509c52d869f",
   "metadata": {},
   "outputs": [
    {
     "name": "stdout",
     "output_type": "stream",
     "text": [
      "Student's subjects: ['Math', 'Science', 'History']\n"
     ]
    }
   ],
   "source": [
    "class Student:\n",
    "    def __init__(self, *subjects):\n",
    "        self.subjects = list(subjects)\n",
    "\n",
    "student1 = Student(\"Math\", \"Science\", \"History\")\n",
    "\n",
    "print(\"Student's subjects:\", student1.subjects)\n"
   ]
  },
  {
   "cell_type": "markdown",
   "id": "84ac1c8e-9163-4792-be3b-01a48f01b385",
   "metadata": {},
   "source": [
    "18. What is the purpose of the `__del__` method in Python classes, and how does it relate to constructors?"
   ]
  },
  {
   "cell_type": "markdown",
   "id": "1c715755-40f7-47e8-927d-5ae4b536ae8a",
   "metadata": {},
   "source": [
    "The __del__ method is a special method that serves as a destructor. It is used to define the cleanup or finalization actions that should be performed when an object is about to be destroyed or garbage-collected. The __del__ method is called automatically just before an object is removed from memory when it is no longer in use. Its purpose is to free up resources or perform any necessary cleanup operations to release resources held by the object."
   ]
  },
  {
   "cell_type": "code",
   "execution_count": 27,
   "id": "3f05372b-7b1b-4be8-9bc6-a06609922e5d",
   "metadata": {},
   "outputs": [
    {
     "name": "stdout",
     "output_type": "stream",
     "text": [
      "Object 1 is created.\n",
      "Object 1 is being destroyed.\n"
     ]
    }
   ],
   "source": [
    "class MyClass:\n",
    "    def __init__(self, name):\n",
    "        self.name = name\n",
    "        print(f\"{self.name} is created.\")\n",
    "\n",
    "    def __del__(self):\n",
    "        print(f\"{self.name} is being destroyed.\")\n",
    "\n",
    "obj1 = MyClass(\"Object 1\")\n",
    "\n",
    "del obj1"
   ]
  },
  {
   "cell_type": "markdown",
   "id": "21c090df-71ae-435b-b836-eadecdd63219",
   "metadata": {},
   "source": [
    "19. Explain the use of constructor chaining in Python. Provide a practical example."
   ]
  },
  {
   "cell_type": "markdown",
   "id": "1c0c1316-a31a-452a-848e-a34e9ee0d811",
   "metadata": {},
   "source": [
    "Constructor Chaining is the process of one constructor within a class calling another constructor from the same class. This allows you to reuse code and avoid duplicating initialization logic across different constructors."
   ]
  },
  {
   "cell_type": "code",
   "execution_count": 32,
   "id": "af9dece2-8772-4bbc-95c4-9b299d347014",
   "metadata": {},
   "outputs": [
    {
     "name": "stdout",
     "output_type": "stream",
     "text": [
      "Name: John Doe\n",
      "Student ID: 12345\n"
     ]
    }
   ],
   "source": [
    "class Person:\n",
    "    def __init__(self, first_name, last_name):\n",
    "        self.first_name = first_name\n",
    "        self.last_name = last_name\n",
    "\n",
    "class Student(Person):\n",
    "    def __init__(self, first_name, last_name, student_id):\n",
    "        super().__init__(first_name, last_name)\n",
    "        self.student_id = student_id\n",
    "\n",
    "    def display_details(self):\n",
    "        print(f\"Name: {self.first_name} {self.last_name}\")\n",
    "        print(f\"Student ID: {self.student_id}\")\n",
    "\n",
    "student = Student(\"John\", \"Doe\", \"12345\")\n",
    "\n",
    "student.display_details()"
   ]
  },
  {
   "cell_type": "markdown",
   "id": "d2a2913e-57f0-4dc8-b7fd-f25d8d5cc051",
   "metadata": {},
   "source": [
    "20. Create a Python class called `Car` with a default constructor that initializes the `make` and `model` attributes. Provide a method to display car information"
   ]
  },
  {
   "cell_type": "code",
   "execution_count": 35,
   "id": "1edab52a-5033-4228-bac8-ebe301d233d6",
   "metadata": {},
   "outputs": [
    {
     "name": "stdout",
     "output_type": "stream",
     "text": [
      "Make: Unknown\n",
      "Model: Unknown\n"
     ]
    }
   ],
   "source": [
    "class Car:\n",
    "    def __init__(self):\n",
    "        self.make = \"Unknown\"\n",
    "        self.model = \"Unknown\"\n",
    "\n",
    "    def display_info(self):\n",
    "        print(f\"Make: {self.make}\")\n",
    "        print(f\"Model: {self.model}\")\n",
    "\n",
    "my_car = Car()\n",
    "my_car.display_info()"
   ]
  },
  {
   "cell_type": "markdown",
   "id": "4a632fb0-92ca-49cb-a778-6b0a026a8706",
   "metadata": {},
   "source": [
    "## Inheritance"
   ]
  },
  {
   "cell_type": "markdown",
   "id": "7a95c6d6-1d93-451a-b582-096f8afec4ba",
   "metadata": {},
   "source": [
    "1. What is inheritance in Python? Explain its significance in object-oriented programming."
   ]
  },
  {
   "cell_type": "markdown",
   "id": "1d480623-8d69-4aa5-89af-c73acb70c1b9",
   "metadata": {},
   "source": [
    "Inheritance is a fundamental concept in object-oriented programming that allows you to create a new class (subclass or derived class) by deriving properties and behaviors from an existing class (base class or superclass)."
   ]
  },
  {
   "cell_type": "code",
   "execution_count": 37,
   "id": "9cfee231-b782-4047-bbd5-a51f6202cfa3",
   "metadata": {},
   "outputs": [],
   "source": [
    "class Vehicle:\n",
    "    def __init__(self, make, model, year):\n",
    "        self.make = make\n",
    "        self.model = model\n",
    "        self.year = year\n",
    "        self.mileage = 0"
   ]
  },
  {
   "cell_type": "code",
   "execution_count": 38,
   "id": "a5b5cef0-e488-412d-9f12-f552391379cc",
   "metadata": {},
   "outputs": [],
   "source": [
    "class Car(Vehicle):\n",
    "    def __init__(self, make, model, year, fuel_type):\n",
    "        super().__init__(make, model, year)\n",
    "        self.fuel_type = fuel_type\n",
    "        self.is_running = False"
   ]
  },
  {
   "cell_type": "code",
   "execution_count": 42,
   "id": "c068151a-6fa6-4ee1-a50d-3f5575e6aaeb",
   "metadata": {},
   "outputs": [
    {
     "name": "stdout",
     "output_type": "stream",
     "text": [
      "Toyota\n",
      "Camry\n",
      "2022\n",
      "Gasoline\n"
     ]
    }
   ],
   "source": [
    "my_car = Car(\"Toyota\", \"Camry\", 2022, \"Gasoline\")\n",
    "\n",
    "print(my_car.make)\n",
    "print(my_car.model)\n",
    "print(my_car.year)\n",
    "print(my_car.fuel_type)"
   ]
  },
  {
   "cell_type": "markdown",
   "id": "437a8968-4099-4162-b983-a97fdbce9722",
   "metadata": {},
   "source": [
    "As we can see above the car class inherits all the properties of the vehicle class"
   ]
  },
  {
   "cell_type": "markdown",
   "id": "313256fc-ba79-4f97-adfb-3c0f82b7dba4",
   "metadata": {},
   "source": [
    "2. Differentiate between single inheritance and multiple inheritance in Python. Provide examples for each."
   ]
  },
  {
   "cell_type": "markdown",
   "id": "1b58256a-30d5-49b4-aed7-90b9a6622b20",
   "metadata": {},
   "source": [
    "Single Inheritance:\n",
    "\n",
    "In single inheritance, a class can inherit from only one parent class.\n",
    "This is a simpler and more straightforward form of inheritance.\n",
    "It promotes a linear hierarchy where each class has a single parent, and the chain of inheritance is easy to follow."
   ]
  },
  {
   "cell_type": "code",
   "execution_count": 43,
   "id": "51032f8d-b966-4720-9a50-b4bf795421f9",
   "metadata": {},
   "outputs": [],
   "source": [
    "class Animal:\n",
    "    def speak(self):\n",
    "        pass\n",
    "\n",
    "class Dog(Animal):\n",
    "    def speak(self):\n",
    "        return \"Woof!\"\n",
    "\n",
    "class Cat(Animal):\n",
    "    def speak(self):\n",
    "        return \"Meow!\"\n"
   ]
  },
  {
   "cell_type": "markdown",
   "id": "0839f8a1-962f-47cb-91c2-31c207a3d694",
   "metadata": {},
   "source": [
    "Multiple Inheritance:\r\n",
    "\r\n",
    "In multiple inheritance, a class can inherit from multiple parent classes, combining their attributes and behaviors.\r\n",
    "This allows for more complex class hierarchies but can lead to ambiguity if the same attribute or method is inherited from multiple parent classes."
   ]
  },
  {
   "cell_type": "code",
   "execution_count": 44,
   "id": "b42d424e-4355-4b5b-9544-1770efcbcfd5",
   "metadata": {},
   "outputs": [],
   "source": [
    "class Bird:\n",
    "    def speak(self):\n",
    "        pass\n",
    "\n",
    "class Mammal:\n",
    "    def speak(self):\n",
    "        pass\n",
    "\n",
    "class Bat(Bird, Mammal):\n",
    "    def speak(self):\n",
    "        return \"Screech!\""
   ]
  },
  {
   "cell_type": "markdown",
   "id": "ccb5c2d3-d9f2-428f-b725-2aec93e8faa7",
   "metadata": {},
   "source": [
    "Multiple inheritance requires careful design and consideration to avoid issues related to attribute and method name conflicts."
   ]
  },
  {
   "cell_type": "markdown",
   "id": "40dde3b8-d333-4504-af34-335b43beb10f",
   "metadata": {},
   "source": [
    "3. Create a Python class called `Vehicle` with attributes `color` and `speed`. Then, create a child class called `Car` that inherits from `Vehicle` and adds a `brand` attribute. Provide an example of creating a `Car` object."
   ]
  },
  {
   "cell_type": "code",
   "execution_count": 46,
   "id": "7ad172ca-8c42-49ff-b7bc-625151887830",
   "metadata": {},
   "outputs": [
    {
     "name": "stdout",
     "output_type": "stream",
     "text": [
      "Color: Red\n",
      "Speed: 100\n",
      "Brand: Toyota\n"
     ]
    }
   ],
   "source": [
    "class Vehicle:\n",
    "    def __init__(self, color, speed):\n",
    "        self.color = color\n",
    "        self.speed = speed\n",
    "\n",
    "class Car(Vehicle):\n",
    "    def __init__(self, color, speed, brand):\n",
    "        super().__init__(color, speed)\n",
    "        self.brand = brand\n",
    "\n",
    "my_car = Car(\"Red\", 100, \"Toyota\")\n",
    "\n",
    "print(\"Color:\", my_car.color)\n",
    "print(\"Speed:\", my_car.speed)\n",
    "print(\"Brand:\", my_car.brand)\n"
   ]
  },
  {
   "cell_type": "markdown",
   "id": "3f8526a8-d2fd-47b1-b386-12bb327f71e3",
   "metadata": {},
   "source": [
    "4. Explain the concept of method overriding in inheritance. Provide a practical example."
   ]
  },
  {
   "cell_type": "code",
   "execution_count": null,
   "id": "df87b677-1b10-43db-9811-8990ecd1b207",
   "metadata": {},
   "outputs": [],
   "source": []
  }
 ],
 "metadata": {
  "kernelspec": {
   "display_name": "Python 3 (ipykernel)",
   "language": "python",
   "name": "python3"
  },
  "language_info": {
   "codemirror_mode": {
    "name": "ipython",
    "version": 3
   },
   "file_extension": ".py",
   "mimetype": "text/x-python",
   "name": "python",
   "nbconvert_exporter": "python",
   "pygments_lexer": "ipython3",
   "version": "3.12.0"
  },
  "widgets": {
   "application/vnd.jupyter.widget-state+json": {
    "state": {},
    "version_major": 2,
    "version_minor": 0
   }
  }
 },
 "nbformat": 4,
 "nbformat_minor": 5
}
