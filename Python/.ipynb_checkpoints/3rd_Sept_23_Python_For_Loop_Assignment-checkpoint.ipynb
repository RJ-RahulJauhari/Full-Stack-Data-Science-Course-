{
 "cells": [
  {
   "cell_type": "markdown",
   "id": "0c1e77cc-abac-4b14-a4b9-7f6aab2255be",
   "metadata": {},
   "source": [
    "***Assignment on For Loops - Rahul Jauhari*** "
   ]
  },
  {
   "cell_type": "markdown",
   "id": "738e0694-315a-4ce8-bb7d-6502eee20579",
   "metadata": {},
   "source": [
    "**Basic Level**"
   ]
  },
  {
   "cell_type": "markdown",
   "id": "62b6ccfe-a8c4-4c4a-95a9-e61d8f63f77a",
   "metadata": {},
   "source": [
    "1. Write a Python program to print the numbers from 1 to 10 using a `for` loop."
   ]
  },
  {
   "cell_type": "code",
   "execution_count": 1,
   "id": "750d939d-6b98-4f58-b139-9ffe85a750a0",
   "metadata": {},
   "outputs": [
    {
     "name": "stdout",
     "output_type": "stream",
     "text": [
      "1\n",
      "2\n",
      "3\n",
      "4\n",
      "5\n",
      "6\n",
      "7\n",
      "8\n",
      "9\n",
      "10\n"
     ]
    }
   ],
   "source": [
    "for i in range(1,11):\n",
    "    print(i)"
   ]
  },
  {
   "cell_type": "markdown",
   "id": "c3fe0090-76b6-43fe-9d45-e53a154ad2f1",
   "metadata": {},
   "source": [
    "2. Create a program that calculates the sum of all numbers in a list using a `for` loop."
   ]
  },
  {
   "cell_type": "code",
   "execution_count": 3,
   "id": "65ac2211-63a9-4e5f-905c-e4584c0b9470",
   "metadata": {},
   "outputs": [
    {
     "name": "stdout",
     "output_type": "stream",
     "text": [
      "[7, 10, 9, 7, 1, 8, 1, 4, 6, 2]\n",
      "The sum is: 55\n"
     ]
    }
   ],
   "source": [
    "import random\n",
    "\n",
    "li = [random.randint(1,10) for i in range(10)]\n",
    "print(li)\n",
    "\n",
    "sum = 0\n",
    "\n",
    "for ele in li:\n",
    "    sum += ele\n",
    "\n",
    "print(f\"The sum is: {sum}\")"
   ]
  },
  {
   "cell_type": "markdown",
   "id": "dfb31861-9825-45b6-818d-0e50860eb34f",
   "metadata": {},
   "source": [
    "3. Write a program to print the characters of a string in reverse order using a `for` loop."
   ]
  },
  {
   "cell_type": "code",
   "execution_count": 6,
   "id": "526c93d8-aa30-479e-9013-926f0f553a74",
   "metadata": {},
   "outputs": [
    {
     "name": "stdout",
     "output_type": "stream",
     "text": [
      "i\n",
      "r\n",
      "a\n",
      "h\n",
      "u\n",
      "a\n",
      "J\n",
      " \n",
      "l\n",
      "u\n",
      "h\n",
      "a\n",
      "R\n"
     ]
    }
   ],
   "source": [
    "s = \"Rahul Jauhari\"\n",
    "\n",
    "for i in range(-1,-len(s)-1,-1):\n",
    "    print(s[i])"
   ]
  },
  {
   "cell_type": "markdown",
   "id": "06790047-88dd-4a28-9f66-6b6e626b2d31",
   "metadata": {},
   "source": [
    "4. Develop a program that finds the factorial of a given number using a `for` loop."
   ]
  },
  {
   "cell_type": "code",
   "execution_count": 7,
   "id": "390da476-24e2-40e0-b42e-9753f3094c85",
   "metadata": {},
   "outputs": [
    {
     "name": "stdin",
     "output_type": "stream",
     "text": [
      "Enter the no. who's factorial you want to find:  5\n"
     ]
    },
    {
     "name": "stdout",
     "output_type": "stream",
     "text": [
      "120\n"
     ]
    }
   ],
   "source": [
    "n = int(input(\"Enter the no. who's factorial you want to find: \"))\n",
    "\n",
    "fact = 1\n",
    "\n",
    "for i in range(2,n+1):\n",
    "    fact *= i\n",
    "\n",
    "print(fact)"
   ]
  },
  {
   "cell_type": "markdown",
   "id": "d285f4fe-6a60-44b4-b965-195085475d40",
   "metadata": {},
   "source": [
    "5. Create a program to print the multiplication table of a given number using a `for` loop."
   ]
  },
  {
   "cell_type": "code",
   "execution_count": 8,
   "id": "16d0b11d-4621-45a0-8fa2-5c8b9611798d",
   "metadata": {},
   "outputs": [
    {
     "name": "stdin",
     "output_type": "stream",
     "text": [
      "Enter the no. who's multiplication table you want to find:  7\n"
     ]
    },
    {
     "name": "stdout",
     "output_type": "stream",
     "text": [
      "7 x 1 = 7\n",
      "7 x 2 = 14\n",
      "7 x 3 = 21\n",
      "7 x 4 = 28\n",
      "7 x 5 = 35\n",
      "7 x 6 = 42\n",
      "7 x 7 = 49\n",
      "7 x 8 = 56\n",
      "7 x 9 = 63\n",
      "7 x 10 = 70\n"
     ]
    }
   ],
   "source": [
    "n = int(input(\"Enter the no. who's multiplication table you want to find: \"))\n",
    "\n",
    "for i in range(1,11):\n",
    "    print(f\"{n} x {i} = {n*i}\")"
   ]
  },
  {
   "cell_type": "markdown",
   "id": "f5a12d53-1ef6-4b44-98f3-0340684c8d29",
   "metadata": {},
   "source": [
    "6. Write a program that counts the number of even and odd numbers in a list using a `for` loop."
   ]
  },
  {
   "cell_type": "code",
   "execution_count": 2,
   "id": "3b1f7502-561a-4829-933e-c654e2bdd91b",
   "metadata": {},
   "outputs": [
    {
     "name": "stdout",
     "output_type": "stream",
     "text": [
      "[2, 8, 11, 4, 4, 8, 3, 4, 1, 7]\n",
      "Even count: 6 \n",
      "Odd count: 4\n"
     ]
    }
   ],
   "source": [
    "import random\n",
    "\n",
    "li = [random.randint(1,11) for i in range(10)]\n",
    "print(li)\n",
    "even,odd = 0,0\n",
    "\n",
    "for ele in li:\n",
    "    if ele%2 == 0:\n",
    "        even += 1\n",
    "    else:\n",
    "        odd += 1\n",
    "print(f\"Even count: {even} \\nOdd count: {odd}\")"
   ]
  },
  {
   "cell_type": "markdown",
   "id": "3c0eec4d-f495-4f59-832b-2acc694d347d",
   "metadata": {},
   "source": [
    "7. Develop a program that prints the squares of numbers from 1 to 5 using a `for` loop."
   ]
  },
  {
   "cell_type": "code",
   "execution_count": 4,
   "id": "e38fd7ce-3600-439d-b7a2-a926bba1614f",
   "metadata": {},
   "outputs": [
    {
     "name": "stdout",
     "output_type": "stream",
     "text": [
      "Square of 1 = 1\n",
      "Square of 2 = 4\n",
      "Square of 3 = 9\n",
      "Square of 4 = 16\n",
      "Square of 5 = 25\n"
     ]
    }
   ],
   "source": [
    "for i in range(1,6):\n",
    "    print(f\"Square of {i} = {i*i}\")\n"
   ]
  },
  {
   "cell_type": "markdown",
   "id": "a730e291-a36b-4d92-ba48-fb41c9d07e64",
   "metadata": {},
   "source": [
    "8. Create a program to find the length of a string without using the `len()` function."
   ]
  },
  {
   "cell_type": "code",
   "execution_count": 9,
   "id": "e4660d77-5959-469a-84f3-cf8fffb879bb",
   "metadata": {},
   "outputs": [
    {
     "name": "stdout",
     "output_type": "stream",
     "text": [
      "The length of string Rahul Jauhari is 13\n"
     ]
    }
   ],
   "source": [
    "string = \"Rahul Jauhari\"\n",
    "length = 0\n",
    "for char in string:\n",
    "    length += 1\n",
    "print(f\"The length of string {string} is {length}\")"
   ]
  },
  {
   "cell_type": "markdown",
   "id": "a88f556c-5c83-4a8f-90bc-d5cc15f79292",
   "metadata": {},
   "source": [
    "9. Write a program that calculates the average of a list of numbers using a `for` loop."
   ]
  },
  {
   "cell_type": "code",
   "execution_count": 79,
   "id": "b30d70ca-d0e0-4e54-b851-22617be594b4",
   "metadata": {},
   "outputs": [
    {
     "name": "stdout",
     "output_type": "stream",
     "text": [
      "[13, 45, 14, 26, 33, 5, 30, 1, 42, 35, 39, 15, 16, 50, 48]\n",
      "The average of the list of numbers is 27.466666666666665\n"
     ]
    }
   ],
   "source": [
    "li = [random.randint(0,50) for i in range(15)]\n",
    "\n",
    "s = 0\n",
    "count = len(li)\n",
    "\n",
    "for num in li:\n",
    "    s += num\n",
    "\n",
    "avg = s/count\n",
    "\n",
    "\n",
    "print(li)\n",
    "print(f\"The average of the list of numbers is {avg}\")"
   ]
  },
  {
   "cell_type": "markdown",
   "id": "25b7508b-ead4-464f-bcfb-d7b69c785444",
   "metadata": {},
   "source": [
    "10. Develop a program that prints the first `n` Fibonacci numbers using a `for` loop."
   ]
  },
  {
   "cell_type": "code",
   "execution_count": 83,
   "id": "a89e639f-94d7-4bd8-94ee-159e67cd5577",
   "metadata": {},
   "outputs": [
    {
     "name": "stdin",
     "output_type": "stream",
     "text": [
      "How many fibonacci number do you want?  10\n"
     ]
    },
    {
     "name": "stdout",
     "output_type": "stream",
     "text": [
      "0\n",
      "1\n",
      "1\n",
      "2\n",
      "3\n",
      "5\n",
      "8\n",
      "13\n",
      "21\n",
      "34\n"
     ]
    }
   ],
   "source": [
    "n = int(input(\"How many fibonacci number do you want? \"))\n",
    "a = 0\n",
    "b = 1\n",
    "\n",
    "print(a)\n",
    "print(b)\n",
    "for i in range(n-2):\n",
    "    c = a+b\n",
    "    print(c)\n",
    "    a = b\n",
    "    b = c"
   ]
  },
  {
   "cell_type": "markdown",
   "id": "9fa93d1b-aa56-42b5-b588-fe971e2777d4",
   "metadata": {},
   "source": [
    "**Intermediate Level**"
   ]
  },
  {
   "cell_type": "markdown",
   "id": "b88a7f53-0fde-4d89-843e-6f6cd5e5f4c8",
   "metadata": {},
   "source": [
    "11. Write a program to check if a given list contains any duplicates using a `for` loop."
   ]
  },
  {
   "cell_type": "code",
   "execution_count": 105,
   "id": "6f4859d0-1070-4732-aeef-debc3710f231",
   "metadata": {},
   "outputs": [
    {
     "name": "stdout",
     "output_type": "stream",
     "text": [
      "[24, 8, 14, 23, 12, 0, 6, 23, 1, 23]\n",
      "Duplicate element found: 23\n"
     ]
    }
   ],
   "source": [
    "li = [random.randint(0,30) for i in range(10)]\n",
    "print(li)\n",
    "\n",
    "li.sort()\n",
    "\n",
    "prev = li[0]\n",
    "for i in range(1,len(li)):\n",
    "    if prev == li[i]:\n",
    "        print(f\"Duplicate element found: {prev}\")\n",
    "        break\n",
    "    elif i == len(li)-1:\n",
    "        print(f\"No duplicate elemnt found\")\n",
    "    else:\n",
    "        prev = li[i]"
   ]
  },
  {
   "cell_type": "markdown",
   "id": "34113f83-dd68-41e2-bf35-cb8ebfa27089",
   "metadata": {},
   "source": [
    "12. Create a program that prints the prime numbers in a given range using a `for` loop."
   ]
  },
  {
   "cell_type": "code",
   "execution_count": 1,
   "id": "a59c74df-9cc4-44cc-bee5-fd7f33359681",
   "metadata": {},
   "outputs": [
    {
     "name": "stdin",
     "output_type": "stream",
     "text": [
      "Enter upper limit of primes:  15\n"
     ]
    },
    {
     "name": "stdout",
     "output_type": "stream",
     "text": [
      "3\n",
      "5\n",
      "7\n",
      "11\n",
      "13\n"
     ]
    }
   ],
   "source": [
    "n = int(input(\"Enter upper limit of primes: \"))\n",
    "\n",
    "for i in range(n):\n",
    "    if i > 1:\n",
    "        for j in range(2,i):\n",
    "            if i%j == 0:\n",
    "                break\n",
    "            elif j == i-1 and i%j != 0:\n",
    "                print(i)"
   ]
  },
  {
   "cell_type": "markdown",
   "id": "62c6c8b5-afb9-4703-98a3-ede1c3b79d4f",
   "metadata": {},
   "source": [
    "13. Develop a program that counts the number of vowels in a string using a `for` loop."
   ]
  },
  {
   "cell_type": "code",
   "execution_count": 3,
   "id": "dce306cf-f4fe-491f-ba62-c3089c208f95",
   "metadata": {},
   "outputs": [
    {
     "name": "stdin",
     "output_type": "stream",
     "text": [
      "Enter string:  Rahul jauhri\n"
     ]
    },
    {
     "name": "stdout",
     "output_type": "stream",
     "text": [
      "5\n"
     ]
    }
   ],
   "source": [
    "string = input(\"Enter string: \")\n",
    "s = {'a','e','i','o','u'}\n",
    "\n",
    "vowel_count = 0\n",
    "\n",
    "for char in string:\n",
    "    if char in s:\n",
    "        vowel_count += 1\n",
    "\n",
    "print(vowel_count)"
   ]
  },
  {
   "cell_type": "markdown",
   "id": "8f36a883-0c17-4989-b409-0ed632b30a62",
   "metadata": {},
   "source": [
    "14. Write a program to find the maximum element in a 2D list using a nested `for` loop."
   ]
  },
  {
   "cell_type": "code",
   "execution_count": 10,
   "id": "552fb250-a71b-4f86-b0a5-59266d05418b",
   "metadata": {},
   "outputs": [
    {
     "name": "stdout",
     "output_type": "stream",
     "text": [
      "[453, 142, 891, 924, 934, 25, 974, 5, 242, 243]\n",
      "[140, 248, 926, 517, 505, 128, 458, 568, 236, 653]\n",
      "[938, 873, 168, 138, 516, 605, 206, 859, 770, 635]\n",
      "[267, 134, 692, 657, 144, 136, 684, 405, 54, 261]\n",
      "[173, 277, 140, 64, 240, 185, 501, 2, 457, 731]\n",
      "[373, 777, 615, 564, 731, 722, 622, 634, 522, 355]\n",
      "[648, 301, 516, 773, 648, 180, 196, 822, 74, 674]\n",
      "[515, 518, 796, 660, 195, 504, 624, 663, 655, 992]\n",
      "[980, 424, 945, 7, 553, 24, 506, 948, 872, 792]\n",
      "[169, 136, 667, 449, 808, 822, 49, 446, 55, 271]\n",
      "Max value in 2D array is: 992\n"
     ]
    }
   ],
   "source": [
    "import random\n",
    "li = [[random.randint(1,1000) for col in range(10)] for row in range(10)]\n",
    "for lis in li:\n",
    "    print(lis)\n",
    "\n",
    "m = li[0][0]\n",
    "\n",
    "for row in range(len(li)):\n",
    "    for col in range(len(li[row])):\n",
    "        if li[row][col] > m:\n",
    "            m = li[row][col]\n",
    "print(f\"Max value in 2D array is: {m}\")"
   ]
  },
  {
   "cell_type": "markdown",
   "id": "861f9c09-6d59-498e-8e1b-1a00f7b67161",
   "metadata": {},
   "source": [
    "15. Create a program that removes all occurrences of a specific element from a list using a `for` loop."
   ]
  },
  {
   "cell_type": "code",
   "execution_count": 11,
   "id": "b69f07fa-99b1-467c-831d-7615539c0e45",
   "metadata": {},
   "outputs": [
    {
     "name": "stdout",
     "output_type": "stream",
     "text": [
      "[1, 3, 4, 5]\n"
     ]
    }
   ],
   "source": [
    "def remove_element(lst, element_to_remove):\n",
    "    new_list = []\n",
    "    for item in lst:\n",
    "        if item != element_to_remove:\n",
    "            new_list.append(item)\n",
    "    return new_list\n",
    "\n",
    "my_list = [1, 2, 3, 2, 4, 5, 2]\n",
    "element_to_remove = 2\n",
    "result = remove_element(my_list, element_to_remove)\n",
    "print(result)"
   ]
  },
  {
   "cell_type": "markdown",
   "id": "522172e0-193e-418b-bbf7-149781ebf9ce",
   "metadata": {},
   "source": [
    "16. Develop a program that generates a multiplication table for numbers from 1 to 5 using a nested `for` loop."
   ]
  },
  {
   "cell_type": "code",
   "execution_count": 13,
   "id": "1bce0e5f-4ef1-4d95-9936-6c6cf1436bdd",
   "metadata": {},
   "outputs": [
    {
     "name": "stdout",
     "output_type": "stream",
     "text": [
      "1 x 1 = 1\n",
      "1 x 2 = 2\n",
      "1 x 3 = 3\n",
      "1 x 4 = 4\n",
      "1 x 5 = 5\n",
      "1 x 6 = 6\n",
      "1 x 7 = 7\n",
      "1 x 8 = 8\n",
      "1 x 9 = 9\n",
      "1 x 10 = 10\n",
      "\n",
      "\n",
      "2 x 1 = 2\n",
      "2 x 2 = 4\n",
      "2 x 3 = 6\n",
      "2 x 4 = 8\n",
      "2 x 5 = 10\n",
      "2 x 6 = 12\n",
      "2 x 7 = 14\n",
      "2 x 8 = 16\n",
      "2 x 9 = 18\n",
      "2 x 10 = 20\n",
      "\n",
      "\n",
      "3 x 1 = 3\n",
      "3 x 2 = 6\n",
      "3 x 3 = 9\n",
      "3 x 4 = 12\n",
      "3 x 5 = 15\n",
      "3 x 6 = 18\n",
      "3 x 7 = 21\n",
      "3 x 8 = 24\n",
      "3 x 9 = 27\n",
      "3 x 10 = 30\n",
      "\n",
      "\n",
      "4 x 1 = 4\n",
      "4 x 2 = 8\n",
      "4 x 3 = 12\n",
      "4 x 4 = 16\n",
      "4 x 5 = 20\n",
      "4 x 6 = 24\n",
      "4 x 7 = 28\n",
      "4 x 8 = 32\n",
      "4 x 9 = 36\n",
      "4 x 10 = 40\n",
      "\n",
      "\n",
      "5 x 1 = 5\n",
      "5 x 2 = 10\n",
      "5 x 3 = 15\n",
      "5 x 4 = 20\n",
      "5 x 5 = 25\n",
      "5 x 6 = 30\n",
      "5 x 7 = 35\n",
      "5 x 8 = 40\n",
      "5 x 9 = 45\n",
      "5 x 10 = 50\n",
      "\n",
      "\n"
     ]
    }
   ],
   "source": [
    "for i in range(1, 6):\n",
    "    for j in range(1, 11):\n",
    "        print(f\"{i} x {j} = {i * j}\")\n",
    "    print('\\n')"
   ]
  },
  {
   "cell_type": "markdown",
   "id": "f8f8ef70-f6ba-4ca5-9179-8f1768ab5cce",
   "metadata": {},
   "source": [
    "17. Write a program that converts a list of Fahrenheit temperatures to Celsius using a `for` loop."
   ]
  },
  {
   "cell_type": "code",
   "execution_count": 14,
   "id": "38b2db5d-8e44-40a9-9cb1-71f245ae7a0d",
   "metadata": {},
   "outputs": [
    {
     "name": "stdout",
     "output_type": "stream",
     "text": [
      "[0.0, 20.0, 35.0, 40.0, 100.0]\n"
     ]
    }
   ],
   "source": [
    "def fahrenheit_to_celsius(fahrenheit):\n",
    "    return (fahrenheit - 32) * 5/9\n",
    "\n",
    "fahrenheit_temperatures = [32, 68, 95, 104, 212]\n",
    "celsius_temperatures = []\n",
    "\n",
    "for temp in fahrenheit_temperatures:\n",
    "    celsius = fahrenheit_to_celsius(temp)\n",
    "    celsius_temperatures.append(celsius)\n",
    "\n",
    "print(celsius_temperatures)"
   ]
  },
  {
   "cell_type": "markdown",
   "id": "2d1249f8-1c02-473a-906f-b35282af18cd",
   "metadata": {},
   "source": [
    "18. Create a program to print the common elements from two lists using a `for` loop."
   ]
  },
  {
   "cell_type": "code",
   "execution_count": 15,
   "id": "66488d59-59b4-4522-bb2d-e7005d3255e5",
   "metadata": {},
   "outputs": [
    {
     "name": "stdout",
     "output_type": "stream",
     "text": [
      "[3, 4, 5]\n"
     ]
    }
   ],
   "source": [
    "list1 = [1, 2, 3, 4, 5]\n",
    "list2 = [3, 4, 5, 6, 7]\n",
    "common_elements = []\n",
    "\n",
    "for item in list1:\n",
    "    if item in list2:\n",
    "        common_elements.append(item)\n",
    "\n",
    "print(common_elements)"
   ]
  },
  {
   "cell_type": "markdown",
   "id": "a1814a7c-5b60-4341-9adb-0b8559c93216",
   "metadata": {},
   "source": [
    "19. Develop a program that prints the pattern of right-angled triangles using a `for` loop. Use ‘*’ to draw the\n",
    "pattern"
   ]
  },
  {
   "cell_type": "code",
   "execution_count": 17,
   "id": "d68f5fc6-72ec-4a0a-8ba0-3d49479b91b5",
   "metadata": {},
   "outputs": [
    {
     "name": "stdin",
     "output_type": "stream",
     "text": [
      "Enter a number:  10\n"
     ]
    },
    {
     "name": "stdout",
     "output_type": "stream",
     "text": [
      "*\n",
      "**\n",
      "***\n",
      "****\n",
      "*****\n",
      "******\n",
      "*******\n",
      "********\n",
      "*********\n",
      "**********\n"
     ]
    }
   ],
   "source": [
    "n = int(input(\"Enter a number: \"))\n",
    "\n",
    "for i in range(1, n + 1):\n",
    "    print(\"*\" * i)"
   ]
  },
  {
   "cell_type": "markdown",
   "id": "75b9a4af-03be-491f-b220-e7979e4ed888",
   "metadata": {},
   "source": [
    "20. Write a program to find the greatest common divisor (GCD) of two numbers using a `for` loop."
   ]
  },
  {
   "cell_type": "code",
   "execution_count": 27,
   "id": "e48a9492-8ce3-4a97-9531-1102738761c4",
   "metadata": {},
   "outputs": [
    {
     "name": "stdin",
     "output_type": "stream",
     "text": [
      "Enter number 1:  82734\n",
      "Enter number 2:  928347\n"
     ]
    },
    {
     "name": "stdout",
     "output_type": "stream",
     "text": [
      "GCD of 82734 and 928347 is 3\n"
     ]
    }
   ],
   "source": [
    "num1 = int(input(\"Enter number 1: \"))\n",
    "num2 = int(input(\"Enter number 2: \"))\n",
    "\n",
    "gcd = None\n",
    "if num1 > num2:\n",
    "    num1,num2 = num2,num1\n",
    "\n",
    "if num2%num1 == 0:\n",
    "    gcd = num1\n",
    "else:\n",
    "    for num in range(num1,0,-1):\n",
    "        if num1 % num == 0 and num2 % num == 0:\n",
    "            gcd = num\n",
    "            break\n",
    "print(f\"GCD of {num1} and {num2} is {gcd}\")    "
   ]
  },
  {
   "cell_type": "markdown",
   "id": "cbaf8fc2-a125-4151-9143-7cdba0cc03d1",
   "metadata": {},
   "source": [
    "21. Create a program that calculates the sum of the digits of numbers in a list using a list comprehension."
   ]
  },
  {
   "cell_type": "code",
   "execution_count": 30,
   "id": "8e913e5c-6036-4e05-bc92-e22471faa85e",
   "metadata": {},
   "outputs": [
    {
     "data": {
      "text/plain": [
       "42"
      ]
     },
     "execution_count": 71,
     "metadata": {},
     "output_type": "execute_result"
    }
   ],
   "source": [
    "li = [random.randint(0,11) for i in range(10)]\n",
    "print(li)\n",
    "out = sum(li)# Using list comprehension here \n",
    "out"
   ]
  },
  {
   "cell_type": "markdown",
   "id": "57516da2-6557-4ee5-83d8-027c14edbc72",
   "metadata": {},
   "source": [
    "22. Write a program to find the prime factors of a given number using a `for` loop and list comprehension."
   ]
  },
  {
   "cell_type": "code",
   "execution_count": 62,
   "id": "e91da77f-b92a-477a-8fcd-c781ffea6c92",
   "metadata": {},
   "outputs": [
    {
     "name": "stdin",
     "output_type": "stream",
     "text": [
      "Enter no:  8678670\n"
     ]
    },
    {
     "data": {
      "text/plain": [
       "[2, 3, 5, 7, 11, 13, 17]"
      ]
     },
     "execution_count": 62,
     "metadata": {},
     "output_type": "execute_result"
    }
   ],
   "source": [
    "def isPrime(n):\n",
    "    flag = True\n",
    "    for i in range(2,n):\n",
    "        if n%i == 0:\n",
    "            flag = False\n",
    "            break\n",
    "    return flag\n",
    "\n",
    "def isPrimeFactor(i,n):\n",
    "    if n%i == 0 and isPrime(i):\n",
    "        return True\n",
    "    else:\n",
    "        return False\n",
    "\n",
    "# def findPrimeFactors(n):\n",
    "#     li = []\n",
    "#     for i in range(2,n):\n",
    "#         if n%i == 0 and isPrime(i):\n",
    "#             li.append(i)\n",
    "#     return li\n",
    "# li = findPrimeFactors(17017)\n",
    "\n",
    "n = int(input(\"Enter no: \"))\n",
    "li = [i for i in range(2,n) if isPrimeFactor(i,n)]\n",
    "li"
   ]
  },
  {
   "cell_type": "markdown",
   "id": "967a0895-e686-4999-9634-84288d9d169f",
   "metadata": {},
   "source": [
    "23. Develop a program that extracts unique elements from a list and stores them in a new list using a list comprehension."
   ]
  },
  {
   "cell_type": "code",
   "execution_count": 61,
   "id": "ee8cb591-de19-415e-aac7-efb411f13067",
   "metadata": {},
   "outputs": [
    {
     "name": "stdout",
     "output_type": "stream",
     "text": [
      "[1, 2, 4, 4, 5, 6, 7, 8, 1, 1, 3, 10]\n"
     ]
    },
    {
     "data": {
      "text/plain": [
       "[1, 2, 4, 5, 6, 7, 8, 3, 10]"
      ]
     },
     "execution_count": 61,
     "metadata": {},
     "output_type": "execute_result"
    }
   ],
   "source": [
    "import random\n",
    "given_li = [1,2,4,4,5,6,7,8,1,1,3,10]\n",
    "\n",
    "print(given_li)\n",
    "\n",
    "extracted_li = [given_li[i] for i in range(len(given_li)) if given_li[i] not in given_li[:i]]\n",
    "extracted_li"
   ]
  },
  {
   "cell_type": "markdown",
   "id": "21bb11aa-3e37-4bb9-a3c8-7fd133103930",
   "metadata": {},
   "source": [
    "24. Create a program that generates a list of all palindromic numbers up to a specified limit using a list comprehension."
   ]
  },
  {
   "cell_type": "code",
   "execution_count": 66,
   "id": "989a8af6-940f-4b46-a830-ab7eed9f38ba",
   "metadata": {},
   "outputs": [
    {
     "name": "stdin",
     "output_type": "stream",
     "text": [
      "Enter Number:  121\n"
     ]
    },
    {
     "data": {
      "text/plain": [
       "[0,\n",
       " 1,\n",
       " 2,\n",
       " 3,\n",
       " 4,\n",
       " 5,\n",
       " 6,\n",
       " 7,\n",
       " 8,\n",
       " 9,\n",
       " 11,\n",
       " 22,\n",
       " 33,\n",
       " 44,\n",
       " 55,\n",
       " 66,\n",
       " 77,\n",
       " 88,\n",
       " 99,\n",
       " 101,\n",
       " 111,\n",
       " 121]"
      ]
     },
     "execution_count": 66,
     "metadata": {},
     "output_type": "execute_result"
    }
   ],
   "source": [
    "def isPalindromeNumber(num):\n",
    "    ini = num\n",
    "    rev = 0\n",
    "    n = num\n",
    "    \n",
    "    while n > 0:\n",
    "        last_digit = n % 10\n",
    "        n = n // 10\n",
    "        rev = rev * 10 + last_digit\n",
    "    if rev == ini:\n",
    "        return True\n",
    "    else:\n",
    "        return False\n",
    "\n",
    "n = int(input(\"Enter Number: \"))\n",
    "\n",
    "palindromes = [i for i in range(n+1) if isPalindromeNumber(i)]\n",
    "palindromes"
   ]
  },
  {
   "cell_type": "markdown",
   "id": "5a729652-702c-4570-8e75-4588a86e75fd",
   "metadata": {},
   "source": [
    "25. Write a program to flatten a nested list using list comprehension."
   ]
  },
  {
   "cell_type": "code",
   "execution_count": 70,
   "id": "80bcda53-bf60-4ccd-b5a6-9be659dab77b",
   "metadata": {},
   "outputs": [
    {
     "name": "stdout",
     "output_type": "stream",
     "text": [
      "[[18, 17, 15, 6, 20], [3, 4, 4, 18, 5], [13, 11, 12, 12, 6], [19, 2, 12, 11, 13], [6, 17, 10, 9, 10]]\n"
     ]
    },
    {
     "data": {
      "text/plain": [
       "[18,\n",
       " 17,\n",
       " 15,\n",
       " 6,\n",
       " 20,\n",
       " 3,\n",
       " 4,\n",
       " 4,\n",
       " 18,\n",
       " 5,\n",
       " 13,\n",
       " 11,\n",
       " 12,\n",
       " 12,\n",
       " 6,\n",
       " 19,\n",
       " 2,\n",
       " 12,\n",
       " 11,\n",
       " 13,\n",
       " 6,\n",
       " 17,\n",
       " 10,\n",
       " 9,\n",
       " 10]"
      ]
     },
     "execution_count": 70,
     "metadata": {},
     "output_type": "execute_result"
    }
   ],
   "source": [
    "def flatten_list(nli):\n",
    "    return [nli[i][j] for i in range(len(nli)) for j in range(len(nli[i]))]\n",
    "\n",
    "nli = [[random.randint(1,20) for i in range(5)] for j in range(5)]\n",
    "print(nli)\n",
    "\n",
    "flat_li = flatten_list(nli)\n",
    "flat_li"
   ]
  },
  {
   "cell_type": "markdown",
   "id": "c9b3daaa-a8d0-4b0e-849f-94d79fb6fb36",
   "metadata": {},
   "source": [
    "26. Develop a program that computes the sum of even and odd numbers in a list separately using list comprehension."
   ]
  },
  {
   "cell_type": "code",
   "execution_count": 73,
   "id": "9e1daff6-f4ab-42a6-ad28-deecae11f9c2",
   "metadata": {},
   "outputs": [
    {
     "name": "stdout",
     "output_type": "stream",
     "text": [
      "[2, 8, 9, 7, 17, 11, 13, 5, 16, 3]\n",
      "Even Sum: 26\n",
      "Odd Sum: 65\n"
     ]
    }
   ],
   "source": [
    "num = [random.randint(1,20) for i in range(0,10)]\n",
    "print(num)\n",
    "\n",
    "even = sum([ele for ele in num if ele % 2 == 0])\n",
    "odd = sum([ele for ele in num if ele % 2 != 0])\n",
    "\n",
    "print(f\"Even Sum: {even}\")\n",
    "print(f\"Odd Sum: {odd}\")"
   ]
  },
  {
   "cell_type": "markdown",
   "id": "38e954df-cf7f-4584-b340-c73cc37162ec",
   "metadata": {},
   "source": [
    "27. Create a program that generates a list of squares of odd numbers between 1 and 10 using list comprehension."
   ]
  },
  {
   "cell_type": "code",
   "execution_count": 74,
   "id": "1de5f1f9-b414-4048-9caf-5825cfe5ea50",
   "metadata": {},
   "outputs": [
    {
     "data": {
      "text/plain": [
       "[1, 9, 25, 49, 81]"
      ]
     },
     "execution_count": 74,
     "metadata": {},
     "output_type": "execute_result"
    }
   ],
   "source": [
    "li = [i*i for i in range(0,11) if i%2 != 0]\n",
    "li"
   ]
  },
  {
   "cell_type": "markdown",
   "id": "e9d18a35-b65d-403b-a1f0-7bc0e1860679",
   "metadata": {},
   "source": [
    "28. Write a program that combines two lists into a dictionary using list comprehension."
   ]
  },
  {
   "cell_type": "code",
   "execution_count": null,
   "id": "c0bd0fdd-cf80-4992-9413-71ee19b49150",
   "metadata": {},
   "outputs": [],
   "source": [
    "keys = ['a', 'b', 'c']\n",
    "values = [1, 2, 3]\n",
    "\n",
    "combined_dict = {keys[i]: values[i] for i in range(min(len(keys), len(values)))}\n",
    "\n",
    "print(combined_dict)"
   ]
  },
  {
   "cell_type": "markdown",
   "id": "fc7d9665-06c2-4bbd-a0e4-16b0a747e555",
   "metadata": {},
   "source": [
    "29. Develop a program that extracts the vowels from a string and stores them in a list using list comprehension."
   ]
  },
  {
   "cell_type": "code",
   "execution_count": 78,
   "id": "ced09201-f549-4a2a-a67c-2aaf58cdce6d",
   "metadata": {},
   "outputs": [
    {
     "name": "stdin",
     "output_type": "stream",
     "text": [
      "Enter a string:  Rahul Jauhari\n"
     ]
    },
    {
     "data": {
      "text/plain": [
       "['a', 'u', 'a', 'u', 'a', 'i']"
      ]
     },
     "execution_count": 78,
     "metadata": {},
     "output_type": "execute_result"
    }
   ],
   "source": [
    "s = input(\"Enter a string: \")\n",
    "vowels = ['a','e','i','o','u']\n",
    "\n",
    "li = [char for char in s if char in vowels]\n",
    "li"
   ]
  },
  {
   "cell_type": "markdown",
   "id": "5d74815a-423b-4d6e-8f1a-451c87cfebeb",
   "metadata": {},
   "source": [
    "30. Create a program that removes all non-numeric characters from a list of strings using list comprehension."
   ]
  },
  {
   "cell_type": "code",
   "execution_count": 80,
   "id": "7c62f62f-d1c7-4ff3-8334-f9843be78b2b",
   "metadata": {},
   "outputs": [
    {
     "name": "stdin",
     "output_type": "stream",
     "text": [
      "Enter a string:  gh3hbh234jh123jh987\n"
     ]
    },
    {
     "data": {
      "text/plain": [
       "['3', '2', '3', '4', '1', '2', '3', '9', '8', '7']"
      ]
     },
     "execution_count": 80,
     "metadata": {},
     "output_type": "execute_result"
    }
   ],
   "source": [
    "s = input(\"Enter a string: \")\n",
    "\n",
    "li = [char for char in s if char.isdigit()]\n",
    "\n",
    "li"
   ]
  },
  {
   "cell_type": "markdown",
   "id": "6cfa1337-e164-4ee0-9a0e-4cebf060dc5d",
   "metadata": {},
   "source": [
    "31. Write a program to generate a list of prime numbers using the Sieve of Eratosthenes algorithm and list comprehension."
   ]
  },
  {
   "cell_type": "code",
   "execution_count": 1,
   "id": "fafef9c9-1601-4539-bc32-f32409536e95",
   "metadata": {},
   "outputs": [
    {
     "name": "stdout",
     "output_type": "stream",
     "text": [
      "[2, 3, 4, 5, 6, 7, 8, 9, 10, 11, 12, 13, 14, 15, 16, 17, 18, 19, 20, 21, 22, 23, 24, 25, 26, 27, 28, 29, 30, 31, 32, 33, 34, 35, 36, 37, 38, 39, 40, 41, 42, 43, 44, 45, 46, 47, 48, 49, 50, 51, 52, 53, 54, 55, 56, 57, 58, 59, 60, 61, 62, 63, 64, 65, 66, 67, 68, 69, 70, 71, 72, 73, 74, 75, 76, 77, 78, 79, 80, 81, 82, 83, 84, 85, 86, 87, 88, 89, 90, 91, 92, 93, 94, 95, 96, 97, 98, 99, 100]\n"
     ]
    }
   ],
   "source": [
    "def sieve_eratosthenes(n):\n",
    "    is_prime = [True] * (n + 1)\n",
    "    is_prime[0] = is_prime[1] = False\n",
    "    primes = [x for x in range(2, n + 1) if is_prime[x]]\n",
    "    \n",
    "    for p in primes:\n",
    "        for i in range(p * p, n + 1, p):\n",
    "            is_prime[i] = False\n",
    "    \n",
    "    return primes\n",
    "\n",
    "\n",
    "limit = 100\n",
    "prime_list = sieve_eratosthenes(limit)\n",
    "print(prime_list)\n"
   ]
  },
  {
   "cell_type": "markdown",
   "id": "d7214649-2b6d-437c-ac04-eef0cd5b9ee4",
   "metadata": {},
   "source": [
    "32. Generating a list of Pythagorean triplets up to a specified limit using list comprehension:"
   ]
  },
  {
   "cell_type": "code",
   "execution_count": 2,
   "id": "c72b617f-1df5-400f-b3ca-a2ae6778b3a1",
   "metadata": {},
   "outputs": [
    {
     "name": "stdout",
     "output_type": "stream",
     "text": [
      "[(3, 4, 5), (5, 12, 13), (6, 8, 10), (8, 15, 17), (9, 12, 15), (12, 16, 20)]\n"
     ]
    }
   ],
   "source": [
    "def generate_pythagorean_triplets(limit):\n",
    "    triplets = [(a, b, c) for a in range(1, limit + 1) for b in range(a, limit + 1) for c in range(b, limit + 1) if a**2 + b**2 == c**2]\n",
    "    return triplets\n",
    "\n",
    "limit = 20\n",
    "pythagorean_triplets = generate_pythagorean_triplets(limit)\n",
    "print(pythagorean_triplets)"
   ]
  },
  {
   "cell_type": "markdown",
   "id": "5c5d15fd-6d3a-4adf-a6b7-a8017254eacd",
   "metadata": {},
   "source": [
    "33. Develop a program that generates a list of all possible combinations of two lists using list comprehension."
   ]
  },
  {
   "cell_type": "code",
   "execution_count": 3,
   "id": "907293e1-ef7d-4681-bc5e-a877f3875d67",
   "metadata": {},
   "outputs": [
    {
     "name": "stdout",
     "output_type": "stream",
     "text": [
      "[(1, 4), (1, 5), (1, 6), (2, 4), (2, 5), (2, 6), (3, 4), (3, 5), (3, 6)]\n"
     ]
    }
   ],
   "source": [
    "def all_combinations(l1,l2):\n",
    "    return [(i,j) for i in l1 for j in l2]\n",
    "\n",
    "print(all_combinations([1,2,3],[4,5,6]))"
   ]
  },
  {
   "cell_type": "markdown",
   "id": "bdd66b3f-916a-4d4d-841e-9a32f32ff446",
   "metadata": {},
   "source": [
    "34. Write a program that calculates the mean, median, and mode of a list of numbers using list \n",
    "comprehension."
   ]
  },
  {
   "cell_type": "code",
   "execution_count": 32,
   "id": "913f0939-3013-426d-9407-deef9d3b0998",
   "metadata": {},
   "outputs": [
    {
     "name": "stdout",
     "output_type": "stream",
     "text": [
      "[0, 1, 1, 2, 3, 3, 3, 5, 7, 8, 9]\n",
      "{0: 1, 1: 2, 2: 1, 3: 3, 5: 1, 7: 1, 8: 1, 9: 1}\n",
      "[3.8181818181818183, 3, 3]\n"
     ]
    }
   ],
   "source": [
    "import math\n",
    "\n",
    "def mean(li):\n",
    "    return sum(li)/len(li)\n",
    "\n",
    "def med(li):\n",
    "    li.sort()\n",
    "    mid = len(li)//2\n",
    "    if len(li) % 2 == 0:\n",
    "        return (li[mid],li[mid+1])\n",
    "    else:\n",
    "        return li[mid]\n",
    "\n",
    "def mode(li):\n",
    "    d = {}\n",
    "    for i in range(len(li)):\n",
    "        ele = li[i]\n",
    "        if ele in d.keys():\n",
    "            d[ele] = d[ele]+1\n",
    "        else:\n",
    "            d[ele] = 1\n",
    "    print(d)\n",
    "    \n",
    "    m = -1\n",
    "    for item in d.keys():\n",
    "        if d.get(item) > m:\n",
    "            m = item\n",
    "    return m\n",
    "\n",
    "li = [1,2,3,3,5,3,1,9,0,7,8]\n",
    "li.sort()\n",
    "print(li)\n",
    "ans = [mean(li),med(li),mode(li)]\n",
    "print(ans)"
   ]
  },
  {
   "cell_type": "markdown",
   "id": "ff918a78-424a-4cfc-bab5-ff33e3b03f7e",
   "metadata": {},
   "source": [
    "36. Develop a program that calculates the sum of the digits of a factorial of numbers from 1 to 5 using list comprehension."
   ]
  },
  {
   "cell_type": "code",
   "execution_count": 35,
   "id": "a7cb4385-9ac3-437c-84a0-408d067ead42",
   "metadata": {},
   "outputs": [
    {
     "data": {
      "text/plain": [
       "153"
      ]
     },
     "execution_count": 35,
     "metadata": {},
     "output_type": "execute_result"
    }
   ],
   "source": [
    "import math\n",
    "\n",
    "res = sum([math.factorial(i) for i in range(1,6)])\n",
    "res"
   ]
  },
  {
   "cell_type": "markdown",
   "id": "1e340e4a-dfee-48ac-b672-841058b81c4e",
   "metadata": {},
   "source": [
    "37. Write a program that finds the longest word in a sentence using list comprehension."
   ]
  },
  {
   "cell_type": "code",
   "execution_count": 39,
   "id": "83b74a6c-66d5-4ce3-9190-46b628b7c78f",
   "metadata": {},
   "outputs": [
    {
     "name": "stdin",
     "output_type": "stream",
     "text": [
      "Enter a Sentence:  Hello my name is Rahul\n"
     ]
    },
    {
     "name": "stdout",
     "output_type": "stream",
     "text": [
      "['Hello', 'my', 'name', 'is', 'Rahul']\n"
     ]
    },
    {
     "data": {
      "text/plain": [
       "5"
      ]
     },
     "execution_count": 39,
     "metadata": {},
     "output_type": "execute_result"
    }
   ],
   "source": [
    "sen = str(input(\"Enter a Sentence: \"))\n",
    "li = sen.split()\n",
    "print(li)\n",
    "res = max([len(ele) for ele in li])\n",
    "res"
   ]
  },
  {
   "cell_type": "markdown",
   "id": "d30fe67a-b80f-4e25-b406-0853bb9bd949",
   "metadata": {},
   "source": [
    "38. Create a program that filters a list of strings to include only those with more than three vowels using list comprehension."
   ]
  },
  {
   "cell_type": "code",
   "execution_count": 3,
   "id": "4d53bd45-4e3f-4b9d-a288-149848d0e372",
   "metadata": {},
   "outputs": [
    {
     "name": "stdout",
     "output_type": "stream",
     "text": [
      "['Rahueil', 'aeio']\n"
     ]
    }
   ],
   "source": [
    "def hasMoreThanThreeVowels(string):\n",
    "    vovels = ['a','e','i','o','u']\n",
    "    count = 0\n",
    "    for char in string:\n",
    "        if char in vovels:\n",
    "            count+=1\n",
    "    if count > 3:\n",
    "        return True\n",
    "    else:\n",
    "        return False\n",
    "        \n",
    "\n",
    "strings = [\"Rahueil\", \"Hello\", \"College\", \"New\",'aeio']\n",
    "\n",
    "li = [string for string in strings if hasMoreThanThreeVowels(string)]\n",
    "\n",
    "print(li)"
   ]
  },
  {
   "cell_type": "markdown",
   "id": "b03ccf45-0741-4e5f-835a-e3608bc7382a",
   "metadata": {},
   "source": [
    "39. Develop a program that calculates the sum of the digits of numbers from 1 to 1000 using list comprehension."
   ]
  },
  {
   "cell_type": "code",
   "execution_count": 4,
   "id": "e2ad429b-7f07-4715-bc5c-b6f51e4fa753",
   "metadata": {},
   "outputs": [
    {
     "name": "stdout",
     "output_type": "stream",
     "text": [
      "500500\n"
     ]
    }
   ],
   "source": [
    "s = sum([i for i in range(1,1001)])\n",
    "print(s)"
   ]
  },
  {
   "cell_type": "markdown",
   "id": "2a882f5b-a2bd-4d3d-a8e5-9de05560b729",
   "metadata": {},
   "source": [
    "40. Write a program that generates a list of prime palindromic numbers using list comprehension."
   ]
  },
  {
   "cell_type": "code",
   "execution_count": 5,
   "id": "743c87d4-4fea-4be3-9b71-4a32d746e7bc",
   "metadata": {},
   "outputs": [
    {
     "data": {
      "text/plain": [
       "[1,\n",
       " 2,\n",
       " 3,\n",
       " 5,\n",
       " 7,\n",
       " 11,\n",
       " 101,\n",
       " 131,\n",
       " 151,\n",
       " 181,\n",
       " 191,\n",
       " 313,\n",
       " 353,\n",
       " 373,\n",
       " 383,\n",
       " 727,\n",
       " 757,\n",
       " 787,\n",
       " 797,\n",
       " 919,\n",
       " 929]"
      ]
     },
     "execution_count": 5,
     "metadata": {},
     "output_type": "execute_result"
    }
   ],
   "source": [
    "def isPrime(n):\n",
    "    flag = True\n",
    "    for i in range(2,n):\n",
    "        if n%i == 0:\n",
    "            flag = False\n",
    "            break\n",
    "    return flag\n",
    "\n",
    "def isPalindromeNumber(num):\n",
    "    ini = num\n",
    "    rev = 0\n",
    "    n = num\n",
    "    \n",
    "    while n > 0:\n",
    "        last_digit = n % 10\n",
    "        n = n // 10\n",
    "        rev = rev * 10 + last_digit\n",
    "    if rev == ini:\n",
    "        return True\n",
    "    else:\n",
    "        return False\n",
    "    \n",
    "li = [i for i in range(1,1000) if isPrime(i) and isPalindromeNumber(i)]\n",
    "li"
   ]
  }
 ],
 "metadata": {
  "kernelspec": {
   "display_name": "Python 3 (ipykernel)",
   "language": "python",
   "name": "python3"
  },
  "language_info": {
   "codemirror_mode": {
    "name": "ipython",
    "version": 3
   },
   "file_extension": ".py",
   "mimetype": "text/x-python",
   "name": "python",
   "nbconvert_exporter": "python",
   "pygments_lexer": "ipython3",
   "version": "3.10.8"
  }
 },
 "nbformat": 4,
 "nbformat_minor": 5
}
