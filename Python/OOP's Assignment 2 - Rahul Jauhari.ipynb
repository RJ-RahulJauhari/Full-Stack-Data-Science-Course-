{
 "cells": [
  {
   "cell_type": "markdown",
   "id": "5167ce29-710d-48c4-b590-61e1e649bbdf",
   "metadata": {},
   "source": [
    "# OOP's Assignment 2"
   ]
  },
  {
   "cell_type": "markdown",
   "id": "c3f85ad8-aba9-4936-928b-3a0eebeb1dcf",
   "metadata": {},
   "source": [
    "**Rahul Jauhari**"
   ]
  },
  {
   "cell_type": "markdown",
   "id": "d3bbadd6-3478-4bd9-932a-f3a653a5faaf",
   "metadata": {},
   "source": [
    "1. Bank Account Create a class representing a bank account with attributes like account number, account holder name, and balance. Implement methods to deposit and withdraw money from the account."
   ]
  },
  {
   "cell_type": "markdown",
   "id": "c2130f6b-0c56-43e0-b24b-c5c80e0b6d07",
   "metadata": {},
   "source": [
    "**Using Global State Management**"
   ]
  },
  {
   "cell_type": "code",
   "execution_count": 51,
   "id": "fbdf345a-03e0-4c13-9e0b-fd41e6faee42",
   "metadata": {},
   "outputs": [
    {
     "name": "stdout",
     "output_type": "stream",
     "text": [
      "Welcome to HDFC,Bangalore\n",
      "1. Create an Account\n",
      "2. Deposit\n",
      "3. Withdraw\n",
      "4. Check Balance\n",
      "5. Show all account details (Admin)\n",
      "6. Exit\n"
     ]
    },
    {
     "name": "stdin",
     "output_type": "stream",
     "text": [
      "Enter your choice:  1\n"
     ]
    },
    {
     "name": "stdout",
     "output_type": "stream",
     "text": [
      "Account Creator Page:\n",
      "Enter details below to create your account at HDFC,Bangalore\n"
     ]
    },
    {
     "name": "stdin",
     "output_type": "stream",
     "text": [
      "Enter your name:  Rahul\n",
      "Enter your initial deposit:  287346\n"
     ]
    },
    {
     "name": "stdout",
     "output_type": "stream",
     "text": [
      "Account Created\n"
     ]
    },
    {
     "name": "stdin",
     "output_type": "stream",
     "text": [
      "Do you want to create more:(Y/N) n\n"
     ]
    },
    {
     "name": "stdout",
     "output_type": "stream",
     "text": [
      "\n",
      "Welcome to HDFC,Bangalore\n",
      "1. Create an Account\n",
      "2. Deposit\n",
      "3. Withdraw\n",
      "4. Check Balance\n",
      "5. Show all account details (Admin)\n",
      "6. Exit\n"
     ]
    },
    {
     "name": "stdin",
     "output_type": "stream",
     "text": [
      "Enter your choice:  4\n",
      "Enter account number:  24342\n"
     ]
    },
    {
     "name": "stdout",
     "output_type": "stream",
     "text": [
      "Account does not exist...\n",
      "Welcome to HDFC,Bangalore\n",
      "1. Create an Account\n",
      "2. Deposit\n",
      "3. Withdraw\n",
      "4. Check Balance\n",
      "5. Show all account details (Admin)\n",
      "6. Exit\n"
     ]
    },
    {
     "name": "stdin",
     "output_type": "stream",
     "text": [
      "Enter your choice:  5\n",
      "Enter admin password:  rahul@2003\n"
     ]
    },
    {
     "name": "stdout",
     "output_type": "stream",
     "text": [
      "Bank Details \n",
      " Bank Name: HDFC \n",
      " Location: Bangalore\n",
      "\n",
      "All Bank Accounts: \n",
      "\n",
      "Account Number: 356317019\n",
      "Account Details: \n",
      " Account Holder Name: Rahul \n",
      " Account Balance: 287346.0\n",
      "\n",
      "Welcome to HDFC,Bangalore\n",
      "1. Create an Account\n",
      "2. Deposit\n",
      "3. Withdraw\n",
      "4. Check Balance\n",
      "5. Show all account details (Admin)\n",
      "6. Exit\n"
     ]
    },
    {
     "name": "stdin",
     "output_type": "stream",
     "text": [
      "Enter your choice:  3\n",
      "Enter account number:  356317019\n",
      "Enter withdraw amount:  300000\n"
     ]
    },
    {
     "name": "stdout",
     "output_type": "stream",
     "text": [
      "Insuffcient Balance! \n",
      " You don't have enough money...\n",
      "Welcome to HDFC,Bangalore\n",
      "1. Create an Account\n",
      "2. Deposit\n",
      "3. Withdraw\n",
      "4. Check Balance\n",
      "5. Show all account details (Admin)\n",
      "6. Exit\n"
     ]
    },
    {
     "name": "stdin",
     "output_type": "stream",
     "text": [
      "Enter your choice:  2\n",
      "Enter account number:  356317019\n",
      "Enter deposit amount:  238723926\n"
     ]
    },
    {
     "name": "stdout",
     "output_type": "stream",
     "text": [
      "Money has been deposited in account:356317019\n",
      "New Balance: 239011272.0\n",
      "Welcome to HDFC,Bangalore\n",
      "1. Create an Account\n",
      "2. Deposit\n",
      "3. Withdraw\n",
      "4. Check Balance\n",
      "5. Show all account details (Admin)\n",
      "6. Exit\n"
     ]
    },
    {
     "name": "stdin",
     "output_type": "stream",
     "text": [
      "Enter your choice:  356317019\n"
     ]
    },
    {
     "name": "stdout",
     "output_type": "stream",
     "text": [
      "Please select options (1-6)\n",
      "Welcome to HDFC,Bangalore\n",
      "1. Create an Account\n",
      "2. Deposit\n",
      "3. Withdraw\n",
      "4. Check Balance\n",
      "5. Show all account details (Admin)\n",
      "6. Exit\n"
     ]
    },
    {
     "name": "stdin",
     "output_type": "stream",
     "text": [
      "Enter your choice:  6\n"
     ]
    },
    {
     "name": "stdout",
     "output_type": "stream",
     "text": [
      "Thank you for banking with HDFC!!!\n"
     ]
    }
   ],
   "source": [
    "\n",
    "import random \n",
    "\n",
    "class Bank:\n",
    "    bank_accounts = {}\n",
    "        \n",
    "    def __init__(self,bank_name,location):\n",
    "        self.bank_name = bank_name\n",
    "        self.location = location\n",
    "        self.transact_menu()\n",
    "        \n",
    "    def __str__(self):\n",
    "        return f\"Bank Details \\n Bank Name: {self.bank_name} \\n Location: {self.location}\\n\"\n",
    "        \n",
    "    def generateAccountNumber():\n",
    "            num = int(random.random()*1000000000)\n",
    "    \n",
    "            while num in Bank.bank_accounts.keys():\n",
    "                num = int(random.random()*1000000000)\n",
    "            return num\n",
    "        \n",
    "    def createBankAccount(self,holder_name=None,balance=0,bank_account=None):\n",
    "        if(bank_account == None):\n",
    "            account = BankAccount(account_holder_name,balance = balance)\n",
    "            Bank.bank_accounts[self.account_number] = account\n",
    "        else:\n",
    "            Bank.bank_accounts[bank_account.account_number] = bank_account\n",
    "            \n",
    "        print(\"Account Created\")\n",
    "\n",
    "    def accountExists(self,account_num):\n",
    "        return account_num in Bank.bank_accounts.keys()\n",
    "\n",
    "    def createBankAccountGUI(self):\n",
    "        print('Account Creator Page:')\n",
    "        print(f\"Enter details below to create your account at {self.bank_name},{self.location}\")\n",
    "        name = input(\"Enter your name: \")\n",
    "        balance = float(input(\"Enter your initial deposit: \"))\n",
    "        account = BankAccount(name,balance=balance)\n",
    "        self.createBankAccount(bank_account = account)\n",
    "\n",
    "    def checkBalance(self,account_number):\n",
    "        print(Bank.bank_accounts[account_number])\n",
    "\n",
    "    def createMultipleAccounts(self):\n",
    "\n",
    "        while True:\n",
    "            self.createBankAccountGUI()\n",
    "            while True:\n",
    "                c = (input(\"Do you want to create more:(Y/N)\")).upper()\n",
    "                if c == 'Y':\n",
    "                    break\n",
    "                elif c == 'N':\n",
    "                    print()\n",
    "                    return\n",
    "\n",
    "    def deposit(self,account_number,amount):\n",
    "        Bank.bank_accounts[account_number].deposit(amount)\n",
    "\n",
    "    def withdrawn(self,account_number,amount):\n",
    "        Bank.bank_accounts[account_number].withdrawn(amount)\n",
    "\n",
    "    def transact_menu(self):\n",
    "        while True:\n",
    "            print(f\"Welcome to {self.bank_name},{self.location}\")\n",
    "            print(f\"1. Create an Account\")\n",
    "            print(f\"2. Deposit\")\n",
    "            print(f\"3. Withdraw\")\n",
    "            print(f\"4. Check Balance\")\n",
    "            print(f\"5. Show all account details (Admin)\")\n",
    "            print(f\"6. Exit\")\n",
    "            c = int(input(\"Enter your choice: \"))\n",
    "            \n",
    "            if c == 1:\n",
    "                self.createMultipleAccounts()\n",
    "            elif c == 2:\n",
    "                account_number = int(input(\"Enter account number: \"))\n",
    "                if self.accountExists(account_number):\n",
    "                    amount = float(input(\"Enter deposit amount: \"))\n",
    "                    self.deposit(account_number,amount)\n",
    "                else:\n",
    "                    print(\"Account does not exist...\")\n",
    "            elif c == 3:\n",
    "                account_number = int(input(\"Enter account number: \"))\n",
    "                if self.accountExists(account_number):\n",
    "                    amount = float(input(\"Enter withdraw amount: \"))\n",
    "                    self.withdrawn(account_number,amount)\n",
    "                else:\n",
    "                    print(\"Account does not exist...\")\n",
    "\n",
    "            elif c == 4:\n",
    "                account_number = int(input(\"Enter account number: \"))\n",
    "                if self.accountExists(account_number):\n",
    "                    self.checkBalance()\n",
    "                else:\n",
    "                    print(\"Account does not exist...\")\n",
    "\n",
    "            elif c == 5:\n",
    "                password = str(input(\"Enter admin password: \"))\n",
    "                if password == \"rahul@2003\":\n",
    "                    self.showAllBankAccountData()\n",
    "                else:\n",
    "                    print(\"Incorect password...\")\n",
    "\n",
    "            elif c == 6:\n",
    "                print(f\"Thank you for banking with {self.bank_name}!!!\")\n",
    "                break\n",
    "            else:\n",
    "                print(\"Please select options (1-6)\")\n",
    "            \n",
    "        \n",
    "    def showAllBankAccountData(self):\n",
    "        print(self)\n",
    "        print(\"All Bank Accounts: \\n\")\n",
    "        for key,value in Bank.bank_accounts.items():\n",
    "            print(f\"Account Number: {key}\")\n",
    "            print(value)\n",
    "            print()\n",
    "\n",
    "\n",
    "class BankAccount:\n",
    "\n",
    "    def __init__(self,holder_name,balance=0):\n",
    "        self.account_number = Bank.generateAccountNumber()\n",
    "        self.holder_name = holder_name\n",
    "        self.balance = balance\n",
    "\n",
    "    def deposit(self,amount):\n",
    "        self.balance += amount\n",
    "        print(f\"Money has been deposited in account:{self.account_number}\")\n",
    "        print(f\"New Balance: {self.balance}\")\n",
    "\n",
    "    def withdrawn(self,amount):\n",
    "        if amount > self.balance:\n",
    "            print(\"Insuffcient Balance! \\n You don't have enough money...\")\n",
    "        else:\n",
    "            self.balance -= amount \n",
    "            print(f\"Money has been withdrawn from account:{self.account_number}\")\n",
    "            print(f\"New Balance: {self.balance}\")\n",
    "\n",
    "    def __str__(self):\n",
    "        return f\"Account Details: \\n Account Holder Name: {self.holder_name} \\n Account Balance: {self.balance}\"\n",
    "\n",
    "bank = Bank(\"HDFC\",\"Bangalore\")"
   ]
  },
  {
   "cell_type": "markdown",
   "id": "ad7d6239-1e81-4d6f-ac32-3728673bf2d2",
   "metadata": {},
   "source": [
    "**Using more Object Oriented State Management**"
   ]
  },
  {
   "cell_type": "code",
   "execution_count": 52,
   "id": "c7cc588b-e64b-4593-9f32-c72ba41dd73a",
   "metadata": {},
   "outputs": [
    {
     "name": "stdout",
     "output_type": "stream",
     "text": [
      "Welcome to HDFC,Bangalore\n",
      "1. Create an Account\n",
      "2. Deposit\n",
      "3. Withdraw\n",
      "4. Check Balance\n",
      "5. Show all account details (Admin)\n",
      "6. Exit\n"
     ]
    },
    {
     "name": "stdin",
     "output_type": "stream",
     "text": [
      "Enter your choice:  1\n"
     ]
    },
    {
     "name": "stdout",
     "output_type": "stream",
     "text": [
      "Account Creator Page:\n",
      "Enter details below to create your account at HDFC,Bangalore\n"
     ]
    },
    {
     "name": "stdin",
     "output_type": "stream",
     "text": [
      "Enter your name:  Rahul \n",
      "Enter your initial deposit:  2983498\n"
     ]
    },
    {
     "name": "stdout",
     "output_type": "stream",
     "text": [
      "Account Created:  433767427\n"
     ]
    },
    {
     "name": "stdin",
     "output_type": "stream",
     "text": [
      "Do you want to create more:(Y/N) n\n"
     ]
    },
    {
     "name": "stdout",
     "output_type": "stream",
     "text": [
      "\n",
      "Welcome to HDFC,Bangalore\n",
      "1. Create an Account\n",
      "2. Deposit\n",
      "3. Withdraw\n",
      "4. Check Balance\n",
      "5. Show all account details (Admin)\n",
      "6. Exit\n"
     ]
    },
    {
     "name": "stdin",
     "output_type": "stream",
     "text": [
      "Enter your choice:  2\n",
      "Enter account number:  433767427\n",
      "Enter deposit amount:  1000000000\n"
     ]
    },
    {
     "name": "stdout",
     "output_type": "stream",
     "text": [
      "New Balance: 1002983498.0\n",
      "Welcome to HDFC,Bangalore\n",
      "1. Create an Account\n",
      "2. Deposit\n",
      "3. Withdraw\n",
      "4. Check Balance\n",
      "5. Show all account details (Admin)\n",
      "6. Exit\n"
     ]
    },
    {
     "name": "stdin",
     "output_type": "stream",
     "text": [
      "Enter your choice:  6\n"
     ]
    },
    {
     "name": "stdout",
     "output_type": "stream",
     "text": [
      "Thank you for banking with HDFC!!!\n"
     ]
    }
   ],
   "source": [
    "import random\n",
    "\n",
    "\n",
    "class Bank:\n",
    "    bank_accounts = {}\n",
    "\n",
    "    def __init__(self, bank_name, location):\n",
    "        self.bank_name = bank_name\n",
    "        self.location = location\n",
    "        self.bank_accounts = {}\n",
    "        self.transact_menu()\n",
    "\n",
    "    def __str__(self):\n",
    "        return f\"Bank Details \\n Bank Name: {self.bank_name} \\n Location: {self.location}\\n\"\n",
    "\n",
    "    def generateAccountNumber(self):\n",
    "        num = int(random.random() * 1000000000)\n",
    "\n",
    "        while num in self.bank_accounts.keys():\n",
    "            num = int(random.random() * 1000000000)\n",
    "        return num\n",
    "\n",
    "    def createBankAccount(self, holder_name=None, balance=0, bank_account=None):\n",
    "        account_num = self.generateAccountNumber()\n",
    "        if bank_account is None:\n",
    "            account = BankAccount(holder_name, balance=balance)\n",
    "            self.bank_accounts[account_num] = account\n",
    "        else:\n",
    "            self.bank_accounts[account_num] = bank_account\n",
    "        print(\"Account Created: \",account_num)\n",
    "\n",
    "    def accountExists(self, account_num):\n",
    "        return account_num in self.bank_accounts.keys()\n",
    "\n",
    "    def createBankAccountGUI(self):\n",
    "        print('Account Creator Page:')\n",
    "        print(f\"Enter details below to create your account at {self.bank_name},{self.location}\")\n",
    "        name = input(\"Enter your name: \")\n",
    "        balance = float(input(\"Enter your initial deposit: \"))\n",
    "        account = BankAccount(name, balance=balance)\n",
    "        self.createBankAccount(bank_account=account)\n",
    "\n",
    "    def checkBalance(self, account_number):\n",
    "        print(self.bank_accounts[account_number])\n",
    "\n",
    "    def createMultipleAccounts(self):\n",
    "\n",
    "        while True:\n",
    "            self.createBankAccountGUI()\n",
    "            while True:\n",
    "                c = (input(\"Do you want to create more:(Y/N)\")).upper()\n",
    "                if c == 'Y':\n",
    "                    break\n",
    "                elif c == 'N':\n",
    "                    print()\n",
    "                    return\n",
    "\n",
    "    def deposit(self, account_number, amount):\n",
    "        self.bank_accounts[account_number].deposit(amount)\n",
    "\n",
    "    def withdrawn(self, account_number, amount):\n",
    "        self.bank_accounts[account_number].withdrawn(amount)\n",
    "\n",
    "    def transact_menu(self):\n",
    "        while True:\n",
    "            print(f\"Welcome to {self.bank_name},{self.location}\")\n",
    "            print(f\"1. Create an Account\")\n",
    "            print(f\"2. Deposit\")\n",
    "            print(f\"3. Withdraw\")\n",
    "            print(f\"4. Check Balance\")\n",
    "            print(f\"5. Show all account details (Admin)\")\n",
    "            print(f\"6. Exit\")\n",
    "            c = int(input(\"Enter your choice: \"))\n",
    "\n",
    "            if c == 1:\n",
    "                self.createMultipleAccounts()\n",
    "            elif c == 2:\n",
    "                account_number = int(input(\"Enter account number: \"))\n",
    "                if self.accountExists(account_number):\n",
    "                    amount = float(input(\"Enter deposit amount: \"))\n",
    "                    self.deposit(account_number, amount)\n",
    "                else:\n",
    "                    print(\"Account does not exist...\")\n",
    "            elif c == 3:\n",
    "                account_number = int(input(\"Enter account number: \"))\n",
    "                if self.accountExists(account_number):\n",
    "                    amount = float(input(\"Enter withdraw amount: \"))\n",
    "                    self.withdrawn(account_number, amount)\n",
    "                else:\n",
    "                    print(\"Account does not exist...\")\n",
    "\n",
    "            elif c == 4:\n",
    "                account_number = int(input(\"Enter account number: \"))\n",
    "                if self.accountExists(account_number):\n",
    "                    self.checkBalance()\n",
    "                else:\n",
    "                    print(\"Account does not exist...\")\n",
    "\n",
    "            elif c == 5:\n",
    "                password = str(input(\"Enter admin password: \"))\n",
    "                if password == \"rahul@2003\":\n",
    "                    self.showAllBankAccountData()\n",
    "                else:\n",
    "                    print(\"Incorect password...\")\n",
    "\n",
    "            elif c == 6:\n",
    "                print(f\"Thank you for banking with {self.bank_name}!!!\")\n",
    "                break\n",
    "            else:\n",
    "                print(\"Please select options (1-6)\")\n",
    "\n",
    "    def showAllBankAccountData(self):\n",
    "        print(self)\n",
    "        print(\"All Bank Accounts: \\n\")\n",
    "        for key, value in Bank.bank_accounts.items():\n",
    "            print(f\"Account Number: {key}\")\n",
    "            print(value)\n",
    "            print()\n",
    "\n",
    "\n",
    "class BankAccount:\n",
    "\n",
    "    def __init__(self, holder_name, balance=0):\n",
    "        self.holder_name = holder_name\n",
    "        self.balance = balance\n",
    "\n",
    "    def deposit(self, amount):\n",
    "        self.balance += amount\n",
    "        print(f\"New Balance: {self.balance}\")\n",
    "\n",
    "    def withdrawn(self, amount):\n",
    "        if amount > self.balance:\n",
    "            print(\"Insufficient Balance! \\n You don't have enough money...\")\n",
    "        else:\n",
    "            self.balance -= amount\n",
    "            print(f\"New Balance: {self.balance}\")\n",
    "\n",
    "    def __str__(self):\n",
    "        return f\"Account Details: \\n Account Holder Name: {self.holder_name} \\n Account Balance: {self.balance}\"\n",
    "\n",
    "\n",
    "bank = Bank(\"HDFC\", \"Bangalore\")"
   ]
  },
  {
   "cell_type": "markdown",
   "id": "494594bc-b671-4db6-8305-73ef1b39f632",
   "metadata": {},
   "source": [
    "**Adding Transaction History**"
   ]
  },
  {
   "cell_type": "code",
   "execution_count": null,
   "id": "6b730d0d-ff36-4df8-a742-ab50f805f9b6",
   "metadata": {},
   "outputs": [
    {
     "name": "stdout",
     "output_type": "stream",
     "text": [
      "Welcome to HDFC,Bangalore\n",
      "1. Create an Account\n",
      "2. Deposit\n",
      "3. Withdraw\n",
      "4. Check Balance\n",
      "5. Show all account details (Admin)\n",
      "6. Get transaction history\n",
      "7. Exit\n"
     ]
    },
    {
     "name": "stdin",
     "output_type": "stream",
     "text": [
      "Enter your choice:  1\n"
     ]
    },
    {
     "name": "stdout",
     "output_type": "stream",
     "text": [
      "Account Creator Page:\n",
      "Enter details below to create your account at HDFC,Bangalore\n"
     ]
    },
    {
     "name": "stdin",
     "output_type": "stream",
     "text": [
      "Enter your name:  Rahul\n",
      "Enter your initial deposit:  873264\n"
     ]
    },
    {
     "name": "stdout",
     "output_type": "stream",
     "text": [
      "Account Created:  706654986\n"
     ]
    },
    {
     "name": "stdin",
     "output_type": "stream",
     "text": [
      "Do you want to create more:(Y/N) y\n"
     ]
    },
    {
     "name": "stdout",
     "output_type": "stream",
     "text": [
      "Account Creator Page:\n",
      "Enter details below to create your account at HDFC,Bangalore\n"
     ]
    },
    {
     "name": "stdin",
     "output_type": "stream",
     "text": [
      "Enter your name:  Manish\n",
      "Enter your initial deposit:  982346\n"
     ]
    },
    {
     "name": "stdout",
     "output_type": "stream",
     "text": [
      "Account Created:  930551189\n"
     ]
    },
    {
     "name": "stdin",
     "output_type": "stream",
     "text": [
      "Do you want to create more:(Y/N) n\n"
     ]
    },
    {
     "name": "stdout",
     "output_type": "stream",
     "text": [
      "\n",
      "Welcome to HDFC,Bangalore\n",
      "1. Create an Account\n",
      "2. Deposit\n",
      "3. Withdraw\n",
      "4. Check Balance\n",
      "5. Show all account details (Admin)\n",
      "6. Get transaction history\n",
      "7. Exit\n"
     ]
    },
    {
     "name": "stdin",
     "output_type": "stream",
     "text": [
      "Enter your choice:  5\n",
      "Enter admin password:  rahul@2003\n"
     ]
    },
    {
     "name": "stdout",
     "output_type": "stream",
     "text": [
      "Bank Details \n",
      " Bank Name: HDFC \n",
      " Location: Bangalore\n",
      "\n",
      "All Bank Accounts: \n",
      "\n",
      "Account Number: 706654986\n",
      "Account Details: \n",
      " Account Holder Name: Rahul \n",
      " Account Balance: 873264.0\n",
      "\n",
      "Account Number: 930551189\n",
      "Account Details: \n",
      " Account Holder Name: Manish \n",
      " Account Balance: 982346.0\n",
      "\n",
      "Welcome to HDFC,Bangalore\n",
      "1. Create an Account\n",
      "2. Deposit\n",
      "3. Withdraw\n",
      "4. Check Balance\n",
      "5. Show all account details (Admin)\n",
      "6. Get transaction history\n",
      "7. Exit\n"
     ]
    },
    {
     "name": "stdin",
     "output_type": "stream",
     "text": [
      "Enter your choice:  2\n",
      "Enter account number:  706654986\n",
      "Enter deposit amount:  783738457\n"
     ]
    },
    {
     "name": "stdout",
     "output_type": "stream",
     "text": [
      "Amount has been deposited... New Balance: 784611721.0\n",
      "Welcome to HDFC,Bangalore\n",
      "1. Create an Account\n",
      "2. Deposit\n",
      "3. Withdraw\n",
      "4. Check Balance\n",
      "5. Show all account details (Admin)\n",
      "6. Get transaction history\n",
      "7. Exit\n"
     ]
    },
    {
     "name": "stdin",
     "output_type": "stream",
     "text": [
      "Enter your choice:  3\n",
      "Enter account number:  930551189\n",
      "Enter withdraw amount:  84756\n"
     ]
    },
    {
     "name": "stdout",
     "output_type": "stream",
     "text": [
      "Amount has been withdrawn... New Balance: 897590.0\n",
      "Welcome to HDFC,Bangalore\n",
      "1. Create an Account\n",
      "2. Deposit\n",
      "3. Withdraw\n",
      "4. Check Balance\n",
      "5. Show all account details (Admin)\n",
      "6. Get transaction history\n",
      "7. Exit\n"
     ]
    },
    {
     "name": "stdin",
     "output_type": "stream",
     "text": [
      "Enter your choice:  6\n",
      "Enter account number:  930551189\n"
     ]
    },
    {
     "name": "stdout",
     "output_type": "stream",
     "text": [
      "Withdrew: 84756.0\n",
      "Final Balance: 897590.0\n",
      "Welcome to HDFC,Bangalore\n",
      "1. Create an Account\n",
      "2. Deposit\n",
      "3. Withdraw\n",
      "4. Check Balance\n",
      "5. Show all account details (Admin)\n",
      "6. Get transaction history\n",
      "7. Exit\n"
     ]
    }
   ],
   "source": [
    "import random\n",
    "\n",
    "class Bank:\n",
    "\n",
    "    def __init__(self, bank_name, location):\n",
    "        self.bank_name = bank_name\n",
    "        self.location = location\n",
    "        self.bank_accounts = {}\n",
    "        self.transact_menu()\n",
    "\n",
    "    def __str__(self):\n",
    "        return f\"Bank Details \\n Bank Name: {self.bank_name} \\n Location: {self.location}\\n\"\n",
    "\n",
    "    def generateAccountNumber(self):\n",
    "        num = int(random.random() * 1000000000)\n",
    "\n",
    "        while num in self.bank_accounts.keys():\n",
    "            num = int(random.random() * 1000000000)\n",
    "        return num\n",
    "\n",
    "    def createBankAccount(self, holder_name=None, balance=0, bank_account=None):\n",
    "        account_num = self.generateAccountNumber()\n",
    "        if bank_account is None:\n",
    "            account = BankAccount(holder_name, balance=balance)\n",
    "            self.bank_accounts[account_num] = account\n",
    "        else:\n",
    "            self.bank_accounts[account_num] = bank_account\n",
    "        print(\"Account Created: \",account_num)\n",
    "\n",
    "    def accountExists(self, account_num):\n",
    "        return account_num in self.bank_accounts.keys()\n",
    "\n",
    "    def createBankAccountGUI(self):\n",
    "        print('Account Creator Page:')\n",
    "        print(f\"Enter details below to create your account at {self.bank_name},{self.location}\")\n",
    "        name = input(\"Enter your name: \")\n",
    "        balance = float(input(\"Enter your initial deposit: \"))\n",
    "        account = BankAccount(name, balance=balance)\n",
    "        self.createBankAccount(bank_account=account)\n",
    "\n",
    "    def checkBalance(self, account_number):\n",
    "        print(self.bank_accounts[account_number])\n",
    "\n",
    "    def createMultipleAccounts(self):\n",
    "\n",
    "        while True:\n",
    "            self.createBankAccountGUI()\n",
    "            while True:\n",
    "                c = (input(\"Do you want to create more:(Y/N)\")).upper()\n",
    "                if c == 'Y':\n",
    "                    break\n",
    "                elif c == 'N':\n",
    "                    print()\n",
    "                    return\n",
    "\n",
    "    def deposit(self, account_number, amount):\n",
    "        self.bank_accounts[account_number].deposit(amount)\n",
    "\n",
    "    def withdrawn(self, account_number, amount):\n",
    "        self.bank_accounts[account_number].withdrawn(amount)\n",
    "\n",
    "    def get_transaction_history(self,account_number):\n",
    "        self.bank_accounts[account_number].get_transaction_history()\n",
    "\n",
    "    def transact_menu(self):\n",
    "        while True:\n",
    "            print(f\"Welcome to {self.bank_name},{self.location}\")\n",
    "            print(f\"1. Create an Account\")\n",
    "            print(f\"2. Deposit\")\n",
    "            print(f\"3. Withdraw\")\n",
    "            print(f\"4. Check Balance\")\n",
    "            print(f\"5. Show all account details (Admin)\")\n",
    "            print(f\"6. Get transaction history\")\n",
    "            print(f\"7. Exit\")\n",
    "            c = int(input(\"Enter your choice: \"))\n",
    "\n",
    "            if c == 1:\n",
    "                self.createMultipleAccounts()\n",
    "            elif c == 2:\n",
    "                account_number = int(input(\"Enter account number: \"))\n",
    "                if self.accountExists(account_number):\n",
    "                    amount = float(input(\"Enter deposit amount: \"))\n",
    "                    self.deposit(account_number, amount)\n",
    "                else:\n",
    "                    print(\"Account does not exist...\")\n",
    "            elif c == 3:\n",
    "                account_number = int(input(\"Enter account number: \"))\n",
    "                if self.accountExists(account_number):\n",
    "                    amount = float(input(\"Enter withdraw amount: \"))\n",
    "                    self.withdrawn(account_number, amount)\n",
    "                else:\n",
    "                    print(\"Account does not exist...\")\n",
    "\n",
    "            elif c == 4:\n",
    "                account_number = int(input(\"Enter account number: \"))\n",
    "                if self.accountExists(account_number):\n",
    "                    self.checkBalance()\n",
    "                else:\n",
    "                    print(\"Account does not exist...\")\n",
    "\n",
    "            elif c == 5:\n",
    "                password = str(input(\"Enter admin password: \"))\n",
    "                if password == \"rahul@2003\":\n",
    "                    self.showAllBankAccountData()\n",
    "                else:\n",
    "                    print(\"Incorect password...\")\n",
    "            elif c == 6:\n",
    "                account_number = int(input(\"Enter account number: \"))\n",
    "                if self.accountExists(account_number):\n",
    "                    self.get_transaction_history(account_number)\n",
    "                else:\n",
    "                    print(\"Account does not exist...\")\n",
    "\n",
    "            elif c == 7:\n",
    "                print(f\"Thank you for banking with {self.bank_name}!!!\")\n",
    "                break\n",
    "            else:\n",
    "                print(\"Please select options (1-6)\")\n",
    "\n",
    "    def showAllBankAccountData(self):\n",
    "        print(self)\n",
    "        print(\"All Bank Accounts: \\n\")\n",
    "        for key, value in self.bank_accounts.items():\n",
    "            print(f\"Account Number: {key}\")\n",
    "            print(value)\n",
    "            print()\n",
    "\n",
    "\n",
    "class BankAccount:\n",
    "    def __init__(self, holder_name, balance=0):\n",
    "        self.holder_name = holder_name\n",
    "        self.balance = balance\n",
    "        self.transaction_history = []\n",
    "\n",
    "    def deposit(self, amount):\n",
    "        self.balance += amount\n",
    "        print(f\"Amount has been deposited... New Balance: {self.balance}\")\n",
    "        self.transaction_history.append(f\"Deposited: {amount}\")\n",
    "\n",
    "    def withdrawn(self, amount):\n",
    "        if amount > self.balance:\n",
    "            print(\"Insufficient Balance! You don't have enough money...\")\n",
    "        else:\n",
    "            self.balance -= amount\n",
    "            print(f\"Amount has been withdrawn... New Balance: {self.balance}\")\n",
    "            self.transaction_history.append(f\"Withdrew: {amount}\")\n",
    "\n",
    "    def get_transaction_history(self):\n",
    "        for transaction in self.transaction_history:\n",
    "            print(transaction)\n",
    "\n",
    "        print(f\"Final Balance: {self.balance}\")\n",
    "\n",
    "    def __str__(self):\n",
    "        return f\"Account Details: \\n Account Holder Name: {self.holder_name} \\n Account Balance: {self.balance}\"\n",
    "\n",
    "\n",
    "bank = Bank(\"HDFC\", \"Bangalore\")"
   ]
  },
  {
   "cell_type": "markdown",
   "id": "5dee5804-4fca-46f4-b8ac-20ded1ae1cb6",
   "metadata": {},
   "source": [
    "2. Employee Management Create a class representing an employee with attributes like employee ID, name, and salary. Implement methods to calculate the yearly bonus and display employee details."
   ]
  },
  {
   "cell_type": "code",
   "execution_count": 55,
   "id": "78d9ac15-55e8-4826-9dc9-91e48b141e89",
   "metadata": {},
   "outputs": [
    {
     "name": "stdout",
     "output_type": "stream",
     "text": [
      "Yearly Bonus: $5000.0\n",
      "Employee ID: 101\n",
      "Name: Rahul Jauhari\n",
      "Salary: $50000\n"
     ]
    }
   ],
   "source": [
    "class Employee:\n",
    "    def __init__(self, employee_id, name, salary):\n",
    "        self.employee_id = employee_id\n",
    "        self.name = name\n",
    "        self.salary = salary\n",
    "\n",
    "    def calculate_yearly_bonus(self, bonus_percentage):\n",
    "        if bonus_percentage < 0 or bonus_percentage > 100:\n",
    "            return \"Invalid bonus percentage\"\n",
    "        else:\n",
    "            yearly_bonus = (bonus_percentage / 100) * self.salary\n",
    "            return yearly_bonus\n",
    "\n",
    "    def display_employee_details(self):\n",
    "        print(f\"Employee ID: {self.employee_id}\")\n",
    "        print(f\"Name: {self.name}\")\n",
    "        print(f\"Salary: ${self.salary}\")\n",
    "        \n",
    "\n",
    "employee1 = Employee(101, \"Rahul Jauhari\", 50000)\n",
    "\n",
    "bonus_percentage = 10  \n",
    "yearly_bonus = employee1.calculate_yearly_bonus(bonus_percentage)\n",
    "print(f\"Yearly Bonus: ${yearly_bonus}\")\n",
    "\n",
    "employee1.display_employee_details()\n"
   ]
  }
 ],
 "metadata": {
  "kernelspec": {
   "display_name": "Python 3 (ipykernel)",
   "language": "python",
   "name": "python3"
  },
  "language_info": {
   "codemirror_mode": {
    "name": "ipython",
    "version": 3
   },
   "file_extension": ".py",
   "mimetype": "text/x-python",
   "name": "python",
   "nbconvert_exporter": "python",
   "pygments_lexer": "ipython3",
   "version": "3.12.0"
  },
  "widgets": {
   "application/vnd.jupyter.widget-state+json": {
    "state": {},
    "version_major": 2,
    "version_minor": 0
   }
  }
 },
 "nbformat": 4,
 "nbformat_minor": 5
}
