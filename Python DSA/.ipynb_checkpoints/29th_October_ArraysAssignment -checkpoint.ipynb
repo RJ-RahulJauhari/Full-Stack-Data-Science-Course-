{
 "cells": [
  {
   "cell_type": "markdown",
   "id": "64ae3826-e886-4988-86fa-c203846b8c69",
   "metadata": {},
   "source": [
    "# Arrays Assignment "
   ]
  },
  {
   "cell_type": "markdown",
   "id": "60068271-6dc7-48cb-9f45-1705c76cd448",
   "metadata": {},
   "source": [
    "Rahul Jauhari "
   ]
  },
  {
   "cell_type": "markdown",
   "id": "d720ad27-b4ce-4ac7-ac61-2b733049e9a7",
   "metadata": {},
   "source": [
    "1. Given an array, check if it contains any duplicates or not.  \n",
    "    arr = [1, 2, 4, 2, 5, 9]  \n",
    "    Output = True"
   ]
  },
  {
   "cell_type": "code",
   "execution_count": 1,
   "id": "c6910f44-5760-4c59-a9cb-8c23c121df9c",
   "metadata": {},
   "outputs": [
    {
     "name": "stdout",
     "output_type": "stream",
     "text": [
      "Element:  2 First Portion: [] Second Portion: [4, 5, 4, 1]\n",
      "Element:  4 First Portion: [2] Second Portion: [5, 4, 1]\n",
      "True\n"
     ]
    }
   ],
   "source": [
    "def checkForDuplicatesIn(arr):\n",
    "    # Here I am traversing through the full array, element by element, and for each element I am checking if\n",
    "    # there exists any duplicate in it's previous elements slice and it's next elements slice.\n",
    "    for i in range(0,len(arr)):\n",
    "        print(\"Element: \",arr[i],\"First Portion:\",arr[:i],\"Second Portion:\",arr[i+1:])\n",
    "        if arr[i] in arr[:i] or arr[i] in arr[i+1:]:\n",
    "            return True \n",
    "    return False\n",
    "\n",
    "arr = [2,4,5,4,1]\n",
    "\n",
    "print(checkForDuplicatesIn(arr))"
   ]
  },
  {
   "cell_type": "markdown",
   "id": "3090b55a-d1ec-47ae-9cba-21d343dbe60f",
   "metadata": {},
   "source": [
    "2. Given an array and an integer k, rotate the array to the right by k steps.  \r\n",
    "arr = [1, 2, 3, 4, 5, 6, 7\n",
    " k =  3\r\n",
    "Output [5, 6, 7, 1, 2, 3, 4]   4]"
   ]
  },
  {
   "cell_type": "code",
   "execution_count": 2,
   "id": "eb3c3fc4-d8f6-46dd-99b5-e69d3716beb2",
   "metadata": {},
   "outputs": [
    {
     "data": {
      "text/plain": [
       "[6, 7, 8, 1, 2, 4, 5]"
      ]
     },
     "execution_count": 2,
     "metadata": {},
     "output_type": "execute_result"
    }
   ],
   "source": [
    "def rotateArrayByKTimes(arr,k):\n",
    "    division_point = len(arr)-k\n",
    "    # As we are rotating the array k times we just need to shift or move 'k' element from the end,\n",
    "    # to the begining in the case of right rotation. \n",
    "    p = arr[:division_point]\n",
    "    shifted = arr[division_point:]\n",
    "    arr = shifted + p\n",
    "    return arr\n",
    "\n",
    "arr = [1,2,4,5,6,7,8]\n",
    "\n",
    "rotateArrayByKTimes(arr,3)   "
   ]
  },
  {
   "cell_type": "markdown",
   "id": "9c9938d6-98ef-4c8c-a079-8f64de60d3b2",
   "metadata": {},
   "source": [
    "3. Reverse the given array in-place, means without using any extra data structure.  \r\n",
    "arr = [2, 4, 5, 7, 9, 12  ]\r\n",
    "Output = [12, 9, 7, 5, 4,   2]"
   ]
  },
  {
   "cell_type": "code",
   "execution_count": 3,
   "id": "ea18d056-d380-49b2-85dc-fe26e7366738",
   "metadata": {},
   "outputs": [
    {
     "data": {
      "text/plain": [
       "[8, 7, 6, 5, 4, 2, 1]"
      ]
     },
     "execution_count": 3,
     "metadata": {},
     "output_type": "execute_result"
    }
   ],
   "source": [
    "def reverseArrayInPlace(arr):\n",
    "\n",
    "    # Here I am swapping the the corresponding symmetrical element in the array, I am taking the mid-point\n",
    "    # as the axis of the swapping, about which I will swap elements at equal distances from axis element.\n",
    "    for i in range(0, len(arr)//2):\n",
    "        arr[i],arr[len(arr)-1-i] = arr[len(arr)-1-i],arr[i]\n",
    "    return arr\n",
    "\n",
    "arr = [1,2,4,5,6,7,8]\n",
    "reverseArrayInPlace(arr)\n"
   ]
  },
  {
   "cell_type": "markdown",
   "id": "50b71fbe-992f-41c8-a691-1e58b3686492",
   "metadata": {},
   "source": [
    "4. Given an array of integers, find the maximum element in an array  \r\n",
    "arr = [10, 5, 20, 8, 15  ]\r\n",
    "Output =   20"
   ]
  },
  {
   "cell_type": "code",
   "execution_count": 4,
   "id": "567c8959-4176-46f4-a712-c1c809f3bb76",
   "metadata": {},
   "outputs": [
    {
     "data": {
      "text/plain": [
       "8"
      ]
     },
     "execution_count": 4,
     "metadata": {},
     "output_type": "execute_result"
    }
   ],
   "source": [
    "def maxElementInArray(arr):\n",
    "    m = arr[0]\n",
    "    # Here I am performing a linear search for elements in the array that are greater than my current\n",
    "    # if the element is greater than my current then \n",
    "    for element in arr:\n",
    "        if element > m:\n",
    "            m = element\n",
    "    return m\n",
    "\n",
    "maxElementInArray(arr)"
   ]
  },
  {
   "cell_type": "markdown",
   "id": "52a8ba61-885b-4b30-8312-adf18d1b205a",
   "metadata": {},
   "source": [
    "5. Given a sorted array, remove the duplicate element without using any extra data structure.  \r\n",
    "arr = [1, 1, 2, 2, 2, 3, 3, 4, 4, 4, 5, 5  ]\r\n",
    "Output = [1, 2, 3, 4,   5]"
   ]
  },
  {
   "cell_type": "code",
   "execution_count": 5,
   "id": "aeb266e1-0ab7-4edc-af88-058fc9720524",
   "metadata": {},
   "outputs": [
    {
     "name": "stdout",
     "output_type": "stream",
     "text": [
      "[1, 1, 1, 2, 3, 4, 4, 4, 4, 5, 5, 5, 6, 6, 6, 6]  Cur: 0 ==> 1 Next: 1\n",
      "[1, 1, 2, 3, 4, 4, 4, 4, 5, 5, 5, 6, 6, 6, 6]  Cur: 0 ==> 1 Next: 1\n",
      "[1, 2, 3, 4, 4, 4, 4, 5, 5, 5, 6, 6, 6, 6]  Cur: 3 ==> 4 Next: 4\n",
      "[1, 2, 3, 4, 4, 4, 5, 5, 5, 6, 6, 6, 6]  Cur: 3 ==> 4 Next: 4\n",
      "[1, 2, 3, 4, 4, 5, 5, 5, 6, 6, 6, 6]  Cur: 3 ==> 4 Next: 4\n",
      "[1, 2, 3, 4, 5, 5, 5, 6, 6, 6, 6]  Cur: 4 ==> 5 Next: 5\n",
      "[1, 2, 3, 4, 5, 5, 6, 6, 6, 6]  Cur: 4 ==> 5 Next: 5\n",
      "[1, 2, 3, 4, 5, 6, 6, 6, 6]  Cur: 5 ==> 6 Next: 6\n",
      "[1, 2, 3, 4, 5, 6, 6, 6]  Cur: 5 ==> 6 Next: 6\n",
      "[1, 2, 3, 4, 5, 6, 6]  Cur: 5 ==> 6 Next: 6\n"
     ]
    },
    {
     "data": {
      "text/plain": [
       "[1, 2, 3, 4, 5, 6]"
      ]
     },
     "execution_count": 5,
     "metadata": {},
     "output_type": "execute_result"
    }
   ],
   "source": [
    "def removeDuplicatesInSortedArray(arr):\n",
    "\n",
    "    # Here I have innitialized 2 pointer, \n",
    "    # 'current' which is initially pointing to first element,\n",
    "    # 'next' which is pointing to the next element \n",
    "    cur = 0\n",
    "    next = cur+1\n",
    "\n",
    "    # Here I am starting from the begining of the array and using my current element, I make a \n",
    "    # a equality comparison with the next element, if the next element is the same as my current\n",
    "    # I remove the next element, I repeat this till the next element becomes the next greater element \n",
    "    # in the sorrted array.\n",
    "    # Once there is a change in the cur and next, I reinitialize the current and next pointer.\n",
    "    # This whole process repeats till the next pointer is less than the length of the arr. \n",
    "    while next < len(arr):\n",
    "        while arr[cur] == arr[next]:\n",
    "            print(arr,f\" Cur: {cur} ==> {arr[cur]} Next: {next}\")\n",
    "            arr.remove(next)\n",
    "            if next >= len(arr):\n",
    "                break\n",
    "        cur = cur + 1\n",
    "        next = cur + 1 \n",
    "        \n",
    "    return arr\n",
    "            \n",
    "\n",
    "arr = [1,1,1,2,3,4,4,4,4,5,5,5,6,6,6,6]\n",
    "removeDuplicatesInSortedArray(arr)"
   ]
  },
  {
   "cell_type": "code",
   "execution_count": null,
   "id": "70ef478d-08f5-4a14-8601-e1926ad85559",
   "metadata": {},
   "outputs": [],
   "source": []
  },
  {
   "cell_type": "code",
   "execution_count": null,
   "id": "eee526ca-e8c2-476f-81da-d2550f56ae45",
   "metadata": {},
   "outputs": [],
   "source": []
  }
 ],
 "metadata": {
  "kernelspec": {
   "display_name": "Python 3 (ipykernel)",
   "language": "python",
   "name": "python3"
  },
  "language_info": {
   "codemirror_mode": {
    "name": "ipython",
    "version": 3
   },
   "file_extension": ".py",
   "mimetype": "text/x-python",
   "name": "python",
   "nbconvert_exporter": "python",
   "pygments_lexer": "ipython3",
   "version": "3.12.0"
  },
  "widgets": {
   "application/vnd.jupyter.widget-state+json": {
    "state": {},
    "version_major": 2,
    "version_minor": 0
   }
  }
 },
 "nbformat": 4,
 "nbformat_minor": 5
}
