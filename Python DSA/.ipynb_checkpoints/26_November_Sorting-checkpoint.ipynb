{
 "cells": [
  {
   "cell_type": "markdown",
   "id": "c55888b7-37cf-4c53-993a-27cf27db9da7",
   "metadata": {},
   "source": [
    "# Sorting Assignment"
   ]
  },
  {
   "cell_type": "markdown",
   "id": "4aa0faed-6dd5-485d-acfc-6c8b002e5432",
   "metadata": {},
   "source": [
    "<b>Rahul Jauhari</b>"
   ]
  },
  {
   "cell_type": "markdown",
   "id": "bd872677-7b15-4739-8dcd-51537ffbed6d",
   "metadata": {},
   "source": [
    "Problem 1. Given an array of n numbers, give an algorithm which gives the element appearing maximum\n",
    "number of times?"
   ]
  },
  {
   "cell_type": "code",
   "execution_count": 6,
   "id": "569f9d43-c572-4c4f-a7c6-d6c61d6afdf3",
   "metadata": {},
   "outputs": [
    {
     "name": "stdout",
     "output_type": "stream",
     "text": [
      "{1: 3, 2: 3, 4: 2, 5: 1, 6: 1, 7: 4}\n"
     ]
    },
    {
     "data": {
      "text/plain": [
       "7"
      ]
     },
     "execution_count": 6,
     "metadata": {},
     "output_type": "execute_result"
    }
   ],
   "source": [
    "def modeFromArray(arr):\n",
    "    score = {}\n",
    "    for element in arr:\n",
    "        if element in score.keys():\n",
    "            score[element] += 1\n",
    "        else:\n",
    "            score[element] = 1\n",
    "    print(score)\n",
    "\n",
    "    maxElement,frequency = None,0\n",
    "    for key,value in score.items():\n",
    "        if value > frequency or frequency == None:\n",
    "            maxElement, frequency = key,value\n",
    "    \n",
    "    return maxElement\n",
    "\n",
    "arr = [1,2,4,4,5,6,7,7,7,7,1,1,2,2]\n",
    "modeFromArray(arr)\n",
    "        "
   ]
  },
  {
   "cell_type": "markdown",
   "id": "62ff6d11-c47a-4e32-b941-c9dbcf38187d",
   "metadata": {},
   "source": [
    "Problem 2 : We are given a list of n-1 integers and these integers are in the range of 1 to n . There are no\r\n",
    "duplicates in the list. One of the integers is missing in the list. Give an algorithm to find that element Ex:\r\n",
    "[1,2,4,6,3,7,8] 5 is the missing num."
   ]
  },
  {
   "cell_type": "code",
   "execution_count": 40,
   "id": "5ac78d0a-13d4-4d56-bbce-18ac1dd5ac66",
   "metadata": {},
   "outputs": [
    {
     "name": "stdout",
     "output_type": "stream",
     "text": [
      "{8, 1, 2, 7}\n",
      "{1, 2, 3, 4, 5, 6, 7, 8}\n",
      "Sequence has the following missing values: {3, 4, 5, 6}\n"
     ]
    }
   ],
   "source": [
    "def isSequenceComplete(arr,n):\n",
    "    set1 = set(arr)\n",
    "    set2 = set([i for i in range(1,n)])\n",
    "    print(set1)\n",
    "    print(set2)\n",
    "    if set1.intersection(set2) == set2:\n",
    "        print(\"Sequence has no missing values...\")\n",
    "    else:\n",
    "        print(f\"Sequence has the following missing values: {set2.difference(set1)}\")\n",
    "        \n",
    "    \n",
    "\n",
    "isSequenceComplete([1,2,7,8],9)"
   ]
  },
  {
   "cell_type": "markdown",
   "id": "59ef272e-7fe3-454b-b956-82c764456846",
   "metadata": {},
   "source": [
    "Problem 3 : Given an array of n positive numbers. All numbers occurs even number of times except 1 which\r\n",
    "occurs odd number of times. Find that number in O(n) time and O(1) space. Ex: [1,2,3,2,3,1,3]. 3 is repeats odd\r\n",
    "times."
   ]
  },
  {
   "cell_type": "code",
   "execution_count": 41,
   "id": "cb9e62b1-8a31-497b-ac2a-cb303ac2b903",
   "metadata": {},
   "outputs": [
    {
     "data": {
      "text/plain": [
       "3"
      ]
     },
     "execution_count": 41,
     "metadata": {},
     "output_type": "execute_result"
    }
   ],
   "source": [
    "def numberThatOccursOddTimes(arr):\n",
    "    score = {}\n",
    "    for element in arr:\n",
    "        if element in score.keys():\n",
    "            score[element] += 1\n",
    "        else:\n",
    "            score[element] = 1\n",
    "\n",
    "    for key,value in score.items():\n",
    "        if value % 2 != 0:\n",
    "            return key\n",
    "\n",
    "numberThatOccursOddTimes([1,1,2,3,2,3,4,4,3])"
   ]
  },
  {
   "cell_type": "markdown",
   "id": "54f229ac-8c48-415f-8b6f-2ac3c84a09a9",
   "metadata": {},
   "source": [
    "Problem 4 : Given an array of n elements. Find two elements in the array such that their sum is equal to given\n",
    "element K."
   ]
  },
  {
   "cell_type": "code",
   "execution_count": 46,
   "id": "f176d8fb-5cbf-4322-9fe0-f1630a14f8c6",
   "metadata": {},
   "outputs": [
    {
     "data": {
      "text/plain": [
       "(3, 69)"
      ]
     },
     "execution_count": 46,
     "metadata": {},
     "output_type": "execute_result"
    }
   ],
   "source": [
    "def findPairEqualToK(arr,k):\n",
    "    arr.sort()\n",
    "    i = 0\n",
    "    j = len(arr)-1\n",
    "    s = 0\n",
    "\n",
    "    while i != j:\n",
    "        if arr[i] + arr[j] < k:\n",
    "            i += 1\n",
    "        elif arr[i] + arr[j] > k:\n",
    "            j -= 1\n",
    "        else:\n",
    "            break\n",
    "    return arr[i],arr[j]\n",
    "\n",
    "findPairEqualToK([1,2,3,4,5,80,50,69,18],72)"
   ]
  },
  {
   "cell_type": "markdown",
   "id": "a626b7e7-0147-44fc-9735-07f7bb8144dd",
   "metadata": {},
   "source": [
    "Problem 5 : Given an array of both positive and negative numbers, find two numbers such that their sum is\n",
    "closest to 0. Ex: [ 1 ,60 ,-10, 70, -80,85]. Ans : -80,85."
   ]
  },
  {
   "cell_type": "code",
   "execution_count": 57,
   "id": "4a010611-e1e4-4a9a-8f47-fbeb6ccd25f2",
   "metadata": {},
   "outputs": [
    {
     "data": {
      "text/plain": [
       "(-80, 85)"
      ]
     },
     "execution_count": 57,
     "metadata": {},
     "output_type": "execute_result"
    }
   ],
   "source": [
    "def findPairClosestToZero(arr):\n",
    "    arr.sort()\n",
    "\n",
    "    i = 0\n",
    "    j = len(arr) - 1\n",
    "    \n",
    "    min_l = i\n",
    "    min_r = j\n",
    "    min_sum = float('-inf')\n",
    "\n",
    "    while i < j:\n",
    "        sum = arr[i] + arr[j]\n",
    "        if(abs(sum) < abs(min_sum)):\n",
    "            min_sum = sum\n",
    "            min_l = i\n",
    "            min_r = j\n",
    "        elif sum < 0:\n",
    "            i += 1\n",
    "        else:\n",
    "            j -= 1\n",
    "    \n",
    "    return arr[min_l],arr[min_r]\n",
    "\n",
    "findPairClosestToZero([1,60,-10,70,-80,85])"
   ]
  },
  {
   "cell_type": "markdown",
   "id": "ee54f9c1-8711-4abf-8d1b-bfb923a1648b",
   "metadata": {},
   "source": [
    "Problem 6 : Given an array of n elements . Find three elements such that their sum is equal to the given\r\n",
    "number."
   ]
  },
  {
   "cell_type": "code",
   "execution_count": null,
   "id": "1f94469c-b8ea-4d96-909b-9729e0bfd387",
   "metadata": {},
   "outputs": [],
   "source": []
  }
 ],
 "metadata": {
  "kernelspec": {
   "display_name": "Python 3 (ipykernel)",
   "language": "python",
   "name": "python3"
  },
  "language_info": {
   "codemirror_mode": {
    "name": "ipython",
    "version": 3
   },
   "file_extension": ".py",
   "mimetype": "text/x-python",
   "name": "python",
   "nbconvert_exporter": "python",
   "pygments_lexer": "ipython3",
   "version": "3.12.0"
  },
  "widgets": {
   "application/vnd.jupyter.widget-state+json": {
    "state": {},
    "version_major": 2,
    "version_minor": 0
   }
  }
 },
 "nbformat": 4,
 "nbformat_minor": 5
}
