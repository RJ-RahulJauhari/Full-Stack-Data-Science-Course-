{
 "cells": [
  {
   "cell_type": "markdown",
   "id": "01572cdc-1754-4294-8364-2a0bcb118b58",
   "metadata": {},
   "source": [
    "**Python Basics Variable**"
   ]
  },
  {
   "cell_type": "markdown",
   "id": "053ac647-5977-496e-b932-9cff058ea633",
   "metadata": {},
   "source": [
    "1. Declare two variables, `x` and `y`, and assign them integer values. Swap the values of these variables without using any temporary variable."
   ]
  },
  {
   "cell_type": "code",
   "execution_count": 1,
   "id": "273abf96-d810-4467-9f13-8189d6fe229d",
   "metadata": {},
   "outputs": [
    {
     "name": "stdout",
     "output_type": "stream",
     "text": [
      "Before Swap:  1 2\n",
      "After Swap:  2 1\n"
     ]
    }
   ],
   "source": [
    "# declared 2 variables\n",
    "x,y = 1,2\n",
    "print(\"Before Swap: \",x,y)\n",
    "# swapping without using temp variable\n",
    "x,y = y,x\n",
    "print(\"After Swap: \",x,y)"
   ]
  },
  {
   "cell_type": "markdown",
   "id": "8b9ed1f1-ec72-41c6-ade2-d1578d03efc3",
   "metadata": {},
   "source": [
    "2. Create a program that calculates the area of a rectangle. Take the length and width as inputs from the user and store them in variables. Calculate and display the area."
   ]
  },
  {
   "cell_type": "code",
   "execution_count": 2,
   "id": "025d6459-267e-410f-87b4-9898541512d3",
   "metadata": {},
   "outputs": [
    {
     "name": "stdin",
     "output_type": "stream",
     "text": [
      "Enter Length:  6\n",
      "Enter Width:  9\n"
     ]
    },
    {
     "name": "stdout",
     "output_type": "stream",
     "text": [
      "Area of the reactangle is:  54\n"
     ]
    }
   ],
   "source": [
    "# taking width and length inputs \n",
    "l = int(input(\"Enter Length: \"))\n",
    "w = int(input(\"Enter Width: \"))\n",
    "\n",
    "# computing the area\n",
    "area = l*w\n",
    "\n",
    "print(\"Area of the reactangle is: \",area)"
   ]
  },
  {
   "cell_type": "markdown",
   "id": "6f518509-4002-4650-967f-f6ad9bd28b53",
   "metadata": {},
   "source": [
    "3. Write a Python program that converts temperatures from Celsius to Fahrenheit. Take the temperature in Celsius as input, store it in a variable, convert it to Fahrenheit, and display the result."
   ]
  },
  {
   "cell_type": "code",
   "execution_count": 4,
   "id": "1fe8f122-e9d6-4461-b8de-e2cdd03bc5fe",
   "metadata": {},
   "outputs": [
    {
     "name": "stdin",
     "output_type": "stream",
     "text": [
      "Enter temperature in Celsius 23\n"
     ]
    },
    {
     "name": "stdout",
     "output_type": "stream",
     "text": [
      "Fahrenheit Temperature is:  73.4\n"
     ]
    }
   ],
   "source": [
    "# taking input in celsius \n",
    "\n",
    "c = float(input(\"Enter temperature in Celsius\"))\n",
    "\n",
    "f = float(c*(9/5)+32)\n",
    "\n",
    "print(\"Fahrenheit Temperature is: \", f)"
   ]
  },
  {
   "cell_type": "markdown",
   "id": "bd77716b-757c-45af-aff9-7697459876b1",
   "metadata": {},
   "source": [
    "**String Based Questions**"
   ]
  },
  {
   "cell_type": "markdown",
   "id": "10b51b00-d21d-4844-b40c-927dd3d5a7a1",
   "metadata": {},
   "source": [
    "1. Write a Python program that takes a string as input and prints the length of the string."
   ]
  },
  {
   "cell_type": "code",
   "execution_count": 6,
   "id": "02381f7e-c790-4105-80d1-9b0a0b79aacc",
   "metadata": {},
   "outputs": [
    {
     "name": "stdin",
     "output_type": "stream",
     "text": [
      "Enter your string:  jhdfehf\n"
     ]
    },
    {
     "name": "stdout",
     "output_type": "stream",
     "text": [
      "The length of the entered string is:  7\n"
     ]
    }
   ],
   "source": [
    "inp = input(\"Enter your string: \")\n",
    "print(\"The length of the entered string is: \",len(inp))"
   ]
  },
  {
   "cell_type": "markdown",
   "id": "a7931935-0c50-44e3-891c-183934465eff",
   "metadata": {},
   "source": [
    "2. Create a program that takes a sentence from the user and counts the number of vowels (a, e, i, o, u) in the string."
   ]
  },
  {
   "cell_type": "code",
   "execution_count": 1,
   "id": "2cdd655a-084b-4140-83b9-b33bdcfcd4bc",
   "metadata": {},
   "outputs": [
    {
     "name": "stdin",
     "output_type": "stream",
     "text": [
      "Enter a sentence:  kdjsfejfbwkjdhwhweiou\n"
     ]
    },
    {
     "name": "stdout",
     "output_type": "stream",
     "text": [
      "5  no. of vowels present in sentence\n"
     ]
    }
   ],
   "source": [
    "s = input(\"Enter a sentence: \")\n",
    "\n",
    "vowels = ['a','e','i','o','u']\n",
    "\n",
    "count = 0\n",
    "\n",
    "for char in s:\n",
    "    if char in vowels:\n",
    "        count += 1\n",
    "\n",
    "print(count,\" vowels present in sentence\")"
   ]
  },
  {
   "cell_type": "markdown",
   "id": "cd0c575f-939c-4832-b015-d2a8a4b395a3",
   "metadata": {},
   "source": [
    "3. Given a string, reverse the order of characters using string slicing and print the reversed string."
   ]
  },
  {
   "cell_type": "code",
   "execution_count": 2,
   "id": "c071ac67-57e6-449a-9615-5eefaf91ea3d",
   "metadata": {},
   "outputs": [
    {
     "name": "stdin",
     "output_type": "stream",
     "text": [
      "Enter String:  skjfdbhjbfe\n"
     ]
    },
    {
     "name": "stdout",
     "output_type": "stream",
     "text": [
      "Reversed:  efbjhbdfjks\n"
     ]
    }
   ],
   "source": [
    "s = input(\"Enter String: \")\n",
    "print(\"Reversed: \",s[::-1])"
   ]
  },
  {
   "cell_type": "markdown",
   "id": "c43bec64-502b-4c93-a8ad-71ffe4b63304",
   "metadata": {},
   "source": [
    "4. Write a program that takes a string as input and checks if it is a palindrome (reads the same forwards and backwards)."
   ]
  },
  {
   "cell_type": "code",
   "execution_count": 3,
   "id": "c8985ae8-9518-459d-b123-f0e33be2348b",
   "metadata": {},
   "outputs": [
    {
     "name": "stdin",
     "output_type": "stream",
     "text": [
      "Enter String:  racecar\n"
     ]
    },
    {
     "name": "stdout",
     "output_type": "stream",
     "text": [
      "True\n"
     ]
    }
   ],
   "source": [
    "def isPalindrome(str1):\n",
    "    return str1 == str1[::-1]\n",
    "\n",
    "s = input(\"Enter String: \")\n",
    "\n",
    "print(isPalindrome(s))\n"
   ]
  },
  {
   "cell_type": "markdown",
   "id": "b76ec154-41c2-45a9-87c2-9e6c8238841b",
   "metadata": {},
   "source": [
    "5. Create a program that takes a string as input and removes all the spaces from it. Print the modified string without spaces."
   ]
  },
  {
   "cell_type": "code",
   "execution_count": 4,
   "id": "4d8f67a0-5acb-420a-9386-0edc1ff96ffe",
   "metadata": {},
   "outputs": [
    {
     "name": "stdin",
     "output_type": "stream",
     "text": [
      "Enter String:  Hi my name is Rahul Jauhari\n"
     ]
    },
    {
     "name": "stdout",
     "output_type": "stream",
     "text": [
      "HimynameisRahulJauhari has all white spaces removed\n"
     ]
    }
   ],
   "source": [
    "s = input(\"Enter String: \")\n",
    "\n",
    "res_str = ''\n",
    "\n",
    "for char in s:\n",
    "    if char == ' ':\n",
    "        continue\n",
    "    else:\n",
    "        res_str += char\n",
    "\n",
    "print(res_str, \"has all white spaces removed\")"
   ]
  }
 ],
 "metadata": {
  "kernelspec": {
   "display_name": "Python 3 (ipykernel)",
   "language": "python",
   "name": "python3"
  },
  "language_info": {
   "codemirror_mode": {
    "name": "ipython",
    "version": 3
   },
   "file_extension": ".py",
   "mimetype": "text/x-python",
   "name": "python",
   "nbconvert_exporter": "python",
   "pygments_lexer": "ipython3",
   "version": "3.10.8"
  }
 },
 "nbformat": 4,
 "nbformat_minor": 5
}
