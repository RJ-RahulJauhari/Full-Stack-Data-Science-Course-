{
 "cells": [
  {
   "cell_type": "markdown",
   "id": "0a1900ab-d6ae-4f8f-937e-e95dd5a65180",
   "metadata": {},
   "source": [
    "# OOP Assignment \n",
    "**By: Rahul Jauhari**"
   ]
  },
  {
   "cell_type": "markdown",
   "id": "fb4e9e13-e163-4220-8da4-51e80c603e1a",
   "metadata": {},
   "source": [
    "## Constructor "
   ]
  },
  {
   "cell_type": "markdown",
   "id": "803ccf3a-68cd-4374-8c9e-1820283e846f",
   "metadata": {},
   "source": [
    "1. What is a constructor in Python? Explain its purpose and usage."
   ]
  },
  {
   "cell_type": "markdown",
   "id": "b10b05f3-4562-4950-adcc-90e779a8271e",
   "metadata": {},
   "source": [
    "A constructor is a special function in python that is used to intialise an object of a class, when ever a object is instantiated the constructor is called first which initializes any data members of the class object. In python the constructor is called as \"__init__\" method that we define when we create a class."
   ]
  },
  {
   "cell_type": "code",
   "execution_count": 2,
   "id": "1c0d54bc-d4f0-48ba-9b30-c625b9a25127",
   "metadata": {},
   "outputs": [
    {
     "name": "stdout",
     "output_type": "stream",
     "text": [
      "value1\n",
      "value2\n"
     ]
    }
   ],
   "source": [
    "class MyClass:\n",
    "    def __init__(self, arg1, arg2):\n",
    "        self.attribute1 = arg1\n",
    "        self.attribute2 = arg2\n",
    "\n",
    "my_instance = MyClass(\"value1\", \"value2\")\n",
    "print(my_instance.attribute1)\n",
    "print(my_instance.attribute2)"
   ]
  },
  {
   "cell_type": "markdown",
   "id": "0d7dc10d-36cd-4a90-be34-8c904409c433",
   "metadata": {},
   "source": [
    "As we cam see above values of atribute one and two are defined as given in constructor."
   ]
  },
  {
   "cell_type": "markdown",
   "id": "9c0f7190-b8ff-49ce-af13-b0c377050387",
   "metadata": {},
   "source": [
    "2. Differentiate between a parameterless constructor and a parameterized constructor in Python."
   ]
  },
  {
   "cell_type": "markdown",
   "id": "df5a42c3-d3f7-4ebe-a88b-ec0a8b925bb5",
   "metadata": {},
   "source": [
    "**Parameterless Constructor**\r\n",
    "\r\n",
    "A parameterless constructor, also known as a default constructor, does not take any parameters other than the self parameter.\r\n",
    "\r\n",
    "It is defined with the \"__init__\" method and initializes object attributes to default values or sets up the object's initial state without taking any external input.\r\n",
    "\r\n",
    "A parameterless constructor is typically used when you want to provide default values for an object's attribu\n",
    "t**es.\r",
    "m\r\n",
    "\r\n",
    "Para etnized Co**structor:\r\n",
    "\r\n",
    "A parameterized constructor, as the name suggests, takes one or more parameters in addition to the self parameter.\r\n",
    "\r\n",
    "It allows you to pass specific values or data when creating an instance of the class, and these values are used to initialize the object's attributes.\r\n",
    "\r\n",
    "Parameterized constructors are useful when you want to customize the initial state of an object based on the provided input.put.tes."
   ]
  },
  {
   "cell_type": "markdown",
   "id": "19f2bb9c-2f77-4f9e-bcf4-9077331742e0",
   "metadata": {},
   "source": [
    "3. How do you define a constructor in a Python class? Provide an example."
   ]
  },
  {
   "cell_type": "markdown",
   "id": "6ffe21cb-fa4d-45b2-88dd-33bf525714c5",
   "metadata": {},
   "source": [
    "In Python, you define a constructor in a class using a special method named __init__. The __init__ method is automatically called when an object of the class is created, and it's used to initialize the object's attributes or set up its initial state. Here's how you define a constructor in a Python class:"
   ]
  },
  {
   "cell_type": "code",
   "execution_count": 3,
   "id": "43bda11e-1a1e-4c8d-92cb-c6d483409369",
   "metadata": {},
   "outputs": [],
   "source": [
    "# Same example as above\n",
    "class MyClass:\n",
    "    def __init__(self, arg1, arg2):\n",
    "        self.attribute1 = arg1\n",
    "        self.attribute2 = arg2\n",
    "\n",
    "my_instance = MyClass(\"value1\", \"value2\")\n"
   ]
  },
  {
   "cell_type": "markdown",
   "id": "c399797d-fd8b-4895-ae6a-965abfd8274f",
   "metadata": {},
   "source": [
    "4. Explain the `__init__` method in Python and its role in constructors."
   ]
  },
  {
   "cell_type": "markdown",
   "id": "fea951bf-37a5-4a11-ae1a-7afd677d754c",
   "metadata": {},
   "source": [
    "In Python, the __init__ method is a special method as it serves as the constructor for a class. The __init__ method is automatically called when an object of the class is created. Its primary role is to initialize the attributes (variables) of the object, providing them with initial values or setting up the initial state of the object."
   ]
  },
  {
   "cell_type": "markdown",
   "id": "b17e236d-3e51-48a3-9a8d-f8a327b38b05",
   "metadata": {},
   "source": [
    "5. In a class named `Person`, create a constructor that initializes the `name` and `age` attributes. Provide an example of creating an object of this class."
   ]
  },
  {
   "cell_type": "code",
   "execution_count": 5,
   "id": "9667c24d-b808-4388-8af5-6784cfe57192",
   "metadata": {},
   "outputs": [
    {
     "name": "stdout",
     "output_type": "stream",
     "text": [
      "Name:  Rahul\n",
      "Age:  21\n"
     ]
    }
   ],
   "source": [
    "class Person:\n",
    "    def __init__(self,name,age):\n",
    "        self.name = name\n",
    "        self.age = age\n",
    "\n",
    "\n",
    "obj = Person(\"Rahul\",21)\n",
    "print(\"Name: \",obj.name)\n",
    "print(\"Age: \",obj.age)"
   ]
  },
  {
   "cell_type": "markdown",
   "id": "446399b3-b5df-4bc2-bc29-a8b8b496073b",
   "metadata": {},
   "source": [
    "6. How can you call a constructor explicitly in Python? Give an example."
   ]
  },
  {
   "cell_type": "markdown",
   "id": "d8e1faa1-5378-4a48-bd08-ce19042b05a4",
   "metadata": {},
   "source": [
    "We can all constructors explicitly by using the \"super()\" function, we can use this only when wwe have a child class that is extending from the class who's constructor we want to call explicitly. This ensures that both the parent and child constructors are executed when creating an instance of child class. As shown below:"
   ]
  },
  {
   "cell_type": "code",
   "execution_count": 7,
   "id": "b5cdd993-e90b-40c1-bc88-2f599f081f88",
   "metadata": {},
   "outputs": [
    {
     "name": "stdout",
     "output_type": "stream",
     "text": [
      "parent_value\n",
      "child_value\n"
     ]
    }
   ],
   "source": [
    "class ParentClass:\n",
    "    def __init__(self, parent_arg):\n",
    "        self.parent_attribute = parent_arg\n",
    "\n",
    "class ChildClass(ParentClass):\n",
    "    def __init__(self, parent_arg, child_arg):\n",
    "        super().__init__(parent_arg)\n",
    "        self.child_attribute = child_arg\n",
    "\n",
    "child_instance = ChildClass(\"parent_value\", \"child_value\")\n",
    "\n",
    "print(child_instance.parent_attribute)\n",
    "print(child_instance.child_attribute)  \n"
   ]
  },
  {
   "cell_type": "markdown",
   "id": "61b74c94-76c8-4313-a445-421f939d4667",
   "metadata": {},
   "source": [
    "We usually use the super keyword, to initialize the parent attributes as the child object has all the properties of its parent, and if the parent attributes are not defined then their could be problems while accessing the value of a parent attribute using the child object, and thus breaking the property of inheritance. "
   ]
  },
  {
   "cell_type": "markdown",
   "id": "05f41772-6d35-48e3-b6e0-4c3b28fbb389",
   "metadata": {},
   "source": [
    "7. What is the significance of the `self` parameter in Python constructors? Explain with an example."
   ]
  },
  {
   "cell_type": "markdown",
   "id": "680a78f8-0352-4db9-8e0f-bda7e8bb8e54",
   "metadata": {},
   "source": [
    "The self parameter in Python constructors and methods is a reference to the instance of the class, which allows you to access and manipulate the object's attributes and methods. The self parameter is used to distinguish instance variables from local variables within the method."
   ]
  },
  {
   "cell_type": "code",
   "execution_count": 8,
   "id": "1ca8d83e-05bd-4164-8890-59e139d4ee25",
   "metadata": {},
   "outputs": [
    {
     "name": "stdout",
     "output_type": "stream",
     "text": [
      "attribute1: value1\n",
      "attribute2: value2\n"
     ]
    }
   ],
   "source": [
    "class MyClass:\n",
    "    def __init__(self, arg1, arg2):\n",
    "        self.attribute1 = arg1\n",
    "        self.attribute2 = arg2\n",
    "\n",
    "    def display_attributes(self):\n",
    "        print(f\"attribute1: {self.attribute1}\")\n",
    "        print(f\"attribute2: {self.attribute2}\")\n",
    "\n",
    "my_instance = MyClass(\"value1\", \"value2\")\n",
    "\n",
    "my_instance.display_attributes()"
   ]
  },
  {
   "cell_type": "markdown",
   "id": "f4711a9d-060f-4a42-bb63-6fb7873afc86",
   "metadata": {},
   "source": [
    "8. Discuss the concept of default constructors in Python. When are they used?"
   ]
  },
  {
   "cell_type": "markdown",
   "id": "bd8e9a9b-4648-47ae-9a54-f794bb47ff1b",
   "metadata": {},
   "source": [
    "Default constructors in Python can be achieved by defining a parameterless constructor, which is automatically called when an instance of a class is created without passing any arguments. In essence, the parameterless constructor serves as a default constructor."
   ]
  },
  {
   "cell_type": "code",
   "execution_count": 9,
   "id": "aba7d0ab-7d2a-4716-8d24-8817859a076f",
   "metadata": {},
   "outputs": [],
   "source": [
    "class MyClass:\n",
    "    def __init__(self):\n",
    "        self.attribute1 = \"default_value1\"\n",
    "        self.attribute2 = 0"
   ]
  },
  {
   "cell_type": "markdown",
   "id": "4db09797-6c57-44bb-b187-71d0c74e9e3b",
   "metadata": {},
   "source": [
    "9. Create a Python class called `Rectangle` with a constructor that initializes the `width` and `height` attributes. Provide a method to calculate the area of the rectangle"
   ]
  },
  {
   "cell_type": "code",
   "execution_count": 12,
   "id": "e84fc996-fa61-4106-bec7-50b763edcf5c",
   "metadata": {},
   "outputs": [
    {
     "name": "stdout",
     "output_type": "stream",
     "text": [
      "The area of the rectangle is 35\n"
     ]
    }
   ],
   "source": [
    "class Rectangle:\n",
    "    def __init__(self, width, height):\n",
    "        self.width = width\n",
    "        self.height = height\n",
    "\n",
    "    def calculate_area(self):\n",
    "        return self.width * self.height\n",
    "\n",
    "my_rectangle = Rectangle(5, 7)\n",
    "\n",
    "area = my_rectangle.calculate_area()\n",
    "print(f\"The area of the rectangle is {area}\")"
   ]
  },
  {
   "cell_type": "markdown",
   "id": "9d377498-02ee-490a-9f5f-2f1fa6ef6d43",
   "metadata": {},
   "source": [
    "10. How can you have multiple constructors in a Python class? Explain with an example."
   ]
  },
  {
   "cell_type": "markdown",
   "id": "c7e69aba-734a-4231-9b07-66f9be648a83",
   "metadata": {},
   "source": [
    "We can have multiple constructors by using default arguments and by creating methods that serve as alternative constructors by using the classmethod decorator"
   ]
  },
  {
   "cell_type": "code",
   "execution_count": 13,
   "id": "f7dc56bf-02d2-4151-9afe-1ff47fda7b5d",
   "metadata": {},
   "outputs": [
    {
     "name": "stdout",
     "output_type": "stream",
     "text": [
      "value1 value2\n",
      "default_value1 default_value2\n"
     ]
    }
   ],
   "source": [
    "class MyClass:\n",
    "    def __init__(self, arg1, arg2):\n",
    "        self.attribute1 = arg1\n",
    "        self.attribute2 = arg2\n",
    "\n",
    "    @classmethod\n",
    "    def from_default(cls):\n",
    "        return cls(\"default_value1\", \"default_value2\")\n",
    "\n",
    "instance1 = MyClass(\"value1\", \"value2\")\n",
    "\n",
    "instance2 = MyClass.from_default()\n",
    "\n",
    "print(instance1.attribute1, instance1.attribute2)  \n",
    "print(instance2.attribute1, instance2.attribute2)  "
   ]
  },
  {
   "cell_type": "markdown",
   "id": "20d6ec1c-6ee7-4c99-855c-698fdcb1d764",
   "metadata": {},
   "source": [
    "11. What is method overloading, and how is it related to constructors in Python?"
   ]
  },
  {
   "cell_type": "markdown",
   "id": "7816f936-4daf-416e-9a9f-7bb5c8f7933d",
   "metadata": {},
   "source": [
    "Method overloading is a concept in object-oriented programming that allows you to define multiple methods in a class with the same name but different parameter lists. Python provides flexibility in constructor arguments by allowing you to provide default values for parameters or to use alternative constructor methods such as the \"@classmethod\" decorator used in the previous question"
   ]
  },
  {
   "cell_type": "code",
   "execution_count": 14,
   "id": "819aa0ef-7ad4-4582-b90c-40f6c09fd960",
   "metadata": {},
   "outputs": [
    {
     "name": "stdout",
     "output_type": "stream",
     "text": [
      "default value\n",
      "value2\n"
     ]
    }
   ],
   "source": [
    "class MyClass:\n",
    "    def __init__(self,arg1,arg2=\"default value\"):\n",
    "        self.attribute1 = arg1\n",
    "        self.attribute2 = arg2\n",
    "\n",
    "    @classmethod\n",
    "    def from_def(cls):\n",
    "        return cls(\"def1\",\"def2\")\n",
    "\n",
    "instance1 = MyClass(\"value1\")\n",
    "\n",
    "instance2 = MyClass(\"value1\", \"value2\")\n",
    "\n",
    "print(instance1.attribute2)\n",
    "print(instance2.attribute2)"
   ]
  },
  {
   "cell_type": "markdown",
   "id": "17099cef-8576-45d5-852d-4c91822f94ae",
   "metadata": {},
   "source": [
    "12. Explain the use of the `super()` function in Python constructors. Provide an example."
   ]
  },
  {
   "cell_type": "markdown",
   "id": "a0abcbe0-2825-4042-9578-bfd82a29daae",
   "metadata": {},
   "source": [
    "The super() function is used in constructors to call the constructor of a parent class. This is particularly useful when you have a subclass and want to extend the behavior of the parent class while ensuring that the parent class's constructor is executed. The super() function allows you to access and invoke the methods or constructors of the parent class within the context of the child class."
   ]
  },
  {
   "cell_type": "code",
   "execution_count": 16,
   "id": "e0aa2f3c-b074-4d73-b168-209c4da9af9b",
   "metadata": {},
   "outputs": [
    {
     "name": "stdout",
     "output_type": "stream",
     "text": [
      "parent_value\n",
      "child_value\n"
     ]
    }
   ],
   "source": [
    "class ParentClass:\n",
    "    def __init__(self, parent_arg):\n",
    "        self.parent_attribute = parent_arg\n",
    "\n",
    "class ChildClass(ParentClass):\n",
    "    def __init__(self, parent_arg, child_arg):\n",
    "        super().__init__(parent_arg)\n",
    "        self.child_attribute = child_arg\n",
    "\n",
    "child_instance = ChildClass(\"parent_value\", \"child_value\")\n",
    "\n",
    "print(child_instance.parent_attribute) \n",
    "print(child_instance.child_attribute)  \n"
   ]
  },
  {
   "cell_type": "markdown",
   "id": "3077c7c1-34e4-49d5-92b8-390f4c36ce0d",
   "metadata": {},
   "source": [
    "13. Create a class called `Book` with a constructor that initializes the `title`, `author`, and `published_year` attributes. Provide a method to display book details."
   ]
  },
  {
   "cell_type": "code",
   "execution_count": 17,
   "id": "ebecc871-3c3a-4044-a304-b67bf6b9f5c1",
   "metadata": {},
   "outputs": [
    {
     "name": "stdout",
     "output_type": "stream",
     "text": [
      "Title: Lightning Theif\n",
      "Author: Rahul Jauhari\n",
      "Published Year: 2003\n"
     ]
    }
   ],
   "source": [
    "class Book:\n",
    "    def __init__(self, title, author, published_year):\n",
    "        self.title = title\n",
    "        self.author = author\n",
    "        self.published_year = published_year\n",
    "\n",
    "    def display_details(self):\n",
    "        print(\"Title: \" + self.title)\n",
    "        print(\"Author: \" + self.author)\n",
    "        print(\"Published Year: \" + str(self.published_year))\n",
    "\n",
    "book1 = Book(\"Lightning Theif\", \"Rahul Jauhari\", 2003)\n",
    "\n",
    "book1.display_details()\n"
   ]
  },
  {
   "cell_type": "markdown",
   "id": "3719a498-4ebe-414d-8b70-c1330f1627ea",
   "metadata": {},
   "source": [
    "14. Discuss the differences between constructors and regular methods in Python classes."
   ]
  },
  {
   "cell_type": "markdown",
   "id": "a737ad89-ccc6-4c8f-8c66-394b027b1767",
   "metadata": {},
   "source": [
    "Constructors, with the special name __init__, are responsible for initializing the attributes of an object when it is created, preparing it for use, and are automatically called at the object's instantiation. In contrast, regular methods can have any valid method name and define the behaviors or actions an object can perform. They require explicit invocation and can take additional parameters to execute specific tasks, often returning values as part of their functionality. While constructors establish the initial state of an object, regular methods enable a wide range of interactions and actions an object can undertake during its lifetime."
   ]
  },
  {
   "cell_type": "markdown",
   "id": "61c6a075-9e93-4910-9042-8ac50d6c0084",
   "metadata": {},
   "source": [
    "15. Explain the role of the `self` parameter in instance variable initialization within a constructor."
   ]
  },
  {
   "cell_type": "markdown",
   "id": "de69ae01-6021-4354-a6e3-0a23e09cc5c2",
   "metadata": {},
   "source": [
    "It represents the instance (object) itself, and it allows you to access and manipulate the object's attributes and methods within the class."
   ]
  },
  {
   "cell_type": "code",
   "execution_count": 18,
   "id": "b035f166-de6f-4700-b0a0-4793cee429a6",
   "metadata": {},
   "outputs": [
    {
     "name": "stdout",
     "output_type": "stream",
     "text": [
      "attribute1: value1\n",
      "attribute2: value2\n"
     ]
    }
   ],
   "source": [
    "class MyClass:\n",
    "    def __init__(self, arg1, arg2):\n",
    "        self.attribute1 = arg1  # Using self to initialize attribute1\n",
    "        self.attribute2 = arg2  # Using self to initialize attribute2\n",
    "\n",
    "    def display_attributes(self):\n",
    "        print(\"attribute1:\", self.attribute1)\n",
    "        print(\"attribute2:\", self.attribute2)\n",
    "\n",
    "# Creating an instance of MyClass\n",
    "my_instance = MyClass(\"value1\", \"value2\")\n",
    "\n",
    "# Accessing and displaying the object's attributes using 'self'\n",
    "my_instance.display_attributes()"
   ]
  },
  {
   "cell_type": "markdown",
   "id": "ed8c09e4-bc43-4b2f-97f2-cdd6b3a79ea9",
   "metadata": {},
   "source": [
    "16. How do you prevent a class from having multiple instances by using constructors in Python? Provide an example."
   ]
  },
  {
   "cell_type": "markdown",
   "id": "200bc36f-fb07-4c81-9e0b-b92aeb6334bb",
   "metadata": {},
   "source": [
    "We can implement a design pattern known as the Singleton pattern to ensure that a class has only one instance throughout the program. The Singleton pattern restricts the instantiation of a class to a single object and provides a way to access that instance globally."
   ]
  },
  {
   "cell_type": "code",
   "execution_count": 23,
   "id": "23f9b6aa-cdab-4085-9829-364199ea42cf",
   "metadata": {},
   "outputs": [
    {
     "name": "stdout",
     "output_type": "stream",
     "text": [
      "Somthing\n",
      "Other\n"
     ]
    }
   ],
   "source": [
    "class Singleton:\n",
    "    static_instance = None\n",
    "\n",
    "    def __init__(self,arg1):\n",
    "        if self.static_instance == None:\n",
    "            self.arg = arg1\n",
    "            self.static_instance = self\n",
    "        else:\n",
    "            return None\n",
    "\n",
    "obj1 = Singleton(\"Somthing\")\n",
    "obj2 = Singleton(\"Other\")\n",
    "\n",
    "print(obj1.arg)\n",
    "print(obj2.arg)"
   ]
  },
  {
   "cell_type": "markdown",
   "id": "7fb76aa2-290f-473f-8918-7b338fdd59fd",
   "metadata": {},
   "source": [
    "17. Create a Python class called `Student` with a constructor that takes a list of subjects as a parameter and initializes the `subjects` attribute"
   ]
  },
  {
   "cell_type": "code",
   "execution_count": 25,
   "id": "4c7d1c78-38fc-44c4-a3de-9509c52d869f",
   "metadata": {},
   "outputs": [
    {
     "name": "stdout",
     "output_type": "stream",
     "text": [
      "Student's subjects: ['Math', 'Science', 'History']\n"
     ]
    }
   ],
   "source": [
    "class Student:\n",
    "    def __init__(self, *subjects):\n",
    "        self.subjects = list(subjects)\n",
    "\n",
    "student1 = Student(\"Math\", \"Science\", \"History\")\n",
    "\n",
    "print(\"Student's subjects:\", student1.subjects)\n"
   ]
  },
  {
   "cell_type": "markdown",
   "id": "84ac1c8e-9163-4792-be3b-01a48f01b385",
   "metadata": {},
   "source": [
    "18. What is the purpose of the `__del__` method in Python classes, and how does it relate to constructors?"
   ]
  },
  {
   "cell_type": "markdown",
   "id": "1c715755-40f7-47e8-927d-5ae4b536ae8a",
   "metadata": {},
   "source": [
    "The __del__ method is a special method that serves as a destructor. It is used to define the cleanup or finalization actions that should be performed when an object is about to be destroyed or garbage-collected. The __del__ method is called automatically just before an object is removed from memory when it is no longer in use. Its purpose is to free up resources or perform any necessary cleanup operations to release resources held by the object."
   ]
  },
  {
   "cell_type": "code",
   "execution_count": 27,
   "id": "3f05372b-7b1b-4be8-9bc6-a06609922e5d",
   "metadata": {},
   "outputs": [
    {
     "name": "stdout",
     "output_type": "stream",
     "text": [
      "Object 1 is created.\n",
      "Object 1 is being destroyed.\n"
     ]
    }
   ],
   "source": [
    "class MyClass:\n",
    "    def __init__(self, name):\n",
    "        self.name = name\n",
    "        print(f\"{self.name} is created.\")\n",
    "\n",
    "    def __del__(self):\n",
    "        print(f\"{self.name} is being destroyed.\")\n",
    "\n",
    "obj1 = MyClass(\"Object 1\")\n",
    "\n",
    "del obj1"
   ]
  },
  {
   "cell_type": "markdown",
   "id": "21c090df-71ae-435b-b836-eadecdd63219",
   "metadata": {},
   "source": [
    "19. Explain the use of constructor chaining in Python. Provide a practical example."
   ]
  },
  {
   "cell_type": "markdown",
   "id": "1c0c1316-a31a-452a-848e-a34e9ee0d811",
   "metadata": {},
   "source": [
    "Constructor Chaining is the process of one constructor within a class calling another constructor from the same class. This allows you to reuse code and avoid duplicating initialization logic across different constructors."
   ]
  },
  {
   "cell_type": "code",
   "execution_count": 32,
   "id": "af9dece2-8772-4bbc-95c4-9b299d347014",
   "metadata": {},
   "outputs": [
    {
     "name": "stdout",
     "output_type": "stream",
     "text": [
      "Name: John Doe\n",
      "Student ID: 12345\n"
     ]
    }
   ],
   "source": [
    "class Person:\n",
    "    def __init__(self, first_name, last_name):\n",
    "        self.first_name = first_name\n",
    "        self.last_name = last_name\n",
    "\n",
    "class Student(Person):\n",
    "    def __init__(self, first_name, last_name, student_id):\n",
    "        super().__init__(first_name, last_name)\n",
    "        self.student_id = student_id\n",
    "\n",
    "    def display_details(self):\n",
    "        print(f\"Name: {self.first_name} {self.last_name}\")\n",
    "        print(f\"Student ID: {self.student_id}\")\n",
    "\n",
    "student = Student(\"John\", \"Doe\", \"12345\")\n",
    "\n",
    "student.display_details()"
   ]
  },
  {
   "cell_type": "markdown",
   "id": "d2a2913e-57f0-4dc8-b7fd-f25d8d5cc051",
   "metadata": {},
   "source": [
    "20. Create a Python class called `Car` with a default constructor that initializes the `make` and `model` attributes. Provide a method to display car information"
   ]
  },
  {
   "cell_type": "code",
   "execution_count": 35,
   "id": "1edab52a-5033-4228-bac8-ebe301d233d6",
   "metadata": {},
   "outputs": [
    {
     "name": "stdout",
     "output_type": "stream",
     "text": [
      "Make: Unknown\n",
      "Model: Unknown\n"
     ]
    }
   ],
   "source": [
    "class Car:\n",
    "    def __init__(self):\n",
    "        self.make = \"Unknown\"\n",
    "        self.model = \"Unknown\"\n",
    "\n",
    "    def display_info(self):\n",
    "        print(f\"Make: {self.make}\")\n",
    "        print(f\"Model: {self.model}\")\n",
    "\n",
    "my_car = Car()\n",
    "my_car.display_info()"
   ]
  },
  {
   "cell_type": "markdown",
   "id": "4a632fb0-92ca-49cb-a778-6b0a026a8706",
   "metadata": {},
   "source": [
    "## Inheritance"
   ]
  },
  {
   "cell_type": "markdown",
   "id": "7a95c6d6-1d93-451a-b582-096f8afec4ba",
   "metadata": {},
   "source": [
    "1. What is inheritance in Python? Explain its significance in object-oriented programming."
   ]
  },
  {
   "cell_type": "markdown",
   "id": "1d480623-8d69-4aa5-89af-c73acb70c1b9",
   "metadata": {},
   "source": [
    "Inheritance is a fundamental concept in object-oriented programming that allows you to create a new class (subclass or derived class) by deriving properties and behaviors from an existing class (base class or superclass)."
   ]
  },
  {
   "cell_type": "code",
   "execution_count": 37,
   "id": "9cfee231-b782-4047-bbd5-a51f6202cfa3",
   "metadata": {},
   "outputs": [],
   "source": [
    "class Vehicle:\n",
    "    def __init__(self, make, model, year):\n",
    "        self.make = make\n",
    "        self.model = model\n",
    "        self.year = year\n",
    "        self.mileage = 0"
   ]
  },
  {
   "cell_type": "code",
   "execution_count": 38,
   "id": "a5b5cef0-e488-412d-9f12-f552391379cc",
   "metadata": {},
   "outputs": [],
   "source": [
    "class Car(Vehicle):\n",
    "    def __init__(self, make, model, year, fuel_type):\n",
    "        super().__init__(make, model, year)\n",
    "        self.fuel_type = fuel_type\n",
    "        self.is_running = False"
   ]
  },
  {
   "cell_type": "code",
   "execution_count": 42,
   "id": "c068151a-6fa6-4ee1-a50d-3f5575e6aaeb",
   "metadata": {},
   "outputs": [
    {
     "name": "stdout",
     "output_type": "stream",
     "text": [
      "Toyota\n",
      "Camry\n",
      "2022\n",
      "Gasoline\n"
     ]
    }
   ],
   "source": [
    "my_car = Car(\"Toyota\", \"Camry\", 2022, \"Gasoline\")\n",
    "\n",
    "print(my_car.make)\n",
    "print(my_car.model)\n",
    "print(my_car.year)\n",
    "print(my_car.fuel_type)"
   ]
  },
  {
   "cell_type": "markdown",
   "id": "437a8968-4099-4162-b983-a97fdbce9722",
   "metadata": {},
   "source": [
    "As we can see above the car class inherits all the properties of the vehicle class"
   ]
  },
  {
   "cell_type": "markdown",
   "id": "313256fc-ba79-4f97-adfb-3c0f82b7dba4",
   "metadata": {},
   "source": [
    "2. Differentiate between single inheritance and multiple inheritance in Python. Provide examples for each."
   ]
  },
  {
   "cell_type": "markdown",
   "id": "1b58256a-30d5-49b4-aed7-90b9a6622b20",
   "metadata": {},
   "source": [
    "Single Inheritance:\n",
    "\n",
    "In single inheritance, a class can inherit from only one parent class.\n",
    "This is a simpler and more straightforward form of inheritance.\n",
    "It promotes a linear hierarchy where each class has a single parent, and the chain of inheritance is easy to follow."
   ]
  },
  {
   "cell_type": "code",
   "execution_count": 43,
   "id": "51032f8d-b966-4720-9a50-b4bf795421f9",
   "metadata": {},
   "outputs": [],
   "source": [
    "class Animal:\n",
    "    def speak(self):\n",
    "        pass\n",
    "\n",
    "class Dog(Animal):\n",
    "    def speak(self):\n",
    "        return \"Woof!\"\n",
    "\n",
    "class Cat(Animal):\n",
    "    def speak(self):\n",
    "        return \"Meow!\"\n"
   ]
  },
  {
   "cell_type": "markdown",
   "id": "0839f8a1-962f-47cb-91c2-31c207a3d694",
   "metadata": {},
   "source": [
    "Multiple Inheritance:\r\n",
    "\r\n",
    "In multiple inheritance, a class can inherit from multiple parent classes, combining their attributes and behaviors.\r\n",
    "This allows for more complex class hierarchies but can lead to ambiguity if the same attribute or method is inherited from multiple parent classes."
   ]
  },
  {
   "cell_type": "code",
   "execution_count": 44,
   "id": "b42d424e-4355-4b5b-9544-1770efcbcfd5",
   "metadata": {},
   "outputs": [],
   "source": [
    "class Bird:\n",
    "    def speak(self):\n",
    "        pass\n",
    "\n",
    "class Mammal:\n",
    "    def speak(self):\n",
    "        pass\n",
    "\n",
    "class Bat(Bird, Mammal):\n",
    "    def speak(self):\n",
    "        return \"Screech!\""
   ]
  },
  {
   "cell_type": "markdown",
   "id": "ccb5c2d3-d9f2-428f-b725-2aec93e8faa7",
   "metadata": {},
   "source": [
    "Multiple inheritance requires careful design and consideration to avoid issues related to attribute and method name conflicts."
   ]
  },
  {
   "cell_type": "markdown",
   "id": "40dde3b8-d333-4504-af34-335b43beb10f",
   "metadata": {},
   "source": [
    "3. Create a Python class called `Vehicle` with attributes `color` and `speed`. Then, create a child class called `Car` that inherits from `Vehicle` and adds a `brand` attribute. Provide an example of creating a `Car` object."
   ]
  },
  {
   "cell_type": "code",
   "execution_count": 46,
   "id": "7ad172ca-8c42-49ff-b7bc-625151887830",
   "metadata": {},
   "outputs": [
    {
     "name": "stdout",
     "output_type": "stream",
     "text": [
      "Color: Red\n",
      "Speed: 100\n",
      "Brand: Toyota\n"
     ]
    }
   ],
   "source": [
    "class Vehicle:\n",
    "    def __init__(self, color, speed):\n",
    "        self.color = color\n",
    "        self.speed = speed\n",
    "\n",
    "class Car(Vehicle):\n",
    "    def __init__(self, color, speed, brand):\n",
    "        super().__init__(color, speed)\n",
    "        self.brand = brand\n",
    "\n",
    "my_car = Car(\"Red\", 100, \"Toyota\")\n",
    "\n",
    "print(\"Color:\", my_car.color)\n",
    "print(\"Speed:\", my_car.speed)\n",
    "print(\"Brand:\", my_car.brand)\n"
   ]
  },
  {
   "cell_type": "markdown",
   "id": "3f8526a8-d2fd-47b1-b386-12bb327f71e3",
   "metadata": {},
   "source": [
    "4. Explain the concept of method overriding in inheritance. Provide a practical example."
   ]
  },
  {
   "cell_type": "markdown",
   "id": "d507cc97-4cb9-446c-a073-11b6ca36d29e",
   "metadata": {},
   "source": [
    "Method overriding is a feature in object-oriented programming where a subclass provides a specific implementation of a method that is already defined in its superclass. "
   ]
  },
  {
   "cell_type": "code",
   "execution_count": 1,
   "id": "240eb489-97f5-495a-83ad-8c2d9502ab1f",
   "metadata": {},
   "outputs": [
    {
     "name": "stdout",
     "output_type": "stream",
     "text": [
      "Dog barks\n"
     ]
    }
   ],
   "source": [
    "class Animal:\n",
    "    def speak(self):\n",
    "        print(\"Animal speaks\")\n",
    "\n",
    "class Dog(Animal):\n",
    "    def speak(self):\n",
    "        print(\"Dog barks\")\n",
    "\n",
    "dog = Dog()\n",
    "dog.speak() "
   ]
  },
  {
   "cell_type": "markdown",
   "id": "4309d58d-97b6-412a-95df-363baac7e74a",
   "metadata": {},
   "source": [
    "5. How can you access the methods and attributes of a parent class from a child class in Python? Give an example."
   ]
  },
  {
   "cell_type": "markdown",
   "id": "ab8a2a62-bd18-41c6-9ace-e5667e898076",
   "metadata": {},
   "source": [
    "We can access the methods and attributes of a parent class from a child class by using the super() function. This allows you to call the parent class's methods or access its attributes within the child class."
   ]
  },
  {
   "cell_type": "code",
   "execution_count": 3,
   "id": "28f4af26-5b92-4e76-8733-db8626d33974",
   "metadata": {},
   "outputs": [
    {
     "name": "stdout",
     "output_type": "stream",
     "text": [
      "42\n"
     ]
    }
   ],
   "source": [
    "class Parent:\n",
    "    def __init__(self):\n",
    "        self.parent_attribute = 42\n",
    "\n",
    "class Child(Parent):\n",
    "    def __init__(self):\n",
    "        super().__init__()  \n",
    "        print(self.parent_attribute) \n",
    "\n",
    "child = Child()\n"
   ]
  },
  {
   "cell_type": "markdown",
   "id": "7b3f0494-22bb-4afa-957d-796109eb185e",
   "metadata": {},
   "source": [
    "6. Discuss the use of the super() function in Python inheritance. When and why is it used? Provide an example."
   ]
  },
  {
   "cell_type": "markdown",
   "id": "18648e14-26ae-4129-9246-36c44042821d",
   "metadata": {},
   "source": [
    "It is often used in the constructor of the child class to call the constructor of the parent class."
   ]
  },
  {
   "cell_type": "code",
   "execution_count": 5,
   "id": "d939b132-6dfc-4363-8ff4-319352589e67",
   "metadata": {},
   "outputs": [
    {
     "name": "stdout",
     "output_type": "stream",
     "text": [
      "Rahul\n"
     ]
    }
   ],
   "source": [
    "class Parent:\n",
    "    def __init__(self, name):\n",
    "        self.name = name\n",
    "\n",
    "class Child(Parent):\n",
    "    def __init__(self, name, age):\n",
    "        super().__init__(name)  \n",
    "        self.age = age\n",
    "\n",
    "child = Child(\"Rahul\", 25)\n",
    "print(child.name) \n"
   ]
  },
  {
   "cell_type": "markdown",
   "id": "fb8439a1-ee24-4474-afdf-ebe9aa660421",
   "metadata": {},
   "source": [
    "7. Create a Python class called Animal with a method speak(). Then, create child classes Dog and Cat that inherit from Animal and override the speak() method. Provide an example of using these classes."
   ]
  },
  {
   "cell_type": "code",
   "execution_count": 6,
   "id": "1ebdac44-c0b3-426a-8530-3c01c883b889",
   "metadata": {},
   "outputs": [
    {
     "name": "stdout",
     "output_type": "stream",
     "text": [
      "Woof!\n",
      "Meow!\n"
     ]
    }
   ],
   "source": [
    "class Animal:\n",
    "    def speak(self):\n",
    "        pass\n",
    "\n",
    "class Dog(Animal):\n",
    "    def speak(self):\n",
    "        return \"Woof!\"\n",
    "\n",
    "class Cat(Animal):\n",
    "    def speak(self):\n",
    "        return \"Meow!\"\n",
    "\n",
    "dog = Dog()\n",
    "cat = Cat()\n",
    "\n",
    "print(dog.speak()) \n",
    "print(cat.speak())  \n"
   ]
  },
  {
   "cell_type": "markdown",
   "id": "8b29ad4f-179d-48d9-8cf6-22879eefd1d6",
   "metadata": {},
   "source": [
    "8. Explain the role of the isinstance() function in Python and how it relates to inheritance."
   ]
  },
  {
   "cell_type": "markdown",
   "id": "fbb3cb62-3fb9-4a58-8149-3c8312ff7eba",
   "metadata": {},
   "source": [
    "The isinstance() function is used to check if an object belongs to a particular class or is an instance of a class. "
   ]
  },
  {
   "cell_type": "code",
   "execution_count": 8,
   "id": "c9bc3821-a030-4066-aca2-659c13be0882",
   "metadata": {},
   "outputs": [
    {
     "name": "stdout",
     "output_type": "stream",
     "text": [
      "True\n",
      "True\n"
     ]
    }
   ],
   "source": [
    "class Parent:\n",
    "    pass\n",
    "\n",
    "class Child(Parent):\n",
    "    pass\n",
    "\n",
    "child = Child()\n",
    "\n",
    "print(isinstance(child, Child))\n",
    "print(isinstance(child, Parent)) \n"
   ]
  },
  {
   "cell_type": "markdown",
   "id": "19da5c94-d707-4d21-a4f5-a55e19c14879",
   "metadata": {},
   "source": [
    "9. What is the purpose of the issubclass() function in Python? Provide an example."
   ]
  },
  {
   "cell_type": "markdown",
   "id": "ee40891b-e936-4c5d-9f1b-b90aa3fcf225",
   "metadata": {},
   "source": [
    "The issubclass() function is used to check if a given class is a subclass of another class. It checks if a class inherits from another class in the class hierarchy."
   ]
  },
  {
   "cell_type": "code",
   "execution_count": 9,
   "id": "a79c9e4f-118a-4034-9984-08922ee4a7da",
   "metadata": {},
   "outputs": [
    {
     "name": "stdout",
     "output_type": "stream",
     "text": [
      "True\n"
     ]
    }
   ],
   "source": [
    "class Parent:\n",
    "    pass\n",
    "\n",
    "class Child(Parent):\n",
    "    pass\n",
    "\n",
    "print(issubclass(Child, Parent))\n"
   ]
  },
  {
   "cell_type": "markdown",
   "id": "703be1ec-6703-4d16-bbab-5b87faa2aa6a",
   "metadata": {},
   "source": [
    "10. Discuss the concept of constructor inheritance in Python. How are constructors inherited in child classes?"
   ]
  },
  {
   "cell_type": "markdown",
   "id": "71993c03-9ba1-497e-b24a-34849a32a63b",
   "metadata": {},
   "source": [
    "If a child class does not define its own constructor, it inherits the constructor of its parent class. If the child class defines its constructor, it can call the parent class's constructor using super().__init__() to ensure that the parent's constructor is executed."
   ]
  },
  {
   "cell_type": "code",
   "execution_count": 10,
   "id": "e273ad79-f1b8-49a8-8125-730f0c30c673",
   "metadata": {},
   "outputs": [],
   "source": [
    "class Parent:\n",
    "    def __init__(self, name):\n",
    "        self.name = name\n",
    "\n",
    "class Child(Parent):\n",
    "    def __init__(self, name, age):\n",
    "        super().__init__(name) \n",
    "        self.age = age\n"
   ]
  },
  {
   "cell_type": "markdown",
   "id": "1261ae3d-66d7-4e74-94b3-c53c1edef2c8",
   "metadata": {},
   "source": [
    "11. Create a Python class called Shape with a method area() that calculates the area of a shape. Then, create child classes Circle and Rectangle that inherit from Shape and implement the area() method accordingly. Provide an example."
   ]
  },
  {
   "cell_type": "code",
   "execution_count": 11,
   "id": "2455857e-277d-477e-808f-a7cda50d56f4",
   "metadata": {},
   "outputs": [
    {
     "name": "stdout",
     "output_type": "stream",
     "text": [
      "Circle area: 78.53975\n",
      "Rectangle area: 24\n"
     ]
    }
   ],
   "source": [
    "class Shape:\n",
    "    def area(self):\n",
    "        pass\n",
    "\n",
    "class Circle(Shape):\n",
    "    def __init__(self, radius):\n",
    "        self.radius = radius\n",
    "\n",
    "    def area(self):\n",
    "        return 3.14159 * self.radius * self.radius\n",
    "\n",
    "class Rectangle(Shape):\n",
    "    def __init__(self, width, height):\n",
    "        self.width = width\n",
    "        self.height = height\n",
    "\n",
    "    def area(self):\n",
    "        return self.width * self.height\n",
    "\n",
    "circle = Circle(5)\n",
    "rectangle = Rectangle(4, 6)\n",
    "\n",
    "print(\"Circle area:\", circle.area()) \n",
    "print(\"Rectangle area:\", rectangle.area()) \n"
   ]
  },
  {
   "cell_type": "markdown",
   "id": "89343d64-29a7-4a4e-ba30-16f433473bcc",
   "metadata": {},
   "source": [
    "12. Explain the use of abstract base classes (ABCs) in Python and how they relate to inheritance. Provide an example using the abc module."
   ]
  },
  {
   "cell_type": "markdown",
   "id": "c6281445-4d4c-4085-b505-450e9545bc0b",
   "metadata": {},
   "source": [
    "Abstract base classes in Python are classes that cannot be instantiated but can be subclassed. They are used to define a common interface for a group of related classes, ensuring that specific methods must be implemented in the subclasses."
   ]
  },
  {
   "cell_type": "code",
   "execution_count": 13,
   "id": "cf61c248-4089-42cd-837e-67cb485d510a",
   "metadata": {},
   "outputs": [
    {
     "name": "stdout",
     "output_type": "stream",
     "text": [
      "Circle area: 78.53975\n",
      "Rectangle area: 24\n"
     ]
    }
   ],
   "source": [
    "from abc import ABC, abstractmethod\n",
    "\n",
    "class Shape(ABC):\n",
    "    @abstractmethod\n",
    "    def area(self):\n",
    "        pass\n",
    "\n",
    "class Circle(Shape):\n",
    "    def __init__(self, radius):\n",
    "        self.radius = radius\n",
    "\n",
    "    def area(self):\n",
    "        return 3.14159 * self.radius * self.radius\n",
    "\n",
    "class Rectangle(Shape):\n",
    "    def __init__(self, width, height):\n",
    "        self.width = width\n",
    "        self.height = height\n",
    "\n",
    "    def area(self):\n",
    "        return self.width * self.height\n",
    "\n",
    "circle = Circle(5)\n",
    "rectangle = Rectangle(4, 6)\n",
    "\n",
    "print(\"Circle area:\", circle.area())  \n",
    "print(\"Rectangle area:\", rectangle.area())  \n"
   ]
  },
  {
   "cell_type": "markdown",
   "id": "feba07c5-45ce-4b6e-93ba-57a341161b87",
   "metadata": {},
   "source": [
    "13. How can you prevent a child class from modifying certain attributes or methods inherited from a parent class in Python?"
   ]
  },
  {
   "cell_type": "markdown",
   "id": "fdcb46a1-c33f-44db-b566-00bcbe1f2893",
   "metadata": {},
   "source": [
    "We can prevent a child class from modifying certain attributes or methods inherited from a parent class by using name mangling. Name mangling is a technique where you add double underscores (__) as a prefix to attribute or method names in the parent class. This makes the attribute or method \"private\" and harder to access or modify in the child class."
   ]
  },
  {
   "cell_type": "code",
   "execution_count": 14,
   "id": "a4b53daf-fc03-4388-9ca7-1aa4cd93d9f9",
   "metadata": {},
   "outputs": [
    {
     "ename": "AttributeError",
     "evalue": "'Parent' object has no attribute '__private_attribute'",
     "output_type": "error",
     "traceback": [
      "\u001b[1;31m---------------------------------------------------------------------------\u001b[0m",
      "\u001b[1;31mAttributeError\u001b[0m                            Traceback (most recent call last)",
      "Cell \u001b[1;32mIn[14], line 17\u001b[0m\n\u001b[0;32m     13\u001b[0m parent \u001b[38;5;241m=\u001b[39m Parent()\n\u001b[0;32m     14\u001b[0m child \u001b[38;5;241m=\u001b[39m Child()\n\u001b[1;32m---> 17\u001b[0m \u001b[38;5;28mprint\u001b[39m(\u001b[43mparent\u001b[49m\u001b[38;5;241;43m.\u001b[39;49m\u001b[43m__private_attribute\u001b[49m)  \n\u001b[0;32m     18\u001b[0m \u001b[38;5;28mprint\u001b[39m(parent\u001b[38;5;241m.\u001b[39m__private_method())  \n\u001b[0;32m     19\u001b[0m child\u001b[38;5;241m.\u001b[39mmodify_private() \n",
      "\u001b[1;31mAttributeError\u001b[0m: 'Parent' object has no attribute '__private_attribute'"
     ]
    }
   ],
   "source": [
    "class Parent:\n",
    "    def __init__(self):\n",
    "        self.__private_attribute = 42\n",
    "\n",
    "    def __private_method(self):\n",
    "        print(\"This is a private method\")\n",
    "\n",
    "class Child(Parent):\n",
    "    def modify_private(self):\n",
    "        self.__private_attribute = 10  \n",
    "        self.__private_method() \n",
    "\n",
    "parent = Parent()\n",
    "child = Child()\n",
    "\n",
    "\n",
    "print(parent.__private_attribute)  \n",
    "print(parent.__private_method())  \n",
    "child.modify_private() \n"
   ]
  },
  {
   "cell_type": "markdown",
   "id": "763b1c79-edd8-4e97-80a5-60f189bb858d",
   "metadata": {},
   "source": [
    "14. Create a Python class called Employee with attributes name and salary. Then, create a child class Manager that inherits from Employee and adds an attribute department. Provide an example."
   ]
  },
  {
   "cell_type": "code",
   "execution_count": 15,
   "id": "4dfa8190-6287-4722-8143-18295b5af330",
   "metadata": {},
   "outputs": [
    {
     "name": "stdout",
     "output_type": "stream",
     "text": [
      "Name: Alice\n",
      "Salary: 60000\n",
      "Department: HR\n"
     ]
    }
   ],
   "source": [
    "class Employee:\n",
    "    def __init__(self, name, salary):\n",
    "        self.name = name\n",
    "        self.salary = salary\n",
    "\n",
    "class Manager(Employee):\n",
    "    def __init__(self, name, salary, department):\n",
    "        super().__init__(name, salary)\n",
    "        self.department = department\n",
    "\n",
    "manager = Manager(\"Alice\", 60000, \"HR\")\n",
    "print(\"Name:\", manager.name)\n",
    "print(\"Salary:\", manager.salary)\n",
    "print(\"Department:\", manager.department)\n"
   ]
  },
  {
   "cell_type": "markdown",
   "id": "0dc6274b-df5d-4dfa-80ec-3a2f080f8a06",
   "metadata": {},
   "source": [
    "15. Discuss the concept of method overloading in Python inheritance. How does it differ from method overriding?"
   ]
  },
  {
   "cell_type": "markdown",
   "id": "b762be81-b86c-419e-a313-5f007a61a2a1",
   "metadata": {},
   "source": [
    "Method overloading refers to defining multiple methods with the same name in a class but with different parameter lists. Python does not allow this directly; if you define multiple methods with the same name, the latest definition will override the previous one.\n",
    "Method overriding, on the other hand, is a feature where a child class provides a specific implementation for a method that is already defined in its parent class. The method in the child class must have the same name, parameters, and return type as the method in the parent class."
   ]
  },
  {
   "cell_type": "markdown",
   "id": "c51d4b9c-aea7-44ea-afb2-072af8c01045",
   "metadata": {},
   "source": [
    "16. Explain the purpose of the __init__() method in Python inheritance and how it is utilized in child classes."
   ]
  },
  {
   "cell_type": "markdown",
   "id": "59cee740-2cb3-4270-bfe7-44a133b5c622",
   "metadata": {},
   "source": [
    "The __init__() method in Python is the constructor method for a class. It is used to initialize the attributes or properties of an object when it is created. In the context of inheritance, the __init__() method is often defined in both the parent and child classes.\n",
    "\n",
    "When a child class defines its own __init__() method, it typically calls the __init__() method of the parent class using super().__init__() to ensure that the attributes of the parent class are also initialized."
   ]
  },
  {
   "cell_type": "code",
   "execution_count": 16,
   "id": "3d10e1d9-d67b-4024-9971-3acf9c9f22f9",
   "metadata": {},
   "outputs": [
    {
     "name": "stdout",
     "output_type": "stream",
     "text": [
      "Child Data\n",
      "Parent Data\n"
     ]
    }
   ],
   "source": [
    "class Parent:\n",
    "    def __init__(self, parent_attribute):\n",
    "        self.parent_attribute = parent_attribute\n",
    "\n",
    "class Child(Parent):\n",
    "    def __init__(self, child_attribute, parent_attribute):\n",
    "        super().__init__(parent_attribute) \n",
    "        self.child_attribute = child_attribute\n",
    "\n",
    "child = Child(\"Child Data\", \"Parent Data\")\n",
    "print(child.child_attribute)  \n",
    "print(child.parent_attribute)  \n"
   ]
  },
  {
   "cell_type": "markdown",
   "id": "da4ccb25-f73f-4db0-a38b-ee4ae32e95ba",
   "metadata": {},
   "source": [
    "17. Create a Python class called Bird with a method fly(). Then, create child classes Eagle and Sparrow that inherit from Bird and implement the fly() method differently. Provide an example of using these classes."
   ]
  },
  {
   "cell_type": "code",
   "execution_count": 17,
   "id": "580fc465-28cd-48b4-8384-da31d457ad19",
   "metadata": {},
   "outputs": [
    {
     "name": "stdout",
     "output_type": "stream",
     "text": [
      "Eagle soars high\n",
      "Sparrow flits around\n"
     ]
    }
   ],
   "source": [
    "class Bird:\n",
    "    def fly(self):\n",
    "        pass\n",
    "\n",
    "class Eagle(Bird):\n",
    "    def fly(self):\n",
    "        return \"Eagle soars high\"\n",
    "\n",
    "class Sparrow(Bird):\n",
    "    def fly(self):\n",
    "        return \"Sparrow flits around\"\n",
    "\n",
    "eagle = Eagle()\n",
    "sparrow = Sparrow()\n",
    "\n",
    "print(eagle.fly())  \n",
    "print(sparrow.fly()) \n"
   ]
  },
  {
   "cell_type": "markdown",
   "id": "0e43fdca-de50-437d-8a48-2f01e51ef09f",
   "metadata": {},
   "source": [
    "18. What is the \"diamond problem\" in multiple inheritance, and how does Python address it?"
   ]
  },
  {
   "cell_type": "markdown",
   "id": "37bfde05-2ecb-4092-bf85-c212f2871b1f",
   "metadata": {},
   "source": [
    "The \"diamond problem\" is a challenge that arises in multiple inheritance, a situation where a class inherits from multiple classes that have a common ancestor. In the diamond problem, if two or more parent classes provide a method or attribute with the same name, and a child class inherits from both of these parent classes, there is ambiguity in determining which method or attribute to use."
   ]
  },
  {
   "cell_type": "code",
   "execution_count": 18,
   "id": "5a07c43b-5e24-43a0-a371-cd05a258cf04",
   "metadata": {},
   "outputs": [
    {
     "name": "stdout",
     "output_type": "stream",
     "text": [
      "Method from class C\n"
     ]
    }
   ],
   "source": [
    "class A:\n",
    "    def method(self):\n",
    "        return \"Method from class A\"\n",
    "\n",
    "class B(A):\n",
    "    pass\n",
    "\n",
    "class C(A):\n",
    "    def method(self):\n",
    "        return \"Method from class C\"\n",
    "\n",
    "class D(B, C):\n",
    "    pass\n",
    "\n",
    "d = D()\n",
    "print(d.method())\n"
   ]
  },
  {
   "cell_type": "markdown",
   "id": "b4a06e9a-d134-449d-9c31-a600857a3750",
   "metadata": {},
   "source": [
    "19. Discuss the concept of \"is-a\" and \"has-a\" relationships in inheritance, and provide examples of each."
   ]
  },
  {
   "cell_type": "markdown",
   "id": "30aafd4e-07eb-4811-9db0-84972fda2c93",
   "metadata": {},
   "source": [
    "\"Is-a\" Relationship (Inheritance): This relationship implies that an object of the subclass is also an object of the superclass. For example, if you have a Vehicle class and a Car class that inherits from Vehicle, a car is a type of vehicle."
   ]
  },
  {
   "cell_type": "code",
   "execution_count": 19,
   "id": "b4fff697-db88-4403-bc7b-d3af01e4a6fe",
   "metadata": {},
   "outputs": [],
   "source": [
    "class Vehicle:\n",
    "    pass\n",
    "\n",
    "class Car(Vehicle):\n",
    "    pass"
   ]
  },
  {
   "cell_type": "markdown",
   "id": "21e44934-bc2f-48ba-89aa-10e2acd27a96",
   "metadata": {},
   "source": [
    "\"Has-a\" Relationship (Composition): This relationship implies that an object of one class \"has\" or \"contains\" an object of another class. For example, a Person class may have a Job class as an attribute to represent a person's occupation."
   ]
  },
  {
   "cell_type": "code",
   "execution_count": 21,
   "id": "5e4559f6-61ee-4447-af98-ac6cc46e75f9",
   "metadata": {},
   "outputs": [],
   "source": [
    "class Job:\n",
    "    def __init__(self, title, salary):\n",
    "        self.title = title\n",
    "        self.salary = salary\n",
    "\n",
    "class Person:\n",
    "    def __init__(self, name, job):\n",
    "        self.name = name\n",
    "        self.job = job"
   ]
  },
  {
   "cell_type": "markdown",
   "id": "1cdb1031-11cb-415f-83e6-ce41cbf8d462",
   "metadata": {},
   "source": [
    "20. Create a Python class hierarchy for a university system. Start with a base class Person and create child classes Student and Professor, each with their own attributes and methods. Provide an example of using these classes in a university context."
   ]
  },
  {
   "cell_type": "code",
   "execution_count": 22,
   "id": "370e075c-1029-46ac-b38c-f7e9fa1c9972",
   "metadata": {},
   "outputs": [
    {
     "name": "stdout",
     "output_type": "stream",
     "text": [
      "My name is Rahul J, and I am 20 years old.\n",
      "Rahul J is studying Math.\n",
      "My name is Dr. Lucifer, and I am 45 years old.\n",
      "Dr. Lucifer is teaching Computer Science.\n"
     ]
    }
   ],
   "source": [
    "class Person:\n",
    "    def __init__(self, name, age):\n",
    "        self.name = name\n",
    "        self.age = age\n",
    "\n",
    "    def introduce(self):\n",
    "        return f\"My name is {self.name}, and I am {self.age} years old.\"\n",
    "\n",
    "class Student(Person):\n",
    "    def __init__(self, name, age, student_id):\n",
    "        super().__init__(name, age)\n",
    "        self.student_id = student_id\n",
    "\n",
    "    def study(self, subject):\n",
    "        return f\"{self.name} is studying {subject}.\"\n",
    "\n",
    "class Professor(Person):\n",
    "    def __init__(self, name, age, employee_id):\n",
    "        super().__init__(name, age)\n",
    "        self.employee_id = employee_id\n",
    "\n",
    "    def teach(self, subject):\n",
    "        return f\"{self.name} is teaching {subject}.\"\n",
    "\n",
    "student = Student(\"Rahul J\", 20, \"S12345\")\n",
    "professor = Professor(\"Dr. Lucifer\", 45, \"P98765\")\n",
    "\n",
    "print(student.introduce())  \n",
    "print(student.study(\"Math\"))  \n",
    "print(professor.introduce())  \n",
    "print(professor.teach(\"Computer Science\")) \n"
   ]
  },
  {
   "cell_type": "markdown",
   "id": "85ed7bb4-330e-4906-9467-d1f1891b8347",
   "metadata": {},
   "source": [
    "## Encapsulation"
   ]
  },
  {
   "cell_type": "markdown",
   "id": "f32b11c5-5921-4c9e-86af-b7f31fc3ffad",
   "metadata": {},
   "source": [
    "1. Explain the concept of encapsulation in Python. What is its role in object-oriented programming?"
   ]
  },
  {
   "cell_type": "markdown",
   "id": "a5a9bf20-6307-4fd6-a49b-e63e1da308d7",
   "metadata": {},
   "source": [
    "Encapsulation is one of the fundamental concepts in object-oriented programming (OOP) and is a way of bundling data and methods that operate on that data into a single unit, known as a class. It serves to hide the internal details of how a class works and provides a well-defined interface for interacting with the class's objects."
   ]
  },
  {
   "cell_type": "markdown",
   "id": "4de3d4a0-b7df-497d-8717-2c6e26eb4fed",
   "metadata": {},
   "source": [
    "2. Describe the key principles of encapsulation, including access control and data hiding."
   ]
  },
  {
   "cell_type": "markdown",
   "id": "863c9f9c-df93-4b55-8e17-e89c45a22b26",
   "metadata": {},
   "source": [
    "The key principles of encapsulation include:\n",
    "\n",
    "Access Control: It involves specifying the level of access that different parts of the program have to the data and methods within a class. Access control is typically achieved using access modifiers like public, private, and protected.\n",
    "\n",
    "Data Hiding: Data hiding is the practice of making the details of the implementation (such as attributes or variables) private, so that they are not accessible from outside the class directly. Data hiding is achieved by making attributes private or protected."
   ]
  },
  {
   "cell_type": "markdown",
   "id": "fed38a03-5ac9-4021-b8d1-7a9786574f54",
   "metadata": {},
   "source": [
    "3. How can you achieve encapsulation in Python classes? Provide an example."
   ]
  },
  {
   "cell_type": "markdown",
   "id": "e1f095f0-de18-4131-bd4b-4d2879d732b2",
   "metadata": {},
   "source": [
    "Encapsulation in Python is achieved by using access modifiers to control access to class members. Python provides three primary access modifiers:\n",
    "\n",
    "Public: Members with no name mangling (no leading underscores) are public and can be accessed from outside the class.\n",
    "\n",
    "Private: Members with double underscores as a prefix (e.g., __attribute) are private and cannot be directly accessed from outside the class.\n",
    "\n",
    "Protected: Members with a single underscore as a prefix (e.g., _attribute) are considered protected, indicating that they should not be accessed directly from outside the class, but Python does not enforce this."
   ]
  },
  {
   "cell_type": "code",
   "execution_count": 24,
   "id": "826e0a3e-4b7f-48e4-943a-7cff86818443",
   "metadata": {},
   "outputs": [
    {
     "name": "stdout",
     "output_type": "stream",
     "text": [
      "Rahul J\n",
      "30\n",
      "123-45-6789\n",
      "987-65-4321\n"
     ]
    }
   ],
   "source": [
    "class Person:\n",
    "    def __init__(self, name, age):\n",
    "        self.name = name      \n",
    "        self._age = age        \n",
    "        self.__ssn = \"123-45-6789\"  \n",
    "\n",
    "    def get_ssn(self):\n",
    "        return self.__ssn\n",
    "\n",
    "    def set_ssn(self, ssn):\n",
    "        self.__ssn = ssn\n",
    "\n",
    "\n",
    "person = Person(\"Rahul J\", 30)\n",
    "\n",
    "\n",
    "print(person.name) \n",
    "print(person._age) \n",
    "\n",
    "\n",
    "print(person.get_ssn())  \n",
    "person.set_ssn(\"987-65-4321\") \n",
    "print(person.get_ssn())\n"
   ]
  },
  {
   "cell_type": "markdown",
   "id": "caf4db35-d174-44eb-91e2-51fe68af5439",
   "metadata": {},
   "source": [
    "4. Discuss the difference between public, private, and protected access modifiers in Python."
   ]
  },
  {
   "cell_type": "markdown",
   "id": "0cff348e-1ff5-49dd-bf17-e4946c342409",
   "metadata": {},
   "source": [
    "already answered in previous quetion"
   ]
  },
  {
   "cell_type": "markdown",
   "id": "1ca81dc6-6002-44b7-8241-157987dcaf6e",
   "metadata": {},
   "source": [
    "6. Explain the purpose of getter and setter methods in encapsulation. Provide examples."
   ]
  },
  {
   "cell_type": "markdown",
   "id": "f4d77408-ce4b-41a3-bb96-261799795863",
   "metadata": {},
   "source": [
    "Getter and setter methods are used in encapsulation to control access to private attributes of a class. They allow you to retrieve (get) and modify (set) the values of private attributes while enforcing validation and maintaining control over access. "
   ]
  },
  {
   "cell_type": "code",
   "execution_count": 26,
   "id": "f501707a-2a5d-4574-bea4-ae753fdbaff7",
   "metadata": {},
   "outputs": [
    {
     "name": "stdout",
     "output_type": "stream",
     "text": [
      "Rahul\n",
      "Name must have at least 2 characters.\n",
      "Ranjit\n"
     ]
    }
   ],
   "source": [
    "class Person:\n",
    "    def __init__(self, name):\n",
    "        self.__name = name  \n",
    "\n",
    "    def get_name(self):\n",
    "        return self.__name\n",
    "\n",
    "    def set_name(self, name):\n",
    "        if len(name) >= 2:\n",
    "            self.__name = name\n",
    "        else:\n",
    "            print(\"Name must have at least 2 characters.\")\n",
    "\n",
    "\n",
    "person = Person(\"Rahul\")\n",
    "\n",
    "\n",
    "print(person.get_name()) \n",
    "person.set_name(\"B\")  \n",
    "person.set_name(\"Ranjit\")\n",
    "print(person.get_name()) \n"
   ]
  },
  {
   "cell_type": "markdown",
   "id": "4dc72bd6-f657-4cfd-935e-b32b67b38238",
   "metadata": {},
   "source": [
    "7. What is name mangling in Python, and how does it affect encapsulation?"
   ]
  },
  {
   "cell_type": "markdown",
   "id": "c2dd0c64-1880-40c9-a206-d03d83cf2903",
   "metadata": {},
   "source": [
    "Name mangling is a technique used by Python to make the names of attributes with double underscores more unique by adding the class name as a prefix to the attribute name. This makes it harder to accidentally override attributes in subclasses or access them directly from outside the class."
   ]
  },
  {
   "cell_type": "markdown",
   "id": "647ea43d-b09e-4d62-a504-ba7f9b41759f",
   "metadata": {},
   "source": [
    "8. Create a Python class called BankAccount with private attributes for the account balance (__balance) and account number (__account_number). Provide methods for depositing and withdrawing money."
   ]
  },
  {
   "cell_type": "code",
   "execution_count": 27,
   "id": "aaf941b8-a329-4569-9e6c-07a10c4ec590",
   "metadata": {},
   "outputs": [
    {
     "name": "stdout",
     "output_type": "stream",
     "text": [
      "1000.0\n",
      "1500.0\n",
      "1200.0\n"
     ]
    }
   ],
   "source": [
    "class BankAccount:\n",
    "    def __init__(self, account_number, initial_balance=0.0):\n",
    "        self.__account_number = account_number \n",
    "        self.__balance = initial_balance  \n",
    "\n",
    "    def get_balance(self):\n",
    "        return self.__balance\n",
    "\n",
    "    def deposit(self, amount):\n",
    "        if amount > 0:\n",
    "            self.__balance += amount\n",
    "            return True\n",
    "        else:\n",
    "            return False\n",
    "\n",
    "    def withdraw(self, amount):\n",
    "        if amount > 0 and self.__balance >= amount:\n",
    "            self.__balance -= amount\n",
    "            return True\n",
    "        else:\n",
    "            return False\n",
    "\n",
    "\n",
    "account = BankAccount(\"123456\", 1000.0)\n",
    "\n",
    "\n",
    "print(account.get_balance()) \n",
    "account.deposit(500.0)\n",
    "print(account.get_balance())  \n",
    "account.withdraw(300.0)\n",
    "print(account.get_balance())  \n"
   ]
  },
  {
   "cell_type": "markdown",
   "id": "713adb30-1b51-4226-bfc5-867e47514836",
   "metadata": {},
   "source": [
    "9. Discuss the advantages of encapsulation in terms of code maintainability and security."
   ]
  },
  {
   "cell_type": "markdown",
   "id": "f387941f-c33d-4054-97cf-3d92a284b768",
   "metadata": {},
   "source": [
    "Advantages of encapsulation in terms of code maintainability and security include:\n",
    "\n",
    "Data Protection: Encapsulation protects data from unauthorized access, modification, or corruption. It ensures that data remains in a valid state.\n",
    "\n",
    "Implementation Flexibility: Encapsulation allows you to change the internal implementation of a class without affecting external code that uses the class, promoting code flexibility and maintainability.\n",
    "\n",
    "Code Organization: Encapsulation encourages modular and organized code by bundling related data and methods within a class, leading to better code structure and easier maintenance.\n",
    "\n",
    "Security: Encapsulation enhances security by preventing direct access to sensitive data and allowing controlled access through well-defined methods.\n",
    "\n",
    "Documentation and Validation: Getter and setter methods provide natural entry points for adding validation and documentation to attribute access, promoting code quality."
   ]
  },
  {
   "cell_type": "markdown",
   "id": "3158a47a-2f83-4f6a-871a-0eed4198f866",
   "metadata": {},
   "source": [
    "10. How can you access private attributes in Python? Provide an example demonstrating the use of name mangling."
   ]
  },
  {
   "cell_type": "markdown",
   "id": "ec27052b-d2d9-4b53-9207-e56262342fd2",
   "metadata": {},
   "source": [
    "Private attributes in Python can be accessed using name mangling, which involves adding the class name as a prefix to the attribute's name. Here's an example:"
   ]
  },
  {
   "cell_type": "code",
   "execution_count": 28,
   "id": "ca25e664-4841-434d-8dcb-2a0163e82c8d",
   "metadata": {},
   "outputs": [
    {
     "name": "stdout",
     "output_type": "stream",
     "text": [
      "Value\n"
     ]
    }
   ],
   "source": [
    "class MyClass:\n",
    "    def __init__(self, attribute):\n",
    "        self.__attribute = attribute\n",
    "\n",
    "obj = MyClass(\"Value\")\n",
    "\n",
    "print(obj._MyClass__attribute)  \n"
   ]
  },
  {
   "cell_type": "markdown",
   "id": "86d4ff18-e08e-4a28-9a8e-f44b198f1ce9",
   "metadata": {},
   "source": [
    "11. Create a Python class hierarchy for a school system, including classes for students, teachers, and courses, and implement encapsulation principles to protect sensitive information."
   ]
  },
  {
   "cell_type": "code",
   "execution_count": 29,
   "id": "49b3878d-4c64-4bd8-9358-1e1f23a17e23",
   "metadata": {},
   "outputs": [
    {
     "name": "stdout",
     "output_type": "stream",
     "text": [
      "Rahul\n",
      "T9876\n"
     ]
    }
   ],
   "source": [
    "class Person:\n",
    "    def __init__(self, name, age):\n",
    "        self.__name = name  \n",
    "        self.__age = age \n",
    "\n",
    "    def get_name(self):\n",
    "        return self.__name\n",
    "\n",
    "    def set_name(self, name):\n",
    "        self.__name = name\n",
    "\n",
    "    def get_age(self):\n",
    "        return self.__age\n",
    "\n",
    "    def set_age(self, age):\n",
    "        if age >= 0:\n",
    "            self.__age = age\n",
    "\n",
    "class Student(Person):\n",
    "    def __init__(self, name, age, student_id):\n",
    "        super().__init__(name, age)\n",
    "        self.__student_id = student_id  \n",
    "\n",
    "    def get_student_id(self):\n",
    "        return self.__student_id\n",
    "\n",
    "class Teacher(Person):\n",
    "    def __init__(self, name, age, employee_id):\n",
    "        super().__init__(name, age)\n",
    "        self.__employee_id = employee_id \n",
    "\n",
    "    def get_employee_id(self):\n",
    "        return self.__employee_id\n",
    "\n",
    "class Course:\n",
    "    def __init__(self, course_name, course_code):\n",
    "        self.__course_name = course_name  \n",
    "        self.__course_code = course_code \n",
    "\n",
    "    def get_course_name(self):\n",
    "        return self.__course_name\n",
    "\n",
    "    def set_course_name(self, course_name):\n",
    "        self.__course_name = course_name\n",
    "\n",
    "    def get_course_code(self):\n",
    "        return self.__course_code\n",
    "\n",
    "    def set_course_code(self, course_code):\n",
    "        self.__course_code = course_code\n",
    "\n",
    "student = Student(\"Rahul\", 18, \"1NH21AI080\")\n",
    "teacher = Teacher(\"Mr. Sumit\", 35, \"T9876\")\n",
    "course = Course(\"Mathematics\", \"MATH101\")\n",
    "\n",
    "\n",
    "print(student.get_name())  \n",
    "print(teacher.get_employee_id())  \n"
   ]
  },
  {
   "cell_type": "markdown",
   "id": "44aea3cc-1c46-4e4f-85b4-288388545eb4",
   "metadata": {},
   "source": [
    "12. Explain the concept of property decorators in Python and how they relate to encapsulation."
   ]
  },
  {
   "cell_type": "markdown",
   "id": "009ae0c7-a23d-4493-86ef-480f199af208",
   "metadata": {},
   "source": [
    "Property decorators in Python allow you to define special methods to control attribute access, effectively combining encapsulation principles with a more Pythonic syntax. Property decorators include @property, @attribute_name.setter, and @attribute_name.deleter."
   ]
  },
  {
   "cell_type": "markdown",
   "id": "20a99259-823a-490c-bb89-9c29bf30242f",
   "metadata": {},
   "source": [
    "13. What is data hiding, and why is it important in encapsulation? Provide examples."
   ]
  },
  {
   "cell_type": "markdown",
   "id": "e5ab50a9-59f7-46f5-9ac9-569e07bf4912",
   "metadata": {},
   "source": [
    "Data hiding, a fundamental concept in encapsulation, involves making the details of the implementation of a class, particularly its attributes, private or protected to restrict direct access from outside the class. It's important in encapsulation because it helps maintain data integrity, enforces control over attribute access, and protects sensitive data."
   ]
  },
  {
   "cell_type": "code",
   "execution_count": 30,
   "id": "f5cf56ee-75ae-4b52-93e8-3e3e31604390",
   "metadata": {},
   "outputs": [
    {
     "name": "stdout",
     "output_type": "stream",
     "text": [
      "1000.0\n"
     ]
    }
   ],
   "source": [
    "class BankAccount:\n",
    "    def __init__(self, account_number, initial_balance=0.0):\n",
    "        self.__account_number = account_number \n",
    "        self.__balance = initial_balance  \n",
    "\n",
    "    def get_balance(self):\n",
    "        return self.__balance\n",
    "\n",
    "    def set_balance(self, balance):\n",
    "        if balance >= 0:\n",
    "            self.__balance = balance\n",
    "\n",
    "\n",
    "account = BankAccount(\"123456\", 1000.0)\n",
    "\n",
    "\n",
    "print(account.get_balance())  \n",
    "account.set_balance(-500.0) \n"
   ]
  },
  {
   "cell_type": "markdown",
   "id": "6e000f4f-4496-4d1d-8cca-43a084e34df7",
   "metadata": {},
   "source": [
    "14. Create a Python class called Employee with private attributes for salary (__salary) and employee ID (__employee_id). Provide a method to calculate yearly bonuses."
   ]
  },
  {
   "cell_type": "code",
   "execution_count": 31,
   "id": "8856974c-db28-4fa8-8582-5e23879175d1",
   "metadata": {},
   "outputs": [
    {
     "name": "stdout",
     "output_type": "stream",
     "text": [
      "Yearly bonus: 5000.0\n"
     ]
    }
   ],
   "source": [
    "class Employee:\n",
    "    def __init__(self, employee_id, salary):\n",
    "        self.__employee_id = employee_id \n",
    "        self.__salary = salary \n",
    "    def calculate_bonus(self, percentage):\n",
    "        if percentage > 0:\n",
    "            return self.__salary * (percentage / 100)\n",
    "        else:\n",
    "            return 0\n",
    "\n",
    "\n",
    "employee = Employee(\"E12345\", 50000)\n",
    "\n",
    "bonus = employee.calculate_bonus(10)\n",
    "print(\"Yearly bonus:\", bonus)  # Output: \"Yearly bonus: 5000.0\"\n"
   ]
  },
  {
   "cell_type": "markdown",
   "id": "6b379441-7fc7-4532-91ac-8f65220cf321",
   "metadata": {},
   "source": [
    "15. Discuss the use of accessors and mutators in encapsulation. How do they help maintain control over attribute access?"
   ]
  },
  {
   "cell_type": "markdown",
   "id": "c241832a-ce93-4cd9-9ced-5965b0b7e486",
   "metadata": {},
   "source": [
    "Accessors (getter methods) and mutators (setter methods) are essential components of encapsulation. They help maintain control over attribute access by providing a structured way to retrieve (get) and modify (set) the values of private attributes. Accessors allow you to retrieve attribute values, while mutators allow you to modify them, often with validation checks."
   ]
  },
  {
   "cell_type": "markdown",
   "id": "0a58da44-43ec-4e9c-8da9-12545ad6be24",
   "metadata": {},
   "source": [
    "16. What are the potential drawbacks or disadvantages of using encapsulation in Python?"
   ]
  },
  {
   "cell_type": "markdown",
   "id": "19cf389d-f4ab-404d-92dd-c85885de6fee",
   "metadata": {},
   "source": [
    "While encapsulation offers numerous advantages, there are also potential drawbacks or disadvantages:\n",
    "\n",
    "Complexity: Encapsulation can lead to more complex code due to the need to define getter and setter methods for each attribute, increasing code size and complexity.\n",
    "\n",
    "Performance Overhead: Using getter and setter methods can introduce a slight performance overhead compared to direct attribute access.\n",
    "\n",
    "Overhead of Accessors/Mutators: Excessive use of accessors and mutators can lead to code that is difficult to read and maintain.\n",
    "\n",
    "Inflexibility: Overuse of encapsulation can make code less flexible by tightly binding it to specific implementations. Changes to attribute names or types may require updates to a large number of methods.\r\n",
    "\r\n",
    "Boilerplate Code: Writing getter and setter methods for every attribute can result in a significant amount of boilerplate code, making the codebase less concise.\r\n",
    "\r\n",
    "Reduced Direct Access: Encapsulation restricts direct access to attributes, which can be inconvenient in situations where direct access is safe and straightforwaccess.\n",
    "\n",
    "\n",
    "\n"
   ]
  },
  {
   "cell_type": "markdown",
   "id": "826a3dfe-4bf4-4a95-a055-9897848d4fd7",
   "metadata": {},
   "source": [
    "17. Create a Python class for a library system that encapsulates book information, including titles, authors, and availability status.on"
   ]
  },
  {
   "cell_type": "code",
   "execution_count": 32,
   "id": "16f905d8-263b-413e-b04c-9e2b58ca0a0d",
   "metadata": {},
   "outputs": [
    {
     "name": "stdout",
     "output_type": "stream",
     "text": [
      "Python Programming\n",
      "True\n",
      "False\n",
      "True\n"
     ]
    }
   ],
   "source": [
    "class Book:\n",
    "    def __init__(self, title, author):\n",
    "        self.__title = title  # Private attribute\n",
    "        self.__author = author  # Private attribute\n",
    "        self.__available = True  # Private attribute\n",
    "\n",
    "    def get_title(self):\n",
    "        return self.__title\n",
    "\n",
    "    def set_title(self, title):\n",
    "        self.__title = title\n",
    "\n",
    "    def get_author(self):\n",
    "        return self.__author\n",
    "\n",
    "    def set_author(self, author):\n",
    "        self.__author = author\n",
    "\n",
    "    def is_available(self):\n",
    "        return self.__available\n",
    "\n",
    "    def borrow(self):\n",
    "        if self.__available:\n",
    "            self.__available = False\n",
    "            return True\n",
    "        else:\n",
    "            return False\n",
    "\n",
    "    def return_book(self):\n",
    "        if not self.__available:\n",
    "            self.__available = True\n",
    "            return True\n",
    "        else:\n",
    "            return False\n",
    "\n",
    "\n",
    "book = Book(\"Python Programming\", \"John Doe\")\n",
    "\n",
    "\n",
    "print(book.get_title()) \n",
    "print(book.is_available())  \n",
    "book.borrow()\n",
    "print(book.is_available())  \n",
    "book.return_book()\n",
    "print(book.is_available())  \n"
   ]
  },
  {
   "cell_type": "markdown",
   "id": "4cc68002-463c-446e-a459-c478ef04460c",
   "metadata": {},
   "source": [
    "18. Explain how encapsulation enhances code reusability and modularity in Python programs.\n",
    "19. Describe the concept of information hiding in encapsulation. Why is it essential in software development?"
   ]
  },
  {
   "cell_type": "markdown",
   "id": "8063b8dc-93d5-486c-802f-a61625f5ea4a",
   "metadata": {},
   "source": [
    "**already done above**"
   ]
  },
  {
   "cell_type": "markdown",
   "id": "e4ecc07e-df69-4bb1-83ae-018d44f92425",
   "metadata": {},
   "source": [
    "20. Create a Python class called Customer with private attributes for customer details like name, address, and contact information. Implement encapsulation to ensure data integrity and security."
   ]
  },
  {
   "cell_type": "code",
   "execution_count": 34,
   "id": "4292c37c-33a3-4e25-adfc-9044ad6c71e4",
   "metadata": {},
   "outputs": [
    {
     "name": "stdout",
     "output_type": "stream",
     "text": [
      "Name: Rahul\n",
      "Address: 123 Main St\n",
      "Contact Info: rjauhari@gmail.com\n",
      "Name: Rahul\n",
      "Address: 456 Elm St\n",
      "Contact Info: rishabh@gmail.com\n"
     ]
    }
   ],
   "source": [
    "class Customer:\n",
    "    def __init__(self, name, address, contact_info):\n",
    "        self.__name = name  # Private attribute\n",
    "        self.__address = address  # Private attribute\n",
    "        self.__contact_info = contact_info  # Private attribute\n",
    "\n",
    "    # Getter methods\n",
    "    def get_name(self):\n",
    "        return self.__name\n",
    "\n",
    "    def get_address(self):\n",
    "        return self.__address\n",
    "\n",
    "    def get_contact_info(self):\n",
    "        return self.__contact_info\n",
    "\n",
    "    # Setter methods\n",
    "    def set_name(self, name):\n",
    "        self.__name = name\n",
    "\n",
    "    def set_address(self, address):\n",
    "        self.__address = address\n",
    "\n",
    "    def set_contact_info(self, contact_info):\n",
    "        self.__contact_info = contact_info\n",
    "\n",
    "\n",
    "customer = Customer(\"Rahul\", \"123 Main St\", \"rjauhari@gmail.com\")\n",
    "\n",
    "\n",
    "print(\"Name:\", customer.get_name())  \n",
    "print(\"Address:\", customer.get_address())  \n",
    "print(\"Contact Info:\", customer.get_contact_info())  \n",
    "\n",
    "\n",
    "customer.set_address(\"456 Elm St\")\n",
    "customer.set_contact_info(\"rishabh@gmail.com\")\n",
    "\n",
    "print(\"Name:\", customer.get_name())  \n",
    "print(\"Address:\", customer.get_address())  \n",
    "print(\"Contact Info:\", customer.get_contact_info())  \n"
   ]
  },
  {
   "cell_type": "markdown",
   "id": "1ff72a02-3b75-4cc6-aeae-1ed844f55227",
   "metadata": {},
   "source": [
    "## Polymorphism"
   ]
  },
  {
   "cell_type": "markdown",
   "id": "f880228c-4039-4550-bd7a-65d3da4b6d5d",
   "metadata": {},
   "source": [
    "1. What is polymorphism in Python? Explain how it is related to object-oriented programming."
   ]
  },
  {
   "cell_type": "markdown",
   "id": "c1eea238-c2ca-4be5-9ef5-8a3921825bdc",
   "metadata": {},
   "source": [
    "Polymorphism in Python is a fundamental concept in object-oriented programming (OOP) that allows objects of different classes to be treated as objects of a common superclass. It enables you to write code that can work with objects of multiple classes in a consistent way."
   ]
  },
  {
   "cell_type": "markdown",
   "id": "d799dcf0-aaf1-4f15-8a64-cf52547e3514",
   "metadata": {},
   "source": [
    "2. Describe the difference between compile-time polymorphism and runtime polymorphism in Python."
   ]
  },
  {
   "cell_type": "markdown",
   "id": "cce144bc-cd9c-47d7-b044-359f754edbd3",
   "metadata": {},
   "source": [
    "Compile-time polymorphism: Also known as method overloading, it occurs during compile-time based on the number and types of arguments provided to a method. \n",
    "\n",
    "Runtime polymorphism: Also known as method overriding, it occurs at runtime when a subclass provides a specific implementation of a method that is already defined in its superclass. The method to execute is determined dynamically during runtime based on the object's actual class."
   ]
  },
  {
   "cell_type": "markdown",
   "id": "203e4927-f3b7-4131-8686-5199fae0b009",
   "metadata": {},
   "source": [
    "3. Create a Python class hierarchy for shapes (e.g., circle, square, triangle) and demonstrate polymorphism through a common method, such as calculate_area()."
   ]
  },
  {
   "cell_type": "code",
   "execution_count": 35,
   "id": "b0999f4e-3325-4d16-8568-84d40f1e8072",
   "metadata": {},
   "outputs": [
    {
     "name": "stdout",
     "output_type": "stream",
     "text": [
      "Area: 28.2735\n",
      "Area: 16\n",
      "Area: 15.0\n"
     ]
    }
   ],
   "source": [
    "class Shape:\n",
    "    def calculate_area(self):\n",
    "        pass\n",
    "\n",
    "class Circle(Shape):\n",
    "    def __init__(self, radius):\n",
    "        self.radius = radius\n",
    "\n",
    "    def calculate_area(self):\n",
    "        return 3.1415 * self.radius * self.radius\n",
    "\n",
    "class Square(Shape):\n",
    "    def __init__(self, side):\n",
    "        self.side = side\n",
    "\n",
    "    def calculate_area(self):\n",
    "        return self.side * self.side\n",
    "\n",
    "class Triangle(Shape):\n",
    "    def __init__(self, base, height):\n",
    "        self.base = base\n",
    "        self.height = height\n",
    "\n",
    "    def calculate_area(self):\n",
    "        return 0.5 * self.base * self.height\n",
    "\n",
    "\n",
    "shapes = [Circle(3), Square(4), Triangle(5, 6)]\n",
    "for shape in shapes:\n",
    "    print(f\"Area: {shape.calculate_area()}\")\n"
   ]
  },
  {
   "cell_type": "markdown",
   "id": "262f345d-2bdb-43dd-8895-eaad9090ccba",
   "metadata": {},
   "source": [
    "4. Explain the concept of method overriding in polymorphism. Provide an example."
   ]
  },
  {
   "cell_type": "markdown",
   "id": "f21e08bf-7540-4f2c-bfab-884c033528ce",
   "metadata": {},
   "source": [
    "Method overriding is a feature of polymorphism in which a subclass provides a specific implementation of a method that is already defined in its superclass. It allows a subclass to customize the behavior of a method inherited from the superclass."
   ]
  },
  {
   "cell_type": "code",
   "execution_count": 37,
   "id": "5950c3cf-00f2-4440-9004-1c1f0b04bf89",
   "metadata": {},
   "outputs": [
    {
     "name": "stdout",
     "output_type": "stream",
     "text": [
      "Woof!\n",
      "Meow!\n"
     ]
    }
   ],
   "source": [
    "class Animal:\n",
    "    def speak(self):\n",
    "        pass\n",
    "\n",
    "class Dog(Animal):\n",
    "    def speak(self):\n",
    "        return \"Woof!\"\n",
    "\n",
    "class Cat(Animal):\n",
    "    def speak(self):\n",
    "        return \"Meow!\"\n",
    "\n",
    "dog = Dog()\n",
    "cat = Cat()\n",
    "\n",
    "print(dog.speak())  \n",
    "print(cat.speak())  \n"
   ]
  },
  {
   "cell_type": "markdown",
   "id": "b4fdf220-3ec1-4487-b70a-5c8c335e0170",
   "metadata": {},
   "source": [
    "5. How is polymorphism different from method overloading in Python? Provide examples for both."
   ]
  },
  {
   "cell_type": "markdown",
   "id": "70248c20-481a-4966-81d7-dff9d3351eec",
   "metadata": {},
   "source": [
    "Polymorphism: Polymorphism allows objects of different classes to be treated as objects of a common superclass. It enables dynamic method dispatch and occurs at runtime."
   ]
  },
  {
   "cell_type": "code",
   "execution_count": 38,
   "id": "9f57bb2e-ce51-4d58-9de6-06e8f671751d",
   "metadata": {},
   "outputs": [
    {
     "name": "stdout",
     "output_type": "stream",
     "text": [
      "Woof!\n",
      "Meow!\n"
     ]
    }
   ],
   "source": [
    "class Animal:\n",
    "    def speak(self):\n",
    "        pass\n",
    "\n",
    "class Dog(Animal):\n",
    "    def speak(self):\n",
    "        return \"Woof!\"\n",
    "\n",
    "class Cat(Animal):\n",
    "    def speak(self):\n",
    "        return \"Meow!\"\n",
    "\n",
    "def animal_sound(animal):\n",
    "    return animal.speak()\n",
    "\n",
    "dog = Dog()\n",
    "cat = Cat()\n",
    "\n",
    "print(animal_sound(dog))  \n",
    "print(animal_sound(cat))  \n"
   ]
  },
  {
   "cell_type": "markdown",
   "id": "c5e9aab8-c1f8-4613-b072-7539bddea492",
   "metadata": {},
   "source": [
    "Method Overloading: Method overloading involves defining multiple methods with the same name in a class, differing in the number or types of their parameters. It is determined at compile-time."
   ]
  },
  {
   "cell_type": "code",
   "execution_count": 42,
   "id": "d93b6e12-a9d6-4d03-b010-345df8c8e160",
   "metadata": {},
   "outputs": [
    {
     "data": {
      "text/plain": [
       "6"
      ]
     },
     "execution_count": 42,
     "metadata": {},
     "output_type": "execute_result"
    }
   ],
   "source": [
    "class MathOperations:\n",
    "    def add(self, a, b):\n",
    "        return a + b\n",
    "\n",
    "    def add(self, a, b, c):\n",
    "        return a + b + c\n",
    "\n",
    "math = MathOperations()\n",
    "result = math.add(1, 2, 3) \n",
    "result"
   ]
  },
  {
   "cell_type": "markdown",
   "id": "548a3ee7-436e-476f-bc60-0c31daa4b8ef",
   "metadata": {},
   "source": [
    "6. Create a Python class called Animal with a method speak(). Then, create child classes like Dog, Cat, and Bird, each with their own speak() method. Demonstrate polymorphism by calling the speak() method on objects of different subclasses.\n",
    "\n",
    "7. Discuss the use of abstract methods and classes in achieving polymorphism in Python. Provide an example using the abc module."
   ]
  },
  {
   "cell_type": "markdown",
   "id": "6b532364-645d-4931-a150-fc22f291f6b6",
   "metadata": {},
   "source": [
    "**already done above**"
   ]
  },
  {
   "cell_type": "markdown",
   "id": "bec51e0b-70f0-4cf5-b9dd-052a31bb2ebc",
   "metadata": {},
   "source": [
    "8. Create a Python class hierarchy for a vehicle system (e.g., car, bicycle, boat) and implement a polymorphic start() method that prints a message specific to each vehicle type."
   ]
  },
  {
   "cell_type": "code",
   "execution_count": 47,
   "id": "89527bfb-b505-4968-8a09-ebb4cf864ac5",
   "metadata": {},
   "outputs": [
    {
     "ename": "NameError",
     "evalue": "name 'start_vehicle' is not defined",
     "output_type": "error",
     "traceback": [
      "\u001b[1;31m---------------------------------------------------------------------------\u001b[0m",
      "\u001b[1;31mNameError\u001b[0m                                 Traceback (most recent call last)",
      "Cell \u001b[1;32mIn[47], line 24\u001b[0m\n\u001b[0;32m     21\u001b[0m bicycle \u001b[38;5;241m=\u001b[39m Bicycle()\n\u001b[0;32m     22\u001b[0m boat \u001b[38;5;241m=\u001b[39m Boat()\n\u001b[1;32m---> 24\u001b[0m \u001b[38;5;28mprint\u001b[39m(\u001b[43mstart_vehicle\u001b[49m(car)) \n\u001b[0;32m     25\u001b[0m \u001b[38;5;28mprint\u001b[39m(start_vehicle(bicycle))  \n\u001b[0;32m     26\u001b[0m \u001b[38;5;28mprint\u001b[39m(start_vehicle(boat))  \n",
      "\u001b[1;31mNameError\u001b[0m: name 'start_vehicle' is not defined"
     ]
    }
   ],
   "source": [
    "class Vehicle:\n",
    "    def start(self):\n",
    "        pass\n",
    "\n",
    "class Car(Vehicle):\n",
    "    def start(self):\n",
    "        return \"Car engine started.\"\n",
    "\n",
    "class Bicycle(Vehicle):\n",
    "    def start(self):\n",
    "        return \"Pedaling the bicycle.\"\n",
    "\n",
    "class Boat(Vehicle):\n",
    "    def start(self):\n",
    "        return \"Starting boat's engine.\"\n",
    "\n",
    "    def start_vehicle(vehicle):\n",
    "        return vehicle.start()\n",
    "\n",
    "car = Car()\n",
    "bicycle = Bicycle()\n",
    "boat = Boat()\n",
    "\n",
    "print(start_vehicle(car)) \n",
    "print(start_vehicle(bicycle))  \n",
    "print(start_vehicle(boat))  "
   ]
  },
  {
   "cell_type": "markdown",
   "id": "d0cecb59-cf62-4718-a9bf-c374fb439520",
   "metadata": {},
   "source": [
    "9. Explain the significance of the 'isinstance()' and 'issubclass()' functions in Python polymorphism.\r\n",
    "10. What is the role of the`@abstrac tmetho` decorator in achieving polymorphism in Python? Provide an example.\r\n",
    "11. Create a Python class calle `Shae` with a polymorphic metho `area)` that calculates the area of different shapes (e.g., circle, rectangle, triangle).\r\n",
    "12. Discuss the benefits of polymorphism in terms of code reusability and flexibility in Python programs.\r\n",
    "13. Explain the use of he `supr()` function in Python polymorphism. How does it help call methods of parent classes?\r\n",
    "14. Create a Python class hierarchy for a banking system with various account types (e.g., savings, checking, credit card) and demonstrate polymorphism by implementing a co'withdraw()'t\n",
    "\n",
    "\n",
    "\n",
    "\n",
    "**already done above**hod.\r\n"
   ]
  },
  {
   "cell_type": "markdown",
   "id": "eed6be98-5259-4ed7-8a0e-f63396dc4cb1",
   "metadata": {},
   "source": [
    "15. Describe the concept of operator overloading in Python and how it relates to polymorphism. Provide examples using operators like + and *."
   ]
  },
  {
   "cell_type": "markdown",
   "id": "4bb5f10e-1ab9-41ae-8e98-21d127a79b95",
   "metadata": {},
   "source": [
    "Operator overloading allows you to define how operators like +, -, *, and others behave for objects of custom classes. "
   ]
  },
  {
   "cell_type": "code",
   "execution_count": 48,
   "id": "57347c7f-fece-4792-b470-3d1201a7c160",
   "metadata": {},
   "outputs": [
    {
     "name": "stdout",
     "output_type": "stream",
     "text": [
      "4 + 6i\n"
     ]
    }
   ],
   "source": [
    "class ComplexNumber:\n",
    "    def __init__(self, real, imag):\n",
    "        self.real = real\n",
    "        self.imag = imag\n",
    "\n",
    "    def __add__(self, other):\n",
    "        real_sum = self.real + other.real\n",
    "        imag_sum = self.imag + other.imag\n",
    "        return ComplexNumber(real_sum, imag_sum)\n",
    "\n",
    "    def __str__(self):\n",
    "        return f\"{self.real} + {self.imag}i\"\n",
    "\n",
    "num1 = ComplexNumber(3, 4)\n",
    "num2 = ComplexNumber(1, 2)\n",
    "result = num1 + num2 \n",
    "\n",
    "print(result) \n"
   ]
  },
  {
   "cell_type": "markdown",
   "id": "e2c7e4ac-ddf9-4e8a-8a16-a5b1f8b9da1c",
   "metadata": {},
   "source": [
    "16. What is dynamic polymorphism, and how is it achieved in Python?"
   ]
  },
  {
   "cell_type": "markdown",
   "id": "c4108034-bd17-445c-95d1-97b95c60695f",
   "metadata": {},
   "source": [
    "Dynamic polymorphism, also known as runtime polymorphism, is a form of polymorphism where the actual method to be executed is determined at runtime based on the specific object's class. When a subclass provides its own implementation of a method that is already defined in its superclass, dynamic polymorphism allows the execution of the method from the subclass, even when called through a reference to the superclass."
   ]
  },
  {
   "cell_type": "markdown",
   "id": "a133a367-ab28-4cbb-a8cb-d256ad3590aa",
   "metadata": {},
   "source": [
    "17. Create a Python class hierarchy for employees in a company (e.g., manager, developer, designer) and implement polymorphism through a common `calculate_salary()` method."
   ]
  },
  {
   "cell_type": "code",
   "execution_count": 50,
   "id": "c5e5990d-bacf-4e84-a472-147457cf8cba",
   "metadata": {},
   "outputs": [
    {
     "name": "stdout",
     "output_type": "stream",
     "text": [
      "Rishab's salary: $65000\n",
      "Rahul's salary: $53000\n",
      "Jathin's salary: $47000\n"
     ]
    }
   ],
   "source": [
    "class Employee:\n",
    "    def __init__(self, name, salary):\n",
    "        self.name = name\n",
    "        self.salary = salary\n",
    "\n",
    "    def calculate_salary(self):\n",
    "        return self.salary\n",
    "\n",
    "class Manager(Employee):\n",
    "    def calculate_salary(self):\n",
    "        return self.salary + 5000  \n",
    "\n",
    "class Developer(Employee):\n",
    "    def calculate_salary(self):\n",
    "        return self.salary + 3000 \n",
    "\n",
    "class Designer(Employee):\n",
    "    def calculate_salary(self):\n",
    "        return self.salary + 2000 \n",
    "\n",
    "employees = [Manager(\"Rishab\", 60000), Developer(\"Rahul\", 50000), Designer(\"Jathin\", 45000)]\n",
    "\n",
    "for employee in employees:\n",
    "    print(f\"{employee.name}'s salary: ${employee.calculate_salary()}\")\n"
   ]
  },
  {
   "cell_type": "markdown",
   "id": "9957319c-f097-45d6-b8b4-d885521ae9d8",
   "metadata": {},
   "source": [
    "18. Discuss the concept of function pointers and how they can be used to achieve polymorphism in Python."
   ]
  },
  {
   "cell_type": "markdown",
   "id": "cc2fa146-8795-4e90-97db-5b225768bb4d",
   "metadata": {},
   "source": [
    "Function pointers are not used in Python in the same way they are in languages like C. We can pass functions as arguments, return functions from other functions, and store functions in variables. This flexibility allows you to achieve polymorphism without explicit function pointers."
   ]
  },
  {
   "cell_type": "markdown",
   "id": "964b43e0-d4d7-46a3-b5d4-c9e7c1d0c544",
   "metadata": {},
   "source": [
    "19. Explain the role of interfaces and abstract classes in polymorphism, drawing comparisons between them."
   ]
  },
  {
   "cell_type": "markdown",
   "id": "809fda5b-770a-4bfd-9f38-38622d192c52",
   "metadata": {},
   "source": [
    "Interfaces: In Python, interfaces are not explicitly defined. Instead, they are created using abstract classes or base classes that define a common set of methods that must be implemented by their subclasses. Classes that implement the same set of methods can be used interchangeably.\n",
    "\n",
    "Abstract Classes: Abstract classes can be used to define a common interface by declaring abstract methods. These methods must be overridden by subclasses. Abstract classes may also include concrete methods. Subclasses of abstract classes inherit the common behavior and can be used polymorphically."
   ]
  },
  {
   "cell_type": "markdown",
   "id": "97f38577-0a98-4b58-a57d-6b0101bcdea4",
   "metadata": {},
   "source": [
    "20. Create a Python class for a zoo simulation, demonstrating polymorphism with different animal types (e.g., mammals, birds, reptiles) and their behavior (e.g., eating, sleeping, making sounds)."
   ]
  },
  {
   "cell_type": "code",
   "execution_count": 51,
   "id": "b45d510a-473c-43d8-96ef-36dc1d08138b",
   "metadata": {},
   "outputs": [
    {
     "name": "stdout",
     "output_type": "stream",
     "text": [
      "Lion is eating.\n",
      "Lion is sleeping.\n",
      "Lion the mammal makes a mammal sound.\n",
      "\n",
      "Eagle is eating.\n",
      "Eagle is sleeping.\n",
      "Eagle the bird makes a bird sound.\n",
      "\n",
      "Snake is eating.\n",
      "Snake is sleeping.\n",
      "Snake the reptile makes a reptile sound.\n",
      "\n"
     ]
    }
   ],
   "source": [
    "class Animal:\n",
    "    def __init__(self, name):\n",
    "        self.name = name\n",
    "\n",
    "    def eat(self):\n",
    "        return f\"{self.name} is eating.\"\n",
    "\n",
    "    def sleep(self):\n",
    "        return f\"{self.name} is sleeping.\"\n",
    "\n",
    "    def make_sound(self):\n",
    "        return f\"{self.name} makes a sound.\"\n",
    "\n",
    "class Mammal(Animal):\n",
    "    def make_sound(self):\n",
    "        return f\"{self.name} the mammal makes a mammal sound.\"\n",
    "\n",
    "class Bird(Animal):\n",
    "    def make_sound(self):\n",
    "        return f\"{self.name} the bird makes a bird sound.\"\n",
    "\n",
    "class Reptile(Animal):\n",
    "    def make_sound(self):\n",
    "        return f\"{self.name} the reptile makes a reptile sound.\"\n",
    "\n",
    "zoo = [Mammal(\"Lion\"), Bird(\"Eagle\"), Reptile(\"Snake\")]\n",
    "\n",
    "for animal in zoo:\n",
    "    print(animal.eat())\n",
    "    print(animal.sleep())\n",
    "    print(animal.make_sound())\n",
    "    print()\n"
   ]
  },
  {
   "cell_type": "markdown",
   "id": "76e23ed4-3188-44d1-8278-19ece3290fde",
   "metadata": {},
   "source": [
    "## Abstraction:"
   ]
  },
  {
   "cell_type": "markdown",
   "id": "7103984d-c86c-4855-a6e2-828b6b701964",
   "metadata": {},
   "source": [
    "1. Explain the concept of composition in Python and how it is used to build complex objects from simpler ones."
   ]
  },
  {
   "cell_type": "markdown",
   "id": "56399373-22c3-4bda-bb6e-974e85d675bf",
   "metadata": {},
   "source": [
    "Abstraction in Python is a fundamental concept in object-oriented programming (OOP) that involves simplifying complex systems by breaking them down into smaller, more manageable parts. It allows you to focus on the essential characteristics and behaviors of objects while hiding the unnecessary details."
   ]
  },
  {
   "cell_type": "markdown",
   "id": "ee6dd01c-006c-4a06-849b-823f10b5c037",
   "metadata": {},
   "source": [
    "2. Describe the difference between composition and inheritance in object-oriented programming."
   ]
  },
  {
   "cell_type": "markdown",
   "id": "622351b8-f0f3-4af9-8f50-8fddacd2fc55",
   "metadata": {},
   "source": [
    "In object-oriented programming, composition and inheritance are two fundamental techniques for establishing relationships between classes. Inheritance signifies an \"is-a\" relationship, where a subclass is a specialized version of a superclass, inheriting its attributes and behaviors, promoting code reuse. Composition, on the other hand, signifies a \"has-a\" relationship, where a class is composed of instances of other classes as components, promoting code reuse through the combination of various components. While inheritance can lead to rigid class hierarchies, composition offers more flexibility, encapsulating components within a class, enhancing data hiding and simplifying class relationships. The choice between these approaches depends on the specific requirements and relationships within a software design, often involving a mix of both techniques to create more flexible, maintainable, and scalable code."
   ]
  },
  {
   "cell_type": "markdown",
   "id": "4d03c09e-51bf-4a44-81be-d70ac36ab003",
   "metadata": {},
   "source": [
    "3. Create a Python class called `Author` with attributes for name and birthdate. Then, create a `Book` class that contains an instance of `Author` as a composition. Provide an example of creating a `Book` object."
   ]
  },
  {
   "cell_type": "code",
   "execution_count": 52,
   "id": "05c55856-7b71-482e-a557-93ba496c252b",
   "metadata": {},
   "outputs": [
    {
     "name": "stdout",
     "output_type": "stream",
     "text": [
      "Title: Harry Potter and the Sorcerer's Stone, Published: 1997\n",
      "Author: J.K. Rowling (Born: July 31, 1965)\n"
     ]
    }
   ],
   "source": [
    "class Author:\n",
    "    def __init__(self, name, birthdate):\n",
    "        self.name = name\n",
    "        self.birthdate = birthdate\n",
    "\n",
    "class Book:\n",
    "    def __init__(self, title, author, publication_year):\n",
    "        self.title = title\n",
    "        self.author = author\n",
    "        self.publication_year = publication_year\n",
    "\n",
    "    def display_info(self):\n",
    "        author_info = f\"Author: {self.author.name} (Born: {self.author.birthdate})\"\n",
    "        book_info = f\"Title: {self.title}, Published: {self.publication_year}\"\n",
    "        return f\"{book_info}\\n{author_info}\"\n",
    "\n",
    "# Create an Author object\n",
    "author1 = Author(\"J.K. Rowling\", \"July 31, 1965\")\n",
    "\n",
    "# Create a Book object with the Author as a component\n",
    "book1 = Book(\"Harry Potter and the Sorcerer's Stone\", author1, 1997)\n",
    "\n",
    "# Display book information\n",
    "print(book1.display_info())\n"
   ]
  },
  {
   "cell_type": "markdown",
   "id": "8e190fa6-262f-4530-bb40-1fe4df399506",
   "metadata": {},
   "source": [
    "4. Discuss the benefits of using composition over inheritance in Python, especially in terms of code flexibility and reusability."
   ]
  },
  {
   "cell_type": "markdown",
   "id": "b81ebfba-b3e0-4dc6-b6c1-7194ff6a45de",
   "metadata": {},
   "source": [
    "**already done above**"
   ]
  },
  {
   "cell_type": "markdown",
   "id": "097bb457-2ae1-4912-ab2e-ffededa69e83",
   "metadata": {},
   "source": [
    "5. How can you implement composition in Python classes? Provide examples of using composition to create complex objects."
   ]
  },
  {
   "cell_type": "markdown",
   "id": "398f72e4-4694-4d9b-8f39-66371f6380e2",
   "metadata": {},
   "source": [
    "Composition in Python classes is implemented by creating objects of one class within another class to build more complex objects. Here are some examples of how to use composition to create complex objects:"
   ]
  },
  {
   "cell_type": "code",
   "execution_count": 53,
   "id": "171c06a2-2cf2-4ea1-91ad-dbc81ced46d0",
   "metadata": {},
   "outputs": [
    {
     "name": "stdout",
     "output_type": "stream",
     "text": [
      "Engine started\n",
      "Wheels are rotating\n",
      "Car is moving\n"
     ]
    }
   ],
   "source": [
    "class Engine:\n",
    "    def start(self):\n",
    "        print(\"Engine started\")\n",
    "\n",
    "class Wheels:\n",
    "    def rotate(self):\n",
    "        print(\"Wheels are rotating\")\n",
    "\n",
    "class Car:\n",
    "    def __init__(self):\n",
    "        self.engine = Engine()\n",
    "        self.wheels = Wheels()\n",
    "\n",
    "    def drive(self):\n",
    "        self.engine.start()\n",
    "        self.wheels.rotate()\n",
    "        print(\"Car is moving\")\n",
    "\n",
    "my_car = Car()\n",
    "my_car.drive()\n"
   ]
  },
  {
   "cell_type": "markdown",
   "id": "51b77349-8135-4f89-a689-38ee8fcfacaa",
   "metadata": {},
   "source": [
    "6. Create a Python class hierarchy for a music player system, using composition to represent playlists and songs."
   ]
  },
  {
   "cell_type": "code",
   "execution_count": 54,
   "id": "2e383fad-daee-4d12-b4ec-db33c633fa35",
   "metadata": {},
   "outputs": [
    {
     "name": "stdout",
     "output_type": "stream",
     "text": [
      "Playlist: My Favorites\n",
      "1. Song 1 by Artist 1\n",
      "2. Song 2 by Artist 2\n",
      "3. Song 3 by Artist 3\n"
     ]
    }
   ],
   "source": [
    "class Song:\n",
    "    def __init__(self, title, artist, duration):\n",
    "        self.title = title\n",
    "        self.artist = artist\n",
    "        self.duration = duration\n",
    "\n",
    "class Playlist:\n",
    "    def __init__(self, name):\n",
    "        self.name = name\n",
    "        self.songs = []\n",
    "\n",
    "    def add_song(self, song):\n",
    "        self.songs.append(song)\n",
    "\n",
    "    def list_songs(self):\n",
    "        for i, song in enumerate(self.songs, start=1):\n",
    "            print(f\"{i}. {song.title} by {song.artist}\")\n",
    "\n",
    "# Creating songs\n",
    "song1 = Song(\"Song 1\", \"Artist 1\", \"3:30\")\n",
    "song2 = Song(\"Song 2\", \"Artist 2\", \"4:15\")\n",
    "song3 = Song(\"Song 3\", \"Artist 3\", \"2:50\")\n",
    "\n",
    "# Creating a playlist\n",
    "my_playlist = Playlist(\"My Favorites\")\n",
    "my_playlist.add_song(song1)\n",
    "my_playlist.add_song(song2)\n",
    "my_playlist.add_song(song3)\n",
    "\n",
    "# Listing songs in the playlist\n",
    "print(f\"Playlist: {my_playlist.name}\")\n",
    "my_playlist.list_songs()\n"
   ]
  },
  {
   "cell_type": "markdown",
   "id": "e8594715-dc61-4462-8d86-4072d26a739b",
   "metadata": {},
   "source": [
    "7. Explain the concept of \"has-a\" relationships in composition and how it helps design software systems."
   ]
  },
  {
   "cell_type": "markdown",
   "id": "843b8bbf-efa4-41e3-88d2-3c8de2e5060a",
   "metadata": {},
   "source": [
    "In composition, a \"has-a\" relationship means that a class contains or is composed of objects of another class. This relationship helps design software systems by allowing complex objects to be built from simpler components. It promotes modularity, code reuse, and maintainability. "
   ]
  },
  {
   "cell_type": "markdown",
   "id": "f10ad45e-121f-46c0-875b-3ff7906072e2",
   "metadata": {},
   "source": [
    "8. Create a Python class for a computer system, using composition to represent components like CPU, RAM, and storage devices."
   ]
  },
  {
   "cell_type": "code",
   "execution_count": 55,
   "id": "3237e833-de88-4899-ae6d-39c6017781c0",
   "metadata": {},
   "outputs": [
    {
     "name": "stdout",
     "output_type": "stream",
     "text": [
      "CPU is processing data\n",
      "RAM is storing data\n",
      "Storage device is reading data\n",
      "Computer is operational\n"
     ]
    }
   ],
   "source": [
    "class CPU:\n",
    "    def process(self):\n",
    "        print(\"CPU is processing data\")\n",
    "\n",
    "class RAM:\n",
    "    def store(self):\n",
    "        print(\"RAM is storing data\")\n",
    "\n",
    "class Storage:\n",
    "    def read(self):\n",
    "        print(\"Storage device is reading data\")\n",
    "\n",
    "class Computer:\n",
    "    def __init__(self):\n",
    "        self.cpu = CPU()\n",
    "        self.ram = RAM()\n",
    "        self.storage = Storage()\n",
    "\n",
    "    def run(self):\n",
    "        self.cpu.process()\n",
    "        self.ram.store()\n",
    "        self.storage.read()\n",
    "        print(\"Computer is operational\")\n",
    "\n",
    "my_computer = Computer()\n",
    "my_computer.run()\n"
   ]
  },
  {
   "cell_type": "markdown",
   "id": "b8aca375-1b43-4872-bfcd-aafb1d3af70a",
   "metadata": {},
   "source": [
    "9. Describe the concept of \"delegation\" in composition and how it simplifies the design of complex systems."
   ]
  },
  {
   "cell_type": "markdown",
   "id": "fdd805e0-db0c-4503-a875-25602dd64ba3",
   "metadata": {},
   "source": [
    "Delegation in composition simplifies the design of complex systems by allowing objects to delegate tasks to their components. In the computer example, the Computer class delegates tasks to its components (CPU, RAM, and Storage), allowing each component to focus on its specific functionality. "
   ]
  },
  {
   "cell_type": "markdown",
   "id": "22c3fab5-7bf2-4be1-83c1-66b8dffa0c82",
   "metadata": {},
   "source": [
    "10. Create a Python class for a car, using composition to represent components like the engine, wheels, and transmission."
   ]
  },
  {
   "cell_type": "code",
   "execution_count": 56,
   "id": "7ba94b3d-480a-4466-ac7d-5082acea8758",
   "metadata": {},
   "outputs": [
    {
     "name": "stdout",
     "output_type": "stream",
     "text": [
      "Engine started\n",
      "Transmission shifted to a higher gear\n",
      "Wheels are rotating\n",
      "Car is moving\n"
     ]
    }
   ],
   "source": [
    "class Engine:\n",
    "    def start(self):\n",
    "        print(\"Engine started\")\n",
    "\n",
    "class Wheels:\n",
    "    def rotate(self):\n",
    "        print(\"Wheels are rotating\")\n",
    "\n",
    "class Transmission:\n",
    "    def shift_gear(self):\n",
    "        print(\"Transmission shifted to a higher gear\")\n",
    "\n",
    "class Car:\n",
    "    def __init__(self):\n",
    "        self.engine = Engine()\n",
    "        self.wheels = Wheels()\n",
    "        self.transmission = Transmission()\n",
    "\n",
    "    def drive(self):\n",
    "        self.engine.start()\n",
    "        self.transmission.shift_gear()\n",
    "        self.wheels.rotate()\n",
    "        print(\"Car is moving\")\n",
    "\n",
    "my_car = Car()\n",
    "my_car.drive()\n"
   ]
  },
  {
   "cell_type": "markdown",
   "id": "2e8f90ac-8800-4078-929e-21db8325edf4",
   "metadata": {},
   "source": [
    "12. Create a Python class for a university course, using composition to represent students, instructors, and course materials."
   ]
  },
  {
   "cell_type": "code",
   "execution_count": 57,
   "id": "8e2a484a-5ffa-46ec-8e53-792d57c19fc6",
   "metadata": {},
   "outputs": [
    {
     "name": "stdout",
     "output_type": "stream",
     "text": [
      "Alice has enrolled in Computer Science 101\n",
      "Bob has enrolled in Computer Science 101\n",
      "Dr. Smith is assigned as the instructor for Computer Science 101\n",
      "Students enrolled in Computer Science 101\n",
      "Student 1: Alice\n",
      "Student 2: Bob\n",
      "Instructor for Computer Science 101\n",
      "Instructor 101: Dr. Smith\n",
      "Course Materials for Computer Science 101\n",
      "Course Material: Lecture 1\n",
      "Course Material: Assignment 1\n"
     ]
    }
   ],
   "source": [
    "class Student:\n",
    "    def __init__(self, student_id, name):\n",
    "        self.student_id = student_id\n",
    "        self.name = name\n",
    "\n",
    "    def enroll(self, course):\n",
    "        course.add_student(self)\n",
    "        print(f\"{self.name} has enrolled in {course.title}\")\n",
    "\n",
    "    def __str__(self):\n",
    "        return f\"Student {self.student_id}: {self.name}\"\n",
    "\n",
    "class Instructor:\n",
    "    def __init__(self, instructor_id, name):\n",
    "        self.instructor_id = instructor_id\n",
    "        self.name = name\n",
    "\n",
    "    def assign(self, course):\n",
    "        course.assign_instructor(self)\n",
    "        print(f\"{self.name} is assigned as the instructor for {course.title}\")\n",
    "\n",
    "    def __str__(self):\n",
    "        return f\"Instructor {self.instructor_id}: {self.name}\"\n",
    "\n",
    "class CourseMaterial:\n",
    "    def __init__(self, title, content):\n",
    "        self.title = title\n",
    "        self.content = content\n",
    "\n",
    "    def __str__(self):\n",
    "        return f\"Course Material: {self.title}\"\n",
    "\n",
    "class UniversityCourse:\n",
    "    def __init__(self, title):\n",
    "        self.title = title\n",
    "        self.students = []\n",
    "        self.instructor = None\n",
    "        self.course_materials = []\n",
    "\n",
    "    def add_student(self, student):\n",
    "        self.students.append(student)\n",
    "\n",
    "    def assign_instructor(self, instructor):\n",
    "        self.instructor = instructor\n",
    "\n",
    "    def add_course_material(self, course_material):\n",
    "        self.course_materials.append(course_material)\n",
    "\n",
    "    def list_students(self):\n",
    "        print(\"Students enrolled in\", self.title)\n",
    "        for student in self.students:\n",
    "            print(student)\n",
    "\n",
    "    def list_instructor(self):\n",
    "        print(\"Instructor for\", self.title)\n",
    "        print(self.instructor)\n",
    "\n",
    "    def list_course_materials(self):\n",
    "        print(\"Course Materials for\", self.title)\n",
    "        for material in self.course_materials:\n",
    "            print(material)\n",
    "\n",
    "# Create students\n",
    "student1 = Student(1, \"Alice\")\n",
    "student2 = Student(2, \"Bob\")\n",
    "\n",
    "# Create instructor\n",
    "instructor = Instructor(101, \"Dr. Smith\")\n",
    "\n",
    "# Create course materials\n",
    "material1 = CourseMaterial(\"Lecture 1\", \"Introduction to the course.\")\n",
    "material2 = CourseMaterial(\"Assignment 1\", \"Instructions for the first assignment.\")\n",
    "\n",
    "# Create a university course and associate students, instructor, and materials\n",
    "course = UniversityCourse(\"Computer Science 101\")\n",
    "student1.enroll(course)\n",
    "student2.enroll(course)\n",
    "instructor.assign(course)\n",
    "course.add_course_material(material1)\n",
    "course.add_course_material(material2)\n",
    "\n",
    "# List course details\n",
    "course.list_students()\n",
    "course.list_instructor()\n",
    "course.list_course_materials()\n"
   ]
  },
  {
   "cell_type": "markdown",
   "id": "b90f2c1f-0281-4215-84ef-598eb0053c8c",
   "metadata": {},
   "source": [
    "13. Discuss the challenges and drawbacks of composition, such as increased complexity and potential for tight coupling between objects.\n",
    "14. Create a Python class hierarchy for a restaurant system, using composition to represent menus, dishes, and ingredients.\r\n",
    "15. Explain how composition enhances code maintainability and modularity in Python programs.\r\n"
   ]
  },
  {
   "cell_type": "markdown",
   "id": "7d32c5a8-002d-4c04-9a66-133530b1418e",
   "metadata": {},
   "source": [
    "**already done above**"
   ]
  },
  {
   "cell_type": "markdown",
   "id": "a221af71-97f2-46cd-a83c-c248f8043140",
   "metadata": {},
   "source": [
    "16. Create a Python class for a computer game character, using composition to represent attributes like weapons, armor, and inventory."
   ]
  },
  {
   "cell_type": "code",
   "execution_count": 58,
   "id": "ee73cbae-db7d-4164-a70e-48977546c475",
   "metadata": {},
   "outputs": [
    {
     "name": "stdout",
     "output_type": "stream",
     "text": [
      "Hero equips Sword.\n",
      "Hero wears Shield.\n",
      "Added Health Potion to the inventory.\n",
      "Added Gold Coin to the inventory.\n",
      "Hero's Attributes:\n",
      "Weapon: Sword\n",
      "Armor: Shield\n",
      "Hero's Inventory:\n",
      "Health Potion\n",
      "Gold Coin\n"
     ]
    }
   ],
   "source": [
    "class Weapon:\n",
    "    def __init__(self, name, damage):\n",
    "        self.name = name\n",
    "        self.damage = damage\n",
    "\n",
    "    def attack(self):\n",
    "        print(f\"Attacking with {self.name} for {self.damage} damage.\")\n",
    "\n",
    "class Armor:\n",
    "    def __init__(self, name, defense):\n",
    "        self.name = name\n",
    "        self.defense = defense\n",
    "\n",
    "    def protect(self):\n",
    "        print(f\"Wearing {self.name} for {self.defense} defense.\")\n",
    "\n",
    "class Inventory:\n",
    "    def __init__(self):\n",
    "        self.items = []\n",
    "\n",
    "    def add_item(self, item):\n",
    "        self.items.append(item)\n",
    "        print(f\"Added {item} to the inventory.\")\n",
    "\n",
    "class GameCharacter:\n",
    "    def __init__(self, name):\n",
    "        self.name = name\n",
    "        self.weapon = None\n",
    "        self.armor = None\n",
    "        self.inventory = Inventory()\n",
    "\n",
    "    def equip_weapon(self, weapon):\n",
    "        self.weapon = weapon\n",
    "        print(f\"{self.name} equips {weapon.name}.\")\n",
    "\n",
    "    def wear_armor(self, armor):\n",
    "        self.armor = armor\n",
    "        print(f\"{self.name} wears {armor.name}.\")\n",
    "\n",
    "    def show_inventory(self):\n",
    "        print(f\"{self.name}'s Inventory:\")\n",
    "        for item in self.inventory.items:\n",
    "            print(item)\n",
    "\n",
    "# Create weapons and armor\n",
    "sword = Weapon(\"Sword\", 20)\n",
    "shield = Armor(\"Shield\", 10)\n",
    "\n",
    "# Create a game character and equip them\n",
    "character = GameCharacter(\"Hero\")\n",
    "character.equip_weapon(sword)\n",
    "character.wear_armor(shield)\n",
    "\n",
    "# Add items to the character's inventory\n",
    "potion = \"Health Potion\"\n",
    "gold = \"Gold Coin\"\n",
    "character.inventory.add_item(potion)\n",
    "character.inventory.add_item(gold)\n",
    "\n",
    "print(f\"{character.name}'s Attributes:\")\n",
    "print(f\"Weapon: {character.weapon.name if character.weapon else 'None'}\")\n",
    "print(f\"Armor: {character.armor.name if character.armor else 'None'}\")\n",
    "\n",
    "character.show_inventory()\n"
   ]
  },
  {
   "cell_type": "markdown",
   "id": "482566d1-1fd9-4a4f-bc7b-f6936c98fc11",
   "metadata": {},
   "source": [
    "17. Describe the concept of \"aggregation\" in composition and how it differs from simple composition."
   ]
  },
  {
   "cell_type": "markdown",
   "id": "47403ef3-0ad7-4931-a082-fd2b79bc399d",
   "metadata": {},
   "source": [
    "Composition:\r\n",
    "\r\n",
    "In simple composition, the containing object (or the whole) has a strong ownership relationship with the contained objects (or the parts).\r\n",
    "The contained objects are typically created, managed, and destroyed along with the containing object.\r\n",
    "If the containing object is destroyed, the contained objects are also typically destroyed.\r\n",
    "Composition is used when the lifetime of the parts is tightly coupled with the lifetime of the whole, and the parts cannot exist independ\n",
    "tion:\r\n",
    "\r\n",
    "In aggregation, the containing object has a weaker ownership relationship with the contained objects.\r\n",
    "The contained objects may have an independent lifecycle and can exist on their own.\r\n",
    "If the containing object is destroyed, the contained objects can continue to exist and may be associated with other objects or instances.\r\n",
    "Aggregation is used when the parts can exist independently or are shared among multiple whole objects."
   ]
  },
  {
   "cell_type": "markdown",
   "id": "47aadc1b-bd52-43e8-8687-ff82f2a92d80",
   "metadata": {},
   "source": [
    "18. Create a Python class for a house, using composition to represent rooms, furniture, and appliances."
   ]
  },
  {
   "cell_type": "code",
   "execution_count": 59,
   "id": "02890894-78d5-40d0-b9e9-184a0cd24705",
   "metadata": {},
   "outputs": [
    {
     "name": "stdout",
     "output_type": "stream",
     "text": [
      "House at 123 Main St. contains the following rooms:\n",
      "Room: Living Room\n",
      "  Furniture:\n",
      "    - Furniture: Sofa\n",
      "    - Furniture: Coffee Table\n",
      "  Appliances:\n",
      "    - Appliance: TV\n",
      "Room: Kitchen\n",
      "  Furniture:\n",
      "    - Furniture: Dining Table\n",
      "  Appliances:\n",
      "    - Appliance: Refrigerator\n",
      "    - Appliance: Microwave\n",
      "Room: Bedroom\n",
      "  Furniture:\n",
      "    - Furniture: Bed\n",
      "    - Furniture: Wardrobe\n",
      "  Appliances:\n",
      "    - Appliance: Lamp\n"
     ]
    }
   ],
   "source": [
    "class House:\n",
    "    def __init__(self, address):\n",
    "        self.address = address\n",
    "        self.rooms = []\n",
    "\n",
    "    def add_room(self, room):\n",
    "        if isinstance(room, Room):\n",
    "            self.rooms.append(room)\n",
    "        else:\n",
    "            print(\"Invalid room type. Cannot add to the house.\")\n",
    "\n",
    "    def describe(self):\n",
    "        print(f\"House at {self.address} contains the following rooms:\")\n",
    "        for room in self.rooms:\n",
    "            room.describe()\n",
    "\n",
    "class Room:\n",
    "    def __init__(self, name):\n",
    "        self.name = name\n",
    "        self.furniture = []\n",
    "        self.appliances = []\n",
    "\n",
    "    def add_furniture(self, furniture):\n",
    "        if isinstance(furniture, Furniture):\n",
    "            self.furniture.append(furniture)\n",
    "        else:\n",
    "            print(\"Invalid furniture type. Cannot add to the room.\")\n",
    "\n",
    "    def add_appliance(self, appliance):\n",
    "        if isinstance(appliance, Appliance):\n",
    "            self.appliances.append(appliance)\n",
    "        else:\n",
    "            print(\"Invalid appliance type. Cannot add to the room.\")\n",
    "\n",
    "    def describe(self):\n",
    "        print(f\"Room: {self.name}\")\n",
    "        if self.furniture:\n",
    "            print(\"  Furniture:\")\n",
    "            for item in self.furniture:\n",
    "                item.describe()\n",
    "        if self.appliances:\n",
    "            print(\"  Appliances:\")\n",
    "            for item in self.appliances:\n",
    "                item.describe()\n",
    "\n",
    "class Furniture:\n",
    "    def __init__(self, name):\n",
    "        self.name = name\n",
    "\n",
    "    def describe(self):\n",
    "        print(f\"    - Furniture: {self.name}\")\n",
    "\n",
    "class Appliance:\n",
    "    def __init__(self, name):\n",
    "        self.name = name\n",
    "\n",
    "    def describe(self):\n",
    "        print(f\"    - Appliance: {self.name}\")\n",
    "\n",
    "\n",
    "my_house = House(\"123 Main St.\")\n",
    "living_room = Room(\"Living Room\")\n",
    "kitchen = Room(\"Kitchen\")\n",
    "bedroom = Room(\"Bedroom\")\n",
    "\n",
    "\n",
    "living_room.add_furniture(Furniture(\"Sofa\"))\n",
    "living_room.add_furniture(Furniture(\"Coffee Table\"))\n",
    "living_room.add_appliance(Appliance(\"TV\"))\n",
    "\n",
    "kitchen.add_furniture(Furniture(\"Dining Table\"))\n",
    "kitchen.add_appliance(Appliance(\"Refrigerator\"))\n",
    "kitchen.add_appliance(Appliance(\"Microwave\"))\n",
    "\n",
    "bedroom.add_furniture(Furniture(\"Bed\"))\n",
    "bedroom.add_furniture(Furniture(\"Wardrobe\"))\n",
    "bedroom.add_appliance(Appliance(\"Lamp\"))\n",
    "\n",
    "\n",
    "my_house.add_room(living_room)\n",
    "my_house.add_room(kitchen)\n",
    "my_house.add_room(bedroom)\n",
    "\n",
    "\n",
    "my_house.describe()\n"
   ]
  },
  {
   "cell_type": "markdown",
   "id": "9350596c-02b3-4612-b2fa-4490a6e5bb33",
   "metadata": {},
   "source": [
    "19. How can you achieve flexibility in composed objects by allowing them to be replaced or modified dynamically at runtime?"
   ]
  },
  {
   "cell_type": "markdown",
   "id": "866406cd-a299-40d1-9349-5a56de7cd466",
   "metadata": {},
   "source": [
    "To achieve flexibility in composed objects by allowing them to be replaced or modified dynamically at runtime, you can design your classes to support dynamic updates, such as adding or replacing components. In Python, this can be done by providing methods for adding, removing, or replacing components within a composed object."
   ]
  },
  {
   "cell_type": "markdown",
   "id": "1c5692a9-2b10-45f4-a7d4-25a7eb57b48e",
   "metadata": {},
   "source": [
    "20. Create a Python class for a social media application, using composition to represent users, posts, and comments."
   ]
  },
  {
   "cell_type": "code",
   "execution_count": 61,
   "id": "8922797a-e722-421a-9598-8f810bfe92b8",
   "metadata": {},
   "outputs": [
    {
     "name": "stdout",
     "output_type": "stream",
     "text": [
      "Social Media App: MySocialApp\n",
      "Users:\n",
      "  User: Alice\n",
      "    Posts:\n",
      "    Post: Hello, world!\n",
      "      Comments:\n",
      "        Comment: I agree with you.\n",
      "    Post: Python is awesome!\n",
      "      Comments:\n",
      "        Comment: Great post!\n",
      "  User: Bob\n",
      "Posts:\n"
     ]
    }
   ],
   "source": [
    "class SocialMediaApp:\n",
    "    def __init__(self, name):\n",
    "        self.name = name\n",
    "        self.users = []\n",
    "        self.posts = []\n",
    "\n",
    "    def add_user(self, user):\n",
    "        if isinstance(user, User):\n",
    "            self.users.append(user)\n",
    "        else:\n",
    "            print(\"Invalid user type. Cannot add to the social media app.\")\n",
    "\n",
    "    def add_post(self, post):\n",
    "        if isinstance(post, Post):\n",
    "            self.posts.append(post)\n",
    "        else:\n",
    "            print(\"Invalid post type. Cannot add to the social media app.\")\n",
    "\n",
    "    def remove_user(self, user):\n",
    "        if user in self.users:\n",
    "            self.users.remove(user)\n",
    "        else:\n",
    "            print(\"User not found in the social media app.\")\n",
    "\n",
    "    def remove_post(self, post):\n",
    "        if post in self.posts:\n",
    "            self.posts.remove(post)\n",
    "        else:\n",
    "            print(\"Post not found in the social media app.\")\n",
    "\n",
    "    def describe(self):\n",
    "        print(f\"Social Media App: {self.name}\")\n",
    "        print(\"Users:\")\n",
    "        for user in self.users:\n",
    "            user.describe()\n",
    "        print(\"Posts:\")\n",
    "        for post in self.posts:\n",
    "            post.describe()\n",
    "\n",
    "class User:\n",
    "    def __init__(self, username):\n",
    "        self.username = username\n",
    "        self.posts = []\n",
    "\n",
    "    def add_post(self, post):\n",
    "        if isinstance(post, Post):\n",
    "            self.posts.append(post)\n",
    "        else:\n",
    "            print(\"Invalid post type. Cannot add to the user.\")\n",
    "\n",
    "    def describe(self):\n",
    "        print(f\"  User: {self.username}\")\n",
    "        if self.posts:\n",
    "            print(\"    Posts:\")\n",
    "            for post in self.posts:\n",
    "                post.describe()\n",
    "\n",
    "class Post:\n",
    "    def __init__(self, content):\n",
    "        self.content = content\n",
    "        self.comments = []\n",
    "\n",
    "    def add_comment(self, comment):\n",
    "        if isinstance(comment, Comment):\n",
    "            self.comments.append(comment)\n",
    "        else:\n",
    "            print(\"Invalid comment type. Cannot add to the post.\")\n",
    "\n",
    "    def describe(self):\n",
    "        print(f\"    Post: {self.content}\")\n",
    "        if self.comments:\n",
    "            print(\"      Comments:\")\n",
    "            for comment in self.comments:\n",
    "                comment.describe()\n",
    "\n",
    "class Comment:\n",
    "    def __init__(self, text):\n",
    "        self.text = text\n",
    "\n",
    "    def describe(self):\n",
    "        print(f\"        Comment: {self.text}\")\n",
    "\n",
    "# Create a social media app and its components\n",
    "my_app = SocialMediaApp(\"MySocialApp\")\n",
    "alice = User(\"Alice\")\n",
    "bob = User(\"Bob\")\n",
    "post1 = Post(\"Hello, world!\")\n",
    "post2 = Post(\"Python is awesome!\")\n",
    "comment1 = Comment(\"I agree with you.\")\n",
    "comment2 = Comment(\"Great post!\")\n",
    "\n",
    "# Add users, posts, and comments to the app\n",
    "my_app.add_user(alice)\n",
    "my_app.add_user(bob)\n",
    "alice.add_post(post1)\n",
    "alice.add_post(post2)\n",
    "post1.add_comment(comment1)\n",
    "post2.add_comment(comment2)\n",
    "\n",
    "\n",
    "my_app.describe()\n"
   ]
  }
 ],
 "metadata": {
  "kernelspec": {
   "display_name": "Python 3 (ipykernel)",
   "language": "python",
   "name": "python3"
  },
  "language_info": {
   "codemirror_mode": {
    "name": "ipython",
    "version": 3
   },
   "file_extension": ".py",
   "mimetype": "text/x-python",
   "name": "python",
   "nbconvert_exporter": "python",
   "pygments_lexer": "ipython3",
   "version": "3.12.0"
  },
  "widgets": {
   "application/vnd.jupyter.widget-state+json": {
    "state": {},
    "version_major": 2,
    "version_minor": 0
   }
  }
 },
 "nbformat": 4,
 "nbformat_minor": 5
}
