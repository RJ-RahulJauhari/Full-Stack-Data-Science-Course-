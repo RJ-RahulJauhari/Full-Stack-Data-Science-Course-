{
 "cells": [
  {
   "cell_type": "markdown",
   "id": "baa60da4-eae0-467d-a3e2-3877edd07f75",
   "metadata": {},
   "source": [
    "# Practice Questions Assignment"
   ]
  },
  {
   "cell_type": "markdown",
   "id": "d52368ce-8dce-4f82-962a-db711861be95",
   "metadata": {},
   "source": [
    "**Rahul Jauhari**"
   ]
  },
  {
   "cell_type": "markdown",
   "id": "f7a153c3-d02f-4e35-ae31-eb7b7353a716",
   "metadata": {},
   "source": [
    "## TOPIC: String Based Assignment Problem"
   ]
  },
  {
   "cell_type": "markdown",
   "id": "732329d9-8635-4597-933b-10c2a9595f75",
   "metadata": {},
   "source": [
    "1. Write a program to reverse a string."
   ]
  },
  {
   "cell_type": "code",
   "execution_count": 305,
   "id": "b19da9b5-ae3e-4371-8cd4-886ef62390b0",
   "metadata": {},
   "outputs": [
    {
     "name": "stdout",
     "output_type": "stream",
     "text": [
      "luhaR\n"
     ]
    }
   ],
   "source": [
    "def reverseString(string):\n",
    "    return string[::-1]\n",
    "\n",
    "print(reverseString(\"Rahul\"))"
   ]
  },
  {
   "cell_type": "markdown",
   "id": "8091b088-e74b-4aa0-b78a-94b476d6fec7",
   "metadata": {},
   "source": [
    "2. Check if a string is a palindrome."
   ]
  },
  {
   "cell_type": "code",
   "execution_count": 306,
   "id": "788cac79-74b0-402c-89a9-11e6298a0fec",
   "metadata": {},
   "outputs": [
    {
     "name": "stdout",
     "output_type": "stream",
     "text": [
      "True\n"
     ]
    }
   ],
   "source": [
    "# Here we can use the above function to check if the string is a palindrome or not\n",
    "\n",
    "def isPalindrome(string):\n",
    "    if string == reverseString(string):\n",
    "        return True\n",
    "    else:\n",
    "        return False\n",
    "\n",
    "print(isPalindrome(\"racecar\"))"
   ]
  },
  {
   "cell_type": "markdown",
   "id": "17eec834-917f-4634-a169-99b282573746",
   "metadata": {},
   "source": [
    "3. Convert a string to uppercase."
   ]
  },
  {
   "cell_type": "code",
   "execution_count": 307,
   "id": "3a595210-feab-48dd-a76a-59406abe454e",
   "metadata": {},
   "outputs": [
    {
     "name": "stdout",
     "output_type": "stream",
     "text": [
      "RAHUL\n"
     ]
    }
   ],
   "source": [
    "def convertToUppercase(string):\n",
    "    return string.upper()\n",
    "    \n",
    "print(convertToUppercase(\"rahul\"))"
   ]
  },
  {
   "cell_type": "markdown",
   "id": "47a172ad-692e-4bbf-9757-fd5e6f434e4e",
   "metadata": {},
   "source": [
    "4. Convert a string to lowercase."
   ]
  },
  {
   "cell_type": "code",
   "execution_count": 308,
   "id": "1b78390c-26f2-4978-9033-738ee20db3a8",
   "metadata": {},
   "outputs": [
    {
     "name": "stdout",
     "output_type": "stream",
     "text": [
      "rahul\n"
     ]
    }
   ],
   "source": [
    "def convertToLowercase(string):\n",
    "    return string.lower()\n",
    "    \n",
    "print(convertToLowercase(\"RAHUL\"))"
   ]
  },
  {
   "cell_type": "markdown",
   "id": "7ef31948-a328-44ab-a93a-649f6f368654",
   "metadata": {},
   "source": [
    "5. Count the number of vowels in a string."
   ]
  },
  {
   "cell_type": "code",
   "execution_count": 309,
   "id": "6d4b1bcd-f9d7-410c-90c4-b269fdc96428",
   "metadata": {},
   "outputs": [
    {
     "name": "stdout",
     "output_type": "stream",
     "text": [
      "6\n"
     ]
    }
   ],
   "source": [
    "def countVowels(string):\n",
    "    count = 0\n",
    "    for letter in convertToLowercase(string):\n",
    "        if letter in ['a','e','i','o','u']:\n",
    "            count+=1\n",
    "    return count\n",
    "\n",
    "print(countVowels(\"Hello Everyone\"))"
   ]
  },
  {
   "cell_type": "markdown",
   "id": "913441e4-6427-4c93-90cc-6d00acd29657",
   "metadata": {},
   "source": [
    "6. Count the number of consonants in a string."
   ]
  },
  {
   "cell_type": "code",
   "execution_count": 310,
   "id": "129850c4-33f5-40d9-97da-bfe46e8a7ab1",
   "metadata": {},
   "outputs": [
    {
     "name": "stdout",
     "output_type": "stream",
     "text": [
      "6\n"
     ]
    }
   ],
   "source": [
    "# we can use the above function to calculate the no. of consonants\n",
    "def countSpecial(string):\n",
    "    specials = \"@_!#$%^&*()<>?/\\\\|}{~:] \"\n",
    "    count = 0\n",
    "    for char in string:\n",
    "        if char in specials:\n",
    "            count += 1\n",
    "    return count\n",
    "\n",
    "def countConsonants(string):\n",
    "    return len(string)-countVowels(string)-countSpecial(string)\n",
    "\n",
    "print(countConsonants(\"Hey kiddoes\"))"
   ]
  },
  {
   "cell_type": "markdown",
   "id": "ab25dd45-1533-4893-b1be-e3817708fc63",
   "metadata": {},
   "source": [
    "7. Remove all whitespaces from a string."
   ]
  },
  {
   "cell_type": "code",
   "execution_count": 311,
   "id": "1f319e7c-899d-42ea-9adb-8b9f9d440159",
   "metadata": {},
   "outputs": [
    {
     "name": "stdout",
     "output_type": "stream",
     "text": [
      "HeyGuysWhat'sUP\n"
     ]
    }
   ],
   "source": [
    "def removeSpaces(string):\n",
    "    a = list(string)\n",
    "    for char in a:\n",
    "        if char == ' ':\n",
    "            a.remove(char)\n",
    "    return ''.join(a)\n",
    "\n",
    "print(removeSpaces(\"Hey Guys What's UP\"))"
   ]
  },
  {
   "cell_type": "code",
   "execution_count": 312,
   "id": "48a28693-701c-4e48-a737-4f4b06c64a68",
   "metadata": {},
   "outputs": [
    {
     "name": "stdout",
     "output_type": "stream",
     "text": [
      "HeyGuysWhat'sUP\n"
     ]
    }
   ],
   "source": [
    "def removeSpaces_v2(string):\n",
    "    return ''.join(string.split())\n",
    "\n",
    "print(removeSpaces_v2(\"Hey Guys What's UP\"))"
   ]
  },
  {
   "cell_type": "markdown",
   "id": "93a08d9d-af77-4c21-a1de-346979654e57",
   "metadata": {},
   "source": [
    "8. Find the length of a string without using the `len()` function."
   ]
  },
  {
   "cell_type": "code",
   "execution_count": 313,
   "id": "468d69f5-b0ab-4f58-b21b-7b042ca928ac",
   "metadata": {},
   "outputs": [
    {
     "name": "stdout",
     "output_type": "stream",
     "text": [
      "8\n"
     ]
    }
   ],
   "source": [
    "def computeLength(string):\n",
    "    length = 0\n",
    "    for char in string:\n",
    "        length += 1\n",
    "    return length\n",
    "\n",
    "print(computeLength(\"Hey Guys\"))"
   ]
  },
  {
   "cell_type": "markdown",
   "id": "18b59125-5159-488f-b090-45deaa87d7bd",
   "metadata": {},
   "source": [
    "9. Check if a string contains a specific word."
   ]
  },
  {
   "cell_type": "code",
   "execution_count": 314,
   "id": "c251b699-13e0-45fb-ba93-62606221e477",
   "metadata": {},
   "outputs": [
    {
     "data": {
      "text/plain": [
       "False"
      ]
     },
     "execution_count": 314,
     "metadata": {},
     "output_type": "execute_result"
    }
   ],
   "source": [
    "def displayPointerToCharAtIndex(string,index,minus = False):\n",
    "    print(string)\n",
    "    if minus:\n",
    "        print(' '*(len(string) - abs(index) - 1),'^')\n",
    "    else:\n",
    "        print(' '*(index-1),'^')\n",
    "    \n",
    "def doesItContain(word,string):\n",
    "    n = len(word)\n",
    "    for i in range(len(string)):\n",
    "        if string[i:i+n] == word:\n",
    "            print(f\"Match Found at: {i}\")\n",
    "            displayPointerToCharAtIndex(string,i)\n",
    "            return i,i+n\n",
    "        else:\n",
    "            return False\n",
    "\n",
    "doesItContain(\"Rahul\",\"Hello, my name is Rahul Jauhari\")"
   ]
  },
  {
   "cell_type": "markdown",
   "id": "3cca90d7-831f-4aa3-bd61-91df8bc3366d",
   "metadata": {},
   "source": [
    "10. Replace a word in a string with another word."
   ]
  },
  {
   "cell_type": "code",
   "execution_count": 315,
   "id": "5f9b4015-113e-4249-a991-d26e4f5e5ce2",
   "metadata": {},
   "outputs": [
    {
     "name": "stdout",
     "output_type": "stream",
     "text": [
      "No such word exists in given string\n",
      "None\n"
     ]
    }
   ],
   "source": [
    "def replaceWord(word,new_word,string):\n",
    "    index = doesItContain(word,string)\n",
    "    if index:\n",
    "        return string[:index[0]]+new_word+string[index[1]:]\n",
    "    else:\n",
    "        print(\"No such word exists in given string\")\n",
    "\n",
    "print(replaceWord('Rahul','Rishab',\"Hello, my name is Rahul Jauhari\"))"
   ]
  },
  {
   "cell_type": "markdown",
   "id": "be8c16d4-8050-4065-86c2-2793bc5bec61",
   "metadata": {},
   "source": [
    "11. Count the occurrences of a word in a string."
   ]
  },
  {
   "cell_type": "code",
   "execution_count": 316,
   "id": "b79761f5-32d7-4cc7-93ff-e705139a9d6c",
   "metadata": {},
   "outputs": [
    {
     "name": "stdout",
     "output_type": "stream",
     "text": [
      "1\n"
     ]
    }
   ],
   "source": [
    "def countAll(word,string):\n",
    "    words = string.split()\n",
    "    count = 0\n",
    "    for ele in words:\n",
    "        if ele == word:\n",
    "            count += 1\n",
    "    return count\n",
    "\n",
    "print(countAll(\"occurrences\",\"Count the occurrences of a word in a string\"))"
   ]
  },
  {
   "cell_type": "markdown",
   "id": "122feb31-df4a-478e-bd8d-52afe3cba795",
   "metadata": {},
   "source": [
    "12. Find the first occurrence of a word in a string."
   ]
  },
  {
   "cell_type": "code",
   "execution_count": 317,
   "id": "55a44f7f-4a0d-4d2a-ada1-3009459656c6",
   "metadata": {},
   "outputs": [
    {
     "name": "stdout",
     "output_type": "stream",
     "text": [
      "I have hope in you... hope you get well soon\n",
      "       ^\n"
     ]
    },
    {
     "data": {
      "text/plain": [
       "7"
      ]
     },
     "execution_count": 317,
     "metadata": {},
     "output_type": "execute_result"
    }
   ],
   "source": [
    "def firstOccurrence(word,string):\n",
    "    n = len(word)\n",
    "    for i in range(len(string)):\n",
    "        if string[i:i+n] == word:\n",
    "            displayPointerToCharAtIndex(string,i)\n",
    "            return i\n",
    "\n",
    "firstOccurrence(\"hope\",\"I have hope in you... hope you get well soon\")"
   ]
  },
  {
   "cell_type": "markdown",
   "id": "73f23f7f-d929-4f66-b286-f9a3e1cb19a9",
   "metadata": {},
   "source": [
    "13. Find the last occurrence of a word in a string."
   ]
  },
  {
   "cell_type": "code",
   "execution_count": 318,
   "id": "602f90bc-e177-4a0c-b20b-97dab5146057",
   "metadata": {},
   "outputs": [
    {
     "name": "stdout",
     "output_type": "stream",
     "text": [
      "I have hope in you... hope you get well soon\n",
      "                      ^\n"
     ]
    },
    {
     "data": {
      "text/plain": [
       "(-22, 22)"
      ]
     },
     "execution_count": 318,
     "metadata": {},
     "output_type": "execute_result"
    }
   ],
   "source": [
    "def lastOccurrence(word,string):\n",
    "    n = len(word)\n",
    "    for i in range(-1,-len(string),-1):\n",
    "        if string[i:i-n:-1] == word[::-1]:\n",
    "            index = i-n+1\n",
    "            displayPointerToCharAtIndex(string,index,minus = True)\n",
    "            return index, len(string) - abs(index)\n",
    "\n",
    "lastOccurrence(\"hope\",\"I have hope in you... hope you get well soon\")"
   ]
  },
  {
   "cell_type": "markdown",
   "id": "67e0779f-30ea-4929-9bab-e9ebcb6b2273",
   "metadata": {},
   "source": [
    "14. Split a string into a list of words."
   ]
  },
  {
   "cell_type": "code",
   "execution_count": 319,
   "id": "f304f753-8bef-44f7-8593-a75f82d67a6f",
   "metadata": {},
   "outputs": [
    {
     "data": {
      "text/plain": [
       "['Hello', 'My', 'name', 'is', 'rahul']"
      ]
     },
     "execution_count": 319,
     "metadata": {},
     "output_type": "execute_result"
    }
   ],
   "source": [
    "def splitIntoList(string1):\n",
    "    string = string1.strip()\n",
    "    words = []\n",
    "    space_pair = False\n",
    "    start = 0\n",
    "    end = None\n",
    "    for i in range(len(string)):\n",
    "        if string[i] == ' ':\n",
    "            end = i\n",
    "            space_pair =  not space_pair\n",
    "        if space_pair:\n",
    "            words.append(string[start:end])\n",
    "            space_pair = not space_pair\n",
    "            start = i+1\n",
    "        if i == len(string)-1:\n",
    "            words.append(string[start:])\n",
    "    return words\n",
    "\n",
    "splitIntoList(\"Hello My name is rahul    \")    "
   ]
  },
  {
   "cell_type": "markdown",
   "id": "770c4767-790b-485f-a042-e55c23e67a81",
   "metadata": {},
   "source": [
    "15. Join a list of words into a string."
   ]
  },
  {
   "cell_type": "code",
   "execution_count": 320,
   "id": "321bcf66-8207-470b-a97c-dd02651338fa",
   "metadata": {},
   "outputs": [
    {
     "data": {
      "text/plain": [
       "'Hello My name is rahul'"
      ]
     },
     "execution_count": 320,
     "metadata": {},
     "output_type": "execute_result"
    }
   ],
   "source": [
    "def joinToString(arr):\n",
    "    string = ''\n",
    "    for ele in arr:\n",
    "        string += (ele+' ')\n",
    "    return string.strip()\n",
    "\n",
    "joinToString(['Hello', 'My', 'name', 'is', 'rahul'])"
   ]
  },
  {
   "cell_type": "markdown",
   "id": "6546bf1f-aa61-4173-8e02-107f52983a96",
   "metadata": {},
   "source": [
    "16. Convert a string where words are separated by spaces to one where words\r\n",
    "are separated by underscores.."
   ]
  },
  {
   "cell_type": "code",
   "execution_count": 321,
   "id": "3240aea3-b500-448d-8a10-b3139928cb8d",
   "metadata": {},
   "outputs": [
    {
     "data": {
      "text/plain": [
       "'Hello_My_name_is_rahul'"
      ]
     },
     "execution_count": 321,
     "metadata": {},
     "output_type": "execute_result"
    }
   ],
   "source": [
    "def changeSeparator(sep,string,prev_sep = ' '):\n",
    "    for i in range(len(string)):\n",
    "        if string[i] == prev_sep:\n",
    "            string = string[:i]+sep+string[i+1:]\n",
    "    return string\n",
    "\n",
    "changeSeparator('_','Hello,My,name,is,rahul',prev_sep=',')"
   ]
  },
  {
   "cell_type": "markdown",
   "id": "e83370a3-0b31-4945-8616-444610ce6b54",
   "metadata": {},
   "source": [
    "17. Check if a string starts with a specific word or phrase."
   ]
  },
  {
   "cell_type": "code",
   "execution_count": 322,
   "id": "a3444aa4-a5f2-4dea-8b67-039f79dfaca3",
   "metadata": {},
   "outputs": [
    {
     "data": {
      "text/plain": [
       "True"
      ]
     },
     "execution_count": 322,
     "metadata": {},
     "output_type": "execute_result"
    }
   ],
   "source": [
    "def startsWith(phrase,string):\n",
    "    return string[:len(phrase)] == phrase\n",
    "\n",
    "startsWith(\"Rahul\",\"Rahul Jauhari is part of Data Science Batch\")"
   ]
  },
  {
   "cell_type": "markdown",
   "id": "c0e0d1d8-ae52-4a8b-a90e-c3226337bae6",
   "metadata": {},
   "source": [
    "18. Check if a string ends with a specific word or phrase."
   ]
  },
  {
   "cell_type": "code",
   "execution_count": 323,
   "id": "e453df14-7c05-4e62-b22a-8f7294b1886f",
   "metadata": {},
   "outputs": [
    {
     "data": {
      "text/plain": [
       "True"
      ]
     },
     "execution_count": 323,
     "metadata": {},
     "output_type": "execute_result"
    }
   ],
   "source": [
    "def endsWith(phrase,string):\n",
    "    return string[-len(phrase)::1] == phrase\n",
    "    \n",
    "endsWith(\"nce Batch\",\"Rahul Jauhari is part of Data Science Batch\")"
   ]
  },
  {
   "cell_type": "markdown",
   "id": "78f973fa-2c1b-4a60-bb9c-473042ecfabd",
   "metadata": {},
   "source": [
    "19. Convert a string to title case (e.g., \"hello world\" to \"Hello World\")."
   ]
  },
  {
   "cell_type": "code",
   "execution_count": 324,
   "id": "871d6ede-6fc2-4cf9-ae8c-9fac1af9628e",
   "metadata": {},
   "outputs": [
    {
     "data": {
      "text/plain": [
       "'Rahul Jauhari Is Part Of Data Science Batch'"
      ]
     },
     "execution_count": 324,
     "metadata": {},
     "output_type": "execute_result"
    }
   ],
   "source": [
    "def convertToTitle(string):\n",
    "    words = string.split()\n",
    "    title = ''\n",
    "\n",
    "    for word in words:\n",
    "        title += (word[0].upper()+word[1:].lower()+\" \")\n",
    "    return title.strip()\n",
    "\n",
    "convertToTitle(\"Rahul Jauhari is part of data science batch\")"
   ]
  },
  {
   "cell_type": "markdown",
   "id": "f49dbf82-b661-491d-a7a9-423932c45ad3",
   "metadata": {},
   "source": [
    "20. Find the longest word in a string."
   ]
  },
  {
   "cell_type": "code",
   "execution_count": 325,
   "id": "365bfae1-7d24-49d5-8b98-de79dcbb422d",
   "metadata": {},
   "outputs": [
    {
     "data": {
      "text/plain": [
       "('Jauhari', 7)"
      ]
     },
     "execution_count": 325,
     "metadata": {},
     "output_type": "execute_result"
    }
   ],
   "source": [
    "def longestWord(string):\n",
    "    words = string.split()\n",
    "    maxLength = 0\n",
    "    maxWord = None\n",
    "    for word in words:\n",
    "        if len(word) > maxLength:\n",
    "            maxLength = len(word)\n",
    "            maxWord = word\n",
    "    return maxWord,maxLength\n",
    "\n",
    "longestWord(\"Rahul Jauhari is part of Data Science Batch\")"
   ]
  },
  {
   "cell_type": "code",
   "execution_count": 326,
   "id": "b49bfdd6-f948-46cb-8f25-54f9990c7832",
   "metadata": {},
   "outputs": [
    {
     "data": {
      "text/plain": [
       "['Jauhari', 'Science']"
      ]
     },
     "execution_count": 326,
     "metadata": {},
     "output_type": "execute_result"
    }
   ],
   "source": [
    "def longestWord_v2(string):\n",
    "    words = string.split()\n",
    "    sizes = [len(word) for word in words]\n",
    "    maxSize = max(sizes)\n",
    "    return [word for word in words if len(word) == maxSize]\n",
    "\n",
    "longestWord_v2(\"Rahul Jauhari is part of Data Science Batch\")"
   ]
  },
  {
   "cell_type": "markdown",
   "id": "a335ed6c-7b70-48f1-9b6b-e1234293d451",
   "metadata": {},
   "source": [
    "21. Find the shortest word in a string."
   ]
  },
  {
   "cell_type": "code",
   "execution_count": 327,
   "id": "39504eef-2846-4815-9eeb-9fa01df00a51",
   "metadata": {},
   "outputs": [
    {
     "data": {
      "text/plain": [
       "['is', 'of']"
      ]
     },
     "execution_count": 327,
     "metadata": {},
     "output_type": "execute_result"
    }
   ],
   "source": [
    "def shortestWord(string):\n",
    "    words = string.split()\n",
    "    sizes = [len(word) for word in words]\n",
    "    minSize = min(sizes)\n",
    "    return [word for word in words if len(word) == minSize]\n",
    "\n",
    "shortestWord(\"Rahul Jauhari is part of Data Science Batch\")"
   ]
  },
  {
   "cell_type": "markdown",
   "id": "545036ba-a1df-4102-ad43-afc689f4392e",
   "metadata": {},
   "source": [
    "22. Reverse the order of words in a string."
   ]
  },
  {
   "cell_type": "code",
   "execution_count": 328,
   "id": "53c3cfa4-2e5e-45bb-b804-8d66a114f033",
   "metadata": {},
   "outputs": [
    {
     "data": {
      "text/plain": [
       "'Batch Science Data of part is Jauhari Rahul'"
      ]
     },
     "execution_count": 328,
     "metadata": {},
     "output_type": "execute_result"
    }
   ],
   "source": [
    "def reverseOrderOfWords(string):\n",
    "    words = string.split()\n",
    "    i = 0\n",
    "    j = len(words)-1\n",
    "\n",
    "    while i < j:\n",
    "        words[i],words[j] = words[j],words[i]\n",
    "        i += 1\n",
    "        j -= 1\n",
    "    \n",
    "    return joinToString(words)\n",
    "\n",
    "reverseOrderOfWords(\"Rahul Jauhari is part of Data Science Batch\")"
   ]
  },
  {
   "cell_type": "markdown",
   "id": "879cf3fe-23b9-4d35-a528-5e36df6c544c",
   "metadata": {},
   "source": [
    "23. Check if a string is alphanumeric."
   ]
  },
  {
   "cell_type": "code",
   "execution_count": 329,
   "id": "6b4801a1-94ef-4140-bd60-03a9988bf73b",
   "metadata": {},
   "outputs": [
    {
     "name": "stdout",
     "output_type": "stream",
     "text": [
      "The string is alphanumeric.\n"
     ]
    }
   ],
   "source": [
    "def is_alphanumeric(string):\n",
    "    alphanumeric_chars = \"ABCDEFGHIJKLMNOPQRSTUVWXYZabcdefghijklmnopqrstuvwxyz0123456789\"\n",
    "    for char in string:\n",
    "        if char not in alphanumeric_chars:\n",
    "            return False\n",
    "    return True\n",
    "\n",
    "input_string = \"Hello123\"\n",
    "if is_alphanumeric(input_string):\n",
    "    print(\"The string is alphanumeric.\")\n",
    "else:\n",
    "    print(\"The string is not alphanumeric.\")\n"
   ]
  },
  {
   "cell_type": "markdown",
   "id": "06aae01d-1d6b-4f8e-aa54-cc8ddde6f1a1",
   "metadata": {},
   "source": [
    "24. Extract all digits from a string:"
   ]
  },
  {
   "cell_type": "code",
   "execution_count": 330,
   "id": "e4661e59-ba19-4e1f-be23-3f5a749b7bb3",
   "metadata": {},
   "outputs": [
    {
     "name": "stdout",
     "output_type": "stream",
     "text": [
      "123456\n"
     ]
    }
   ],
   "source": [
    "def extract_digits(string):\n",
    "    digits = \"\"\n",
    "    for char in string:\n",
    "        if char.isdigit():\n",
    "            digits += char\n",
    "    return digits\n",
    "\n",
    "input_string = \"Hello123World456\"\n",
    "digits = extract_digits(input_string)\n",
    "print(digits)"
   ]
  },
  {
   "cell_type": "markdown",
   "id": "598fed63-4fd0-49aa-b514-6ac367a61354",
   "metadata": {},
   "source": [
    "25. Extract all alphabets from a string:"
   ]
  },
  {
   "cell_type": "code",
   "execution_count": 331,
   "id": "8ae268c6-e3cd-4aff-b4cf-7164b523daab",
   "metadata": {},
   "outputs": [
    {
     "name": "stdout",
     "output_type": "stream",
     "text": [
      "HelloWorld\n"
     ]
    }
   ],
   "source": [
    "def extract_alphabets(string):\n",
    "    alphabets = \"\"\n",
    "    for char in string:\n",
    "        if char.isalpha():\n",
    "            alphabets += char\n",
    "    return alphabets\n",
    "\n",
    "input_string = \"Hello123World\"\n",
    "alphabets = extract_alphabets(input_string)\n",
    "print(alphabets)\n"
   ]
  },
  {
   "cell_type": "markdown",
   "id": "cf75f78a-e9c2-4426-b4c5-aa60822961ba",
   "metadata": {},
   "source": [
    "26. Count the number of uppercase letters in a string:"
   ]
  },
  {
   "cell_type": "code",
   "execution_count": 332,
   "id": "646e960f-a813-4fff-b1a5-4db5f4528fe7",
   "metadata": {},
   "outputs": [
    {
     "name": "stdout",
     "output_type": "stream",
     "text": [
      "2\n"
     ]
    }
   ],
   "source": [
    "def count_uppercase(string):\n",
    "    count = 0\n",
    "    for char in string:\n",
    "        if char.isupper():\n",
    "            count += 1\n",
    "    return count\n",
    "\n",
    "input_string = \"HelloWorld\"\n",
    "uppercase_count = count_uppercase(input_string)\n",
    "print(uppercase_count)\n"
   ]
  },
  {
   "cell_type": "markdown",
   "id": "b305bb7c-3772-4da9-b156-e9452d7f9ba5",
   "metadata": {},
   "source": [
    "27. Count the number of lowercase letters in a string:"
   ]
  },
  {
   "cell_type": "code",
   "execution_count": 333,
   "id": "f270051f-d847-4998-9172-2c7fbd874148",
   "metadata": {},
   "outputs": [
    {
     "name": "stdout",
     "output_type": "stream",
     "text": [
      "8\n"
     ]
    }
   ],
   "source": [
    "def count_lowercase(string):\n",
    "    count = 0\n",
    "    for char in string:\n",
    "        if char.islower():\n",
    "            count += 1\n",
    "    return count\n",
    "\n",
    "input_string = \"HelloWorld\"\n",
    "lowercase_count = count_lowercase(input_string)\n",
    "print(lowercase_count)\n"
   ]
  },
  {
   "cell_type": "markdown",
   "id": "a6a4e056-e58e-4fbf-8783-e9340aa66210",
   "metadata": {},
   "source": [
    "28. Swap the case of each character in a string:"
   ]
  },
  {
   "cell_type": "code",
   "execution_count": 334,
   "id": "5ca365c2-5537-4e65-9a50-2114d4d48b2b",
   "metadata": {},
   "outputs": [
    {
     "name": "stdout",
     "output_type": "stream",
     "text": [
      "hELLOwORLD\n"
     ]
    }
   ],
   "source": [
    "def swap_case(string):\n",
    "    swapped_string = \"\"\n",
    "    for char in string:\n",
    "        if char.isupper():\n",
    "            swapped_string += char.lower()\n",
    "        elif char.islower():\n",
    "            swapped_string += char.upper()\n",
    "        else:\n",
    "            swapped_string += char\n",
    "    return swapped_string\n",
    "\n",
    "input_string = \"HelloWorld\"\n",
    "swapped_string = swap_case(input_string)\n",
    "print(swapped_string)"
   ]
  },
  {
   "cell_type": "markdown",
   "id": "6a75f323-f0e4-4456-bc39-df7b89fa0c01",
   "metadata": {},
   "source": [
    "29. Remove a specific word from a string:"
   ]
  },
  {
   "cell_type": "code",
   "execution_count": 335,
   "id": "a0056c94-7e65-408b-8cd6-266e7747835c",
   "metadata": {},
   "outputs": [
    {
     "name": "stdout",
     "output_type": "stream",
     "text": [
      "This is a sample sentence. is important.\n"
     ]
    }
   ],
   "source": [
    "def remove_word(string, word_to_remove):\n",
    "    words = string.split()\n",
    "    new_string = \"\"\n",
    "    for word in words:\n",
    "        if word != word_to_remove:\n",
    "            new_string += word + \" \"\n",
    "    return new_string.strip()\n",
    "\n",
    "input_string = \"This is a sample sentence. Sample is important.\"\n",
    "word_to_remove = \"Sample\"\n",
    "new_string = remove_word(input_string, word_to_remove)\n",
    "print(new_string)"
   ]
  },
  {
   "cell_type": "markdown",
   "id": "d91dedd8-d32d-4703-86c6-79218d6a1610",
   "metadata": {},
   "source": [
    "30. Check if a string is a valid email address:"
   ]
  },
  {
   "cell_type": "code",
   "execution_count": 336,
   "id": "eefcfc5c-56a1-48c2-b023-99c539deee4f",
   "metadata": {},
   "outputs": [
    {
     "name": "stdout",
     "output_type": "stream",
     "text": [
      "The email address is valid.\n"
     ]
    }
   ],
   "source": [
    "def is_valid_email(email):\n",
    "    at_count = 0\n",
    "    for char in email:\n",
    "        if char == \"@\":\n",
    "            at_count += 1\n",
    "        if at_count > 1 or not char.isalnum() and char not in \"@.-_\":\n",
    "            return False\n",
    "    if email.endswith(\".\"):\n",
    "        return False\n",
    "    return at_count == 1\n",
    "\n",
    "email_address = \"example@email.com\"\n",
    "if is_valid_email(email_address):\n",
    "    print(\"The email address is valid.\")\n",
    "else:\n",
    "    print(\"The email address is not valid.\")\n"
   ]
  },
  {
   "cell_type": "markdown",
   "id": "1078a5b2-55bf-466a-be6f-2a0664809bb0",
   "metadata": {},
   "source": [
    "31. Extract the username from an email address string."
   ]
  },
  {
   "cell_type": "code",
   "execution_count": 337,
   "id": "cf94ca7e-f060-49ba-b9c0-48decd289061",
   "metadata": {},
   "outputs": [
    {
     "data": {
      "text/plain": [
       "'rj.rahul.jauhari'"
      ]
     },
     "execution_count": 337,
     "metadata": {},
     "output_type": "execute_result"
    }
   ],
   "source": [
    "def extractUserFromEmail(email):\n",
    "    words = email.split('@')\n",
    "    if len(words) == 2:\n",
    "        return words[0]\n",
    "    else:\n",
    "        return \"Invalid Email\"\n",
    "\n",
    "extractUserFromEmail(\"rj.rahul.jauhari@gmail.com\")"
   ]
  },
  {
   "cell_type": "markdown",
   "id": "b0242ec7-b64e-45b2-9773-e5b1e97e7593",
   "metadata": {},
   "source": [
    "32. Extract the domain name from an email address string."
   ]
  },
  {
   "cell_type": "code",
   "execution_count": 338,
   "id": "38d8c814-1f1d-4629-b6c6-f64679987475",
   "metadata": {},
   "outputs": [
    {
     "data": {
      "text/plain": [
       "'gmail.com'"
      ]
     },
     "execution_count": 338,
     "metadata": {},
     "output_type": "execute_result"
    }
   ],
   "source": [
    "def extractDomainFromEmail(email):\n",
    "    words = email.split('@')\n",
    "    if len(words) == 2:\n",
    "        return words[1]\n",
    "    else:\n",
    "        return \"Invalid Email\"\n",
    "\n",
    "extractDomainFromEmail(\"rj.rahul.jauhari@gmail.com\")"
   ]
  },
  {
   "cell_type": "markdown",
   "id": "cd1a64a6-4e34-4f82-87cb-a2abbcf2c768",
   "metadata": {},
   "source": [
    "33. Replace multiple spaces in a string with a single space."
   ]
  },
  {
   "cell_type": "code",
   "execution_count": 339,
   "id": "e61836e7-9280-48c9-8688-449057ebe407",
   "metadata": {},
   "outputs": [
    {
     "name": "stdout",
     "output_type": "stream",
     "text": [
      "This is an example with multiple spaces.\n"
     ]
    }
   ],
   "source": [
    "def replace_multiple_spaces(string):\n",
    "    new_string = \"\"\n",
    "    space_seen = False\n",
    "\n",
    "    for char in string:\n",
    "        if char == ' ':\n",
    "            if not space_seen:\n",
    "                new_string += ' '\n",
    "                space_seen = True\n",
    "        else:\n",
    "            new_string += char\n",
    "            space_seen = False\n",
    "\n",
    "    return new_string\n",
    "\n",
    "input_string = \"This   is    an   example  with   multiple   spaces.\"\n",
    "new_string = replace_multiple_spaces(input_string)\n",
    "\n",
    "print(new_string)"
   ]
  },
  {
   "cell_type": "markdown",
   "id": "619e8760-49da-4b3e-b6e3-ff8e69551358",
   "metadata": {},
   "source": [
    "34. Check if a string is a valid URL."
   ]
  },
  {
   "cell_type": "code",
   "execution_count": 340,
   "id": "60452ea9-9bac-48fa-9909-3c200085a4a4",
   "metadata": {},
   "outputs": [
    {
     "name": "stdout",
     "output_type": "stream",
     "text": [
      "The URL is valid.\n"
     ]
    }
   ],
   "source": [
    "def is_valid_url(url):\n",
    "    return url.startswith(\"http://\") or url.startswith(\"https://\")\n",
    "\n",
    "url = \"https://www.example.com\"\n",
    "if is_valid_url(url):\n",
    "    print(\"The URL is valid.\")\n",
    "else:\n",
    "    print(\"The URL is not valid.\")\n"
   ]
  },
  {
   "cell_type": "markdown",
   "id": "947ffd6e-6d0e-4b71-9b4b-df991f23d60e",
   "metadata": {},
   "source": [
    "35. Extract the protocol (http or https) from a URL string."
   ]
  },
  {
   "cell_type": "code",
   "execution_count": 341,
   "id": "39efbcad-85ce-428f-bb0e-17ddac4b737f",
   "metadata": {},
   "outputs": [
    {
     "name": "stdout",
     "output_type": "stream",
     "text": [
      "The protocol is: https\n"
     ]
    }
   ],
   "source": [
    "def extract_protocol(url):\n",
    "    protocol = \"\"\n",
    "    i = 0\n",
    "    while i < len(url) and url[i] != \":\":\n",
    "        protocol += url[i]\n",
    "        i += 1\n",
    "    return protocol\n",
    "\n",
    "url = \"https://www.example.com\"\n",
    "protocol = extract_protocol(url)\n",
    "print(\"The protocol is:\", protocol)\n"
   ]
  },
  {
   "cell_type": "markdown",
   "id": "f9647861-3948-4428-b40b-544dbb13d712",
   "metadata": {},
   "source": [
    "36. Find the frequency of each character in a string:"
   ]
  },
  {
   "cell_type": "code",
   "execution_count": 342,
   "id": "97ee5dc7-9c16-44b4-b0a3-b8b3663c1ecb",
   "metadata": {},
   "outputs": [
    {
     "name": "stdout",
     "output_type": "stream",
     "text": [
      "{'H': 1, 'e': 1, 'l': 3, 'o': 2, ',': 1, ' ': 1, 'W': 1, 'r': 1, 'd': 1, '!': 1}\n"
     ]
    }
   ],
   "source": [
    "def character_frequency(string):\n",
    "    freq = {}\n",
    "    for char in string:\n",
    "        if char in freq:\n",
    "            freq[char] += 1\n",
    "        else:\n",
    "            freq[char] = 1\n",
    "    return freq\n",
    "\n",
    "input_string = \"Hello, World!\"\n",
    "char_freq = character_frequency(input_string)\n",
    "print(char_freq)\n"
   ]
  },
  {
   "cell_type": "markdown",
   "id": "69836c18-15b9-4176-a302-6ab81d1f37d6",
   "metadata": {},
   "source": [
    "37. Remove all punctuation from a string:"
   ]
  },
  {
   "cell_type": "code",
   "execution_count": 343,
   "id": "c347134e-057c-42a9-9223-f5ccdc1e36da",
   "metadata": {},
   "outputs": [
    {
     "name": "stdout",
     "output_type": "stream",
     "text": [
      "Hello World\n"
     ]
    }
   ],
   "source": [
    "def remove_punctuation(string):\n",
    "    punctuation = \"!\\\"#$%&'()*+,-./:;<=>?@[\\\\]^_`{|}~\"\n",
    "    cleaned_string = \"\"\n",
    "    for char in string:\n",
    "        if char not in punctuation:\n",
    "            cleaned_string += char\n",
    "    return cleaned_string\n",
    "\n",
    "input_string = \"Hello, World!\"\n",
    "no_punctuation = remove_punctuation(input_string)\n",
    "print(no_punctuation)"
   ]
  },
  {
   "cell_type": "markdown",
   "id": "e553c130-9a18-422b-aa21-2a05bfc46461",
   "metadata": {},
   "source": [
    "38. Check if a string contains only digits:"
   ]
  },
  {
   "cell_type": "code",
   "execution_count": 344,
   "id": "4c22392d-a718-433d-b725-fa064af811a9",
   "metadata": {},
   "outputs": [
    {
     "name": "stdout",
     "output_type": "stream",
     "text": [
      "The string contains only digits.\n"
     ]
    }
   ],
   "source": [
    "def contains_only_digits(string):\n",
    "    for char in string:\n",
    "        if not char.isdigit():\n",
    "            return False\n",
    "    return True\n",
    "\n",
    "input_string = \"12345\"\n",
    "if contains_only_digits(input_string):\n",
    "    print(\"The string contains only digits.\")\n",
    "else:\n",
    "    print(\"The string does not contain only digits.\")\n"
   ]
  },
  {
   "cell_type": "markdown",
   "id": "6626fd12-5616-4949-8fe4-667952e59d05",
   "metadata": {},
   "source": [
    "39. Check if a string contains only alphabets:\n",
    "\n",
    "    **already done above**"
   ]
  },
  {
   "cell_type": "markdown",
   "id": "67fe9af8-bd8e-48bf-8090-7b225da8a8c2",
   "metadata": {},
   "source": [
    "40. Convert a string to a list of characters:"
   ]
  },
  {
   "cell_type": "code",
   "execution_count": 345,
   "id": "19fa438c-4214-421e-8636-50e05477ace3",
   "metadata": {},
   "outputs": [
    {
     "data": {
      "text/plain": [
       "['R', 'a', 'h', 'u', 'l', ' ', 'j', 'a', 'u', 'h', 'a', 'r', 'i']"
      ]
     },
     "execution_count": 345,
     "metadata": {},
     "output_type": "execute_result"
    }
   ],
   "source": [
    "def convertToCharArray(string):\n",
    "    return list(string)\n",
    "\n",
    "convertToCharArray(\"Rahul jauhari\")"
   ]
  },
  {
   "cell_type": "markdown",
   "id": "0c4eb110-5f9c-4f22-a5ba-2e3ab14846ef",
   "metadata": {},
   "source": [
    "41. Check if two strings are anagrams:"
   ]
  },
  {
   "cell_type": "code",
   "execution_count": 346,
   "id": "426dde9f-ba9a-4496-ad29-26f26e1ed3d9",
   "metadata": {},
   "outputs": [
    {
     "name": "stdout",
     "output_type": "stream",
     "text": [
      "The strings are anagrams.\n"
     ]
    }
   ],
   "source": [
    "def are_anagrams(str1, str2):\n",
    "    if len(str1) != len(str2):\n",
    "        return False\n",
    "\n",
    "    char_count1 = {}\n",
    "    char_count2 = {}\n",
    "\n",
    "    for char in str1:\n",
    "        char_count1[char] = char_count1.get(char, 0) + 1\n",
    "\n",
    "    for char in str2:\n",
    "        char_count2[char] = char_count2.get(char, 0) + 1\n",
    "\n",
    "    return char_count1 == char_count2\n",
    "\n",
    "string1 = \"listen\"\n",
    "string2 = \"silent\"\n",
    "if are_anagrams(string1, string2):\n",
    "    print(\"The strings are anagrams.\")\n",
    "else:\n",
    "    print(\"The strings are not anagrams.\")\n"
   ]
  },
  {
   "cell_type": "markdown",
   "id": "f1390997-dd7a-42c5-a8f2-7e77b4f26d5a",
   "metadata": {},
   "source": [
    "44. Find the most frequent word in a string:"
   ]
  },
  {
   "cell_type": "code",
   "execution_count": 347,
   "id": "ce8e56b6-07e6-4145-b254-5005c67e3b79",
   "metadata": {},
   "outputs": [
    {
     "name": "stdout",
     "output_type": "stream",
     "text": [
      "The most frequent word is: This\n"
     ]
    }
   ],
   "source": [
    "def most_frequent_word(string):\n",
    "    words = string.split()\n",
    "    word_count = {}\n",
    "    most_frequent_word = None\n",
    "    max_count = 0\n",
    "\n",
    "    for word in words:\n",
    "        if word in word_count:\n",
    "            word_count[word] += 1\n",
    "        else:\n",
    "            word_count[word] = 1\n",
    "\n",
    "        if word_count[word] > max_count:\n",
    "            most_frequent_word = word\n",
    "            max_count = word_count[word]\n",
    "\n",
    "    return most_frequent_word\n",
    "\n",
    "input_string = \"This is a sample sentence. This is an example.\"\n",
    "most_frequent = most_frequent_word(input_string)\n",
    "print(\"The most frequent word is:\", most_frequent)"
   ]
  },
  {
   "cell_type": "markdown",
   "id": "98c9b6b7-43cd-452e-aedb-9a1059adb3fe",
   "metadata": {},
   "source": [
    "45. Find all unique words in a string:"
   ]
  },
  {
   "cell_type": "code",
   "execution_count": 348,
   "id": "f5f57dd4-d0c2-494b-bf8c-9650a7719cf0",
   "metadata": {},
   "outputs": [
    {
     "data": {
      "text/plain": [
       "['This', 'is', 'a', 'sample', 'sentence.', 'an', 'example.']"
      ]
     },
     "execution_count": 348,
     "metadata": {},
     "output_type": "execute_result"
    }
   ],
   "source": [
    "def unique_words(string):\n",
    "    words = string.split()\n",
    "    unique_word_list = []\n",
    "\n",
    "    for word in words:\n",
    "        if word not in unique_word_list:\n",
    "            unique_word_list.append(word)\n",
    "\n",
    "    return unique_word_list\n",
    "\n",
    "input_string = \"This is a sample sentence. This is an example.\"\n",
    "unique_words(input_string)"
   ]
  },
  {
   "cell_type": "markdown",
   "id": "cbbc0d02-a989-4261-90f3-0a7d18203d26",
   "metadata": {},
   "source": [
    "46. Count the number of syllables in a string.ro\r\n",
    "47. Check if a string contains any special characte\n",
    "\n",
    "**Both questions are already done above**rs."
   ]
  },
  {
   "cell_type": "markdown",
   "id": "dde0921d-b558-44da-b940-2459a487ed54",
   "metadata": {},
   "source": [
    "48. Remove the nth word from a string:"
   ]
  },
  {
   "cell_type": "code",
   "execution_count": 349,
   "id": "ebd6fecd-b199-4d0a-b22c-a55c3000f835",
   "metadata": {},
   "outputs": [
    {
     "name": "stdout",
     "output_type": "stream",
     "text": [
      "This is example sentence.\n"
     ]
    }
   ],
   "source": [
    "def remove_nth_word(string, n):\n",
    "    words = string.split()\n",
    "    if n >= 0 and n < len(words):\n",
    "        words.pop(n)\n",
    "        return ' '.join(words)\n",
    "    return string\n",
    "\n",
    "input_string = \"This is an example sentence.\"\n",
    "n = 2\n",
    "new_string = remove_nth_word(input_string, n)\n",
    "print(new_string)"
   ]
  },
  {
   "cell_type": "markdown",
   "id": "d25db5fa-ec47-43bc-ba6b-acded61301d7",
   "metadata": {},
   "source": [
    "49. Insert a word at the nth position in a string:"
   ]
  },
  {
   "cell_type": "code",
   "execution_count": 350,
   "id": "4e92875d-0c28-40b1-8326-4a847d1986f4",
   "metadata": {},
   "outputs": [
    {
     "name": "stdout",
     "output_type": "stream",
     "text": [
      "This is great an example sentence.\n"
     ]
    }
   ],
   "source": [
    "def insert_word_at_nth_position(string, word, n):\n",
    "    words = string.split()\n",
    "    if n >= 0 and n <= len(words):\n",
    "        words.insert(n, word)\n",
    "        return ' '.join(words)\n",
    "    return string\n",
    "\n",
    "input_string = \"This is an example sentence.\"\n",
    "word_to_insert = \"great\"\n",
    "n = 2  \n",
    "new_string = insert_word_at_nth_position(input_string, word_to_insert, n)\n",
    "print(new_string)"
   ]
  },
  {
   "cell_type": "markdown",
   "id": "d15bc323-16b8-4cdf-a438-99d897e9e6bf",
   "metadata": {},
   "source": [
    "50. Convert a CSV string to a list of lists:"
   ]
  },
  {
   "cell_type": "code",
   "execution_count": 351,
   "id": "100ce529-dda1-42e6-8cb0-5218e3608ded",
   "metadata": {},
   "outputs": [
    {
     "name": "stdout",
     "output_type": "stream",
     "text": [
      "['Name', ' Age', ' City']\n",
      "['John', ' 30', ' New York']\n",
      "['Alice', ' 25', ' London']\n"
     ]
    }
   ],
   "source": [
    "def csv_string_to_list_of_lists(csv_string):\n",
    "    rows = csv_string.split('\\n')\n",
    "    data = []\n",
    "\n",
    "    for row in rows:\n",
    "        if row:\n",
    "            values = row.split(',')\n",
    "            data.append(values)\n",
    "\n",
    "    return data\n",
    "\n",
    "csv_string = \"Name, Age, City\\nJohn, 30, New York\\nAlice, 25, London\"\n",
    "csv_data = csv_string_to_list_of_lists(csv_string)\n",
    "for row in csv_data:\n",
    "    print(row)\n"
   ]
  },
  {
   "cell_type": "markdown",
   "id": "90fad5ce-8e22-4ba8-b360-74dfa34b6458",
   "metadata": {},
   "source": [
    "## List Based Practice Problem :"
   ]
  },
  {
   "cell_type": "markdown",
   "id": "ae7d90d7-0604-4b39-a9fd-887e62ba66e7",
   "metadata": {},
   "source": [
    "1. Create a list with integers from 1 to 10:"
   ]
  },
  {
   "cell_type": "code",
   "execution_count": 352,
   "id": "f3e7b9c8-e7a5-408b-9d27-691b266fc7b9",
   "metadata": {},
   "outputs": [
    {
     "data": {
      "text/plain": [
       "[1, 2, 3, 4, 5, 6, 7, 8, 9, 10]"
      ]
     },
     "execution_count": 352,
     "metadata": {},
     "output_type": "execute_result"
    }
   ],
   "source": [
    "[i for i in range(1,11)]"
   ]
  },
  {
   "cell_type": "markdown",
   "id": "ca9b77b6-9695-4b18-bccc-54930091146b",
   "metadata": {},
   "source": [
    "2. Find the length of a list without using the len() function:"
   ]
  },
  {
   "cell_type": "code",
   "execution_count": 353,
   "id": "064f7c3a-1ed7-4e65-9f9c-fdb4fcb87a7a",
   "metadata": {},
   "outputs": [
    {
     "name": "stdout",
     "output_type": "stream",
     "text": [
      "Length of the list: 10\n"
     ]
    }
   ],
   "source": [
    "def find_list_length(my_list):\n",
    "    length = 0\n",
    "    for _ in my_list:\n",
    "        length += 1\n",
    "    return length\n",
    "my_list = [1, 2, 3, 4, 5, 6, 7, 8, 9, 10]\n",
    "length = find_list_length(my_list)\n",
    "print(\"Length of the list:\", length)\n"
   ]
  },
  {
   "cell_type": "markdown",
   "id": "b9ecbaed-f99e-4f18-ba0d-2621289c1a7c",
   "metadata": {},
   "source": [
    "3. Append an element to the end of a list:"
   ]
  },
  {
   "cell_type": "code",
   "execution_count": 354,
   "id": "77efe971-03b4-42a0-b4f6-696a5f17f733",
   "metadata": {},
   "outputs": [
    {
     "name": "stdout",
     "output_type": "stream",
     "text": [
      "List after appending: [1, 2, 3, 4, 5, 6, 7, 8, 9, 10, 11]\n"
     ]
    }
   ],
   "source": [
    "def append_to_list(my_list, element):\n",
    "    my_list[len(my_list):] = [element]\n",
    "\n",
    "append_to_list(my_list, 11)\n",
    "print(\"List after appending:\", my_list)\n"
   ]
  },
  {
   "cell_type": "markdown",
   "id": "81f160a5-b642-4bee-a8b6-379788a7e6a7",
   "metadata": {},
   "source": [
    "4. Insert an element at a specific index in a list:"
   ]
  },
  {
   "cell_type": "code",
   "execution_count": 355,
   "id": "4126b5b7-6f43-4e31-b11a-e2811fa2080f",
   "metadata": {},
   "outputs": [
    {
     "name": "stdout",
     "output_type": "stream",
     "text": [
      "List after inserting at index 2: [1, 2, 99, 3, 4, 5, 6, 7, 8, 9, 10, 11]\n"
     ]
    }
   ],
   "source": [
    "def insert_at_index(my_list, index, element):\n",
    "    my_list[index:index] = [element]\n",
    "\n",
    "insert_at_index(my_list, 2, 99)\n",
    "print(\"List after inserting at index 2:\", my_list)\n"
   ]
  },
  {
   "cell_type": "markdown",
   "id": "a623ee98-ead6-4d99-8fd3-58ddbe3ef317",
   "metadata": {},
   "source": [
    "5. Remove an element from a list by its value:"
   ]
  },
  {
   "cell_type": "code",
   "execution_count": 356,
   "id": "7b393794-2e40-4081-a2c6-0638494e3d7a",
   "metadata": {},
   "outputs": [
    {
     "name": "stdout",
     "output_type": "stream",
     "text": [
      "List after removing value 6: [1, 2, 99, 3, 4, 5, 7, 8, 9, 10, 11]\n"
     ]
    }
   ],
   "source": [
    "def remove_by_value(my_list, value):\n",
    "    my_list[:] = [element for element in my_list if element != value]\n",
    "\n",
    "remove_by_value(my_list, 6)\n",
    "print(\"List after removing value 6:\", my_list)"
   ]
  },
  {
   "cell_type": "markdown",
   "id": "fa167919-d6e1-4046-8f62-08c0dd6bdbf9",
   "metadata": {},
   "source": [
    "6. Remove an element from a list by its index:"
   ]
  },
  {
   "cell_type": "code",
   "execution_count": 357,
   "id": "aa9d661e-0792-488c-b9b5-cc9d6a60a093",
   "metadata": {},
   "outputs": [
    {
     "name": "stdout",
     "output_type": "stream",
     "text": [
      "List after removing element at index 4: [1, 2, 99, 3, 5, 7, 8, 9, 10, 11]\n"
     ]
    }
   ],
   "source": [
    "def remove_by_index(my_list, index):\n",
    "    del my_list[index]\n",
    "\n",
    "remove_by_index(my_list, 4)\n",
    "print(\"List after removing element at index 4:\", my_list)\n"
   ]
  },
  {
   "cell_type": "markdown",
   "id": "af7503fb-75ea-40f2-9853-2a9029ec0520",
   "metadata": {},
   "source": [
    "7. Check if an element exists in a list:"
   ]
  },
  {
   "cell_type": "code",
   "execution_count": 358,
   "id": "a7985428-8971-4b2a-8f3c-da6e8c6a0756",
   "metadata": {},
   "outputs": [
    {
     "name": "stdout",
     "output_type": "stream",
     "text": [
      "7 exists in the list.\n"
     ]
    }
   ],
   "source": [
    "def element_exists(my_list, element):\n",
    "    for item in my_list:\n",
    "        if item == element:\n",
    "            return True\n",
    "    return False\n",
    "\n",
    "element = 7\n",
    "if element_exists(my_list, element):\n",
    "    print(f\"{element} exists in the list.\")\n",
    "else:\n",
    "    print(f\"{element} does not exist in the list.\")\n"
   ]
  },
  {
   "cell_type": "markdown",
   "id": "ac491fe9-8fe1-4679-adc3-0652edac32e4",
   "metadata": {},
   "source": [
    "8. Find the index of the first occurrence of an element in a list:"
   ]
  },
  {
   "cell_type": "code",
   "execution_count": 359,
   "id": "cf03aedf-b477-4bf1-8446-f59c419740cc",
   "metadata": {},
   "outputs": [
    {
     "name": "stdout",
     "output_type": "stream",
     "text": [
      "The index of 9 is: 7\n"
     ]
    }
   ],
   "source": [
    "def find_index_of_element(my_list, element):\n",
    "    index = 0\n",
    "    for item in my_list:\n",
    "        if item == element:\n",
    "            return index\n",
    "        index += 1\n",
    "    return -1\n",
    "\n",
    "element = 9\n",
    "index = find_index_of_element(my_list, element)\n",
    "print(f\"The index of {element} is: {index}\")"
   ]
  },
  {
   "cell_type": "markdown",
   "id": "19968a8e-a8b1-41cb-89ad-68accecfaca2",
   "metadata": {},
   "source": [
    "9. Count the occurrences of an element in a list:"
   ]
  },
  {
   "cell_type": "code",
   "execution_count": 360,
   "id": "96a605fb-641a-4d73-9bdf-424fdb9a87d1",
   "metadata": {},
   "outputs": [
    {
     "name": "stdout",
     "output_type": "stream",
     "text": [
      "7 occurs 1 times in the list.\n"
     ]
    }
   ],
   "source": [
    "def count_occurrences(my_list, element):\n",
    "    count = 0\n",
    "    for item in my_list:\n",
    "        if item == element:\n",
    "            count += 1\n",
    "    return count\n",
    "\n",
    "element = 7\n",
    "occurrences = count_occurrences(my_list, element)\n",
    "print(f\"{element} occurs {occurrences} times in the list.\")\n"
   ]
  },
  {
   "cell_type": "markdown",
   "id": "6d7271ac-a384-4d16-8e06-400a44050f69",
   "metadata": {},
   "source": [
    "10. Reverse the order of elements in a list:"
   ]
  },
  {
   "cell_type": "code",
   "execution_count": 361,
   "id": "0e38abf8-c98e-40c5-a06c-46830baf0fbe",
   "metadata": {},
   "outputs": [
    {
     "name": "stdout",
     "output_type": "stream",
     "text": [
      "Reversed list: [11, 10, 9, 8, 7, 5, 3, 99, 2, 1]\n"
     ]
    }
   ],
   "source": [
    "def reverse_list(my_list):\n",
    "    reversed_list = []\n",
    "    for item in my_list:\n",
    "        reversed_list.insert(0, item)\n",
    "    return reversed_list\n",
    "\n",
    "reversed = reverse_list(my_list)\n",
    "print(\"Reversed list:\", reversed)\n"
   ]
  },
  {
   "cell_type": "markdown",
   "id": "c4c74b95-eb53-4397-9db0-3d927d2fc640",
   "metadata": {},
   "source": [
    "11. Sort a list in ascending order:"
   ]
  },
  {
   "cell_type": "code",
   "execution_count": 362,
   "id": "e3657ed2-9b51-4316-b0ec-e3bd2411a7c9",
   "metadata": {},
   "outputs": [
    {
     "name": "stdout",
     "output_type": "stream",
     "text": [
      "List sorted in ascending order: [1, 2, 3, 5, 7, 8, 9, 10, 11, 99]\n"
     ]
    }
   ],
   "source": [
    "def sort_list_ascending(my_list):\n",
    "    sorted_list = []\n",
    "    for item in my_list:\n",
    "        insert_index = 0\n",
    "        while insert_index < len(sorted_list) and item > sorted_list[insert_index]:\n",
    "            insert_index += 1\n",
    "        sorted_list.insert(insert_index, item)\n",
    "    return sorted_list\n",
    "\n",
    "sorted_ascending = sort_list_ascending(my_list)\n",
    "print(\"List sorted in ascending order:\", sorted_ascending)\n"
   ]
  },
  {
   "cell_type": "markdown",
   "id": "ccac4aff-877b-455f-8f34-54fba8b68cd5",
   "metadata": {},
   "source": [
    "12. Sort a list in descending order:"
   ]
  },
  {
   "cell_type": "code",
   "execution_count": 363,
   "id": "a1054ce0-11d4-4f41-bd21-346ea4841e8c",
   "metadata": {},
   "outputs": [
    {
     "name": "stdout",
     "output_type": "stream",
     "text": [
      "List sorted in descending order: [99, 11, 10, 9, 8, 7, 5, 3, 2, 1]\n"
     ]
    }
   ],
   "source": [
    "def sort_list_descending(my_list):\n",
    "    sorted_list = []\n",
    "    for item in my_list:\n",
    "        insert_index = 0\n",
    "        while insert_index < len(sorted_list) and item < sorted_list[insert_index]:\n",
    "            insert_index += 1\n",
    "        sorted_list.insert(insert_index, item)\n",
    "    return sorted_list\n",
    "\n",
    "sorted_descending = sort_list_descending(my_list)\n",
    "print(\"List sorted in descending order:\", sorted_descending)\n"
   ]
  },
  {
   "cell_type": "markdown",
   "id": "557b50e8-11ff-4ec9-be86-cf8efd4d7741",
   "metadata": {},
   "source": [
    "13. Create a list of even numbers from 1 to 20:"
   ]
  },
  {
   "cell_type": "code",
   "execution_count": 364,
   "id": "ee27d353-e45a-48a6-8144-97cf9833518a",
   "metadata": {},
   "outputs": [
    {
     "name": "stdout",
     "output_type": "stream",
     "text": [
      "Even numbers from 1 to 20: [2, 4, 6, 8, 10, 12, 14, 16, 18, 20]\n"
     ]
    }
   ],
   "source": [
    "even_numbers = [num for num in range(1, 21) if num % 2 == 0]\n",
    "print(\"Even numbers from 1 to 20:\", even_numbers)\n"
   ]
  },
  {
   "cell_type": "markdown",
   "id": "218826d8-256a-4039-90c7-dba0cd8755c1",
   "metadata": {},
   "source": [
    "14. Create a list of odd numbers from 1 to 20:"
   ]
  },
  {
   "cell_type": "code",
   "execution_count": 365,
   "id": "28cf3781-625b-4322-bc0e-4d97548c4f28",
   "metadata": {},
   "outputs": [
    {
     "name": "stdout",
     "output_type": "stream",
     "text": [
      "Odd numbers from 1 to 20: [1, 3, 5, 7, 9, 11, 13, 15, 17, 19]\n"
     ]
    }
   ],
   "source": [
    "odd_numbers = [num for num in range(1, 21) if num % 2 != 0]\n",
    "print(\"Odd numbers from 1 to 20:\", odd_numbers)\n"
   ]
  },
  {
   "cell_type": "markdown",
   "id": "e45e5324-a47b-4d7f-9e72-2efb43fe9258",
   "metadata": {},
   "source": [
    "15. Find the sum of all elements in a list:"
   ]
  },
  {
   "cell_type": "code",
   "execution_count": 366,
   "id": "8bc648d1-3c66-4917-a20b-17785ef8b538",
   "metadata": {},
   "outputs": [
    {
     "name": "stdout",
     "output_type": "stream",
     "text": [
      "Sum of elements in the list: 155\n"
     ]
    }
   ],
   "source": [
    "def find_sum_of_elements(my_list):\n",
    "    total = 0\n",
    "    for item in my_list:\n",
    "        total += item\n",
    "    return total\n",
    "\n",
    "sum_of_elements = find_sum_of_elements(my_list)\n",
    "print(\"Sum of elements in the list:\", sum_of_elements)\n"
   ]
  },
  {
   "cell_type": "markdown",
   "id": "00d56c5a-b5d2-48ef-a9a5-fc83fc635b3c",
   "metadata": {},
   "source": [
    "16. Find the maximum value in a list:"
   ]
  },
  {
   "cell_type": "code",
   "execution_count": 367,
   "id": "0cb20e4f-85b4-4645-adf1-099df4c055e4",
   "metadata": {},
   "outputs": [
    {
     "name": "stdout",
     "output_type": "stream",
     "text": [
      "Maximum value in the list: 99\n"
     ]
    }
   ],
   "source": [
    "def find_maximum_value(my_list):\n",
    "    if not my_list:\n",
    "        return None\n",
    "    max_value = my_list[0]\n",
    "    for item in my_list:\n",
    "        if item > max_value:\n",
    "            max_value = item\n",
    "    return max_value\n",
    "\n",
    "max_value = find_maximum_value(my_list)\n",
    "print(\"Maximum value in the list:\", max_value)\n"
   ]
  },
  {
   "cell_type": "markdown",
   "id": "99210478-5188-4197-b2ab-2f9d07e35afc",
   "metadata": {},
   "source": [
    "17. Find the minimum value in a list:"
   ]
  },
  {
   "cell_type": "code",
   "execution_count": 368,
   "id": "0f323449-3fa7-425f-af19-cc588d19aa37",
   "metadata": {},
   "outputs": [
    {
     "name": "stdout",
     "output_type": "stream",
     "text": [
      "Minimum value in the list: 1\n"
     ]
    }
   ],
   "source": [
    "def find_minimum_value(my_list):\n",
    "    if not my_list:\n",
    "        return None\n",
    "    min_value = my_list[0]\n",
    "    for item in my_list:\n",
    "        if item < min_value:\n",
    "            min_value = item\n",
    "    return min_value\n",
    "\n",
    "min_value = find_minimum_value(my_list)\n",
    "print(\"Minimum value in the list:\", min_value)\n"
   ]
  },
  {
   "cell_type": "markdown",
   "id": "fd068b5b-3055-4530-9b23-46e6c2929c21",
   "metadata": {},
   "source": [
    "18. Create a list of squares of numbers from 1 to 10:"
   ]
  },
  {
   "cell_type": "code",
   "execution_count": 369,
   "id": "28c52e26-5fa8-4f85-85fb-1d3a3bb14835",
   "metadata": {},
   "outputs": [
    {
     "name": "stdout",
     "output_type": "stream",
     "text": [
      "Squares of numbers from 1 to 10: [1, 4, 9, 16, 25, 36, 49, 64, 81, 100]\n"
     ]
    }
   ],
   "source": [
    "squares_list = [num ** 2 for num in range(1, 11)]\n",
    "print(\"Squares of numbers from 1 to 10:\", squares_list)"
   ]
  },
  {
   "cell_type": "markdown",
   "id": "938d0fa2-2122-4aa3-8153-b83ecf2e34ad",
   "metadata": {},
   "source": [
    "19. Create a list of random numbers:"
   ]
  },
  {
   "cell_type": "code",
   "execution_count": 370,
   "id": "a3411424-f8c3-4db6-b343-ad4c9881d069",
   "metadata": {},
   "outputs": [
    {
     "name": "stdout",
     "output_type": "stream",
     "text": [
      "Random numbers list: [98, 47, 40, 53, 61]\n"
     ]
    }
   ],
   "source": [
    "import random\n",
    "\n",
    "def create_random_list(length, min_value, max_value):\n",
    "    random_list = []\n",
    "    for _ in range(length):\n",
    "        random_list.append(random.randint(min_value, max_value))\n",
    "    return random_list\n",
    "\n",
    "random_numbers = create_random_list(5, 1, 100)\n",
    "print(\"Random numbers list:\", random_numbers)\n"
   ]
  },
  {
   "cell_type": "markdown",
   "id": "ed87040a-7a46-49ee-a6f3-b3d421960b62",
   "metadata": {},
   "source": [
    "20. Remove duplicates from a list:"
   ]
  },
  {
   "cell_type": "code",
   "execution_count": 371,
   "id": "c83a412e-9410-42b5-9628-98acc30ae4b2",
   "metadata": {},
   "outputs": [
    {
     "name": "stdout",
     "output_type": "stream",
     "text": [
      "List with duplicates removed: [1, 2, 3, 4, 5]\n"
     ]
    }
   ],
   "source": [
    "def remove_duplicates(my_list):\n",
    "    unique_list = []\n",
    "    for item in my_list:\n",
    "        if item not in unique_list:\n",
    "            unique_list.append(item)\n",
    "    return unique_list\n",
    "\n",
    "my_list_with_duplicates = [1, 2, 2, 3, 4, 4, 5]\n",
    "unique_list = remove_duplicates(my_list_with_duplicates)\n",
    "print(\"List with duplicates removed:\", unique_list)\n"
   ]
  },
  {
   "cell_type": "markdown",
   "id": "b474a5c8-4cbc-4003-80c0-6c956c59e1c8",
   "metadata": {},
   "source": [
    "21. Find the common elements between two lists:"
   ]
  },
  {
   "cell_type": "code",
   "execution_count": 372,
   "id": "43407810-91ce-449f-ad8a-f2aad0ef8e69",
   "metadata": {},
   "outputs": [
    {
     "name": "stdout",
     "output_type": "stream",
     "text": [
      "Common elements between two lists: [3, 4, 5]\n"
     ]
    }
   ],
   "source": [
    "def find_common_elements(list1, list2):\n",
    "    common_elements = []\n",
    "    for item in list1:\n",
    "        if item in list2 and item not in common_elements:\n",
    "            common_elements.append(item)\n",
    "    return common_elements\n",
    "\n",
    "list1 = [1, 2, 3, 4, 5]\n",
    "list2 = [3, 4, 5, 6, 7]\n",
    "common_elements = find_common_elements(list1, list2)\n",
    "print(\"Common elements between two lists:\", common_elements)\n"
   ]
  },
  {
   "cell_type": "markdown",
   "id": "19998b9c-402d-41c4-a8ca-aa63817290fe",
   "metadata": {},
   "source": [
    "22. Find the difference between two lists:"
   ]
  },
  {
   "cell_type": "code",
   "execution_count": 373,
   "id": "4bd74b5a-57e3-4978-8791-7be598687bdb",
   "metadata": {},
   "outputs": [
    {
     "name": "stdout",
     "output_type": "stream",
     "text": [
      "Difference between two lists: [1, 2, 6, 7]\n"
     ]
    }
   ],
   "source": [
    "def find_difference(list1, list2):\n",
    "    difference = []\n",
    "    for item in list1:\n",
    "        if item not in list2 and item not in difference:\n",
    "            difference.append(item)\n",
    "    for item in list2:\n",
    "        if item not in list1 and item not in difference:\n",
    "            difference.append(item)\n",
    "    return difference\n",
    "\n",
    "list1 = [1, 2, 3, 4, 5]\n",
    "list2 = [3, 4, 5, 6, 7]\n",
    "difference = find_difference(list1, list2)\n",
    "print(\"Difference between two lists:\", difference)"
   ]
  },
  {
   "cell_type": "markdown",
   "id": "c2d8c7f2-9213-4e95-b594-9cec9890fe38",
   "metadata": {},
   "source": [
    "23. Merge two lists:"
   ]
  },
  {
   "cell_type": "code",
   "execution_count": 374,
   "id": "53826fb9-e1cf-4172-aa1a-33f3ca863113",
   "metadata": {},
   "outputs": [
    {
     "name": "stdout",
     "output_type": "stream",
     "text": [
      "Merged list: [1, 2, 3, 4, 5, 6]\n"
     ]
    }
   ],
   "source": [
    "def merge_lists(list1, list2):\n",
    "    merged_list = list1[:]\n",
    "    for item in list2:\n",
    "        merged_list.append(item)\n",
    "    return merged_list\n",
    "\n",
    "list1 = [1, 2, 3]\n",
    "list2 = [4, 5, 6]\n",
    "merged_list = merge_lists(list1, list2)\n",
    "print(\"Merged list:\", merged_list)\n"
   ]
  },
  {
   "cell_type": "markdown",
   "id": "dee7fac8-0cdc-417e-a000-9f3631a087c9",
   "metadata": {},
   "source": [
    "24. Multiply all elements in a list by 2:\n",
    "\n"
   ]
  },
  {
   "cell_type": "code",
   "execution_count": 375,
   "id": "2eb3b15e-7cf7-457c-9dc2-fb67cceccecf",
   "metadata": {},
   "outputs": [
    {
     "name": "stdout",
     "output_type": "stream",
     "text": [
      "List after multiplying all elements by 2: [2, 4, 198, 6, 10, 14, 16, 18, 20, 22]\n"
     ]
    }
   ],
   "source": [
    "def multiply_by_two(my_list):\n",
    "    for i in range(len(my_list)):\n",
    "        my_list[i] *= 2\n",
    "\n",
    "multiply_by_two(my_list)\n",
    "print(\"List after multiplying all elements by 2:\", my_list)\n"
   ]
  },
  {
   "cell_type": "markdown",
   "id": "faff758f-3209-41a8-809f-74411485aba5",
   "metadata": {},
   "source": [
    "25. Filter out all even numbers from a list:"
   ]
  },
  {
   "cell_type": "code",
   "execution_count": 376,
   "id": "8d2f3462-3922-4e68-b134-87ffb484528d",
   "metadata": {},
   "outputs": [
    {
     "name": "stdout",
     "output_type": "stream",
     "text": [
      "List with even numbers filtered out: [1, 3, 5]\n"
     ]
    }
   ],
   "source": [
    "def filter_out_even_numbers(my_list):\n",
    "    odd_numbers = [item for item in my_list if item % 2 != 0]\n",
    "    return odd_numbers\n",
    "\n",
    "my_list_with_even_and_odd = [1, 2, 3, 4, 5, 6]\n",
    "filtered_list = filter_out_even_numbers(my_list_with_even_and_odd)\n",
    "print(\"List with even numbers filtered out:\", filtered_list)\n"
   ]
  },
  {
   "cell_type": "markdown",
   "id": "0b188301-b2a5-4144-89e0-8d8cc8283c7f",
   "metadata": {},
   "source": [
    "26. Convert a list of strings to a list of integers:"
   ]
  },
  {
   "cell_type": "code",
   "execution_count": 377,
   "id": "4b9a77cf-c596-4ad5-89e1-70d76049c5a3",
   "metadata": {},
   "outputs": [
    {
     "name": "stdout",
     "output_type": "stream",
     "text": [
      "List of integers: [1, 2, 3, 4]\n"
     ]
    }
   ],
   "source": [
    "def strings_to_integers(string_list):\n",
    "    integer_list = []\n",
    "    for string in string_list:\n",
    "        integer = 0\n",
    "        for char in string:\n",
    "            integer = integer * 10 + ord(char) - ord('0')\n",
    "        integer_list.append(integer)\n",
    "    return integer_list\n",
    "\n",
    "string_list = [\"1\", \"2\", \"3\", \"4\"]\n",
    "integer_list = strings_to_integers(string_list)\n",
    "print(\"List of integers:\", integer_list)\n"
   ]
  },
  {
   "cell_type": "markdown",
   "id": "e573d5d9-6d24-4c56-8092-9ecbd11e4b39",
   "metadata": {},
   "source": [
    "27. Convert a list of integers to a list of strings:"
   ]
  },
  {
   "cell_type": "code",
   "execution_count": 378,
   "id": "72d6fdaf-9573-450a-8399-5ea8bbb9bc95",
   "metadata": {},
   "outputs": [
    {
     "name": "stdout",
     "output_type": "stream",
     "text": [
      "List of strings: ['1', '2', '3', '4']\n"
     ]
    }
   ],
   "source": [
    "def integers_to_strings(integer_list):\n",
    "    string_list = []\n",
    "    for integer in integer_list:\n",
    "        string = \"\"\n",
    "        while integer > 0:\n",
    "            string = chr((integer % 10) + ord('0')) + string\n",
    "            integer //= 10\n",
    "        string_list.append(string)\n",
    "    return string_list\n",
    "\n",
    "integer_list = [1, 2, 3, 4]\n",
    "string_list = integers_to_strings(integer_list)\n",
    "print(\"List of strings:\", string_list)\n"
   ]
  },
  {
   "cell_type": "markdown",
   "id": "7c015892-304c-4cf3-a92f-5d5d66553e9f",
   "metadata": {},
   "source": [
    "28. Flatten a nested list:"
   ]
  },
  {
   "cell_type": "code",
   "execution_count": 379,
   "id": "1d8d12c0-8d83-4b24-9860-65a1e23e64f3",
   "metadata": {},
   "outputs": [
    {
     "name": "stdout",
     "output_type": "stream",
     "text": [
      "Flattened list: [1, 2, 3, 4, 5, 6]\n"
     ]
    }
   ],
   "source": [
    "def flatten_nested_list(nested_list):\n",
    "    flattened_list = []\n",
    "    for sublist in nested_list:\n",
    "        for item in sublist:\n",
    "            flattened_list.append(item)\n",
    "    return flattened_list\n",
    "\n",
    "nested_list = [[1, 2], [3, 4], [5, 6]]\n",
    "flattened_list = flatten_nested_list(nested_list)\n",
    "print(\"Flattened list:\", flattened_list)\n"
   ]
  },
  {
   "cell_type": "markdown",
   "id": "5964f53b-e60c-4aa3-b25d-90538d9eb077",
   "metadata": {},
   "source": [
    "29. Create a list of the first 10 Fibonacci numbers:"
   ]
  },
  {
   "cell_type": "code",
   "execution_count": 380,
   "id": "12f0f12c-d00b-4a22-84a2-cc99b4c92e32",
   "metadata": {},
   "outputs": [
    {
     "name": "stdout",
     "output_type": "stream",
     "text": [
      "First 10 Fibonacci numbers: [0, 1, 1, 2, 3, 5, 8, 13, 21, 34]\n"
     ]
    }
   ],
   "source": [
    "def generate_fibonacci_numbers(n):\n",
    "    fibonacci_list = [0, 1]\n",
    "    while len(fibonacci_list) < n:\n",
    "        next_number = fibonacci_list[-1] + fibonacci_list[-2]\n",
    "        fibonacci_list.append(next_number)\n",
    "    return fibonacci_list\n",
    "\n",
    "n = 10\n",
    "fibonacci_numbers = generate_fibonacci_numbers(n)\n",
    "print(\"First 10 Fibonacci numbers:\", fibonacci_numbers)"
   ]
  },
  {
   "cell_type": "markdown",
   "id": "8cfaf1fa-81f5-4810-9f71-d24f2a9e7215",
   "metadata": {},
   "source": [
    "30. Check if a list is sorted:"
   ]
  },
  {
   "cell_type": "code",
   "execution_count": 381,
   "id": "f0e47536-9f55-4f2a-a61d-4f539576e96f",
   "metadata": {},
   "outputs": [
    {
     "name": "stdout",
     "output_type": "stream",
     "text": [
      "Is the sorted list sorted? True\n",
      "Is the unsorted list sorted? False\n"
     ]
    }
   ],
   "source": [
    "def is_sorted(my_list):\n",
    "    for i in range(len(my_list) - 1):\n",
    "        if my_list[i] > my_list[i + 1]:\n",
    "            return False\n",
    "    return True\n",
    "\n",
    "sorted_list = [1, 2, 3, 4, 5]\n",
    "unsorted_list = [3, 1, 4, 2, 5]\n",
    "print(\"Is the sorted list sorted?\", is_sorted(sorted_list))\n",
    "print(\"Is the unsorted list sorted?\", is_sorted(unsorted_list))\n"
   ]
  },
  {
   "cell_type": "markdown",
   "id": "55f9a878-18b8-4dde-80bc-ec41f5511c47",
   "metadata": {},
   "source": [
    "31. Rotate a list to the left by n positions:"
   ]
  },
  {
   "cell_type": "code",
   "execution_count": 382,
   "id": "bea98b8b-5e1d-4c8d-9005-cd02b185e96c",
   "metadata": {},
   "outputs": [
    {
     "name": "stdout",
     "output_type": "stream",
     "text": [
      "Left rotated by 2 positions: [3, 4, 5, 1, 2]\n"
     ]
    }
   ],
   "source": [
    "def rotate_left(my_list, n):\n",
    "    n = n % len(my_list)\n",
    "    rotated_list = my_list[n:] + my_list[:n]\n",
    "    return rotated_list\n",
    "\n",
    "original_list = [1, 2, 3, 4, 5]\n",
    "n = 2\n",
    "left_rotated = rotate_left(original_list, n)\n",
    "print(\"Left rotated by\", n, \"positions:\", left_rotated)\n"
   ]
  },
  {
   "cell_type": "markdown",
   "id": "58e769b5-7278-40b1-abe9-b9434c9e2c86",
   "metadata": {},
   "source": [
    "32. Rotate a list to the right by n positions:"
   ]
  },
  {
   "cell_type": "code",
   "execution_count": 383,
   "id": "96fdb035-0180-4411-9c79-f449493e95d1",
   "metadata": {},
   "outputs": [
    {
     "name": "stdout",
     "output_type": "stream",
     "text": [
      "Right rotated by 2 positions: [4, 5, 1, 2, 3]\n"
     ]
    }
   ],
   "source": [
    "def rotate_right(my_list, n):\n",
    "    n = n % len(my_list)\n",
    "    rotated_list = my_list[-n:] + my_list[:-n]\n",
    "    return rotated_list\n",
    "\n",
    "original_list = [1, 2, 3, 4, 5]\n",
    "n = 2\n",
    "right_rotated = rotate_right(original_list, n)\n",
    "print(\"Right rotated by\", n, \"positions:\", right_rotated)\n"
   ]
  },
  {
   "cell_type": "markdown",
   "id": "e43acb16-cd1d-4c14-ba1d-afe12d41ca19",
   "metadata": {},
   "source": [
    "33. Create a list of prime numbers up to 50:"
   ]
  },
  {
   "cell_type": "code",
   "execution_count": 384,
   "id": "a53db520-ed89-4ce8-816f-43cfd4812f80",
   "metadata": {},
   "outputs": [
    {
     "name": "stdout",
     "output_type": "stream",
     "text": [
      "Prime numbers up to 50: [2, 3, 5, 7, 11, 13, 17, 19, 23, 29, 31, 37, 41, 43, 47]\n"
     ]
    }
   ],
   "source": [
    "def is_prime(num):\n",
    "    if num <= 1:\n",
    "        return False\n",
    "    for i in range(2, num):\n",
    "        if num % i == 0:\n",
    "            return False\n",
    "    return True\n",
    "\n",
    "prime_numbers = [num for num in range(2, 51) if is_prime(num)]\n",
    "print(\"Prime numbers up to 50:\", prime_numbers)\n"
   ]
  },
  {
   "cell_type": "markdown",
   "id": "23dba2ba-e69c-4ea4-b8e5-d4496d679e22",
   "metadata": {},
   "source": [
    "34. Split a list into chunks of size n:"
   ]
  },
  {
   "cell_type": "code",
   "execution_count": 385,
   "id": "1091e46b-7ddf-4582-a4ca-5bf229377932",
   "metadata": {},
   "outputs": [
    {
     "name": "stdout",
     "output_type": "stream",
     "text": [
      "List split into chunks of size 3 : [[1, 2, 3], [4, 5, 6], [7, 8]]\n"
     ]
    }
   ],
   "source": [
    "def split_into_chunks(my_list, n):\n",
    "    chunked_list = []\n",
    "    for i in range(0, len(my_list), n):\n",
    "        chunked_list.append(my_list[i:i+n])\n",
    "    return chunked_list\n",
    "\n",
    "original_list = [1, 2, 3, 4, 5, 6, 7, 8]\n",
    "chunk_size = 3\n",
    "chunks = split_into_chunks(original_list, chunk_size)\n",
    "print(\"List split into chunks of size\", chunk_size, \":\", chunks)\n"
   ]
  },
  {
   "cell_type": "markdown",
   "id": "7fa94dec-d8dc-4b16-ba97-84e42ccc4900",
   "metadata": {},
   "source": [
    "35. Find the second largest number in a list:"
   ]
  },
  {
   "cell_type": "code",
   "execution_count": 386,
   "id": "ff241bc6-b019-4f7f-8ddb-c1609e89ebbd",
   "metadata": {},
   "outputs": [
    {
     "name": "stdout",
     "output_type": "stream",
     "text": [
      "Second largest number: 7\n"
     ]
    }
   ],
   "source": [
    "def find_second_largest(my_list):\n",
    "    if len(my_list) < 2:\n",
    "        return None\n",
    "    largest = second_largest = float('-inf')\n",
    "    for num in my_list:\n",
    "        if num > largest:\n",
    "            second_largest = largest\n",
    "            largest = num\n",
    "        elif num > second_largest and num != largest:\n",
    "            second_largest = num\n",
    "    return second_largest\n",
    "\n",
    "original_list = [3, 5, 1, 7, 4, 8]\n",
    "second_largest = find_second_largest(original_list)\n",
    "print(\"Second largest number:\", second_largest)\n"
   ]
  },
  {
   "cell_type": "markdown",
   "id": "b1e065d0-b52e-4952-aac2-4f48fb1337a3",
   "metadata": {},
   "source": [
    "36. Replace every element in a list with its square:\n",
    "    **Already done above**"
   ]
  },
  {
   "cell_type": "markdown",
   "id": "839c701d-758a-44c6-a31f-9df2515ffc55",
   "metadata": {},
   "source": [
    "37. Convert a list to a dictionary where list elements become keys and their indices become values:"
   ]
  },
  {
   "cell_type": "code",
   "execution_count": 387,
   "id": "1934034a-74c2-4ec0-ae31-d4c16b4cf826",
   "metadata": {},
   "outputs": [
    {
     "name": "stdout",
     "output_type": "stream",
     "text": [
      "Dictionary from list: {'a': 0, 'b': 1, 'c': 2}\n"
     ]
    }
   ],
   "source": [
    "def list_to_dictionary(my_list):\n",
    "    my_dict = {}\n",
    "    for i, item in enumerate(my_list):\n",
    "        my_dict[item] = i\n",
    "    return my_dict\n",
    "\n",
    "original_list = [\"a\", \"b\", \"c\"]\n",
    "dict_from_list = list_to_dictionary(original_list)\n",
    "print(\"Dictionary from list:\", dict_from_list)\n"
   ]
  },
  {
   "cell_type": "markdown",
   "id": "e371fa44-a2ab-49e7-ac5b-e9d55c19e3e1",
   "metadata": {},
   "source": [
    "38. Shuffle the elements of a list randomly:"
   ]
  },
  {
   "cell_type": "code",
   "execution_count": 388,
   "id": "4eed0cec-88be-459d-b3b5-c8517d5f8f1d",
   "metadata": {},
   "outputs": [
    {
     "name": "stdout",
     "output_type": "stream",
     "text": [
      "Shuffled list: [4, 5, 1, 2, 3]\n"
     ]
    }
   ],
   "source": [
    "import random\n",
    "\n",
    "def shuffle_list(my_list):\n",
    "    for i in range(len(my_list) - 1, 0, -1):\n",
    "        j = random.randint(0, i)\n",
    "        my_list[i], my_list[j] = my_list[j], my_list[i]\n",
    "\n",
    "original_list = [1, 2, 3, 4, 5]\n",
    "shuffle_list(original_list)\n",
    "print(\"Shuffled list:\", original_list)\n"
   ]
  },
  {
   "cell_type": "markdown",
   "id": "2420364f-4dd2-44fd-89be-3c5cf668be02",
   "metadata": {},
   "source": [
    "39. Create a list of the first 10 factorial numbers:"
   ]
  },
  {
   "cell_type": "code",
   "execution_count": 389,
   "id": "47ba1ec0-67e4-4582-8dc9-bfeba4c2c911",
   "metadata": {},
   "outputs": [
    {
     "name": "stdout",
     "output_type": "stream",
     "text": [
      "First 10 factorial numbers: [1, 2, 6, 24, 120, 720, 5040, 40320, 362880, 3628800]\n"
     ]
    }
   ],
   "source": [
    "def calculate_factorial(n):\n",
    "    factorial = 1\n",
    "    for i in range(1, n + 1):\n",
    "        factorial *= i\n",
    "    return factorial\n",
    "\n",
    "factorial_list = [calculate_factorial(i) for i in range(1, 11)]\n",
    "print(\"First 10 factorial numbers:\", factorial_list)\n"
   ]
  },
  {
   "cell_type": "markdown",
   "id": "ee7b9322-91f5-4582-a3df-a787a96726ed",
   "metadata": {},
   "source": [
    "40. Check if two lists have at least one element in common:"
   ]
  },
  {
   "cell_type": "code",
   "execution_count": 390,
   "id": "7b3a7c28-6540-40a7-b772-398a402e04d6",
   "metadata": {},
   "outputs": [
    {
     "name": "stdout",
     "output_type": "stream",
     "text": [
      "The lists have at least one common element.\n"
     ]
    }
   ],
   "source": [
    "def have_common_elements(list1, list2):\n",
    "    for item1 in list1:\n",
    "        for item2 in list2:\n",
    "            if item1 == item2:\n",
    "                return True\n",
    "    return False\n",
    "\n",
    "list1 = [1, 2, 3, 4, 5]\n",
    "list2 = [4, 5, 6, 7, 8]\n",
    "if have_common_elements(list1, list2):\n",
    "    print(\"The lists have at least one common element.\")\n",
    "else:\n",
    "    print(\"The lists have no common elements.\")\n"
   ]
  },
  {
   "cell_type": "markdown",
   "id": "38630f58-8061-46a2-b3c0-d423d84f9318",
   "metadata": {},
   "source": [
    "41. Remove all elements from a list:"
   ]
  },
  {
   "cell_type": "code",
   "execution_count": 391,
   "id": "28db40f4-24f6-4c24-8b17-71ebbac1d25c",
   "metadata": {},
   "outputs": [
    {
     "name": "stdout",
     "output_type": "stream",
     "text": [
      "List after removing all elements: []\n"
     ]
    }
   ],
   "source": [
    "def remove_all_elements(my_list):\n",
    "    my_list[:] = []\n",
    "\n",
    "original_list = [1, 2, 3, 4, 5]\n",
    "remove_all_elements(original_list)\n",
    "print(\"List after removing all elements:\", original_list)\n"
   ]
  },
  {
   "cell_type": "markdown",
   "id": "bce9a08c-d9af-4997-9632-a14512b705fd",
   "metadata": {},
   "source": [
    "42. Replace negative numbers in a list with 0:"
   ]
  },
  {
   "cell_type": "code",
   "execution_count": 392,
   "id": "d7410fa6-016b-4f97-a9fc-a161d8b3c7d0",
   "metadata": {},
   "outputs": [
    {
     "name": "stdout",
     "output_type": "stream",
     "text": [
      "List with negative numbers replaced by 0: [1, 0, 3, 0, 5]\n"
     ]
    }
   ],
   "source": [
    "def replace_negative_with_zero(my_list):\n",
    "    for i in range(len(my_list)):\n",
    "        if my_list[i] < 0:\n",
    "            my_list[i] = 0\n",
    "\n",
    "original_list = [1, -2, 3, -4, 5]\n",
    "replace_negative_with_zero(original_list)\n",
    "print(\"List with negative numbers replaced by 0:\", original_list)\n"
   ]
  },
  {
   "cell_type": "markdown",
   "id": "c0385330-fd51-4976-88ff-0adf25931672",
   "metadata": {},
   "source": [
    "43. Convert a string into a list of words:\n",
    "44. Convert a list of words into a string:\n",
    "45. Create a list of the first n powers of 2:\n",
    "46. Find the longest string in a list of strings:\n",
    "47. Find the shortest string in a list of strings:\n",
    "\n",
    "\n",
    "    **already done above**"
   ]
  },
  {
   "cell_type": "markdown",
   "id": "6e5132ab-d82a-4bf6-a1da-4f940fbf42ec",
   "metadata": {},
   "source": [
    "48. Create a list of the first n triangular numbers:"
   ]
  },
  {
   "cell_type": "code",
   "execution_count": 393,
   "id": "87ee027a-43b4-478e-9ec3-d9ad9e0f979f",
   "metadata": {},
   "outputs": [
    {
     "name": "stdout",
     "output_type": "stream",
     "text": [
      "First 5 triangular numbers: [1, 3, 6, 10, 15]\n"
     ]
    }
   ],
   "source": [
    "def generate_triangular_numbers(n):\n",
    "    triangular_numbers = [n * (n + 1) // 2 for n in range(1, n + 1)]\n",
    "    return triangular_numbers\n",
    "\n",
    "n = 5\n",
    "triangular_list = generate_triangular_numbers(n)\n",
    "print(\"First\", n, \"triangular numbers:\", triangular_list)\n"
   ]
  },
  {
   "cell_type": "markdown",
   "id": "9205cce3-9bfb-474b-b617-db0e3e557631",
   "metadata": {},
   "source": [
    "49. Check if a list contains another list as a subsequence:"
   ]
  },
  {
   "cell_type": "code",
   "execution_count": 394,
   "id": "51ee042a-02a0-4c83-8734-45605200255d",
   "metadata": {},
   "outputs": [
    {
     "name": "stdout",
     "output_type": "stream",
     "text": [
      "Main list contains subsequence.\n"
     ]
    }
   ],
   "source": [
    "def has_subsequence(main_list, sub_list):\n",
    "    if not sub_list:\n",
    "        return True\n",
    "    i = 0\n",
    "    j = 0\n",
    "    while i < len(main_list) and j < len(sub_list):\n",
    "        if main_list[i] == sub_list[j]:\n",
    "            j += 1\n",
    "        i += 1\n",
    "    return j == len(sub_list)\n",
    "\n",
    "main_list = [1, 2, 3, 4, 5]\n",
    "sub_list = [2, 3, 5]\n",
    "if has_subsequence(main_list, sub_list):\n",
    "    print(\"Main list contains subsequence.\")\n",
    "else:\n",
    "    print(\"Main list does not contain subsequence.\")\n"
   ]
  },
  {
   "cell_type": "markdown",
   "id": "b180e5ba-1d57-42a4-804c-b767836e2dc7",
   "metadata": {},
   "source": [
    "50. Swap two elements in a list by their indices:"
   ]
  },
  {
   "cell_type": "code",
   "execution_count": 395,
   "id": "8d2220ab-23f1-48ab-a6be-a7b0fe5afd22",
   "metadata": {},
   "outputs": [
    {
     "name": "stdout",
     "output_type": "stream",
     "text": [
      "List after swapping elements: [1, 4, 3, 2, 5]\n"
     ]
    }
   ],
   "source": [
    "def swap_elements_by_indices(my_list, index1, index2):\n",
    "    if 0 <= index1 < len(my_list) and 0 <= index2 < len(my_list):\n",
    "        my_list[index1], my_list[index2] = my_list[index2], my_list[index1]\n",
    "\n",
    "original_list = [1, 2, 3, 4, 5]\n",
    "swap_elements_by_indices(original_list, 1, 3)\n",
    "print(\"List after swapping elements:\", original_list)\n"
   ]
  },
  {
   "cell_type": "markdown",
   "id": "50f264bc-8d64-45c6-a6bb-e8027a9bb314",
   "metadata": {},
   "source": [
    "## Tuple Based Practice Problem :"
   ]
  },
  {
   "cell_type": "markdown",
   "id": "526526db-fa6f-4ab7-93da-558c77fb3f09",
   "metadata": {},
   "source": [
    "1. Create a tuple with integers from 1 to 5:"
   ]
  },
  {
   "cell_type": "code",
   "execution_count": 396,
   "id": "a0c746d8-d8c5-484c-bd9f-95a496b1baf8",
   "metadata": {},
   "outputs": [],
   "source": [
    "my_tuple = tuple(i for i in range(1,6))"
   ]
  },
  {
   "cell_type": "markdown",
   "id": "03591f1a-3520-499d-b287-073ed124dcc3",
   "metadata": {},
   "source": [
    "2. Access the third element of a tuple:"
   ]
  },
  {
   "cell_type": "code",
   "execution_count": 397,
   "id": "3bc61c4e-e94a-48bf-ac41-acec76ae32c2",
   "metadata": {},
   "outputs": [
    {
     "data": {
      "text/plain": [
       "3"
      ]
     },
     "execution_count": 397,
     "metadata": {},
     "output_type": "execute_result"
    }
   ],
   "source": [
    "my_tuple[2]"
   ]
  },
  {
   "cell_type": "markdown",
   "id": "5bcb7c51-4426-44f9-8b5c-6669c425e958",
   "metadata": {},
   "source": [
    "3. Find the length of a tuple without using len():"
   ]
  },
  {
   "cell_type": "code",
   "execution_count": 398,
   "id": "a7840f0c-a008-4eb9-8304-375c79cd1b28",
   "metadata": {},
   "outputs": [],
   "source": [
    "def tuple_length(my_tuple):\n",
    "    count = 0\n",
    "    for _ in my_tuple:\n",
    "        count += 1\n",
    "    return count\n",
    "\n",
    "my_tuple = (1, 2, 3, 4, 5)\n",
    "length = tuple_length(my_tuple)"
   ]
  },
  {
   "cell_type": "markdown",
   "id": "d1d2f300-da0b-4daf-ba46-44c75ec2bf08",
   "metadata": {},
   "source": [
    "4. Count the occurrences of an element in a tuple:"
   ]
  },
  {
   "cell_type": "code",
   "execution_count": 399,
   "id": "3fcae0d4-8f08-4d2c-9e22-33ad32f7619b",
   "metadata": {},
   "outputs": [],
   "source": [
    "def count_occurrences(my_tuple, element):\n",
    "    count = 0\n",
    "    for item in my_tuple:\n",
    "        if item == element:\n",
    "            count += 1\n",
    "    return count\n",
    "\n",
    "my_tuple = (1, 2, 2, 3, 4, 2)\n",
    "element = 2\n",
    "occurrences = count_occurrences(my_tuple, element)\n"
   ]
  },
  {
   "cell_type": "markdown",
   "id": "0941318c-0552-4b8f-b4f6-e7cc69d80bf5",
   "metadata": {},
   "source": [
    "5. Find the index of the first occurrence of an element in a tuple:"
   ]
  },
  {
   "cell_type": "code",
   "execution_count": 400,
   "id": "2efe1a54-97ad-43b7-ae7d-031c2556acbc",
   "metadata": {},
   "outputs": [],
   "source": [
    "def find_index_of_element(my_tuple, element):\n",
    "    index = 0\n",
    "    for item in my_tuple:\n",
    "        if item == element:\n",
    "            return index\n",
    "        index += 1\n",
    "    return -1\n",
    "\n",
    "my_tuple = (1, 2, 3, 4, 5)\n",
    "element = 3\n",
    "index = find_index_of_element(my_tuple, element)\n"
   ]
  },
  {
   "cell_type": "markdown",
   "id": "7973098c-09aa-4e6b-ba01-2c83685e4e8a",
   "metadata": {},
   "source": [
    "6. Check if an element exists in a tuple:"
   ]
  },
  {
   "cell_type": "code",
   "execution_count": 401,
   "id": "42726e05-733c-43de-bfb9-00f4c019730f",
   "metadata": {},
   "outputs": [],
   "source": [
    "def element_exists(my_tuple, element):\n",
    "    for item in my_tuple:\n",
    "        if item == element:\n",
    "            return True\n",
    "    return False\n",
    "\n",
    "my_tuple = (1, 2, 3, 4, 5)\n",
    "element = 3\n",
    "exists = element_exists(my_tuple, element)\n"
   ]
  },
  {
   "cell_type": "markdown",
   "id": "8fd38676-5f36-4a2e-a0ab-d942472d02ec",
   "metadata": {},
   "source": [
    "7. Convert a tuple to a list:"
   ]
  },
  {
   "cell_type": "code",
   "execution_count": 402,
   "id": "a2ee9d7d-5d67-4317-ab12-7bd8553601cd",
   "metadata": {},
   "outputs": [],
   "source": [
    "def tuple_to_list(my_tuple):\n",
    "    my_list = []\n",
    "    for item in my_tuple:\n",
    "        my_list.append(item)\n",
    "    return my_list\n",
    "\n",
    "my_tuple = (1, 2, 3, 4, 5)\n",
    "my_list = tuple_to_list(my_tuple)\n"
   ]
  },
  {
   "cell_type": "markdown",
   "id": "707e6667-c393-42eb-839a-3a9c5295aab4",
   "metadata": {},
   "source": [
    "8. Convert a list to a tuple:"
   ]
  },
  {
   "cell_type": "code",
   "execution_count": 403,
   "id": "28a69367-2fea-452a-9c8c-26894ff6a035",
   "metadata": {},
   "outputs": [],
   "source": [
    "def list_to_tuple(my_list):\n",
    "    my_tuple = tuple(my_list)\n",
    "    return my_tuple\n",
    "\n",
    "my_list = [1, 2, 3, 4, 5]\n",
    "my_tuple = list_to_tuple(my_list)\n"
   ]
  },
  {
   "cell_type": "markdown",
   "id": "2f1dfcfd-2469-47f9-98b2-966b527ae482",
   "metadata": {},
   "source": [
    "9. Unpack the elements of a tuple into variables:"
   ]
  },
  {
   "cell_type": "code",
   "execution_count": 404,
   "id": "ed8bc4a8-c23b-4d81-8c82-33b2e8702135",
   "metadata": {},
   "outputs": [],
   "source": [
    "my_tuple = (1, 2, 3)\n",
    "var1, var2, var3 = my_tuple\n"
   ]
  },
  {
   "cell_type": "markdown",
   "id": "779559a5-bb09-41a4-a900-6ef2ee26550e",
   "metadata": {},
   "source": [
    "10. Create a tuple of even numbers from 1 to 10:"
   ]
  },
  {
   "cell_type": "code",
   "execution_count": 405,
   "id": "2bfca5b4-8b01-4ccb-8ce5-f2eb509d4146",
   "metadata": {},
   "outputs": [
    {
     "data": {
      "text/plain": [
       "(2, 4, 6, 8, 10)"
      ]
     },
     "execution_count": 405,
     "metadata": {},
     "output_type": "execute_result"
    }
   ],
   "source": [
    "even_tuple = (2, 4, 6, 8, 10)\n",
    "even_tuple"
   ]
  },
  {
   "cell_type": "markdown",
   "id": "54c01ffb-a96e-4465-bd1a-bc52e64d1a82",
   "metadata": {},
   "source": [
    "11. Create a tuple of odd numbers from 1 to 10:"
   ]
  },
  {
   "cell_type": "code",
   "execution_count": 406,
   "id": "dd8d31f8-a114-464b-a30e-8b7e71d5e145",
   "metadata": {},
   "outputs": [
    {
     "data": {
      "text/plain": [
       "(1, 3, 5, 7, 9)"
      ]
     },
     "execution_count": 406,
     "metadata": {},
     "output_type": "execute_result"
    }
   ],
   "source": [
    "odd_tuple = (1, 3, 5, 7, 9)\n",
    "odd_tuple"
   ]
  },
  {
   "cell_type": "markdown",
   "id": "52563434-f551-4c01-88af-c5bc93a2a205",
   "metadata": {},
   "source": [
    "12. Concatenate two tuples:"
   ]
  },
  {
   "cell_type": "code",
   "execution_count": 407,
   "id": "d8938771-8db7-4ed8-a9f5-67d00fb72e90",
   "metadata": {},
   "outputs": [
    {
     "data": {
      "text/plain": [
       "(1, 2, 3, 4, 5, 6)"
      ]
     },
     "execution_count": 407,
     "metadata": {},
     "output_type": "execute_result"
    }
   ],
   "source": [
    "tuple1 = (1, 2, 3)\n",
    "tuple2 = (4, 5, 6)\n",
    "concatenated_tuple = tuple1 + tuple2\n",
    "concatenated_tuple"
   ]
  },
  {
   "cell_type": "markdown",
   "id": "d82316e1-d44f-493b-88c0-b0e0e530c7cc",
   "metadata": {},
   "source": [
    "13. Repeat a tuple three times:"
   ]
  },
  {
   "cell_type": "code",
   "execution_count": 408,
   "id": "4fbe1abc-f150-4da5-94fb-6dfba1fb43a2",
   "metadata": {},
   "outputs": [
    {
     "data": {
      "text/plain": [
       "(1, 2, 3, 1, 2, 3, 1, 2, 3)"
      ]
     },
     "execution_count": 408,
     "metadata": {},
     "output_type": "execute_result"
    }
   ],
   "source": [
    "my_tuple = (1, 2, 3)\n",
    "repeated_tuple = my_tuple * 3\n",
    "repeated_tuple"
   ]
  },
  {
   "cell_type": "markdown",
   "id": "c3653b2c-b3e5-4c6f-ac0e-c0147d9e6776",
   "metadata": {},
   "source": [
    "14. Check if a tuple is empty:"
   ]
  },
  {
   "cell_type": "code",
   "execution_count": 409,
   "id": "37e9477c-11e8-4e79-a725-cdb458a52143",
   "metadata": {},
   "outputs": [
    {
     "data": {
      "text/plain": [
       "True"
      ]
     },
     "execution_count": 409,
     "metadata": {},
     "output_type": "execute_result"
    }
   ],
   "source": [
    "def is_empty(my_tuple):\n",
    "    return len(my_tuple) == 0\n",
    "\n",
    "empty_tuple = ()\n",
    "is_empty(empty_tuple)\n"
   ]
  },
  {
   "cell_type": "markdown",
   "id": "aaa70f87-6113-48a5-bcc7-b7dfdd990075",
   "metadata": {},
   "source": [
    "15. Create a nested tuple:"
   ]
  },
  {
   "cell_type": "code",
   "execution_count": 410,
   "id": "a4ec5edb-e897-481a-a7ce-2800fbc126cb",
   "metadata": {},
   "outputs": [
    {
     "data": {
      "text/plain": [
       "((1, 2), (3, 4), (5, 6))"
      ]
     },
     "execution_count": 410,
     "metadata": {},
     "output_type": "execute_result"
    }
   ],
   "source": [
    "nested_tuple = ((1, 2), (3, 4), (5, 6))\n",
    "nested_tuple"
   ]
  },
  {
   "cell_type": "markdown",
   "id": "fc27d340-993d-489f-9da8-5eb10a51baa0",
   "metadata": {},
   "source": [
    "16. Access the first element of a nested tuple:"
   ]
  },
  {
   "cell_type": "code",
   "execution_count": 411,
   "id": "3a0f9baa-e66e-4f96-80fb-364b769de16f",
   "metadata": {},
   "outputs": [
    {
     "data": {
      "text/plain": [
       "(1, 2)"
      ]
     },
     "execution_count": 411,
     "metadata": {},
     "output_type": "execute_result"
    }
   ],
   "source": [
    "nested_tuple = ((1, 2), (3, 4), (5, 6))\n",
    "first_element = nested_tuple[0]\n",
    "first_element"
   ]
  },
  {
   "cell_type": "markdown",
   "id": "66d606e4-d9cc-4ac1-a043-f59e37685786",
   "metadata": {},
   "source": [
    "17. Create a tuple with a single element:"
   ]
  },
  {
   "cell_type": "code",
   "execution_count": 412,
   "id": "2094ba79-4670-4ec3-98f9-826846449070",
   "metadata": {},
   "outputs": [
    {
     "data": {
      "text/plain": [
       "(42,)"
      ]
     },
     "execution_count": 412,
     "metadata": {},
     "output_type": "execute_result"
    }
   ],
   "source": [
    "single_element_tuple = (42,)\n",
    "single_element_tuple"
   ]
  },
  {
   "cell_type": "markdown",
   "id": "a18c68d9-0574-47c0-875e-a98e2151e7d8",
   "metadata": {},
   "source": [
    "18. Compare two tuples:"
   ]
  },
  {
   "cell_type": "code",
   "execution_count": 413,
   "id": "cad17d34-7701-41c8-bc7a-0d8b1c8e3195",
   "metadata": {},
   "outputs": [],
   "source": [
    "tuple1 = (1, 2, 3)\n",
    "tuple2 = (1, 2, 3)\n",
    "are_equal = tuple1 == tuple2\n"
   ]
  },
  {
   "cell_type": "markdown",
   "id": "c81a9158-8ca0-470e-88ab-3d10271ef90a",
   "metadata": {},
   "source": [
    "19. Delete a tuple:"
   ]
  },
  {
   "cell_type": "code",
   "execution_count": 414,
   "id": "96ebe3e0-37f6-4f8d-a369-f7154674015e",
   "metadata": {},
   "outputs": [],
   "source": [
    "my_tuple = (1, 2, 3, 4, 5)\n",
    "del my_tuple"
   ]
  },
  {
   "cell_type": "markdown",
   "id": "d27129d7-d28a-4821-9924-beaff2c25347",
   "metadata": {},
   "source": [
    "20. Slice a tuple:"
   ]
  },
  {
   "cell_type": "code",
   "execution_count": 415,
   "id": "326c2576-ad9d-4a19-9a48-9dbc38d36fee",
   "metadata": {},
   "outputs": [
    {
     "data": {
      "text/plain": [
       "(2, 3, 4)"
      ]
     },
     "execution_count": 415,
     "metadata": {},
     "output_type": "execute_result"
    }
   ],
   "source": [
    "my_tuple = (1, 2, 3, 4, 5)\n",
    "sliced_tuple = my_tuple[1:4]\n",
    "sliced_tuple"
   ]
  },
  {
   "cell_type": "markdown",
   "id": "09af6b71-d57f-4295-8b4a-4da14fba506d",
   "metadata": {},
   "source": [
    "21. Find the maximum value in a tuple:"
   ]
  },
  {
   "cell_type": "code",
   "execution_count": 416,
   "id": "b10f621f-0e6e-4766-ba9c-7e14d14f25aa",
   "metadata": {},
   "outputs": [
    {
     "data": {
      "text/plain": [
       "8"
      ]
     },
     "execution_count": 416,
     "metadata": {},
     "output_type": "execute_result"
    }
   ],
   "source": [
    "def find_max_value(my_tuple):\n",
    "    max_value = my_tuple[0]\n",
    "    for item in my_tuple:\n",
    "        if item > max_value:\n",
    "            max_value = item\n",
    "    return max_value\n",
    "\n",
    "my_tuple = (3, 8, 2, 6, 1)\n",
    "max_value = find_max_value(my_tuple)\n",
    "max_value"
   ]
  },
  {
   "cell_type": "markdown",
   "id": "15b3852a-070c-4a49-95be-2b3d50f985c9",
   "metadata": {},
   "source": [
    "22. Find the minimum value in a tuple:"
   ]
  },
  {
   "cell_type": "code",
   "execution_count": 417,
   "id": "b3e86296-0238-4e52-a258-46f241e37852",
   "metadata": {},
   "outputs": [
    {
     "data": {
      "text/plain": [
       "1"
      ]
     },
     "execution_count": 417,
     "metadata": {},
     "output_type": "execute_result"
    }
   ],
   "source": [
    "def find_min_value(my_tuple):\n",
    "    min_value = my_tuple[0]\n",
    "    for item in my_tuple:\n",
    "        if item < min_value:\n",
    "            min_value = item\n",
    "    return min_value\n",
    "\n",
    "my_tuple = (3, 8, 2, 6, 1)\n",
    "min_value = find_min_value(my_tuple)\n",
    "min_value"
   ]
  },
  {
   "cell_type": "markdown",
   "id": "db4b2ae4-43dd-48a5-b823-3bd73d61e4eb",
   "metadata": {},
   "source": [
    "23. Convert a string to a tuple of characters:"
   ]
  },
  {
   "cell_type": "code",
   "execution_count": 418,
   "id": "9df0e86d-b541-4da8-9343-65accadab0b2",
   "metadata": {},
   "outputs": [
    {
     "data": {
      "text/plain": [
       "('H', 'e', 'l', 'l', 'o', ',', ' ', 'W', 'o', 'r', 'l', 'd', '!')"
      ]
     },
     "execution_count": 418,
     "metadata": {},
     "output_type": "execute_result"
    }
   ],
   "source": [
    "def string_to_tuple(string):\n",
    "    char_tuple = tuple(string)\n",
    "    return char_tuple\n",
    "\n",
    "input_string = \"Hello, World!\"\n",
    "char_tuple = string_to_tuple(input_string)\n",
    "char_tuple"
   ]
  },
  {
   "cell_type": "markdown",
   "id": "66a985fa-8861-4e6c-bf2a-8656eeea6c9e",
   "metadata": {},
   "source": [
    "24. Convert a tuple of characters to a string:"
   ]
  },
  {
   "cell_type": "code",
   "execution_count": 419,
   "id": "39258cbb-e836-4bfb-8d81-7dfc01c1b835",
   "metadata": {},
   "outputs": [
    {
     "data": {
      "text/plain": [
       "'Hello'"
      ]
     },
     "execution_count": 419,
     "metadata": {},
     "output_type": "execute_result"
    }
   ],
   "source": [
    "def tuple_to_string(char_tuple):\n",
    "    result = ''.join(char_tuple)\n",
    "    return result\n",
    "\n",
    "char_tuple = ('H', 'e', 'l', 'l', 'o')\n",
    "string = tuple_to_string(char_tuple)\n",
    "string"
   ]
  },
  {
   "cell_type": "markdown",
   "id": "71c522f2-9d51-41b0-b4ce-ff6471684271",
   "metadata": {},
   "source": [
    "25. Create a tuple from multiple data types:"
   ]
  },
  {
   "cell_type": "code",
   "execution_count": 420,
   "id": "59204299-215b-4d4c-ae93-af5707f3e31a",
   "metadata": {},
   "outputs": [
    {
     "data": {
      "text/plain": [
       "(1, 'apple', 3.14, [4, 5])"
      ]
     },
     "execution_count": 420,
     "metadata": {},
     "output_type": "execute_result"
    }
   ],
   "source": [
    "mixed_tuple = (1, 'apple', 3.14, [4, 5])\n",
    "mixed_tuple"
   ]
  },
  {
   "cell_type": "markdown",
   "id": "bb454d28-4ba5-4881-86e6-506862fa6c8e",
   "metadata": {},
   "source": [
    "26. Check if two tuples are identical:"
   ]
  },
  {
   "cell_type": "code",
   "execution_count": 421,
   "id": "57e69abe-d4e4-4d3c-affa-5eb552103c80",
   "metadata": {},
   "outputs": [
    {
     "data": {
      "text/plain": [
       "True"
      ]
     },
     "execution_count": 421,
     "metadata": {},
     "output_type": "execute_result"
    }
   ],
   "source": [
    "def are_tuples_identical(tuple1, tuple2):\n",
    "    if len(tuple1) != len(tuple2):\n",
    "        return False\n",
    "    for i in range(len(tuple1)):\n",
    "        if tuple1[i] != tuple2[i]:\n",
    "            return False\n",
    "    return True\n",
    "\n",
    "tuple1 = (1, 2, 3)\n",
    "tuple2 = (1, 2, 3)\n",
    "are_identical = are_tuples_identical(tuple1, tuple2)\n",
    "are_identical"
   ]
  },
  {
   "cell_type": "markdown",
   "id": "6d28c73b-73a9-4119-b7ba-78e01c73afbf",
   "metadata": {},
   "source": [
    "27. Sort the elements of a tuple:\n",
    "\n"
   ]
  },
  {
   "cell_type": "code",
   "execution_count": 422,
   "id": "54f56d04-12f3-4fd0-87a0-0e8a19c4f8b2",
   "metadata": {},
   "outputs": [
    {
     "data": {
      "text/plain": [
       "(1, 1, 3, 4, 5, 9)"
      ]
     },
     "execution_count": 422,
     "metadata": {},
     "output_type": "execute_result"
    }
   ],
   "source": [
    "def sort_tuple(my_tuple):\n",
    "    sorted_list = list(my_tuple)\n",
    "    sorted_list.sort()\n",
    "    sorted_tuple = tuple(sorted_list)\n",
    "    return sorted_tuple\n",
    "\n",
    "my_tuple = (3, 1, 4, 1, 5, 9)\n",
    "sorted_tuple = sort_tuple(my_tuple)\n",
    "sorted_tuple"
   ]
  },
  {
   "cell_type": "markdown",
   "id": "413f3aae-5aa5-487d-8dd0-5bad6c353c39",
   "metadata": {},
   "source": [
    "28. Convert a tuple of integers to a tuple of strings:"
   ]
  },
  {
   "cell_type": "code",
   "execution_count": 423,
   "id": "d4100d5a-a366-4bef-a60a-da008e199624",
   "metadata": {},
   "outputs": [],
   "source": [
    "def integers_to_strings(my_tuple):\n",
    "    string_tuple = tuple(str(item) for item in my_tuple)\n",
    "    return string_tuple\n",
    "\n",
    "integer_tuple = (1, 2, 3)\n",
    "string_tuple = integers_to_strings(integer_tuple)\n"
   ]
  },
  {
   "cell_type": "markdown",
   "id": "f6c396a2-2693-402b-bb3e-4838c9dc0c36",
   "metadata": {},
   "source": [
    "29. Convert a tuple of strings to a tuple of integers:"
   ]
  },
  {
   "cell_type": "code",
   "execution_count": 424,
   "id": "6fe65594-f199-48ee-a52b-412d282e406d",
   "metadata": {},
   "outputs": [],
   "source": [
    "def strings_to_integers(my_tuple):\n",
    "    integer_tuple = tuple(int(item) for item in my_tuple)\n",
    "    return integer_tuple\n",
    "\n",
    "string_tuple = ('1', '2', '3')\n",
    "integer_tuple = strings_to_integers(string_tuple)\n"
   ]
  },
  {
   "cell_type": "markdown",
   "id": "1895f95e-5840-4c90-a707-b0d6404d1c15",
   "metadata": {},
   "source": [
    "40. Rotate a tuple to the right by n positions:"
   ]
  },
  {
   "cell_type": "code",
   "execution_count": 425,
   "id": "0b353a02-849d-4b17-91c3-5ba707b847a3",
   "metadata": {},
   "outputs": [
    {
     "data": {
      "text/plain": [
       "(4, 5, 1, 2, 3)"
      ]
     },
     "execution_count": 425,
     "metadata": {},
     "output_type": "execute_result"
    }
   ],
   "source": [
    "def rotate_right(my_tuple, n):\n",
    "    n = n % len(my_tuple)\n",
    "    rotated_tuple = my_tuple[-n:] + my_tuple[:-n]\n",
    "    return rotated_tuple\n",
    "\n",
    "original_tuple = (1, 2, 3, 4, 5)\n",
    "n = 2\n",
    "right_rotated = rotate_right(original_tuple, n)\n",
    "right_rotated"
   ]
  },
  {
   "cell_type": "markdown",
   "id": "d797ceb3-e597-4061-8cf7-ce7b5ff4a2ab",
   "metadata": {},
   "source": [
    "41. Create a tuple of the first 5 Fibonacci numbers:"
   ]
  },
  {
   "cell_type": "code",
   "execution_count": 426,
   "id": "22581dcf-877b-4188-be42-e7dacbb00e81",
   "metadata": {},
   "outputs": [
    {
     "data": {
      "text/plain": [
       "(0, 1, 1, 2, 3)"
      ]
     },
     "execution_count": 426,
     "metadata": {},
     "output_type": "execute_result"
    }
   ],
   "source": [
    "def generate_fibonacci_numbers(n):\n",
    "    fibonacci_list = [0, 1]\n",
    "    while len(fibonacci_list) < n:\n",
    "        next_number = fibonacci_list[-1] + fibonacci_list[-2]\n",
    "        fibonacci_list.append(next_number)\n",
    "    return tuple(fibonacci_list)\n",
    "\n",
    "n = 5\n",
    "fibonacci_numbers = generate_fibonacci_numbers(n)\n",
    "fibonacci_numbers"
   ]
  },
  {
   "cell_type": "markdown",
   "id": "6acab9c5-1a32-4ae3-a6a1-20a37a999964",
   "metadata": {},
   "source": [
    "42. Create a tuple from user input:"
   ]
  },
  {
   "cell_type": "code",
   "execution_count": 427,
   "id": "5551b0f2-3c48-4e14-af04-1c19f219dc91",
   "metadata": {},
   "outputs": [
    {
     "name": "stdin",
     "output_type": "stream",
     "text": [
      "Enter elements separated by spaces:  1 2 4\n"
     ]
    },
    {
     "data": {
      "text/plain": [
       "('1', '2', '4')"
      ]
     },
     "execution_count": 427,
     "metadata": {},
     "output_type": "execute_result"
    }
   ],
   "source": [
    "user_input = input(\"Enter elements separated by spaces: \")\n",
    "user_input_list = user_input.split()\n",
    "user_tuple = tuple(user_input_list)\n",
    "user_tuple"
   ]
  },
  {
   "cell_type": "markdown",
   "id": "83dedaab-9656-4ae5-8376-6b3573cdd445",
   "metadata": {},
   "source": [
    "43. Swap two elements in a tuple:"
   ]
  },
  {
   "cell_type": "code",
   "execution_count": 428,
   "id": "71b690b9-0aab-49ea-a120-d36f98acbf59",
   "metadata": {},
   "outputs": [],
   "source": [
    "def swap_elements(my_tuple, index1, index2):\n",
    "    tuple_list = list(my_tuple)\n",
    "    tuple_list[index1], tuple_list[index2] = tuple_list[index2], tuple_list[index1]\n",
    "    swapped_tuple = tuple(tuple_list)\n",
    "    return swapped_tuple\n",
    "\n",
    "original_tuple = (1, 2, 3, 4, 5)\n",
    "index1, index2 = 1, 3\n",
    "swapped_tuple = swap_elements(original_tuple, index1, index2)\n"
   ]
  },
  {
   "cell_type": "markdown",
   "id": "de531347-16dc-4d71-a6bc-c9371aadd1aa",
   "metadata": {},
   "source": [
    "44. Reverse the elements of a tuple:"
   ]
  },
  {
   "cell_type": "code",
   "execution_count": 429,
   "id": "85c2c989-0f7a-4f6f-a0dd-f0a1f5591cb7",
   "metadata": {},
   "outputs": [
    {
     "data": {
      "text/plain": [
       "(5, 4, 3, 2, 1)"
      ]
     },
     "execution_count": 429,
     "metadata": {},
     "output_type": "execute_result"
    }
   ],
   "source": [
    "def reverse_tuple(my_tuple):\n",
    "    reversed_tuple = tuple(my_tuple[::-1])\n",
    "    return reversed_tuple\n",
    "\n",
    "original_tuple = (1, 2, 3, 4, 5)\n",
    "reversed_tuple = reverse_tuple(original_tuple)\n",
    "reversed_tuple"
   ]
  },
  {
   "cell_type": "markdown",
   "id": "ccea31b1-8eab-435b-9eb0-a7d19460c75f",
   "metadata": {},
   "source": [
    "45. Create a tuple of the first n powers of 2:"
   ]
  },
  {
   "cell_type": "code",
   "execution_count": 430,
   "id": "b1b9e4bc-34ae-4ea4-ab80-70274c02ab62",
   "metadata": {},
   "outputs": [
    {
     "data": {
      "text/plain": [
       "(2, 4, 8, 16, 32)"
      ]
     },
     "execution_count": 430,
     "metadata": {},
     "output_type": "execute_result"
    }
   ],
   "source": [
    "def generate_powers_of_2(n):\n",
    "    powers_of_2 = [2 ** i for i in range(1, n + 1)]\n",
    "    return tuple(powers_of_2)\n",
    "\n",
    "n = 5\n",
    "powers_tuple = generate_powers_of_2(n)\n",
    "powers_tuple"
   ]
  },
  {
   "cell_type": "markdown",
   "id": "0739a170-605b-4068-944e-2158aa874f9b",
   "metadata": {},
   "source": [
    "46. Find the longest string in a tuple of strings:"
   ]
  },
  {
   "cell_type": "code",
   "execution_count": 431,
   "id": "d1b14042-882e-4850-b300-9117c5edede9",
   "metadata": {},
   "outputs": [],
   "source": [
    "def find_longest_string(tuple_of_strings):\n",
    "    longest = \"\"\n",
    "    for string in tuple_of_strings:\n",
    "        if len(string) > len(longest):\n",
    "            longest = string\n",
    "    return longest\n",
    "\n",
    "string_tuple = (\"apple\", \"banana\", \"cherry\", \"date\")\n",
    "longest_string = find_longest_string(string_tuple)\n"
   ]
  },
  {
   "cell_type": "markdown",
   "id": "10787055-9982-4fb4-ab8d-291cdbd85d6d",
   "metadata": {},
   "source": [
    "47. Find the shortest string in a tuple of strings:"
   ]
  },
  {
   "cell_type": "code",
   "execution_count": 432,
   "id": "b4a0a12b-ea3f-44ec-acbe-cb23a4c83bf3",
   "metadata": {},
   "outputs": [
    {
     "data": {
      "text/plain": [
       "'date'"
      ]
     },
     "execution_count": 432,
     "metadata": {},
     "output_type": "execute_result"
    }
   ],
   "source": [
    "def find_shortest_string(tuple_of_strings):\n",
    "    shortest = tuple_of_strings[0] if tuple_of_strings else \"\"\n",
    "    for string in tuple_of_strings:\n",
    "        if len(string) < len(shortest):\n",
    "            shortest = string\n",
    "    return shortest\n",
    "\n",
    "string_tuple = (\"apple\", \"banana\", \"cherry\", \"date\")\n",
    "shortest_string = find_shortest_string(string_tuple)\n",
    "shortest_string"
   ]
  },
  {
   "cell_type": "markdown",
   "id": "2219a1e2-221d-4d3f-85ce-092298a898e8",
   "metadata": {},
   "source": [
    "48. Create a tuple of the first n triangular numbers:"
   ]
  },
  {
   "cell_type": "code",
   "execution_count": 433,
   "id": "4e2f67cb-d975-4d31-a426-2d5e3408095c",
   "metadata": {},
   "outputs": [
    {
     "data": {
      "text/plain": [
       "(1, 3, 6, 10, 15)"
      ]
     },
     "execution_count": 433,
     "metadata": {},
     "output_type": "execute_result"
    }
   ],
   "source": [
    "def generate_triangular_numbers(n):\n",
    "    triangular_numbers = [n * (n + 1) // 2 for n in range(1, n + 1)]\n",
    "    return tuple(triangular_numbers)\n",
    "\n",
    "n = 5\n",
    "triangular_tuple = generate_triangular_numbers(n)\n",
    "triangular_tuple"
   ]
  },
  {
   "cell_type": "markdown",
   "id": "6257f211-05a7-4513-9155-d91e25d81453",
   "metadata": {},
   "source": [
    "49. Check if a tuple contains another tuple as a subsequence:"
   ]
  },
  {
   "cell_type": "code",
   "execution_count": 434,
   "id": "8fd89cea-d1f7-4171-b47c-cfa858a80fc2",
   "metadata": {},
   "outputs": [
    {
     "name": "stdout",
     "output_type": "stream",
     "text": [
      "Main tuple contains subsequence.\n"
     ]
    }
   ],
   "source": [
    "def has_subsequence(main_tuple, sub_tuple):\n",
    "    if not sub_tuple:\n",
    "        return True\n",
    "    i = 0\n",
    "    j = 0\n",
    "    while i < len(main_tuple) and j < len(sub_tuple):\n",
    "        if main_tuple[i] == sub_tuple[j]:\n",
    "            j += 1\n",
    "        i += 1\n",
    "    return j == len(sub_tuple)\n",
    "\n",
    "main_tuple = (1, 2, 3, 4, 5)\n",
    "sub_tuple = (2, 3, 5)\n",
    "if has_subsequence(main_tuple, sub_tuple):\n",
    "    print(\"Main tuple contains subsequence.\")\n",
    "else:\n",
    "    print(\"Main tuple does not contain subsequence.\")\n"
   ]
  },
  {
   "cell_type": "markdown",
   "id": "d4d83588-4cc3-41a3-9f5b-898ff97a32ce",
   "metadata": {},
   "source": [
    "50. Create a tuple of alternating 1s and 0s of length n:"
   ]
  },
  {
   "cell_type": "code",
   "execution_count": 435,
   "id": "a26aeb41-14f8-43b7-bdab-783d689e11ab",
   "metadata": {},
   "outputs": [
    {
     "data": {
      "text/plain": [
       "(0, 1, 0, 1, 0, 1, 0, 1, 0, 1)"
      ]
     },
     "execution_count": 435,
     "metadata": {},
     "output_type": "execute_result"
    }
   ],
   "source": [
    "def alternating_ones_zeros(n):\n",
    "    alternating_tuple = tuple(i % 2 for i in range(n))\n",
    "    return alternating_tuple\n",
    "\n",
    "n = 10\n",
    "alternating_tuple = alternating_ones_zeros(n)\n",
    "alternating_tuple"
   ]
  },
  {
   "cell_type": "markdown",
   "id": "17ba0b0a-f55c-4e35-a427-e0e96c0eb134",
   "metadata": {},
   "source": [
    "## Set Based Practice Problem :"
   ]
  },
  {
   "cell_type": "markdown",
   "id": "fe51f92a-150e-41f7-b9b5-eb1fbd242d16",
   "metadata": {},
   "source": [
    "1. Create a set with integers from 1 to 5:"
   ]
  },
  {
   "cell_type": "code",
   "execution_count": 436,
   "id": "4cd2f4e4-d497-4b38-9338-951b35be0661",
   "metadata": {},
   "outputs": [
    {
     "data": {
      "text/plain": [
       "{1, 2, 3, 4, 5}"
      ]
     },
     "execution_count": 436,
     "metadata": {},
     "output_type": "execute_result"
    }
   ],
   "source": [
    "my_set = set()\n",
    "for i in range(1, 6):\n",
    "    my_set.add(i)\n",
    "my_set"
   ]
  },
  {
   "cell_type": "markdown",
   "id": "34644914-3f18-4855-9538-1d973d878de2",
   "metadata": {},
   "source": [
    "2. Add an element to a set:"
   ]
  },
  {
   "cell_type": "code",
   "execution_count": 437,
   "id": "50715cdb-5bc5-4de0-85cf-88d16d5138e3",
   "metadata": {},
   "outputs": [
    {
     "data": {
      "text/plain": [
       "{1, 2, 3, 4}"
      ]
     },
     "execution_count": 437,
     "metadata": {},
     "output_type": "execute_result"
    }
   ],
   "source": [
    "def add_to_set(my_set, element):\n",
    "    if element not in my_set:\n",
    "        my_set.add(element)\n",
    "\n",
    "my_set = {1, 2, 3}\n",
    "add_to_set(my_set, 4)\n",
    "my_set"
   ]
  },
  {
   "cell_type": "markdown",
   "id": "cb6a2864-22d4-4b33-b3d6-90f9f7db014e",
   "metadata": {},
   "source": [
    "3. Remove an element from a set:"
   ]
  },
  {
   "cell_type": "code",
   "execution_count": 438,
   "id": "f1042af8-6025-4c24-86ff-611bc705e3be",
   "metadata": {},
   "outputs": [
    {
     "data": {
      "text/plain": [
       "{1, 3}"
      ]
     },
     "execution_count": 438,
     "metadata": {},
     "output_type": "execute_result"
    }
   ],
   "source": [
    "def remove_from_set(my_set, element):\n",
    "    if element in my_set:\n",
    "        my_set.remove(element)\n",
    "\n",
    "my_set = {1, 2, 3}\n",
    "remove_from_set(my_set, 2)\n",
    "my_set"
   ]
  },
  {
   "cell_type": "markdown",
   "id": "1c530538-4371-4ef6-a309-7348342f3f41",
   "metadata": {},
   "source": [
    "4. Check if an element exists in a set:"
   ]
  },
  {
   "cell_type": "code",
   "execution_count": 439,
   "id": "bc6ac4d3-a738-4f77-903b-32856f3550b7",
   "metadata": {},
   "outputs": [
    {
     "data": {
      "text/plain": [
       "True"
      ]
     },
     "execution_count": 439,
     "metadata": {},
     "output_type": "execute_result"
    }
   ],
   "source": [
    "def element_exists(my_set, element):\n",
    "    return element in my_set\n",
    "\n",
    "my_set = {1, 2, 3}\n",
    "element = 2\n",
    "exists = element_exists(my_set, element)\n",
    "exists"
   ]
  },
  {
   "cell_type": "markdown",
   "id": "77ca024f-2517-4646-b519-a496ed904293",
   "metadata": {},
   "source": [
    "5. Find the length of a set without using the len() function:"
   ]
  },
  {
   "cell_type": "code",
   "execution_count": 440,
   "id": "4b505ff4-5091-42ce-aa7e-76244067e2cf",
   "metadata": {},
   "outputs": [
    {
     "data": {
      "text/plain": [
       "5"
      ]
     },
     "execution_count": 440,
     "metadata": {},
     "output_type": "execute_result"
    }
   ],
   "source": [
    "def set_length(my_set):\n",
    "    count = 0\n",
    "    for _ in my_set:\n",
    "        count += 1\n",
    "    return count\n",
    "\n",
    "my_set = {1, 2, 3, 4, 5}\n",
    "length = set_length(my_set)\n",
    "length"
   ]
  },
  {
   "cell_type": "markdown",
   "id": "d07c463f-6ec4-4369-bc3c-01dc2ba4815a",
   "metadata": {},
   "source": [
    "6. Clear all elements from a set:"
   ]
  },
  {
   "cell_type": "code",
   "execution_count": 441,
   "id": "c6bb83fe-f922-4f85-a956-216b1c0fb849",
   "metadata": {},
   "outputs": [
    {
     "data": {
      "text/plain": [
       "set()"
      ]
     },
     "execution_count": 441,
     "metadata": {},
     "output_type": "execute_result"
    }
   ],
   "source": [
    "def clear_set(my_set):\n",
    "    my_set.clear()\n",
    "\n",
    "my_set = {1, 2, 3}\n",
    "clear_set(my_set)\n",
    "my_set"
   ]
  },
  {
   "cell_type": "markdown",
   "id": "d22079d1-7f02-4b0b-93d2-a0410a4c2956",
   "metadata": {},
   "source": [
    "7. Create a set of even numbers from 1 to 10:"
   ]
  },
  {
   "cell_type": "code",
   "execution_count": 442,
   "id": "4ed74793-e77a-45bb-8441-c2c399465009",
   "metadata": {},
   "outputs": [
    {
     "data": {
      "text/plain": [
       "{2, 4, 6, 8, 10}"
      ]
     },
     "execution_count": 442,
     "metadata": {},
     "output_type": "execute_result"
    }
   ],
   "source": [
    "even_set = set()\n",
    "for i in range(2, 11, 2):\n",
    "    even_set.add(i)\n",
    "even_set"
   ]
  },
  {
   "cell_type": "markdown",
   "id": "e3c733a7-5fad-4bf3-9141-78fd20197117",
   "metadata": {},
   "source": [
    "8. Create a set of odd numbers from 1 to 10:"
   ]
  },
  {
   "cell_type": "code",
   "execution_count": 443,
   "id": "bf029f4c-f087-4afc-9ca2-de5e0d4d3aa3",
   "metadata": {},
   "outputs": [],
   "source": [
    "odd_set = set()\n",
    "for i in range(1, 11, 2):\n",
    "    odd_set.add(i)"
   ]
  },
  {
   "cell_type": "markdown",
   "id": "c4ea6dc3-136e-4780-b994-942f37ac9b00",
   "metadata": {},
   "source": [
    "9. Find the union of two sets:"
   ]
  },
  {
   "cell_type": "code",
   "execution_count": 444,
   "id": "30769097-59d3-49d3-9026-aee9675e80a9",
   "metadata": {},
   "outputs": [
    {
     "data": {
      "text/plain": [
       "{1, 2, 3, 4, 5}"
      ]
     },
     "execution_count": 444,
     "metadata": {},
     "output_type": "execute_result"
    }
   ],
   "source": [
    "def set_union(set1, set2):\n",
    "    union_set = set1.copy()\n",
    "    for element in set2:\n",
    "        union_set.add(element)\n",
    "    return union_set\n",
    "\n",
    "set1 = {1, 2, 3}\n",
    "set2 = {3, 4, 5}\n",
    "union = set_union(set1, set2)\n",
    "union"
   ]
  },
  {
   "cell_type": "markdown",
   "id": "1f35dd81-ed15-4528-86b5-9674ceb94186",
   "metadata": {},
   "source": [
    "10. Find the intersection of two sets:"
   ]
  },
  {
   "cell_type": "code",
   "execution_count": 445,
   "id": "6141b4a3-79d1-4dc2-b80b-5e1b4650d533",
   "metadata": {},
   "outputs": [
    {
     "data": {
      "text/plain": [
       "{3, 4}"
      ]
     },
     "execution_count": 445,
     "metadata": {},
     "output_type": "execute_result"
    }
   ],
   "source": [
    "def set_intersection(set1, set2):\n",
    "    intersection_set = set()\n",
    "    for element in set1:\n",
    "        if element in set2:\n",
    "            intersection_set.add(element)\n",
    "    return intersection_set\n",
    "\n",
    "set1 = {1, 2, 3, 4}\n",
    "set2 = {3, 4, 5, 6}\n",
    "intersection = set_intersection(set1, set2)\n",
    "intersection"
   ]
  },
  {
   "cell_type": "markdown",
   "id": "dc72c5d8-bb57-4b88-b334-f7bf823ee390",
   "metadata": {},
   "source": [
    "11. Find the difference between two sets:"
   ]
  },
  {
   "cell_type": "code",
   "execution_count": 446,
   "id": "0939c417-f3e7-4dd1-8b82-94d63008edf8",
   "metadata": {},
   "outputs": [
    {
     "data": {
      "text/plain": [
       "{1, 2}"
      ]
     },
     "execution_count": 446,
     "metadata": {},
     "output_type": "execute_result"
    }
   ],
   "source": [
    "def set_difference(set1, set2):\n",
    "    difference_set = set1.copy()\n",
    "    for element in set2:\n",
    "        if element in difference_set:\n",
    "            difference_set.remove(element)\n",
    "    return difference_set\n",
    "\n",
    "set1 = {1, 2, 3, 4}\n",
    "set2 = {3, 4, 5, 6}\n",
    "difference = set_difference(set1, set2)\n",
    "difference"
   ]
  },
  {
   "cell_type": "markdown",
   "id": "d4fda869-1ca0-451b-90b7-dbac3d13049e",
   "metadata": {},
   "source": [
    "12. Check if a set is a subset of another set:"
   ]
  },
  {
   "cell_type": "code",
   "execution_count": 447,
   "id": "5217728c-c31d-4731-9c48-d87a3373ced6",
   "metadata": {},
   "outputs": [
    {
     "data": {
      "text/plain": [
       "True"
      ]
     },
     "execution_count": 447,
     "metadata": {},
     "output_type": "execute_result"
    }
   ],
   "source": [
    "def is_subset(subset, main_set):\n",
    "    for element in subset:\n",
    "        if element not in main_set:\n",
    "            return False\n",
    "    return True\n",
    "\n",
    "set1 = {1, 2}\n",
    "set2 = {1, 2, 3, 4}\n",
    "is_subset = is_subset(set1, set2)\n",
    "is_subset"
   ]
  },
  {
   "cell_type": "markdown",
   "id": "bdf0620a-d97c-4eea-80dc-022d081a0cf8",
   "metadata": {},
   "source": [
    "13. Check if a set is a superset of another set:"
   ]
  },
  {
   "cell_type": "code",
   "execution_count": 448,
   "id": "d531cfa4-00e6-480d-ab3d-3c73a1829e0c",
   "metadata": {},
   "outputs": [
    {
     "data": {
      "text/plain": [
       "True"
      ]
     },
     "execution_count": 448,
     "metadata": {},
     "output_type": "execute_result"
    }
   ],
   "source": [
    "def is_superset(superset, main_set):\n",
    "    for element in main_set:\n",
    "        if element not in superset:\n",
    "            return False\n",
    "    return True\n",
    "\n",
    "set1 = {1, 2, 3, 4}\n",
    "set2 = {1, 2}\n",
    "is_superset = is_superset(set1, set2)\n",
    "is_superset"
   ]
  },
  {
   "cell_type": "markdown",
   "id": "d5163483-743e-4084-be13-29dc0391b2d3",
   "metadata": {},
   "source": [
    "14. Create a set from a list:"
   ]
  },
  {
   "cell_type": "code",
   "execution_count": 449,
   "id": "1b22cdc6-11f0-4d21-8a5e-533c773615aa",
   "metadata": {},
   "outputs": [],
   "source": [
    "def list_to_set(my_list):\n",
    "    my_set = set()\n",
    "    for item in my_list:\n",
    "        my_set.add(item)\n",
    "    return my_set\n",
    "\n",
    "my_list = [1, 2, 3, 4, 5]\n",
    "my_set = list_to_set(my_list)"
   ]
  },
  {
   "cell_type": "markdown",
   "id": "25a1b0e6-862c-4f30-9036-ff4b8119a3b1",
   "metadata": {},
   "source": [
    "15. Convert a set to a list:"
   ]
  },
  {
   "cell_type": "code",
   "execution_count": 450,
   "id": "06e1b4bc-5c21-4577-a788-143ce12b22f7",
   "metadata": {},
   "outputs": [
    {
     "data": {
      "text/plain": [
       "[1, 2, 3, 4, 5]"
      ]
     },
     "execution_count": 450,
     "metadata": {},
     "output_type": "execute_result"
    }
   ],
   "source": [
    "def set_to_list(my_set):\n",
    "    my_list = []\n",
    "    for item in my_set:\n",
    "        my_list.append(item)\n",
    "    return my_list\n",
    "\n",
    "my_set = {1, 2, 3, 4, 5}\n",
    "my_list = set_to_list(my_set)\n",
    "my_list"
   ]
  },
  {
   "cell_type": "markdown",
   "id": "6c8a7f59-5ac9-4d8e-90a4-f93e2e00863e",
   "metadata": {},
   "source": [
    "17. Pop an element from a set:"
   ]
  },
  {
   "cell_type": "code",
   "execution_count": 451,
   "id": "ab38df90-0419-4cdf-b44d-68a9e05ae167",
   "metadata": {},
   "outputs": [
    {
     "data": {
      "text/plain": [
       "{2, 3, 4, 5}"
      ]
     },
     "execution_count": 451,
     "metadata": {},
     "output_type": "execute_result"
    }
   ],
   "source": [
    "def pop_element(my_set):\n",
    "    if not my_set:\n",
    "        return None\n",
    "    element = next(iter(my_set))\n",
    "    my_set.remove(element)\n",
    "    return element\n",
    "\n",
    "my_set = {1, 2, 3, 4, 5}\n",
    "popped_element = pop_element(my_set)\n",
    "my_set"
   ]
  },
  {
   "cell_type": "markdown",
   "id": "a7e4cd15-55d1-472c-94af-4d7c8ccb40bf",
   "metadata": {},
   "source": [
    "18. Check if two sets have no elements in common:"
   ]
  },
  {
   "cell_type": "code",
   "execution_count": 452,
   "id": "b14bc38d-7392-413a-82b7-bd7a6d287b8e",
   "metadata": {},
   "outputs": [
    {
     "data": {
      "text/plain": [
       "True"
      ]
     },
     "execution_count": 452,
     "metadata": {},
     "output_type": "execute_result"
    }
   ],
   "source": [
    "def no_common_elements(set1, set2):\n",
    "    for element in set1:\n",
    "        if element in set2:\n",
    "            return False\n",
    "    return True\n",
    "\n",
    "set1 = {1, 2, 3}\n",
    "set2 = {4, 5, 6}\n",
    "no_common = no_common_elements(set1, set2)\n",
    "no_common"
   ]
  },
  {
   "cell_type": "markdown",
   "id": "427e6147-f99c-4d10-b7d7-15ddf2891386",
   "metadata": {},
   "source": [
    "19. Find the symmetric difference between two sets:"
   ]
  },
  {
   "cell_type": "code",
   "execution_count": 453,
   "id": "5168e0fd-d26f-4b5d-9a5b-7438bc5b6d0e",
   "metadata": {},
   "outputs": [
    {
     "data": {
      "text/plain": [
       "{1, 2, 5, 6}"
      ]
     },
     "execution_count": 453,
     "metadata": {},
     "output_type": "execute_result"
    }
   ],
   "source": [
    "def symmetric_difference(set1, set2):\n",
    "    diff1 = set_difference(set1, set2)\n",
    "    diff2 = set_difference(set2, set1)\n",
    "    symmetric_diff = set_union(diff1, diff2)\n",
    "    return symmetric_diff\n",
    "\n",
    "set1 = {1, 2, 3, 4}\n",
    "set2 = {3, 4, 5, 6}\n",
    "symmetric_diff = symmetric_difference(set1, set2)\n",
    "symmetric_diff"
   ]
  },
  {
   "cell_type": "markdown",
   "id": "8c459d97-c93f-41d3-933f-f620e1f021de",
   "metadata": {},
   "source": [
    "20. Update a set with elements from another set:"
   ]
  },
  {
   "cell_type": "code",
   "execution_count": 454,
   "id": "c210a2be-1515-40e2-aad0-6b0100244e0b",
   "metadata": {},
   "outputs": [
    {
     "data": {
      "text/plain": [
       "{1, 2, 3, 4, 5}"
      ]
     },
     "execution_count": 454,
     "metadata": {},
     "output_type": "execute_result"
    }
   ],
   "source": [
    "def update_set(main_set, other_set):\n",
    "    for element in other_set:\n",
    "        main_set.add(element)\n",
    "\n",
    "set1 = {1, 2, 3}\n",
    "set2 = {3, 4, 5}\n",
    "update_set(set1, set2)\n",
    "set1"
   ]
  },
  {
   "cell_type": "markdown",
   "id": "8890e6ac-9f91-4edd-a0e8-1be5a116514f",
   "metadata": {},
   "source": [
    "21. Create a set of the first 5 prime numbers:"
   ]
  },
  {
   "cell_type": "code",
   "execution_count": 455,
   "id": "94a8116d-de42-4251-8649-b09845f662e8",
   "metadata": {},
   "outputs": [
    {
     "name": "stdout",
     "output_type": "stream",
     "text": [
      "{3, 5, 7, 9, 11}\n"
     ]
    }
   ],
   "source": [
    "prime_set = set()\n",
    "for num in range(2, 12):\n",
    "    for i in range(2, num):\n",
    "        if (num % i) == 0:\n",
    "            break\n",
    "        else:\n",
    "            prime_set.add(num)\n",
    "        if len(prime_set) == 5:\n",
    "            break\n",
    "\n",
    "print(prime_set)"
   ]
  },
  {
   "cell_type": "markdown",
   "id": "a3680f23-f9ff-43c9-9723-d70c981eaadd",
   "metadata": {},
   "source": [
    "22. Check if two sets are identical:"
   ]
  },
  {
   "cell_type": "code",
   "execution_count": 456,
   "id": "1cb15282-cd3e-4833-8b54-8d27fbf1d797",
   "metadata": {},
   "outputs": [
    {
     "data": {
      "text/plain": [
       "True"
      ]
     },
     "execution_count": 456,
     "metadata": {},
     "output_type": "execute_result"
    }
   ],
   "source": [
    "def are_sets_identical(set1, set2):\n",
    "    if len(set1) != len(set2):\n",
    "        return False\n",
    "    for element in set1:\n",
    "        if element not in set2:\n",
    "            return False\n",
    "    return True\n",
    "\n",
    "set1 = {1, 2, 3}\n",
    "set2 = {3, 2, 1}\n",
    "are_identical = are_sets_identical(set1, set2)\n",
    "are_identical"
   ]
  },
  {
   "cell_type": "markdown",
   "id": "3295f7b6-e48c-416e-9ed0-29428e003941",
   "metadata": {},
   "source": [
    "23. Create a frozen set:"
   ]
  },
  {
   "cell_type": "code",
   "execution_count": 457,
   "id": "ddc1e9a8-a4b7-43f6-9dbc-6c42fa7bc39a",
   "metadata": {},
   "outputs": [
    {
     "data": {
      "text/plain": [
       "frozenset({1, 2, 3, 4, 5})"
      ]
     },
     "execution_count": 457,
     "metadata": {},
     "output_type": "execute_result"
    }
   ],
   "source": [
    "def create_frozen_set(my_set):\n",
    "    return frozenset(my_set)\n",
    "\n",
    "my_set = {1, 2, 3, 4, 5}\n",
    "frozen_set = create_frozen_set(my_set)\n",
    "frozen_set"
   ]
  },
  {
   "cell_type": "markdown",
   "id": "8ccc1229-7b49-48bd-b8db-d11ec28d7f6b",
   "metadata": {},
   "source": [
    "24. Check if a set is disjoint with another set:"
   ]
  },
  {
   "cell_type": "code",
   "execution_count": 458,
   "id": "c0692306-bd1d-4cf2-980a-b6d793c75280",
   "metadata": {},
   "outputs": [
    {
     "data": {
      "text/plain": [
       "True"
      ]
     },
     "execution_count": 458,
     "metadata": {},
     "output_type": "execute_result"
    }
   ],
   "source": [
    "def are_disjoint(set1, set2):\n",
    "    for element in set1:\n",
    "        if element in set2:\n",
    "            return False\n",
    "    return True\n",
    "\n",
    "set1 = {1, 2, 3}\n",
    "set2 = {4, 5, 6}\n",
    "are_disjoint = are_disjoint(set1, set2)\n",
    "are_disjoint"
   ]
  },
  {
   "cell_type": "markdown",
   "id": "849b153a-1b2d-4f6f-8134-38417e643dd0",
   "metadata": {},
   "source": [
    "25. Create a set of squares of numbers from 1 to 5:"
   ]
  },
  {
   "cell_type": "code",
   "execution_count": 459,
   "id": "5a92a5de-ee34-468e-bd05-6d8f5c35dd39",
   "metadata": {},
   "outputs": [
    {
     "data": {
      "text/plain": [
       "{1, 4, 9, 16, 25}"
      ]
     },
     "execution_count": 459,
     "metadata": {},
     "output_type": "execute_result"
    }
   ],
   "source": [
    "squares_set = set()\n",
    "for i in range(1, 6):\n",
    "    squares_set.add(i * i)\n",
    "squares_set"
   ]
  },
  {
   "cell_type": "markdown",
   "id": "c5f1d74f-4a75-41e7-bbe5-f6b4ac0fddcd",
   "metadata": {},
   "source": [
    "26. Filter out all even numbers from a set:"
   ]
  },
  {
   "cell_type": "code",
   "execution_count": 460,
   "id": "6ad3fc6f-e99c-4843-ba3e-be0891007156",
   "metadata": {},
   "outputs": [
    {
     "data": {
      "text/plain": [
       "{1, 3, 5}"
      ]
     },
     "execution_count": 460,
     "metadata": {},
     "output_type": "execute_result"
    }
   ],
   "source": [
    "def filter_even_numbers(my_set):\n",
    "    even_set = set()\n",
    "    for element in my_set:\n",
    "        if element % 2 != 0:\n",
    "            even_set.add(element)\n",
    "    return even_set\n",
    "\n",
    "my_set = {1, 2, 3, 4, 5, 6}\n",
    "even_set = filter_even_numbers(my_set)\n",
    "even_set"
   ]
  },
  {
   "cell_type": "markdown",
   "id": "77a5b9e8-6eeb-4dd7-92a3-7c4b9603d22c",
   "metadata": {},
   "source": [
    "27. Multiply all elements in a set by 2:"
   ]
  },
  {
   "cell_type": "code",
   "execution_count": 461,
   "id": "1d858284-190d-4dc6-927c-04e3fb18872b",
   "metadata": {},
   "outputs": [
    {
     "data": {
      "text/plain": [
       "{2, 4, 6, 8, 10}"
      ]
     },
     "execution_count": 461,
     "metadata": {},
     "output_type": "execute_result"
    }
   ],
   "source": [
    "def multiply_by_2(my_set):\n",
    "    multiplied_set = set()\n",
    "    for element in my_set:\n",
    "        multiplied_set.add(element * 2)\n",
    "    return multiplied_set\n",
    "\n",
    "my_set = {1, 2, 3, 4, 5}\n",
    "multiplied_set = multiply_by_2(my_set)\n",
    "multiplied_set"
   ]
  },
  {
   "cell_type": "markdown",
   "id": "45b09271-ddd6-41a2-b4ad-bf708699a1f5",
   "metadata": {},
   "source": [
    "28. Create a set of random numbers:"
   ]
  },
  {
   "cell_type": "code",
   "execution_count": 462,
   "id": "a1f69fad-9061-4f4d-b09a-506eda08d719",
   "metadata": {},
   "outputs": [
    {
     "data": {
      "text/plain": [
       "{4, 5, 6, 8}"
      ]
     },
     "execution_count": 462,
     "metadata": {},
     "output_type": "execute_result"
    }
   ],
   "source": [
    "import random\n",
    "\n",
    "def create_random_set(size, start, end):\n",
    "    random_set = set()\n",
    "    for _ in range(size):\n",
    "        random_set.add(random.randint(start, end))\n",
    "    return random_set\n",
    "\n",
    "random_set = create_random_set(5, 1, 10)\n",
    "random_set"
   ]
  },
  {
   "cell_type": "markdown",
   "id": "edc331cc-7366-4657-aaa4-5ac9849a1f10",
   "metadata": {},
   "source": [
    "29. Check if a set is empty:"
   ]
  },
  {
   "cell_type": "code",
   "execution_count": 463,
   "id": "e751ac1c-0f17-46e1-b539-76b377d85a5b",
   "metadata": {},
   "outputs": [
    {
     "data": {
      "text/plain": [
       "True"
      ]
     },
     "execution_count": 463,
     "metadata": {},
     "output_type": "execute_result"
    }
   ],
   "source": [
    "def is_empty(my_set):\n",
    "    for _ in my_set:\n",
    "        return False\n",
    "    return True\n",
    "\n",
    "empty_set = set()\n",
    "is_empty_set = is_empty(empty_set)\n",
    "is_empty_set"
   ]
  },
  {
   "cell_type": "markdown",
   "id": "efd088d6-8bd4-4456-93c1-c7ec3de639b4",
   "metadata": {},
   "source": [
    "30. Create a nested set (hint: use frozenset):"
   ]
  },
  {
   "cell_type": "code",
   "execution_count": 464,
   "id": "1ee64597-76f6-4db1-871c-e3d5390f3d4c",
   "metadata": {},
   "outputs": [
    {
     "data": {
      "text/plain": [
       "{frozenset({3, 4, 5}), frozenset({1, 2})}"
      ]
     },
     "execution_count": 464,
     "metadata": {},
     "output_type": "execute_result"
    }
   ],
   "source": [
    "nested_set = {frozenset({1, 2}), frozenset({3, 4, 5})}\n",
    "nested_set"
   ]
  },
  {
   "cell_type": "markdown",
   "id": "4887d97a-7e05-4dac-8295-8d689b50781e",
   "metadata": {},
   "source": [
    "31. Remove an element from a set using the discard method:"
   ]
  },
  {
   "cell_type": "code",
   "execution_count": 465,
   "id": "b18776da-9366-4ddf-89cd-05f020eed302",
   "metadata": {},
   "outputs": [
    {
     "data": {
      "text/plain": [
       "{1, 3}"
      ]
     },
     "execution_count": 465,
     "metadata": {},
     "output_type": "execute_result"
    }
   ],
   "source": [
    "def remove_element_with_discard(my_set, element):\n",
    "    my_set.discard(element)\n",
    "\n",
    "my_set = {1, 2, 3}\n",
    "remove_element_with_discard(my_set, 2)\n",
    "my_set"
   ]
  },
  {
   "cell_type": "markdown",
   "id": "9aeee0e1-9b84-4e77-86e1-43af507b41ed",
   "metadata": {},
   "source": [
    "32. Compare two sets:"
   ]
  },
  {
   "cell_type": "code",
   "execution_count": 466,
   "id": "31272011-cccd-4ce5-acbe-dcac706ff7fe",
   "metadata": {},
   "outputs": [
    {
     "data": {
      "text/plain": [
       "True"
      ]
     },
     "execution_count": 466,
     "metadata": {},
     "output_type": "execute_result"
    }
   ],
   "source": [
    "def compare_sets(set1, set2):\n",
    "    if len(set1) != len(set2):\n",
    "        return False\n",
    "    for element in set1:\n",
    "        if element not in set2:\n",
    "            return False\n",
    "    return True\n",
    "\n",
    "set1 = {1, 2, 3}\n",
    "set2 = {1, 2, 3}\n",
    "are_equal = compare_sets(set1, set2)\n",
    "are_equal"
   ]
  },
  {
   "cell_type": "markdown",
   "id": "15587140-2617-4750-af2f-c4d94618fc73",
   "metadata": {},
   "source": [
    "33. Create a set from a string:"
   ]
  },
  {
   "cell_type": "code",
   "execution_count": 467,
   "id": "ff23ca8d-5227-4404-ba68-c101e104a612",
   "metadata": {},
   "outputs": [
    {
     "data": {
      "text/plain": [
       "{'e', 'h', 'l', 'o'}"
      ]
     },
     "execution_count": 467,
     "metadata": {},
     "output_type": "execute_result"
    }
   ],
   "source": [
    "def string_to_set(my_string):\n",
    "    my_set = set(my_string)\n",
    "    return my_set\n",
    "\n",
    "my_string = \"hello\"\n",
    "my_set = string_to_set(my_string)\n",
    "my_set"
   ]
  },
  {
   "cell_type": "markdown",
   "id": "84adfda5-226e-448d-8cc8-ac62039d183e",
   "metadata": {},
   "source": [
    "34. Convert a set of strings to a set of integers:"
   ]
  },
  {
   "cell_type": "code",
   "execution_count": 468,
   "id": "04e55699-499a-437e-aec6-554368daf219",
   "metadata": {},
   "outputs": [
    {
     "data": {
      "text/plain": [
       "{1, 2, 3, 5}"
      ]
     },
     "execution_count": 468,
     "metadata": {},
     "output_type": "execute_result"
    }
   ],
   "source": [
    "def set_of_strings_to_set_of_integers(string_set):\n",
    "    integer_set = set()\n",
    "    for string in string_set:\n",
    "        try:\n",
    "            integer_set.add(int(string))\n",
    "        except ValueError:\n",
    "            continue\n",
    "    return integer_set\n",
    "\n",
    "string_set = {\"1\", \"2\", \"3\", \"four\", \"5\"}\n",
    "integer_set = set_of_strings_to_set_of_integers(string_set)\n",
    "integer_set"
   ]
  },
  {
   "cell_type": "markdown",
   "id": "160ed940-71e5-4541-ad95-faafde6d1430",
   "metadata": {},
   "source": [
    "36. Create a set from a tuple:"
   ]
  },
  {
   "cell_type": "code",
   "execution_count": 469,
   "id": "9b0c1474-d441-4085-8bb5-9f218240cb9f",
   "metadata": {},
   "outputs": [
    {
     "data": {
      "text/plain": [
       "{1, 2, 3, 4, 5}"
      ]
     },
     "execution_count": 469,
     "metadata": {},
     "output_type": "execute_result"
    }
   ],
   "source": [
    "def tuple_to_set(my_tuple):\n",
    "    my_set = set(my_tuple)\n",
    "    return my_set\n",
    "\n",
    "my_tuple = (1, 2, 3, 4, 5)\n",
    "my_set = tuple_to_set(my_tuple)\n",
    "my_set"
   ]
  },
  {
   "cell_type": "markdown",
   "id": "44a1917a-40c2-4346-ae3a-bfc3843e5e15",
   "metadata": {},
   "source": [
    "38. Find the maximum value in a set:"
   ]
  },
  {
   "cell_type": "code",
   "execution_count": 470,
   "id": "fb15fa4c-83d3-4b21-a178-519183d7a404",
   "metadata": {},
   "outputs": [
    {
     "data": {
      "text/plain": [
       "5"
      ]
     },
     "execution_count": 470,
     "metadata": {},
     "output_type": "execute_result"
    }
   ],
   "source": [
    "def max_value_in_set(my_set):\n",
    "    max_val = float(\"-inf\")\n",
    "    for element in my_set:\n",
    "        if element > max_val:\n",
    "            max_val = element\n",
    "    return max_val\n",
    "\n",
    "my_set = {5, 1, 3, 2, 4}\n",
    "max_value = max_value_in_set(my_set)\n",
    "max_value"
   ]
  },
  {
   "cell_type": "markdown",
   "id": "74bed850-d22a-41c7-9f87-5e516e343f84",
   "metadata": {},
   "source": [
    "39. Find the minimum value in a set:"
   ]
  },
  {
   "cell_type": "code",
   "execution_count": 471,
   "id": "33702331-ebd8-4a24-ba72-394824c97905",
   "metadata": {},
   "outputs": [
    {
     "data": {
      "text/plain": [
       "1"
      ]
     },
     "execution_count": 471,
     "metadata": {},
     "output_type": "execute_result"
    }
   ],
   "source": [
    "def min_value_in_set(my_set):\n",
    "    min_val = float(\"inf\")\n",
    "    for element in my_set:\n",
    "        if element < min_val:\n",
    "            min_val = element\n",
    "    return min_val\n",
    "\n",
    "my_set = {5, 1, 3, 2, 4}\n",
    "min_value = min_value_in_set(my_set)\n",
    "min_value"
   ]
  },
  {
   "cell_type": "markdown",
   "id": "734e77cd-6798-4d21-82eb-a9e5c44f1c72",
   "metadata": {},
   "source": [
    "40. Create a set from user input:"
   ]
  },
  {
   "cell_type": "code",
   "execution_count": 472,
   "id": "9392c62f-1165-465f-a796-66b45cb5e087",
   "metadata": {},
   "outputs": [
    {
     "name": "stdin",
     "output_type": "stream",
     "text": [
      "Enter an element (or 'done' to finish):  wer\n",
      "Enter an element (or 'done' to finish):  wgr\n",
      "Enter an element (or 'done' to finish):  23\n",
      "Enter an element (or 'done' to finish):  sferg\n",
      "Enter an element (or 'done' to finish):  reg\n",
      "Enter an element (or 'done' to finish):  \n",
      "Enter an element (or 'done' to finish):  ert\n",
      "Enter an element (or 'done' to finish):  34\n",
      "Enter an element (or 'done' to finish):  65\n",
      "Enter an element (or 'done' to finish):  done\n"
     ]
    },
    {
     "data": {
      "text/plain": [
       "{'', '23', '34', '65', 'ert', 'reg', 'sferg', 'wer', 'wgr'}"
      ]
     },
     "execution_count": 472,
     "metadata": {},
     "output_type": "execute_result"
    }
   ],
   "source": [
    "def create_set_from_input():\n",
    "    my_set = set()\n",
    "    while True:\n",
    "        element = input(\"Enter an element (or 'done' to finish): \")\n",
    "        if element == 'done':\n",
    "            break\n",
    "        my_set.add(element)\n",
    "    return my_set\n",
    "\n",
    "user_set = create_set_from_input()\n",
    "user_set"
   ]
  },
  {
   "cell_type": "markdown",
   "id": "e8d3a703-11f6-4aa9-a861-09e1b60563ba",
   "metadata": {},
   "source": [
    "41. Check if the intersection of two sets is empty:"
   ]
  },
  {
   "cell_type": "code",
   "execution_count": 473,
   "id": "36448305-f096-44f6-bdb4-391372b252bf",
   "metadata": {},
   "outputs": [
    {
     "data": {
      "text/plain": [
       "True"
      ]
     },
     "execution_count": 473,
     "metadata": {},
     "output_type": "execute_result"
    }
   ],
   "source": [
    "def is_intersection_empty(set1, set2):\n",
    "    for element in set1:\n",
    "        if element in set2:\n",
    "            return False\n",
    "    return True\n",
    "\n",
    "set1 = {1, 2, 3}\n",
    "set2 = {4, 5, 6}\n",
    "is_empty_intersection = is_intersection_empty(set1, set2)\n",
    "is_empty_intersection"
   ]
  },
  {
   "cell_type": "markdown",
   "id": "c87d56a8-15d2-4d84-8733-a96d0ff21167",
   "metadata": {},
   "source": [
    "43. Remove duplicates from a list using sets:"
   ]
  },
  {
   "cell_type": "code",
   "execution_count": 474,
   "id": "d715b30e-7583-4d08-a037-ff17ad3bc0ac",
   "metadata": {},
   "outputs": [
    {
     "data": {
      "text/plain": [
       "[1, 2, 3, 4, 5]"
      ]
     },
     "execution_count": 474,
     "metadata": {},
     "output_type": "execute_result"
    }
   ],
   "source": [
    "def remove_duplicates_with_sets(my_list):\n",
    "    my_set = set()\n",
    "    no_duplicates_list = []\n",
    "    for item in my_list:\n",
    "        if item not in my_set:\n",
    "            no_duplicates_list.append(item)\n",
    "            my_set.add(item)\n",
    "    return no_duplicates_list\n",
    "\n",
    "my_list = [1, 2, 2, 3, 4, 4, 5]\n",
    "list_without_duplicates = remove_duplicates_with_sets(my_list)\n",
    "list_without_duplicates"
   ]
  },
  {
   "cell_type": "markdown",
   "id": "f19a0a8b-f319-4a1d-86a8-ec8fc54a71ec",
   "metadata": {},
   "source": [
    "44. Check if two sets have the same elements, regardless of their count:"
   ]
  },
  {
   "cell_type": "code",
   "execution_count": 475,
   "id": "11971605-02bb-44e6-91b5-bfe89b82ab31",
   "metadata": {},
   "outputs": [
    {
     "data": {
      "text/plain": [
       "True"
      ]
     },
     "execution_count": 475,
     "metadata": {},
     "output_type": "execute_result"
    }
   ],
   "source": [
    "def have_same_elements(set1, set2):\n",
    "    if len(set1) != len(set2):\n",
    "        return False\n",
    "    for element in set1:\n",
    "        if element not in set2:\n",
    "            return False\n",
    "    return True\n",
    "\n",
    "set1 = {1, 2, 3, 3, 4}\n",
    "set2 = {4, 2, 3, 1}\n",
    "have_same_elements_result = have_same_elements(set1, set2)\n",
    "have_same_elements_result"
   ]
  },
  {
   "cell_type": "markdown",
   "id": "27b122e4-846b-4188-9143-85d45b89c050",
   "metadata": {},
   "source": [
    "45. Create a set of the first n powers of 2:"
   ]
  },
  {
   "cell_type": "code",
   "execution_count": 476,
   "id": "7c0c44f6-dafc-4e35-acc3-8f473856bd55",
   "metadata": {},
   "outputs": [
    {
     "data": {
      "text/plain": [
       "{2, 4, 8, 16, 32}"
      ]
     },
     "execution_count": 476,
     "metadata": {},
     "output_type": "execute_result"
    }
   ],
   "source": [
    "def powers_of_2_set(n):\n",
    "    powers_set = set()\n",
    "    for i in range(1, n + 1):\n",
    "        powers_set.add(2 ** i)\n",
    "    return powers_set\n",
    "\n",
    "n = 5\n",
    "powers_set = powers_of_2_set(n)\n",
    "powers_set"
   ]
  },
  {
   "cell_type": "markdown",
   "id": "15107d58-553d-4807-9dda-5a0c4fa0c6d8",
   "metadata": {},
   "source": [
    "46. Find the common elements between a set and a list:"
   ]
  },
  {
   "cell_type": "code",
   "execution_count": 477,
   "id": "efd90b98-93bd-483e-8879-d592c94ae3e8",
   "metadata": {},
   "outputs": [
    {
     "data": {
      "text/plain": [
       "{3, 4, 5}"
      ]
     },
     "execution_count": 477,
     "metadata": {},
     "output_type": "execute_result"
    }
   ],
   "source": [
    "def common_elements_set_list(my_set, my_list):\n",
    "    common_elements = set()\n",
    "    for element in my_set:\n",
    "        if element in my_list:\n",
    "            common_elements.add(element)\n",
    "    return common_elements\n",
    "\n",
    "my_set = {1, 2, 3, 4, 5}\n",
    "my_list = [3, 4, 5, 6, 7]\n",
    "common_elements = common_elements_set_list(my_set, my_list)\n",
    "common_elements"
   ]
  },
  {
   "cell_type": "markdown",
   "id": "49a90131-d7b7-4dcd-819b-a128c52588eb",
   "metadata": {},
   "source": [
    "47. Create a set of the first n triangular numbers:"
   ]
  },
  {
   "cell_type": "code",
   "execution_count": 478,
   "id": "c5751dd9-8b80-47ed-af98-c26a5893c071",
   "metadata": {},
   "outputs": [
    {
     "data": {
      "text/plain": [
       "{1, 3, 6, 10, 15}"
      ]
     },
     "execution_count": 478,
     "metadata": {},
     "output_type": "execute_result"
    }
   ],
   "source": [
    "def triangular_numbers_set(n):\n",
    "    triangular_set = set()\n",
    "    for i in range(1, n + 1):\n",
    "        triangular_set.add(i * (i + 1) // 2)\n",
    "    return triangular_set\n",
    "\n",
    "n = 5\n",
    "triangular_set = triangular_numbers_set(n)\n",
    "triangular_set"
   ]
  },
  {
   "cell_type": "markdown",
   "id": "1a260471-800b-41f1-aa54-d253e53b008b",
   "metadata": {},
   "source": [
    "48. Check if a set contains another set as a subset:"
   ]
  },
  {
   "cell_type": "code",
   "execution_count": 479,
   "id": "34b202df-bac8-4db2-bed6-55fc5a7baef6",
   "metadata": {},
   "outputs": [
    {
     "data": {
      "text/plain": [
       "True"
      ]
     },
     "execution_count": 479,
     "metadata": {},
     "output_type": "execute_result"
    }
   ],
   "source": [
    "def is_subset_of_set(subset, main_set):\n",
    "    return subset.issubset(main_set)\n",
    "\n",
    "set1 = {1, 2}\n",
    "set2 = {1, 2, 3, 4}\n",
    "is_subset_result = is_subset_of_set(set1, set2)\n",
    "is_subset_result"
   ]
  },
  {
   "cell_type": "markdown",
   "id": "a130eeee-2f1c-464e-9b49-280e21cf3ad6",
   "metadata": {},
   "source": [
    "49. Create a set of alternating 1s and 0s of length `n`."
   ]
  },
  {
   "cell_type": "code",
   "execution_count": 480,
   "id": "1ee05957-0056-459c-b307-66de9580f2bd",
   "metadata": {},
   "outputs": [
    {
     "data": {
      "text/plain": [
       "{0, 1}"
      ]
     },
     "execution_count": 480,
     "metadata": {},
     "output_type": "execute_result"
    }
   ],
   "source": [
    "def alternating_set(n):\n",
    "    alternating = set()\n",
    "    for i in range(n):\n",
    "        alternating.add(i % 2)\n",
    "    return alternating\n",
    "\n",
    "n = 10 \n",
    "alternating_set_n = alternating_set(n)\n",
    "alternating_set_n"
   ]
  },
  {
   "cell_type": "markdown",
   "id": "0dda6b1e-d0bd-4bb2-90ba-302e5e742fee",
   "metadata": {},
   "source": [
    "50. Merge multiple sets into one:"
   ]
  },
  {
   "cell_type": "code",
   "execution_count": 481,
   "id": "88b38161-6116-4243-ba56-2540015696aa",
   "metadata": {},
   "outputs": [
    {
     "data": {
      "text/plain": [
       "{1, 2, 3, 4, 5, 6, 7}"
      ]
     },
     "execution_count": 481,
     "metadata": {},
     "output_type": "execute_result"
    }
   ],
   "source": [
    "def merge_sets(sets_list):\n",
    "    merged_set = set()\n",
    "    for my_set in sets_list:\n",
    "        merged_set.update(my_set)\n",
    "    return merged_set\n",
    "\n",
    "set1 = {1, 2, 3}\n",
    "set2 = {3, 4, 5}\n",
    "set3 = {5, 6, 7}\n",
    "merged_set = merge_sets([set1, set2, set3])\n",
    "merged_set"
   ]
  }
 ],
 "metadata": {
  "kernelspec": {
   "display_name": "Python 3 (ipykernel)",
   "language": "python",
   "name": "python3"
  },
  "language_info": {
   "codemirror_mode": {
    "name": "ipython",
    "version": 3
   },
   "file_extension": ".py",
   "mimetype": "text/x-python",
   "name": "python",
   "nbconvert_exporter": "python",
   "pygments_lexer": "ipython3",
   "version": "3.12.0"
  },
  "widgets": {
   "application/vnd.jupyter.widget-state+json": {
    "state": {},
    "version_major": 2,
    "version_minor": 0
   }
  }
 },
 "nbformat": 4,
 "nbformat_minor": 5
}
