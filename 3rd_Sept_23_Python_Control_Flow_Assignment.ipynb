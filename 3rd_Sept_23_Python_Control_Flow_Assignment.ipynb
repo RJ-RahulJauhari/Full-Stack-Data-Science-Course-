{
 "cells": [
  {
   "cell_type": "markdown",
   "id": "4cd3caa8-06d4-44ac-bfc6-f861c131326d",
   "metadata": {},
   "source": [
    "***Python Control Flow Assignment - Rahul Jauhari***"
   ]
  },
  {
   "cell_type": "markdown",
   "id": "c3593a35-1d92-4421-ac58-95fce3aa6e7d",
   "metadata": {},
   "source": [
    "**Basic If-Else Statements:**"
   ]
  },
  {
   "cell_type": "markdown",
   "id": "05d297be-152b-41b9-a1ab-989918173101",
   "metadata": {},
   "source": [
    "1. Write a Python program to check if a given number is positive or negative."
   ]
  },
  {
   "cell_type": "code",
   "execution_count": 1,
   "id": "1681b874-0650-4cfd-a362-1f76e7ecfa64",
   "metadata": {},
   "outputs": [
    {
     "name": "stdin",
     "output_type": "stream",
     "text": [
      "Enter a number: -1\n"
     ]
    },
    {
     "name": "stdout",
     "output_type": "stream",
     "text": [
      "Negative\n"
     ]
    }
   ],
   "source": [
    "n = int(input(\"Enter a number:\"))\n",
    "\n",
    "if n >= 0:\n",
    "    print(\"Positive\")\n",
    "else:\n",
    "    print(\"Negative\")"
   ]
  },
  {
   "cell_type": "markdown",
   "id": "79b878e0-a1ae-4801-9858-7aa385dc8e8a",
   "metadata": {},
   "source": [
    "2. Create a program that determines if a person is eligible to vote based on their age."
   ]
  },
  {
   "cell_type": "code",
   "execution_count": 2,
   "id": "c471a7b4-c4cd-4c9b-ad64-a9cdec4aa372",
   "metadata": {},
   "outputs": [
    {
     "name": "stdin",
     "output_type": "stream",
     "text": [
      "Enter a age: 90\n"
     ]
    },
    {
     "name": "stdout",
     "output_type": "stream",
     "text": [
      "Eligible to Vote\n"
     ]
    }
   ],
   "source": [
    "age = int(input(\"Enter a age:\"))\n",
    "\n",
    "if age >= 18:\n",
    "    print(\"Eligible to Vote\")\n",
    "else:\n",
    "    print(\"Not Eligible to Vote\")\n",
    "    "
   ]
  },
  {
   "cell_type": "markdown",
   "id": "276287d3-df90-4762-8f7e-edf25ef9de7d",
   "metadata": {},
   "source": [
    "3. Develop a program to find the maximum of two numbers using if-else statements."
   ]
  },
  {
   "cell_type": "code",
   "execution_count": 3,
   "id": "e75b9abb-67b5-458f-8eff-c62d71444fd3",
   "metadata": {},
   "outputs": [
    {
     "name": "stdin",
     "output_type": "stream",
     "text": [
      "Enter a number 1: 80\n",
      "Enter a number 2: 81\n"
     ]
    },
    {
     "name": "stdout",
     "output_type": "stream",
     "text": [
      "81\n"
     ]
    }
   ],
   "source": [
    "n1 = int(input(\"Enter a number 1:\"))\n",
    "n2 = int(input(\"Enter a number 2:\"))\n",
    "\n",
    "if n1>=n2:\n",
    "    print(n1)\n",
    "else:\n",
    "    print(n2)"
   ]
  },
  {
   "cell_type": "markdown",
   "id": "4212de23-b958-4272-9787-4db6236e36b2",
   "metadata": {},
   "source": [
    "4. Write a Python script to classify a given year as a leap year or not."
   ]
  },
  {
   "cell_type": "code",
   "execution_count": 5,
   "id": "a6179494-b2a9-48b6-95e6-af6f05f02011",
   "metadata": {},
   "outputs": [
    {
     "name": "stdin",
     "output_type": "stream",
     "text": [
      "Enter a year: 2004\n"
     ]
    },
    {
     "name": "stdout",
     "output_type": "stream",
     "text": [
      "Year: 2004 is a leap year...\n"
     ]
    }
   ],
   "source": [
    "year = int(input(\"Enter a year:\"))\n",
    "\n",
    "if (year % 4 == 0 and year % 100 != 0) or (year % 400 == 0):\n",
    "    print(f\"Year: {year} is a leap year...\")\n",
    "else:\n",
    "    print(\"Not a leap year...\")"
   ]
  },
  {
   "cell_type": "markdown",
   "id": "7bd9cdc6-c9cc-4505-be75-8e0842b19192",
   "metadata": {},
   "source": [
    "5. Create a program that checks whether a character is a vowel or a consonant."
   ]
  },
  {
   "cell_type": "code",
   "execution_count": 8,
   "id": "3ea095a8-415a-42b5-bbc4-449f824d2bc7",
   "metadata": {},
   "outputs": [
    {
     "name": "stdin",
     "output_type": "stream",
     "text": [
      "Enter character z\n"
     ]
    },
    {
     "name": "stdout",
     "output_type": "stream",
     "text": [
      "It is a Consonant\n"
     ]
    }
   ],
   "source": [
    "c = input(\"Enter character\")\n",
    "vowels = {'a','e','i','o','u'}\n",
    "\n",
    "if c in vowels:\n",
    "    print(\"It is a vowel\")\n",
    "else:\n",
    "    print(\"It is a Consonant\")"
   ]
  },
  {
   "cell_type": "markdown",
   "id": "75f17da7-868d-4569-a33e-d2b9033d1201",
   "metadata": {},
   "source": [
    "6. Implement a program to determine whether a given number is even or odd."
   ]
  },
  {
   "cell_type": "code",
   "execution_count": 9,
   "id": "fff97af8-0cf9-4abd-84ca-f8956d49e8f3",
   "metadata": {},
   "outputs": [
    {
     "name": "stdin",
     "output_type": "stream",
     "text": [
      "Enter a number:  7\n"
     ]
    },
    {
     "name": "stdout",
     "output_type": "stream",
     "text": [
      "Odd\n"
     ]
    }
   ],
   "source": [
    "n = int(input(\"Enter a number: \"))\n",
    "\n",
    "if n%2 == 0:\n",
    "    print(\"Even\")\n",
    "else:\n",
    "    print(\"Odd\")\n",
    "    "
   ]
  },
  {
   "cell_type": "markdown",
   "id": "49d6cf21-8721-48c1-868f-00c803445961",
   "metadata": {},
   "source": [
    "7. Write a Python function to calculate the absolute value of a number without using the `abs()` function."
   ]
  },
  {
   "cell_type": "code",
   "execution_count": 10,
   "id": "bd9f6f08-d8a7-4d81-872b-99e4ec56bf44",
   "metadata": {},
   "outputs": [
    {
     "name": "stdin",
     "output_type": "stream",
     "text": [
      "Enter a number:  -90\n"
     ]
    },
    {
     "name": "stdout",
     "output_type": "stream",
     "text": [
      "90 is the absolute value\n"
     ]
    }
   ],
   "source": [
    "n = int(input(\"Enter a number: \"))\n",
    "\n",
    "if n >= 0:\n",
    "    print(f\"{n} is the absolute value\")\n",
    "else:\n",
    "    print(f\"{n*-1} is the absolute value\")\n"
   ]
  },
  {
   "cell_type": "markdown",
   "id": "b4da2471-9f1d-4ca6-8438-4eb02e3498e9",
   "metadata": {},
   "source": [
    "8. Develop a program that determines the largest of three given numbers using if-else statements."
   ]
  },
  {
   "cell_type": "code",
   "execution_count": null,
   "id": "951a113f-2985-44ce-a3df-ae861e6fe62c",
   "metadata": {},
   "outputs": [],
   "source": [
    "num1 = float(input(\"Enter the first number: \"))\n",
    "num2 = float(input(\"Enter the second number: \"))\n",
    "num3 = float(input(\"Enter the third number: \"))\n",
    "\n",
    "if num1 >= num2 and num1 >= num3:\n",
    "    largest = num1\n",
    "elif num2 >= num1 and num2 >= num3:\n",
    "    largest = num2\n",
    "else:\n",
    "    largest = num3\n",
    "\n",
    "print(f\"The largest number is {largest}\")"
   ]
  },
  {
   "cell_type": "markdown",
   "id": "62d4efd4-a4eb-4963-977d-50441b253f79",
   "metadata": {},
   "source": [
    "9. Create a program that checks if a given string is a palindrome."
   ]
  },
  {
   "cell_type": "code",
   "execution_count": 12,
   "id": "7940f5a7-2e41-48aa-9d04-581892140c96",
   "metadata": {},
   "outputs": [
    {
     "name": "stdin",
     "output_type": "stream",
     "text": [
      "Enter a string:  Racecar\n"
     ]
    },
    {
     "name": "stdout",
     "output_type": "stream",
     "text": [
      "'Racecar' is a palindrome.\n"
     ]
    }
   ],
   "source": [
    "def isPalindrome(input_string):\n",
    "    cleaned_string = input_string.replace(\" \", \"\").lower()\n",
    "    reversed_string = cleaned_string[::-1]\n",
    "    \n",
    "    if cleaned_string == reversed_string:\n",
    "        return True\n",
    "    else:\n",
    "        return False\n",
    "\n",
    "input_string = input(\"Enter a string: \")\n",
    "\n",
    "if isPalindrome(input_string):\n",
    "    print(f\"'{input_string}' is a palindrome.\")\n",
    "else:\n",
    "    print(f\"'{input_string}' is not a palindrome.\")"
   ]
  },
  {
   "cell_type": "markdown",
   "id": "9238b47d-d9ef-49b3-9125-1c00f283eea0",
   "metadata": {},
   "source": [
    "10. Write a Python program to calculate the grade based on a student's score."
   ]
  },
  {
   "cell_type": "code",
   "execution_count": 13,
   "id": "36e46671-06d2-4592-9fdd-c9c62767b68e",
   "metadata": {},
   "outputs": [
    {
     "name": "stdin",
     "output_type": "stream",
     "text": [
      "Enter the student's score:  72\n"
     ]
    },
    {
     "name": "stdout",
     "output_type": "stream",
     "text": [
      "The student's grade is: C\n"
     ]
    }
   ],
   "source": [
    "\n",
    "score = float(input(\"Enter the student's score: \"))\n",
    "\n",
    "\n",
    "if 90 <= score <= 100:\n",
    "    grade = \"A\"\n",
    "elif 80 <= score < 90:\n",
    "    grade = \"B\"\n",
    "elif 70 <= score < 80:\n",
    "    grade = \"C\"\n",
    "elif 60 <= score < 70:\n",
    "    grade = \"D\"\n",
    "elif 0 <= score < 60:\n",
    "    grade = \"F\"\n",
    "else:\n",
    "    grade = \"Invalid score. Enter a score between 0 and 100.\"\n",
    "\n",
    "\n",
    "print(f\"The student's grade is: {grade}\")\n"
   ]
  },
  {
   "cell_type": "markdown",
   "id": "c1985e1f-b2f0-40b8-aa17-3eb3509f7144",
   "metadata": {},
   "source": [
    "**Nested If-Else Statements**"
   ]
  },
  {
   "cell_type": "markdown",
   "id": "8283f01e-3471-41c2-89d6-f2b6320992a1",
   "metadata": {},
   "source": [
    "11. Find the largest among three numbers using nested if-else statements:"
   ]
  },
  {
   "cell_type": "code",
   "execution_count": null,
   "id": "b0dde849-97dc-4a32-83af-7668b2584c2b",
   "metadata": {},
   "outputs": [],
   "source": [
    "num1 = float(input(\"Enter the first number: \"))\n",
    "num2 = float(input(\"Enter the second number: \"))\n",
    "num3 = float(input(\"Enter the third number: \"))\n",
    "\n",
    "\n",
    "if num1 >= num2:\n",
    "    if num1 >= num3:\n",
    "        largest = num1\n",
    "    else:\n",
    "        largest = num3\n",
    "else:\n",
    "    if num2 >= num3:\n",
    "        largest = num2\n",
    "    else:\n",
    "        largest = num3\n",
    "\n",
    "print(f\"The largest number is: {largest}\")\n"
   ]
  },
  {
   "cell_type": "markdown",
   "id": "ac6874a9-464a-4705-99f7-57c644e4a80a",
   "metadata": {},
   "source": [
    "12. Determine if a triangle is equilateral, isosceles, or scalene:"
   ]
  },
  {
   "cell_type": "code",
   "execution_count": 15,
   "id": "45436807-5832-4475-93d4-011d7137c914",
   "metadata": {},
   "outputs": [
    {
     "name": "stdin",
     "output_type": "stream",
     "text": [
      "Enter the length of the first side:  5\n",
      "Enter the length of the second side:  9\n",
      "Enter the length of the third side:  3\n"
     ]
    },
    {
     "name": "stdout",
     "output_type": "stream",
     "text": [
      "The triangle is scalene.\n"
     ]
    }
   ],
   "source": [
    "side1 = float(input(\"Enter the length of the first side: \"))\n",
    "side2 = float(input(\"Enter the length of the second side: \"))\n",
    "side3 = float(input(\"Enter the length of the third side: \"))\n",
    "\n",
    "\n",
    "if side1 == side2 == side3:\n",
    "    triangle_type = \"equilateral\"\n",
    "elif side1 == side2 or side1 == side3 or side2 == side3:\n",
    "    triangle_type = \"isosceles\"\n",
    "else:\n",
    "    triangle_type = \"scalene\"\n",
    "\n",
    "\n",
    "print(f\"The triangle is {triangle_type}.\")\n"
   ]
  },
  {
   "cell_type": "markdown",
   "id": "28d9d2a7-00d6-47e6-82fb-1100376baaa2",
   "metadata": {},
   "source": [
    "13. Check if a year is a leap year and also if it is a century year:"
   ]
  },
  {
   "cell_type": "code",
   "execution_count": 16,
   "id": "cafa2c69-2272-4554-9336-7ba6a7104c3b",
   "metadata": {},
   "outputs": [
    {
     "name": "stdin",
     "output_type": "stream",
     "text": [
      "Enter a year:  2100\n"
     ]
    },
    {
     "name": "stdout",
     "output_type": "stream",
     "text": [
      "2100 is not a leap year.\n",
      "2100 is a century year.\n"
     ]
    }
   ],
   "source": [
    "year = int(input(\"Enter a year: \"))\n",
    "\n",
    "if (year % 4 == 0 and year % 100 != 0) or (year % 400 == 0):\n",
    "    is_leap_year = True\n",
    "else:\n",
    "    is_leap_year = False\n",
    "\n",
    "if year % 100 == 0:\n",
    "    is_century_year = True\n",
    "else:\n",
    "    is_century_year = False\n",
    "\n",
    "if is_leap_year:\n",
    "    print(f\"{year} is a leap year.\")\n",
    "else:\n",
    "    print(f\"{year} is not a leap year.\")\n",
    "\n",
    "if is_century_year:\n",
    "    print(f\"{year} is a century year.\")\n",
    "else:\n",
    "    print(f\"{year} is not a century year.\")"
   ]
  },
  {
   "cell_type": "markdown",
   "id": "38496d43-c0ef-4821-bcd6-ed3b082cb643",
   "metadata": {},
   "source": [
    "14. Determine if a number is positive, negative, or zero:"
   ]
  },
  {
   "cell_type": "code",
   "execution_count": 17,
   "id": "4bfc8d52-102a-40d1-9fc3-dbebac6a2115",
   "metadata": {},
   "outputs": [
    {
     "name": "stdin",
     "output_type": "stream",
     "text": [
      "Enter a number:  -1\n"
     ]
    },
    {
     "name": "stdout",
     "output_type": "stream",
     "text": [
      "The number is negative.\n"
     ]
    }
   ],
   "source": [
    "num = float(input(\"Enter a number: \"))\n",
    "\n",
    "\n",
    "if num > 0:\n",
    "    print(\"The number is positive.\")\n",
    "elif num < 0:\n",
    "    print(\"The number is negative.\")\n",
    "else:\n",
    "    print(\"The number is zero.\")\n"
   ]
  },
  {
   "cell_type": "markdown",
   "id": "77d30828-a57c-489c-abfc-df4a190ed55d",
   "metadata": {},
   "source": [
    "15. Check if a person is a teenager (between 13 and 19 years old):"
   ]
  },
  {
   "cell_type": "code",
   "execution_count": 18,
   "id": "716b9679-770a-4c41-970f-8010d10d1e4f",
   "metadata": {},
   "outputs": [
    {
     "name": "stdin",
     "output_type": "stream",
     "text": [
      "Enter the person's age:  18\n"
     ]
    },
    {
     "name": "stdout",
     "output_type": "stream",
     "text": [
      "The person is a teenager.\n"
     ]
    }
   ],
   "source": [
    "age = int(input(\"Enter the person's age: \"))\n",
    "\n",
    "if 13 <= age <= 19:\n",
    "    print(\"The person is a teenager.\")\n",
    "else:\n",
    "    print(\"The person is not a teenager.\")"
   ]
  },
  {
   "cell_type": "markdown",
   "id": "f15b2895-3c0d-4e7a-88fb-aa878aef6e2a",
   "metadata": {},
   "source": [
    "16. Determine the type of angle based on its measure (acute, obtuse, or right):"
   ]
  },
  {
   "cell_type": "code",
   "execution_count": 1,
   "id": "688bedb0-9280-420c-bbee-090f7cdbcf7d",
   "metadata": {},
   "outputs": [
    {
     "name": "stdin",
     "output_type": "stream",
     "text": [
      "Enter the angle measure:  74\n"
     ]
    },
    {
     "name": "stdout",
     "output_type": "stream",
     "text": [
      "The angle is acute.\n"
     ]
    }
   ],
   "source": [
    "angle = float(input(\"Enter the angle measure: \"))\n",
    "\n",
    "if angle < 90:\n",
    "    angle_type = \"acute\"\n",
    "elif angle == 90:\n",
    "    angle_type = \"right\"\n",
    "else:\n",
    "    angle_type = \"obtuse\"\n",
    "\n",
    "print(f\"The angle is {angle_type}.\")\n"
   ]
  },
  {
   "cell_type": "markdown",
   "id": "ec0e1dc4-cc71-4e92-af80-b0342edbae84",
   "metadata": {},
   "source": [
    "17. Calculate the roots of a quadratic equation:"
   ]
  },
  {
   "cell_type": "code",
   "execution_count": 20,
   "id": "6235371e-dd76-4ff5-8254-0d06d6144c91",
   "metadata": {},
   "outputs": [
    {
     "name": "stdin",
     "output_type": "stream",
     "text": [
      "Enter coefficient a:  6\n",
      "Enter coefficient b:  3\n",
      "Enter coefficient c:  2\n"
     ]
    },
    {
     "name": "stdout",
     "output_type": "stream",
     "text": [
      "The roots are complex: -0.25 + 0.5204164998665332i and -0.25 - 0.5204164998665332i\n"
     ]
    }
   ],
   "source": [
    "import math\n",
    "\n",
    "a = float(input(\"Enter coefficient a: \"))\n",
    "b = float(input(\"Enter coefficient b: \"))\n",
    "c = float(input(\"Enter coefficient c: \"))\n",
    "\n",
    "discriminant = b**2 - 4*a*c\n",
    "\n",
    "if discriminant > 0:\n",
    "    root1 = (-b + math.sqrt(discriminant)) / (2*a)\n",
    "    root2 = (-b - math.sqrt(discriminant)) / (2*a)\n",
    "    print(f\"The roots are real and different: {root1} and {root2}\")\n",
    "elif discriminant == 0:\n",
    "    root1 = -b / (2*a)\n",
    "    print(f\"The root is real and equal: {root1}\")\n",
    "else:\n",
    "    real_part = -b / (2*a)\n",
    "    imaginary_part = math.sqrt(-discriminant) / (2*a)\n",
    "    print(f\"The roots are complex: {real_part} + {imaginary_part}i and {real_part} - {imaginary_part}i\")\n"
   ]
  },
  {
   "cell_type": "markdown",
   "id": "bc6a0c05-9f8f-41ca-97dc-acfa4f9c8665",
   "metadata": {},
   "source": [
    "18. Determine the day of the week based on a user-provided number (1 for Monday, 2 for Tuesday, etc.):"
   ]
  },
  {
   "cell_type": "code",
   "execution_count": 21,
   "id": "7d5f69e1-bf75-445f-b033-66a63d194a0b",
   "metadata": {},
   "outputs": [
    {
     "name": "stdin",
     "output_type": "stream",
     "text": [
      "Enter a number (1-7) representing a day of the week:  5\n"
     ]
    },
    {
     "name": "stdout",
     "output_type": "stream",
     "text": [
      "The day is Friday.\n"
     ]
    }
   ],
   "source": [
    "day_number = int(input(\"Enter a number (1-7) representing a day of the week: \"))\n",
    "\n",
    "days = [\"Monday\", \"Tuesday\", \"Wednesday\", \"Thursday\", \"Friday\", \"Saturday\", \"Sunday\"]\n",
    "\n",
    "if 1 <= day_number <= 7:\n",
    "    day_name = days[day_number - 1]\n",
    "    print(f\"The day is {day_name}.\")\n",
    "else:\n",
    "    print(\"Invalid input. Please enter a number between 1 and 7.\")\n"
   ]
  },
  {
   "cell_type": "markdown",
   "id": "6c54f525-77be-4ac3-aee8-9be64c1f15de",
   "metadata": {},
   "source": [
    "19. Check if a year is a leap year and also if it is evenly divisible by 400:"
   ]
  },
  {
   "cell_type": "code",
   "execution_count": 24,
   "id": "1156c89b-88c6-48bb-a1b8-3c1688605915",
   "metadata": {},
   "outputs": [
    {
     "name": "stdin",
     "output_type": "stream",
     "text": [
      "Enter a year:  2004\n"
     ]
    },
    {
     "name": "stdout",
     "output_type": "stream",
     "text": [
      "2004 is a leap year.\n"
     ]
    }
   ],
   "source": [
    "year = int(input(\"Enter a year: \"))\n",
    "\n",
    "if (year % 4 == 0 and year % 100 != 0) or (year % 400 == 0):\n",
    "    is_leap_year = True\n",
    "else:\n",
    "    is_leap_year = False\n",
    "\n",
    "if year % 100 == 0:\n",
    "    is_century_year = True\n",
    "else:\n",
    "    is_century_year = False\n",
    "\n",
    "if is_leap_year:\n",
    "    print(f\"{year} is a leap year.\")\n",
    "else:\n",
    "    print(f\"{year} is not a leap year.\")"
   ]
  },
  {
   "cell_type": "markdown",
   "id": "22a4cec0-3eb7-4f1c-a507-c9b3d05b2449",
   "metadata": {},
   "source": [
    "20. Check if a given number is prime or not using nested if-else statements:"
   ]
  },
  {
   "cell_type": "code",
   "execution_count": 25,
   "id": "ec97be2d-7277-4309-9d91-272a108bbcca",
   "metadata": {},
   "outputs": [
    {
     "name": "stdin",
     "output_type": "stream",
     "text": [
      "Enter a number:  37\n"
     ]
    },
    {
     "name": "stdout",
     "output_type": "stream",
     "text": [
      "37 is a prime number.\n"
     ]
    }
   ],
   "source": [
    "num = int(input(\"Enter a number: \"))\n",
    "if num > 1:\n",
    "    for i in range(2, num):\n",
    "        if (num % i) == 0:\n",
    "            print(f\"{num} is not a prime number.\")\n",
    "            break\n",
    "    else:\n",
    "        print(f\"{num} is a prime number.\")\n",
    "else:\n",
    "    print(f\"{num} is not a prime number.\")"
   ]
  },
  {
   "cell_type": "markdown",
   "id": "9f87e307-8add-4966-8b5e-0ac203834d4a",
   "metadata": {},
   "source": [
    "**Elif Statements**"
   ]
  },
  {
   "cell_type": "markdown",
   "id": "aebe19ff-9340-4f46-8a48-7353f5e86cca",
   "metadata": {},
   "source": [
    "21. Write a Python program to assign grades based on different ranges of scores using elif statements.\n",
    "22. Implement a program to determine the type of a triangle based on its angles.\n",
    "\n",
    "**Already Done Above**"
   ]
  },
  {
   "cell_type": "markdown",
   "id": "72a79f99-ea3d-42e9-a6ce-dacd336b80f6",
   "metadata": {},
   "source": [
    "23. Categorize a person's BMI into underweight, normal, overweight, or obese:"
   ]
  },
  {
   "cell_type": "code",
   "execution_count": 27,
   "id": "381a1592-3565-4123-868c-49346e974a90",
   "metadata": {},
   "outputs": [
    {
     "name": "stdin",
     "output_type": "stream",
     "text": [
      "Enter your height (in meters):  1.7018\n",
      "Enter your weight (in kilograms):  65\n"
     ]
    },
    {
     "name": "stdout",
     "output_type": "stream",
     "text": [
      "Your BMI is 22.44, which is categorized as normal.\n"
     ]
    }
   ],
   "source": [
    "height = float(input(\"Enter your height (in meters): \"))\n",
    "weight = float(input(\"Enter your weight (in kilograms): \"))\n",
    "\n",
    "bmi = weight / (height ** 2)\n",
    "\n",
    "\n",
    "if bmi < 18.5:\n",
    "    category = \"underweight\"\n",
    "elif 18.5 <= bmi < 24.9:\n",
    "    category = \"normal\"\n",
    "elif 24.9 <= bmi < 29.9:\n",
    "    category = \"overweight\"\n",
    "else:\n",
    "    category = \"obese\"\n",
    "\n",
    "print(f\"Your BMI is {bmi:.2f}, which is categorized as {category}.\")\n"
   ]
  },
  {
   "cell_type": "markdown",
   "id": "284128f3-7f09-43da-9e9e-ba218589f9cb",
   "metadata": {},
   "source": [
    "24. Determine whether a number is positive, negative, or zero using elif statements:"
   ]
  },
  {
   "cell_type": "code",
   "execution_count": 28,
   "id": "7fc59131-bdca-443c-b222-ef28cc9441eb",
   "metadata": {},
   "outputs": [
    {
     "name": "stdin",
     "output_type": "stream",
     "text": [
      "Enter a number:  0\n"
     ]
    },
    {
     "name": "stdout",
     "output_type": "stream",
     "text": [
      "The number is zero.\n"
     ]
    }
   ],
   "source": [
    "num = float(input(\"Enter a number: \"))\n",
    "\n",
    "if num > 0:\n",
    "    print(\"The number is positive.\")\n",
    "elif num < 0:\n",
    "    print(\"The number is negative.\")\n",
    "else:\n",
    "    print(\"The number is zero.\")"
   ]
  },
  {
   "cell_type": "markdown",
   "id": "5b23368c-c1a9-4daf-8b1f-a6f066e8bc53",
   "metadata": {},
   "source": [
    "25. Determine the type of a character (uppercase, lowercase, or special) using elif statements:"
   ]
  },
  {
   "cell_type": "code",
   "execution_count": 29,
   "id": "e9a5f65d-89d1-4f24-b8c1-1e8b0f276430",
   "metadata": {},
   "outputs": [
    {
     "name": "stdin",
     "output_type": "stream",
     "text": [
      "Enter a character:  *\n"
     ]
    },
    {
     "name": "stdout",
     "output_type": "stream",
     "text": [
      "The character is special (not a letter).\n"
     ]
    }
   ],
   "source": [
    "char = input(\"Enter a character: \")\n",
    "\n",
    "if char.isupper():\n",
    "    print(\"The character is uppercase.\")\n",
    "elif char.islower():\n",
    "    print(\"The character is lowercase.\")\n",
    "else:\n",
    "    print(\"The character is special (not a letter).\")"
   ]
  },
  {
   "cell_type": "markdown",
   "id": "a5fdad16-988d-4862-8bc5-6d5e3d1700a0",
   "metadata": {},
   "source": [
    "26. Calculate the discounted price based on different purchase amounts using elif statements:"
   ]
  },
  {
   "cell_type": "code",
   "execution_count": 30,
   "id": "dabea6c6-d791-47ed-90a8-d65dea16c2f7",
   "metadata": {},
   "outputs": [
    {
     "name": "stdin",
     "output_type": "stream",
     "text": [
      "Enter the purchase amount:  990\n"
     ]
    },
    {
     "name": "stdout",
     "output_type": "stream",
     "text": [
      "The discounted price is $891.00\n"
     ]
    }
   ],
   "source": [
    "purchase_amount = float(input(\"Enter the purchase amount: \"))\n",
    "\n",
    "\n",
    "if purchase_amount >= 1000:\n",
    "    discount = 0.2 \n",
    "elif purchase_amount >= 500:\n",
    "    discount = 0.1 \n",
    "else:\n",
    "    discount = 0.0\n",
    "\n",
    "\n",
    "discounted_price = purchase_amount - (purchase_amount * discount)\n",
    "\n",
    "\n",
    "print(f\"The discounted price is ${discounted_price:.2f}\")\n"
   ]
  },
  {
   "cell_type": "markdown",
   "id": "4930f184-31e2-4a71-88f9-c67eae1ea914",
   "metadata": {},
   "source": [
    "27. Calculate the electricity bill based on different consumption slabs using elif statements:"
   ]
  },
  {
   "cell_type": "code",
   "execution_count": 32,
   "id": "16b0779c-8eda-4712-b2bb-d8e9bcc8f53c",
   "metadata": {},
   "outputs": [
    {
     "name": "stdin",
     "output_type": "stream",
     "text": [
      "Enter your electricity consumption (in kWh):  19.43\n"
     ]
    },
    {
     "name": "stdout",
     "output_type": "stream",
     "text": [
      "Your electricity bill is $9.71\n"
     ]
    }
   ],
   "source": [
    "consumption = float(input(\"Enter your electricity consumption (in kWh): \"))\n",
    "\n",
    "if consumption <= 50:\n",
    "    rate = 0.50\n",
    "elif consumption <= 100:\n",
    "    rate = 0.75\n",
    "elif consumption <= 200:\n",
    "    rate = 1.20\n",
    "else:\n",
    "    rate = 1.50\n",
    "\n",
    "bill = consumption * rate\n",
    "\n",
    "print(f\"Your electricity bill is ${bill:.2f}\")\n"
   ]
  },
  {
   "cell_type": "markdown",
   "id": "ca10dc46-3345-494a-9739-7bf0928d8b58",
   "metadata": {},
   "source": [
    "28. Determine the type of quadrilateral based on its angles and sides using elif statements:"
   ]
  },
  {
   "cell_type": "code",
   "execution_count": 33,
   "id": "0aca9d7c-b87a-485d-8c9c-9f52842ae3f9",
   "metadata": {},
   "outputs": [
    {
     "name": "stdin",
     "output_type": "stream",
     "text": [
      "Enter the first angle (in degrees):  90\n",
      "Enter the second angle (in degrees):  90\n",
      "Enter the third angle (in degrees):  90\n",
      "Enter the fourth angle (in degrees):  120\n",
      "Enter the length of the first side:  45\n",
      "Enter the length of the second side:  25\n",
      "Enter the length of the third side:  12\n",
      "Enter the length of the fourth side:  10\n"
     ]
    },
    {
     "name": "stdout",
     "output_type": "stream",
     "text": [
      "The quadrilateral is a quadrilateral.\n"
     ]
    }
   ],
   "source": [
    "angle1 = float(input(\"Enter the first angle (in degrees): \"))\n",
    "angle2 = float(input(\"Enter the second angle (in degrees): \"))\n",
    "angle3 = float(input(\"Enter the third angle (in degrees): \"))\n",
    "angle4 = float(input(\"Enter the fourth angle (in degrees): \"))\n",
    "\n",
    "side1 = float(input(\"Enter the length of the first side: \"))\n",
    "side2 = float(input(\"Enter the length of the second side: \"))\n",
    "side3 = float(input(\"Enter the length of the third side: \"))\n",
    "side4 = float(input(\"Enter the length of the fourth side: \"))\n",
    "\n",
    "\n",
    "if angle1 == angle2 == angle3 == angle4 == 90:\n",
    "    quadrilateral_type = \"square\"\n",
    "elif angle1 == angle2 == angle3 == angle4 and side1 == side2 == side3 == side4:\n",
    "    quadrilateral_type = \"rhombus\"\n",
    "elif angle1 == angle3 and angle2 == angle4 and side1 == side3 and side2 == side4:\n",
    "    quadrilateral_type = \"rectangle\"\n",
    "elif side1 == side2 == side3 == side4:\n",
    "    quadrilateral_type = \"parallelogram\"\n",
    "else:\n",
    "    quadrilateral_type = \"quadrilateral\"\n",
    "\n",
    "print(f\"The quadrilateral is a {quadrilateral_type}.\")"
   ]
  },
  {
   "cell_type": "markdown",
   "id": "aa548a19-6d7c-4c06-b684-9c9edad3b414",
   "metadata": {},
   "source": [
    "29. Determine the season based on a user-provided month using elif statements:"
   ]
  },
  {
   "cell_type": "code",
   "execution_count": 34,
   "id": "2ab31c4d-4f93-467d-9de3-0b52cdd7bfff",
   "metadata": {},
   "outputs": [
    {
     "name": "stdin",
     "output_type": "stream",
     "text": [
      "Enter a month (1-12):  5\n"
     ]
    },
    {
     "name": "stdout",
     "output_type": "stream",
     "text": [
      "The season for month 5 is spring.\n"
     ]
    }
   ],
   "source": [
    "month = int(input(\"Enter a month (1-12): \"))\n",
    "\n",
    "if 3 <= month <= 5:\n",
    "    season = \"spring\"\n",
    "elif 6 <= month <= 8:\n",
    "    season = \"summer\"\n",
    "elif 9 <= month <= 11:\n",
    "    season = \"autumn\"\n",
    "else:\n",
    "    season = \"winter\"\n",
    "\n",
    "print(f\"The season for month {month} is {season}.\")"
   ]
  },
  {
   "cell_type": "markdown",
   "id": "0c5d64c9-0888-4666-b80b-91addc00f08c",
   "metadata": {},
   "source": [
    "30. Determine the type of a year (leap or common) and month (30 or 31 days) using elif statements:"
   ]
  },
  {
   "cell_type": "code",
   "execution_count": 35,
   "id": "2f165044-cd53-4d0a-825a-8255c8c3b3a3",
   "metadata": {},
   "outputs": [
    {
     "name": "stdin",
     "output_type": "stream",
     "text": [
      "Enter a year:  2003\n",
      "Enter a month (1-12):  3\n"
     ]
    },
    {
     "name": "stdout",
     "output_type": "stream",
     "text": [
      "The year 2003 is a common year.\n",
      "The month 3 has 31 days.\n"
     ]
    }
   ],
   "source": [
    "year = int(input(\"Enter a year: \"))\n",
    "month = int(input(\"Enter a month (1-12): \"))\n",
    "\n",
    "if (year % 4 == 0 and year % 100 != 0) or (year % 400 == 0):\n",
    "    year_type = \"leap\"\n",
    "else:\n",
    "    year_type = \"common\"\n",
    "\n",
    "if month in [1, 3, 5, 7, 8, 10, 12]:\n",
    "    month_days = 31\n",
    "elif month in [4, 6, 9, 11]:\n",
    "    month_days = 30\n",
    "else:\n",
    "    if year_type == \"leap\":\n",
    "        month_days = 29\n",
    "    else:\n",
    "        month_days = 28\n",
    "\n",
    "print(f\"The year {year} is a {year_type} year.\")\n",
    "print(f\"The month {month} has {month_days} days.\")\n"
   ]
  },
  {
   "cell_type": "markdown",
   "id": "ee838049-04cc-4550-8112-2448671745c3",
   "metadata": {},
   "source": [
    "**Many questions in the further sections are repeated hence I have skipped them and done only the new ones**"
   ]
  },
  {
   "cell_type": "markdown",
   "id": "02d79649-b51f-4781-8203-e81c9c59bba6",
   "metadata": {},
   "source": [
    "***Intermediate Level***"
   ]
  },
  {
   "cell_type": "markdown",
   "id": "1a8653da-0eb4-4dc3-81f9-0dab20ce6e40",
   "metadata": {},
   "source": [
    "15. Create a program that simulates a basic ATM transaction menu."
   ]
  },
  {
   "cell_type": "code",
   "execution_count": 36,
   "id": "45ff8d7b-751e-45bc-89aa-e803ecb87aa4",
   "metadata": {},
   "outputs": [
    {
     "name": "stdout",
     "output_type": "stream",
     "text": [
      "\n",
      "ATM Menu:\n",
      "1. Check Balance\n",
      "2. Make a Deposit\n",
      "3. Make a Withdrawal\n",
      "4. Exit\n"
     ]
    },
    {
     "name": "stdin",
     "output_type": "stream",
     "text": [
      "Enter your choice (1/2/3/4):  1\n"
     ]
    },
    {
     "name": "stdout",
     "output_type": "stream",
     "text": [
      "Your balance is $1000.00\n",
      "\n",
      "ATM Menu:\n",
      "1. Check Balance\n",
      "2. Make a Deposit\n",
      "3. Make a Withdrawal\n",
      "4. Exit\n"
     ]
    },
    {
     "name": "stdin",
     "output_type": "stream",
     "text": [
      "Enter your choice (1/2/3/4):  2\n",
      "Enter the deposit amount: $ 900\n"
     ]
    },
    {
     "name": "stdout",
     "output_type": "stream",
     "text": [
      "Deposit of $900.00 was successful. Your new balance is $1900.00\n",
      "\n",
      "ATM Menu:\n",
      "1. Check Balance\n",
      "2. Make a Deposit\n",
      "3. Make a Withdrawal\n",
      "4. Exit\n"
     ]
    },
    {
     "name": "stdin",
     "output_type": "stream",
     "text": [
      "Enter your choice (1/2/3/4):  3\n",
      "Enter the withdrawal amount: $ 295\n"
     ]
    },
    {
     "name": "stdout",
     "output_type": "stream",
     "text": [
      "Withdrawal of $295.00 was successful. Your new balance is $1605.00\n",
      "\n",
      "ATM Menu:\n",
      "1. Check Balance\n",
      "2. Make a Deposit\n",
      "3. Make a Withdrawal\n",
      "4. Exit\n"
     ]
    },
    {
     "name": "stdin",
     "output_type": "stream",
     "text": [
      "Enter your choice (1/2/3/4):  3\n",
      "Enter the withdrawal amount: $ 2000\n"
     ]
    },
    {
     "name": "stdout",
     "output_type": "stream",
     "text": [
      "Insufficient funds\n",
      "\n",
      "ATM Menu:\n",
      "1. Check Balance\n",
      "2. Make a Deposit\n",
      "3. Make a Withdrawal\n",
      "4. Exit\n"
     ]
    },
    {
     "name": "stdin",
     "output_type": "stream",
     "text": [
      "Enter your choice (1/2/3/4):  2\n",
      "Enter the deposit amount: $ 3000\n"
     ]
    },
    {
     "name": "stdout",
     "output_type": "stream",
     "text": [
      "Deposit of $3000.00 was successful. Your new balance is $4605.00\n",
      "\n",
      "ATM Menu:\n",
      "1. Check Balance\n",
      "2. Make a Deposit\n",
      "3. Make a Withdrawal\n",
      "4. Exit\n"
     ]
    },
    {
     "name": "stdin",
     "output_type": "stream",
     "text": [
      "Enter your choice (1/2/3/4):  3\n",
      "Enter the withdrawal amount: $ 3000\n"
     ]
    },
    {
     "name": "stdout",
     "output_type": "stream",
     "text": [
      "Withdrawal of $3000.00 was successful. Your new balance is $1605.00\n",
      "\n",
      "ATM Menu:\n",
      "1. Check Balance\n",
      "2. Make a Deposit\n",
      "3. Make a Withdrawal\n",
      "4. Exit\n"
     ]
    },
    {
     "name": "stdin",
     "output_type": "stream",
     "text": [
      "Enter your choice (1/2/3/4):  4\n"
     ]
    },
    {
     "name": "stdout",
     "output_type": "stream",
     "text": [
      "Thank you for using ATM\n"
     ]
    }
   ],
   "source": [
    "balance = 1000\n",
    "\n",
    "while True:\n",
    "    print(\"\\nATM Menu:\")\n",
    "    print(\"1. Check Balance\")\n",
    "    print(\"2. Make a Deposit\")\n",
    "    print(\"3. Make a Withdrawal\")\n",
    "    print(\"4. Exit\")\n",
    "\n",
    "    choice = int(input(\"Enter your choice (1/2/3/4): \"))\n",
    "\n",
    "    if choice == 1:\n",
    "        print(f\"Your balance is ${balance:.2f}\")\n",
    "    elif choice == 2:\n",
    "        deposit_amount = float(input(\"Enter the deposit amount: $\"))\n",
    "        if deposit_amount > 0:\n",
    "            balance += deposit_amount\n",
    "            print(f\"Deposit of ${deposit_amount:.2f} was successful. Your new balance is ${balance:.2f}\")\n",
    "        else:\n",
    "            print(\"Invalid deposit amount. Please enter a positive value.\")\n",
    "    elif choice == 3:\n",
    "        withdrawal_amount = float(input(\"Enter the withdrawal amount: $\"))\n",
    "        if 0 < withdrawal_amount <= balance:\n",
    "            balance -= withdrawal_amount\n",
    "            print(f\"Withdrawal of ${withdrawal_amount:.2f} was successful. Your new balance is ${balance:.2f}\")\n",
    "        elif withdrawal_amount <= 0:\n",
    "            print(\"Invalid withdrawal amount. Please enter a positive value.\")\n",
    "        else:\n",
    "            print(\"Insufficient funds\")\n",
    "    elif choice == 4:\n",
    "        print(\"Thank you for using ATM\")\n",
    "        break\n",
    "    else:\n",
    "        print(\"Invalid choice. Please select a valid option (1/2/3/4).\")"
   ]
  },
  {
   "cell_type": "markdown",
   "id": "1c0f78b0-0b86-4d67-a2a4-ea607458ee93",
   "metadata": {},
   "source": [
    "17. Write a program that calculates the average of a list of numbers, excluding the smallest and largest values."
   ]
  },
  {
   "cell_type": "code",
   "execution_count": 38,
   "id": "99745456-6bf3-4fe9-9d1a-ef70bcdae238",
   "metadata": {},
   "outputs": [
    {
     "name": "stdout",
     "output_type": "stream",
     "text": [
      "The average of the list is: 11.17\n"
     ]
    }
   ],
   "source": [
    "numbers = [12, 15, 7, 23, 9, 18, 5, 6]\n",
    "\n",
    "if len(numbers) < 3:\n",
    "    print(\"List should contain at least 3 numbers.\")\n",
    "else:\n",
    "    numbers.sort()\n",
    "    trimmed_numbers = numbers[1:-1]\n",
    "    average = sum(trimmed_numbers) / len(trimmed_numbers)\n",
    "    print(f\"The average of the list is: {average:.2f}\")"
   ]
  },
  {
   "cell_type": "markdown",
   "id": "3b3a33a6-449e-4943-8226-a74f4a812d49",
   "metadata": {},
   "source": [
    "18. Develop a program that converts a given temperature from Celsius to Fahrenheit."
   ]
  },
  {
   "cell_type": "code",
   "execution_count": 39,
   "id": "94444200-03d1-40e1-b3b5-2c15552f9e13",
   "metadata": {},
   "outputs": [
    {
     "name": "stdin",
     "output_type": "stream",
     "text": [
      "Enter temperature in Celsius:  100\n"
     ]
    },
    {
     "name": "stdout",
     "output_type": "stream",
     "text": [
      "100.00 degrees Celsius is equal to 212.00 degrees Fahrenheit.\n"
     ]
    }
   ],
   "source": [
    "celsius = float(input(\"Enter temperature in Celsius: \"))\n",
    "\n",
    "fahrenheit = (celsius * 9/5) + 32\n",
    "\n",
    "print(f\"{celsius:.2f} degrees Celsius is equal to {fahrenheit:.2f} degrees Fahrenheit.\")\n"
   ]
  },
  {
   "cell_type": "markdown",
   "id": "91198745-4542-4498-a037-2b1649ac2131",
   "metadata": {},
   "source": [
    "19. Create a program that simulates a basic calculator for addition, subtraction, multiplication, and division."
   ]
  },
  {
   "cell_type": "code",
   "execution_count": 41,
   "id": "0d0b6fb9-3bfe-4270-9627-7534151b95d4",
   "metadata": {},
   "outputs": [
    {
     "name": "stdout",
     "output_type": "stream",
     "text": [
      "\n",
      "Calculator Menu:\n",
      "1. Addition\n",
      "2. Subtraction\n",
      "3. Multiplication\n",
      "4. Division\n",
      "5. Exit\n"
     ]
    },
    {
     "name": "stdin",
     "output_type": "stream",
     "text": [
      "Enter your choice (1/2/3/4/5):  1\n",
      "Enter the first number:  7\n",
      "Enter the second number:  9\n"
     ]
    },
    {
     "name": "stdout",
     "output_type": "stream",
     "text": [
      "Result: 16.0\n",
      "\n",
      "Calculator Menu:\n",
      "1. Addition\n",
      "2. Subtraction\n",
      "3. Multiplication\n",
      "4. Division\n",
      "5. Exit\n"
     ]
    },
    {
     "name": "stdin",
     "output_type": "stream",
     "text": [
      "Enter your choice (1/2/3/4/5):  2\n",
      "Enter the first number:  6\n",
      "Enter the second number:  90\n"
     ]
    },
    {
     "name": "stdout",
     "output_type": "stream",
     "text": [
      "Result: -84.0\n",
      "\n",
      "Calculator Menu:\n",
      "1. Addition\n",
      "2. Subtraction\n",
      "3. Multiplication\n",
      "4. Division\n",
      "5. Exit\n"
     ]
    },
    {
     "name": "stdin",
     "output_type": "stream",
     "text": [
      "Enter your choice (1/2/3/4/5):  3\n",
      "Enter the first number:  90\n",
      "Enter the second number:  3\n"
     ]
    },
    {
     "name": "stdout",
     "output_type": "stream",
     "text": [
      "Result: 270.0\n",
      "\n",
      "Calculator Menu:\n",
      "1. Addition\n",
      "2. Subtraction\n",
      "3. Multiplication\n",
      "4. Division\n",
      "5. Exit\n"
     ]
    },
    {
     "name": "stdin",
     "output_type": "stream",
     "text": [
      "Enter your choice (1/2/3/4/5):  4\n",
      "Enter the dividend:  1000\n",
      "Enter the divisor:  25\n"
     ]
    },
    {
     "name": "stdout",
     "output_type": "stream",
     "text": [
      "Result: 40.0\n",
      "\n",
      "Calculator Menu:\n",
      "1. Addition\n",
      "2. Subtraction\n",
      "3. Multiplication\n",
      "4. Division\n",
      "5. Exit\n"
     ]
    },
    {
     "name": "stdin",
     "output_type": "stream",
     "text": [
      "Enter your choice (1/2/3/4/5):  5\n"
     ]
    },
    {
     "name": "stdout",
     "output_type": "stream",
     "text": [
      "Calculator is exiting...\n"
     ]
    }
   ],
   "source": [
    "while True:\n",
    "    print(\"\\nCalculator Menu:\")\n",
    "    print(\"1. Addition\")\n",
    "    print(\"2. Subtraction\")\n",
    "    print(\"3. Multiplication\")\n",
    "    print(\"4. Division\")\n",
    "    print(\"5. Exit\")\n",
    "    \n",
    "    choice = int(input(\"Enter your choice (1/2/3/4/5): \"))\n",
    "    \n",
    "    if choice == 1:\n",
    "        num1 = float(input(\"Enter the first number: \"))\n",
    "        num2 = float(input(\"Enter the second number: \"))\n",
    "        result = num1 + num2\n",
    "        print(f\"Result: {result}\")\n",
    "    elif choice == 2:\n",
    "        num1 = float(input(\"Enter the first number: \"))\n",
    "        num2 = float(input(\"Enter the second number: \"))\n",
    "        result = num1 - num2\n",
    "        print(f\"Result: {result}\")\n",
    "    elif choice == 3:\n",
    "        num1 = float(input(\"Enter the first number: \"))\n",
    "        num2 = float(input(\"Enter the second number: \"))\n",
    "        result = num1 * num2\n",
    "        print(f\"Result: {result}\")\n",
    "    elif choice == 4:\n",
    "        num1 = float(input(\"Enter the dividend: \"))\n",
    "        num2 = float(input(\"Enter the divisor: \"))\n",
    "        if num2 != 0:\n",
    "            result = num1 / num2\n",
    "            print(f\"Result: {result}\")\n",
    "        else:\n",
    "            print(\"Error: Division by zero.\")\n",
    "    elif choice == 5:\n",
    "        print(\"Calculator is exiting...\")\n",
    "        break\n",
    "    else:\n",
    "        print(\"Invalid choice. Please select a valid option (1/2/3/4/5).\")\n"
   ]
  },
  {
   "cell_type": "markdown",
   "id": "04033fb0-1381-40d1-91f9-d5f260c53ed1",
   "metadata": {},
   "source": [
    "20. Write a program that determines the roots of a cubic equation using the Cardano formula."
   ]
  },
  {
   "cell_type": "code",
   "execution_count": 3,
   "id": "99c67f8b-16c2-4efb-b382-8eff6cb69e79",
   "metadata": {},
   "outputs": [
    {
     "name": "stdin",
     "output_type": "stream",
     "text": [
      "Enter coefficient a:  7\n",
      "Enter coefficient b:  14\n",
      "Enter coefficient c:  21\n",
      "Enter coefficient d:  28\n"
     ]
    },
    {
     "name": "stdout",
     "output_type": "stream",
     "text": [
      "The roots are:\n",
      "x1 = -1.65+0.00j\n",
      "x2 = 1.68+2.56j\n",
      "x3 = 1.68-2.56j\n"
     ]
    }
   ],
   "source": [
    "import cmath\n",
    "\n",
    "a = float(input(\"Enter coefficient a: \"))\n",
    "b = float(input(\"Enter coefficient b: \"))\n",
    "c = float(input(\"Enter coefficient c: \"))\n",
    "d = float(input(\"Enter coefficient d: \"))\n",
    "\n",
    "delta0 = b**2 - 3*a*c\n",
    "delta1 = 2*b**3 - 9*a*b*c + 27*a**2*d\n",
    "C = ((delta1 + cmath.sqrt(delta1**2 - 4*delta0**3)) / 2)**(1/3)\n",
    "x1 = (-1/(3*a)) * (b + C + delta0/C)\n",
    "x2 = (-1/(2*a)) * (b - (1 + 1j * cmath.sqrt(3)) * C + (1 - 1j * cmath.sqrt(3)) * delta0/C)\n",
    "x3 = (-1/(2*a)) * (b - (1 - 1j * cmath.sqrt(3)) * C + (1 + 1j * cmath.sqrt(3)) * delta0/C)\n",
    "\n",
    "print(f\"The roots are:\")\n",
    "print(f\"x1 = {x1:.2f}\")\n",
    "print(f\"x2 = {x2:.2f}\")\n",
    "print(f\"x3 = {x3:.2f}\")"
   ]
  },
  {
   "cell_type": "markdown",
   "id": "7ce9e857-818d-4b91-b01c-4aaaed230763",
   "metadata": {},
   "source": [
    "***Advanced Level***"
   ]
  },
  {
   "cell_type": "markdown",
   "id": "671f5e31-51d2-4496-b34f-ca9cf7dfeab2",
   "metadata": {},
   "source": [
    "21. Create a program that calculates the income tax based on the user's income and tax brackets."
   ]
  },
  {
   "cell_type": "code",
   "execution_count": null,
   "id": "bf0039d5-d263-459f-b468-3bc8f23b7ece",
   "metadata": {},
   "outputs": [],
   "source": [
    "income = float(input(\"Enter your annual income (in INR): \"))\n",
    "\n",
    "if income <= 250000:\n",
    "    tax = 0\n",
    "elif 250001 <= income <= 500000:\n",
    "    tax = (income - 250000) * 0.05\n",
    "elif 500001 <= income <= 1000000:\n",
    "    tax = 250000 * 0.05 + (income - 500000) * 0.2\n",
    "else:\n",
    "    tax = 250000 * 0.05 + 500000 * 0.2 + (income - 1000000) * 0.3\n",
    "\n",
    "tax_with_cess = tax + (tax * 0.04)\n",
    "\n",
    "print(f\"Your income tax for FY 2022-2023 is: INR {tax_with_cess:.2f}\")"
   ]
  },
  {
   "cell_type": "markdown",
   "id": "23b12b13-2758-4ea3-869e-1272ba48da65",
   "metadata": {},
   "source": [
    "22. Write a program that simulates a rock-paper-scissors game against the computer."
   ]
  },
  {
   "cell_type": "code",
   "execution_count": 45,
   "id": "21370700-e540-4eb5-b2e0-60721ec99b72",
   "metadata": {},
   "outputs": [
    {
     "name": "stdin",
     "output_type": "stream",
     "text": [
      "Enter your choice (rock/paper/scissors):  rock\n"
     ]
    },
    {
     "name": "stdout",
     "output_type": "stream",
     "text": [
      "Computer chose: scissors\n",
      "You win!\n"
     ]
    }
   ],
   "source": [
    "import random\n",
    "\n",
    "choices = [\"rock\", \"paper\", \"scissors\"]\n",
    "\n",
    "user_choice = input(\"Enter your choice (rock/paper/scissors): \")\n",
    "computer_choice = random.choice(choices)\n",
    "\n",
    "print(f\"Computer chose: {computer_choice}\")\n",
    "\n",
    "if user_choice == computer_choice:\n",
    "    print(\"It's a tie!\")\n",
    "elif (user_choice == \"rock\" and computer_choice == \"scissors\") or (user_choice == \"scissors\" and computer_choice == \"paper\") or (user_choice == \"paper\" and computer_choice == \"rock\"):\n",
    "    print(\"You win!\")\n",
    "else:\n",
    "    print(\"Computer wins!\")"
   ]
  },
  {
   "cell_type": "markdown",
   "id": "44b36560-b2d0-4e74-bf4f-eda4ad954794",
   "metadata": {},
   "source": [
    "23. Develop a program that generates a random password based on user preferences (length, complexity)."
   ]
  },
  {
   "cell_type": "code",
   "execution_count": 4,
   "id": "8703fcec-d22a-4180-9f97-522ab1a480df",
   "metadata": {},
   "outputs": [
    {
     "name": "stdin",
     "output_type": "stream",
     "text": [
      "Enter the length of the password:  15\n",
      "Enter complexity level (low/medium/high):  high\n"
     ]
    },
    {
     "name": "stdout",
     "output_type": "stream",
     "text": [
      "Generated password: (-E$2J&%DJMN$e=\n"
     ]
    }
   ],
   "source": [
    "import random\n",
    "import string\n",
    "\n",
    "length = int(input(\"Enter the length of the password: \"))\n",
    "complexity = input(\"Enter complexity level (low/medium/high): \")\n",
    "\n",
    "if complexity == \"low\":\n",
    "    characters = string.ascii_letters + string.digits\n",
    "elif complexity == \"medium\":\n",
    "    characters = string.ascii_letters + string.digits + string.punctuation\n",
    "elif complexity == \"high\":\n",
    "    characters = string.ascii_letters + string.digits + string.punctuation + string.ascii_uppercase\n",
    "\n",
    "password = ''.join(random.choice(characters) for i in range(length))\n",
    "print(f\"Generated password: {password}\")"
   ]
  },
  {
   "cell_type": "markdown",
   "id": "ed364dc9-e1f3-4bc2-9bc7-6834702a2089",
   "metadata": {},
   "source": [
    "24. Create a program that implements a simple text-based adventure game with branching scenarios."
   ]
  },
  {
   "cell_type": "code",
   "execution_count": 48,
   "id": "3716b019-0f7d-429f-8efb-b67692d57586",
   "metadata": {},
   "outputs": [
    {
     "name": "stdout",
     "output_type": "stream",
     "text": [
      "Welcome to the Text Adventure Game!\n",
      "You find yourself in a dark forest.\n"
     ]
    },
    {
     "name": "stdin",
     "output_type": "stream",
     "text": [
      "Do you want to go 'left' or 'right'?  right\n"
     ]
    },
    {
     "name": "stdout",
     "output_type": "stream",
     "text": [
      "You come across a hungry bear. Game over!\n"
     ]
    }
   ],
   "source": [
    "print(\"Welcome to the Text Adventure Game!\")\n",
    "print(\"You find yourself in a dark forest.\")\n",
    "choice = input(\"Do you want to go 'left' or 'right'? \")\n",
    "\n",
    "if choice == \"left\":\n",
    "    print(\"You encounter a friendly deer. You win!\")\n",
    "elif choice == \"right\":\n",
    "    print(\"You come across a hungry bear. Game over!\")\n",
    "else:\n",
    "    print(\"Invalid choice. The game ends.\")\n"
   ]
  },
  {
   "cell_type": "markdown",
   "id": "f7f8185f-6d89-431c-9191-74c025feb210",
   "metadata": {},
   "source": [
    "25. Build a program that solves a linear equation for x, considering different cases."
   ]
  },
  {
   "cell_type": "code",
   "execution_count": 49,
   "id": "ddba1b36-2ce0-4aa0-9d79-06633cd5da7c",
   "metadata": {},
   "outputs": [
    {
     "name": "stdin",
     "output_type": "stream",
     "text": [
      "Enter coefficient a:  3\n",
      "Enter coefficient b:  4\n"
     ]
    },
    {
     "name": "stdout",
     "output_type": "stream",
     "text": [
      "The solution is x = -1.3333333333333333\n"
     ]
    }
   ],
   "source": [
    "a = float(input(\"Enter coefficient a: \"))\n",
    "b = float(input(\"Enter coefficient b: \"))\n",
    "\n",
    "if a == 0:\n",
    "    if b == 0:\n",
    "        print(\"Infinite solutions\")\n",
    "    else:\n",
    "        print(\"No solution\")\n",
    "else:\n",
    "    x = -b / a\n",
    "    print(f\"The solution is x = {x}\")\n"
   ]
  },
  {
   "cell_type": "markdown",
   "id": "437f50bd-e9b7-4019-b050-4c7c5b68574f",
   "metadata": {},
   "source": [
    "26. Write a program that simulates a basic quiz game with multiple-choice questions and scoring."
   ]
  },
  {
   "cell_type": "code",
   "execution_count": 50,
   "id": "bdd9e8cd-68c9-439e-a596-b349e1585693",
   "metadata": {},
   "outputs": [
    {
     "name": "stdout",
     "output_type": "stream",
     "text": [
      "Welcome to the Quiz!\n",
      "Question 1: What is the capital of France?\n"
     ]
    },
    {
     "name": "stdin",
     "output_type": "stream",
     "text": [
      "Your answer:  Mars\n"
     ]
    },
    {
     "name": "stdout",
     "output_type": "stream",
     "text": [
      "Question 2: Which planet is known as the 'Red Planet'?\n"
     ]
    },
    {
     "name": "stdin",
     "output_type": "stream",
     "text": [
      "Your answer:  Mars\n"
     ]
    },
    {
     "name": "stdout",
     "output_type": "stream",
     "text": [
      "Your score is: 1\n"
     ]
    }
   ],
   "source": [
    "score = 0\n",
    "print(\"Welcome to the Quiz!\")\n",
    "print(\"Question 1: What is the capital of France?\")\n",
    "answer1 = input(\"Your answer: \").lower()\n",
    "if answer1 == \"paris\":\n",
    "    score += 1\n",
    "\n",
    "print(\"Question 2: Which planet is known as the 'Red Planet'?\")\n",
    "answer2 = input(\"Your answer: \").lower()\n",
    "if answer2 == \"mars\":\n",
    "    score += 1\n",
    "\n",
    "print(f\"Your score is: {score}\")\n"
   ]
  },
  {
   "cell_type": "markdown",
   "id": "bcc31a30-20cd-4999-b6bd-386f48b951f5",
   "metadata": {},
   "source": [
    "27. Develop a program that determines whether a given year is a prime number or not."
   ]
  },
  {
   "cell_type": "code",
   "execution_count": 51,
   "id": "16f319b5-6720-4a32-9d91-7a93f86ca216",
   "metadata": {},
   "outputs": [
    {
     "name": "stdin",
     "output_type": "stream",
     "text": [
      "Enter a year:  2013\n"
     ]
    },
    {
     "name": "stdout",
     "output_type": "stream",
     "text": [
      "2013 is not a prime number.\n"
     ]
    }
   ],
   "source": [
    "year = int(input(\"Enter a year: \"))\n",
    "\n",
    "if year <= 1:\n",
    "    is_prime = False\n",
    "else:\n",
    "    is_prime = True\n",
    "    for i in range(2, int(year**0.5) + 1):\n",
    "        if year % i == 0:\n",
    "            is_prime = False\n",
    "            break\n",
    "\n",
    "if is_prime:\n",
    "    print(f\"{year} is a prime number.\")\n",
    "else:\n",
    "    print(f\"{year} is not a prime number.\")\n"
   ]
  },
  {
   "cell_type": "markdown",
   "id": "109cad66-ba78-4215-afbd-c3c819cacdb4",
   "metadata": {},
   "source": [
    "28. Create a program that sorts three numbers in ascending order using conditional statements."
   ]
  },
  {
   "cell_type": "code",
   "execution_count": 52,
   "id": "4762e476-f2cd-4263-bea6-aa79dfbcf966",
   "metadata": {},
   "outputs": [
    {
     "name": "stdin",
     "output_type": "stream",
     "text": [
      "Enter the first number:  9\n",
      "Enter the second number:  3\n",
      "Enter the third number:  6\n"
     ]
    },
    {
     "name": "stdout",
     "output_type": "stream",
     "text": [
      "The numbers in ascending order: 3.0, 6.0, 9.0\n"
     ]
    }
   ],
   "source": [
    "num1 = float(input(\"Enter the first number: \"))\n",
    "num2 = float(input(\"Enter the second number: \"))\n",
    "num3 = float(input(\"Enter the third number: \"))\n",
    "\n",
    "if num1 <= num2 <= num3:\n",
    "    print(f\"The numbers in ascending order: {num1}, {num2}, {num3}\")\n",
    "elif num1 <= num3 <= num2:\n",
    "    print(f\"The numbers in ascending order: {num1}, {num3}, {num2}\")\n",
    "elif num2 <= num1 <= num3:\n",
    "    print(f\"The numbers in ascending order: {num2}, {num1}, {num3}\")\n",
    "elif num2 <= num3 <= num1:\n",
    "    print(f\"The numbers in ascending order: {num2}, {num3}, {num1}\")\n",
    "elif num3 <= num1 <= num2:\n",
    "    print(f\"The numbers in ascending order: {num3}, {num1}, {num2}\")\n",
    "else:\n",
    "    print(f\"The numbers in ascending order: {num3}, {num2}, {num1}\")"
   ]
  },
  {
   "cell_type": "markdown",
   "id": "941cadf7-984b-4818-b812-d50e9fbb8804",
   "metadata": {},
   "source": [
    "29. Build a program that determines the roots of a quartic equation using numerical methods."
   ]
  },
  {
   "cell_type": "code",
   "execution_count": null,
   "id": "0f070922-bb95-4e87-a6ea-907f1bc2efa1",
   "metadata": {},
   "outputs": [],
   "source": []
  },
  {
   "cell_type": "markdown",
   "id": "d0e870de-6eb6-45c4-a179-0eaf8ffc5aad",
   "metadata": {},
   "source": [
    "***Challenge Level***"
   ]
  },
  {
   "cell_type": "markdown",
   "id": "ada88026-c779-4a97-89b2-24da2c7888a6",
   "metadata": {},
   "source": [
    "32. Develop a program that performs matrix addition and subtraction based on user input."
   ]
  },
  {
   "cell_type": "code",
   "execution_count": 54,
   "id": "b80983ea-0edb-4330-a788-4c3063732cfb",
   "metadata": {},
   "outputs": [
    {
     "name": "stdout",
     "output_type": "stream",
     "text": [
      "Enter the first matrix:\n"
     ]
    },
    {
     "name": "stdin",
     "output_type": "stream",
     "text": [
      "Enter the number of rows:  3\n",
      "Enter the number of columns:  3\n",
      "Enter elements for row 1 (separated by space):  1 2 3\n",
      "Enter elements for row 2 (separated by space):  4 5 6\n",
      "Enter elements for row 3 (separated by space):  7 8 9\n"
     ]
    },
    {
     "name": "stdout",
     "output_type": "stream",
     "text": [
      "Enter the second matrix:\n"
     ]
    },
    {
     "name": "stdin",
     "output_type": "stream",
     "text": [
      "Enter the number of rows:  3\n",
      "Enter the number of columns:  3\n",
      "Enter elements for row 1 (separated by space):  2 3 4\n",
      "Enter elements for row 2 (separated by space):  1 2 3\n",
      "Enter elements for row 3 (separated by space):  0 9 8\n"
     ]
    },
    {
     "name": "stdout",
     "output_type": "stream",
     "text": [
      "\n",
      "Matrix Addition Result:\n",
      "3.0 5.0 7.0\n",
      "5.0 7.0 9.0\n",
      "7.0 17.0 17.0\n",
      "\n",
      "Matrix Subtraction Result:\n",
      "-1.0 -1.0 -1.0\n",
      "3.0 3.0 3.0\n",
      "7.0 -1.0 1.0\n"
     ]
    }
   ],
   "source": [
    "def inp():\n",
    "    r = int(input(\"Rows: \"))\n",
    "    c = int(input(\"Cols: \"))\n",
    "    m = []\n",
    "    for i in range(r):\n",
    "        row = [float(e) for e in input(f\"Row {i + 1}: \").split()]\n",
    "        m.append(row)\n",
    "    return m\n",
    "\n",
    "def pmat(m):\n",
    "    for row in m:\n",
    "        print(\" \".join(map(str, row)))\n",
    "\n",
    "def add(m1, m2):\n",
    "    return [[m1[i][j] + m2[i][j] for j in range(len(m1[0]))] for i in range(len(m1))]\n",
    "\n",
    "def sub(m1, m2):\n",
    "    return [[m1[i][j] - m2[i][j] for j in range(len(m1[0]))] for i in range(len(m1))]\n",
    "\n",
    "print(\"Matrix 1:\")\n",
    "matrix1 = inp()\n",
    "print(\"Matrix 2:\")\n",
    "matrix2 = inp()\n",
    "\n",
    "if len(matrix1) == len(matrix2) and len(matrix1[0]) == len(matrix2[0]):\n",
    "    sum_matrix = add(matrix1, matrix2)\n",
    "    diff_matrix = sub(matrix1, matrix2)\n",
    "\n",
    "    print(\"\\nAddition Result:\")\n",
    "    pmat(sum_matrix)\n",
    "\n",
    "    print(\"\\nSubtraction Result:\")\n",
    "    pmat(diff_matrix)\n",
    "else:\n",
    "    print(\"Matrix dimensions are not compatible for addition and subtraction.\")\n"
   ]
  },
  {
   "cell_type": "markdown",
   "id": "f5c4887d-418d-4750-b35f-d0595e13165f",
   "metadata": {},
   "source": [
    "35. Create a program that simulates a basic text-based tic-tac-toe game against the computer."
   ]
  },
  {
   "cell_type": "code",
   "execution_count": 7,
   "id": "166ed49b-99db-4b95-8a01-a404d81fbca6",
   "metadata": {},
   "outputs": [
    {
     "name": "stdout",
     "output_type": "stream",
     "text": [
      "Welcome to Tic-Tac-Toe!\n",
      "  |   |  \n",
      "---------\n",
      "  |   |  \n",
      "---------\n",
      "  |   |  \n",
      "---------\n"
     ]
    },
    {
     "name": "stdin",
     "output_type": "stream",
     "text": [
      "Player X, enter row and column:  1 2\n"
     ]
    },
    {
     "name": "stdout",
     "output_type": "stream",
     "text": [
      "  | X |  \n",
      "---------\n",
      "  |   |  \n",
      "---------\n",
      "  |   |  \n",
      "---------\n"
     ]
    },
    {
     "name": "stdin",
     "output_type": "stream",
     "text": [
      "Player O, enter row and column:  1 1\n"
     ]
    },
    {
     "name": "stdout",
     "output_type": "stream",
     "text": [
      "O | X |  \n",
      "---------\n",
      "  |   |  \n",
      "---------\n",
      "  |   |  \n",
      "---------\n"
     ]
    },
    {
     "name": "stdin",
     "output_type": "stream",
     "text": [
      "Player X, enter row and column:  1 3\n"
     ]
    },
    {
     "name": "stdout",
     "output_type": "stream",
     "text": [
      "O | X | X\n",
      "---------\n",
      "  |   |  \n",
      "---------\n",
      "  |   |  \n",
      "---------\n"
     ]
    },
    {
     "name": "stdin",
     "output_type": "stream",
     "text": [
      "Player O, enter row and column:  2 2\n"
     ]
    },
    {
     "name": "stdout",
     "output_type": "stream",
     "text": [
      "O | X | X\n",
      "---------\n",
      "  | O |  \n",
      "---------\n",
      "  |   |  \n",
      "---------\n"
     ]
    },
    {
     "name": "stdin",
     "output_type": "stream",
     "text": [
      "Player X, enter row and column:  3 3\n"
     ]
    },
    {
     "name": "stdout",
     "output_type": "stream",
     "text": [
      "O | X | X\n",
      "---------\n",
      "  | O |  \n",
      "---------\n",
      "  |   | X\n",
      "---------\n"
     ]
    },
    {
     "name": "stdin",
     "output_type": "stream",
     "text": [
      "Player O, enter row and column:  3 1\n"
     ]
    },
    {
     "name": "stdout",
     "output_type": "stream",
     "text": [
      "O | X | X\n",
      "---------\n",
      "  | O |  \n",
      "---------\n",
      "O |   | X\n",
      "---------\n"
     ]
    },
    {
     "name": "stdin",
     "output_type": "stream",
     "text": [
      "Player X, enter row and column:  2 3\n"
     ]
    },
    {
     "name": "stdout",
     "output_type": "stream",
     "text": [
      "O | X | X\n",
      "---------\n",
      "  | O | X\n",
      "---------\n",
      "O |   | X\n",
      "---------\n",
      "Player X wins!\n"
     ]
    }
   ],
   "source": [
    "def print_board(board):\n",
    "    for row in board:\n",
    "        print(\" | \".join(row))\n",
    "        print(\"-\" * 9)\n",
    "\n",
    "def check_win(board, player):\n",
    "    for row in board:\n",
    "        if all(cell == player for cell in row):\n",
    "            return True\n",
    "    for col in range(3):\n",
    "        if all(board[row][col] == player for row in range(3)):\n",
    "            return True\n",
    "    if all(board[i][i] == player for i in range(3)) or all(board[i][2 - i] == player for i in range(3)):\n",
    "        return True\n",
    "    return False\n",
    "\n",
    "def check_draw(board):\n",
    "    return all(cell != \" \" for row in board for cell in row)\n",
    "\n",
    "board = [[\" \" for _ in range(3)] for _ in range(3)]\n",
    "\n",
    "print(\"Welcome to Tic-Tac-Toe!\")\n",
    "\n",
    "player = \"X\"\n",
    "while True:\n",
    "    print_board(board)\n",
    "    row, col = map(int, input(f\"Player {player}, enter row and column: \").split())\n",
    "\n",
    "    if board[row - 1][col - 1] == \" \":\n",
    "        board[row - 1][col - 1] = player\n",
    "\n",
    "        if check_win(board, player):\n",
    "            print_board(board)\n",
    "            print(f\"Player {player} wins!\")\n",
    "            break\n",
    "\n",
    "        if check_draw(board):\n",
    "            print_board(board)\n",
    "            print(\"It's a draw!\")\n",
    "            break\n",
    "\n",
    "        player = \"O\" if player == \"X\" else \"X\"\n",
    "    else:\n",
    "        print(\"Cell already taken. Try again.\")\n"
   ]
  },
  {
   "cell_type": "markdown",
   "id": "829966ca-cbbd-463d-adda-3206fc3e2160",
   "metadata": {},
   "source": [
    "36. Write a program that generates Fibonacci numbers up to a specified term using iterative methods."
   ]
  },
  {
   "cell_type": "code",
   "execution_count": 1,
   "id": "2ee08b4e-e5e4-441f-af1c-392ae99c4bb5",
   "metadata": {},
   "outputs": [
    {
     "name": "stdin",
     "output_type": "stream",
     "text": [
      "Enter nth term 7\n"
     ]
    },
    {
     "name": "stdout",
     "output_type": "stream",
     "text": [
      "0\n",
      "1\n",
      "1\n",
      "2\n",
      "3\n",
      "5\n",
      "8\n",
      "13\n",
      "21\n"
     ]
    }
   ],
   "source": [
    "n = int(input(\"Enter nth term\"))\n",
    "\n",
    "a = 0\n",
    "b = 1\n",
    "print(a)\n",
    "print(b)\n",
    "for i in range(0,n):\n",
    "    c = a + b\n",
    "    print(c)\n",
    "    a = b\n",
    "    b = c"
   ]
  },
  {
   "cell_type": "markdown",
   "id": "6b33b94b-d388-4a02-adde-af73c5ff3e88",
   "metadata": {},
   "source": [
    "37. Develop a program that calculates the nth term of the Fibonacci sequence using memoization."
   ]
  },
  {
   "cell_type": "code",
   "execution_count": 1,
   "id": "da13135c-795d-427e-8126-e73aa684a255",
   "metadata": {},
   "outputs": [
    {
     "name": "stdin",
     "output_type": "stream",
     "text": [
      "Enter the value of n:  7\n"
     ]
    },
    {
     "name": "stdout",
     "output_type": "stream",
     "text": [
      "The 7th Fibonacci number is: 13\n"
     ]
    }
   ],
   "source": [
    "cache = {}\n",
    "\n",
    "def fibonacci(n):\n",
    "    if n in cache:\n",
    "        return cache[n]\n",
    "    \n",
    "    if n == 0:\n",
    "        result = 0\n",
    "    elif n == 1:\n",
    "        result = 1\n",
    "    else:\n",
    "        result = fibonacci(n-1) + fibonacci(n-2)\n",
    "        \n",
    "    cache[n] = result\n",
    "    return result\n",
    "\n",
    "n = int(input(\"Enter the value of n: \"))\n",
    "\n",
    "result = fibonacci(n)\n",
    "print(f\"The {n}th Fibonacci number is: {result}\")"
   ]
  },
  {
   "cell_type": "markdown",
   "id": "98a386c5-6897-4e7d-b56c-ee6fd90dc522",
   "metadata": {},
   "source": [
    "38. Create a program that generates a calendar for a given month and year using conditional statements."
   ]
  },
  {
   "cell_type": "code",
   "execution_count": 1,
   "id": "0a8eb633-624d-44c8-9294-9cc83db823b1",
   "metadata": {},
   "outputs": [
    {
     "name": "stdin",
     "output_type": "stream",
     "text": [
      "Enter the year:  2003\n",
      "Enter the month (1-12):  3\n"
     ]
    },
    {
     "name": "stdout",
     "output_type": "stream",
     "text": [
      "Calendar for March 2003\n",
      "\n",
      "     March 2003\n",
      "Mo Tu We Th Fr Sa Su\n",
      "                1  2\n",
      " 3  4  5  6  7  8  9\n",
      "10 11 12 13 14 15 16\n",
      "17 18 19 20 21 22 23\n",
      "24 25 26 27 28 29 30\n",
      "31\n",
      "\n"
     ]
    }
   ],
   "source": [
    "import calendar\n",
    "\n",
    "def generate_calendar(year, month):\n",
    "    cal = calendar.month(year, month)\n",
    "    print(f\"Calendar for {calendar.month_name[month]} {year}\\n\")\n",
    "    print(cal)\n",
    "\n",
    "year = int(input(\"Enter the year: \"))\n",
    "month = int(input(\"Enter the month (1-12): \"))\n",
    "\n",
    "if 1 <= month <= 12:\n",
    "    generate_calendar(year, month)\n",
    "else:\n",
    "    print(\"Invalid month input. Please enter a month between 1 and 12.\")\n"
   ]
  },
  {
   "cell_type": "markdown",
   "id": "4e34face-730e-442b-8529-6b913d65eb01",
   "metadata": {},
   "source": [
    "\n",
    "40. Write a program that generates the prime factors of a given number using trial division."
   ]
  },
  {
   "cell_type": "code",
   "execution_count": 3,
   "id": "10c0ef00-f5a5-46cb-911e-cd312d29d54e",
   "metadata": {},
   "outputs": [
    {
     "name": "stdin",
     "output_type": "stream",
     "text": [
      "Enter a number to find its prime factors:  20\n"
     ]
    },
    {
     "name": "stdout",
     "output_type": "stream",
     "text": [
      "The prime factors of 20 are: [2, 2, 5]\n"
     ]
    }
   ],
   "source": [
    "def prime_factors(n):\n",
    "    factors = []\n",
    "    divisor = 2\n",
    "\n",
    "    while divisor <= n:\n",
    "        if n % divisor == 0:\n",
    "            factors.append(divisor)\n",
    "            n //= divisor\n",
    "        else:\n",
    "            divisor += 1\n",
    "\n",
    "    return factors\n",
    "\n",
    "\n",
    "number = int(input(\"Enter a number to find its prime factors: \"))\n",
    "\n",
    "if number < 2:\n",
    "    print(\"Prime factorization is not possible for numbers less than 2.\")\n",
    "else:\n",
    "    factors = prime_factors(number)\n",
    "    print(f\"The prime factors of {number} are: {factors}\")\n"
   ]
  }
 ],
 "metadata": {
  "kernelspec": {
   "display_name": "Python 3 (ipykernel)",
   "language": "python",
   "name": "python3"
  },
  "language_info": {
   "codemirror_mode": {
    "name": "ipython",
    "version": 3
   },
   "file_extension": ".py",
   "mimetype": "text/x-python",
   "name": "python",
   "nbconvert_exporter": "python",
   "pygments_lexer": "ipython3",
   "version": "3.10.8"
  }
 },
 "nbformat": 4,
 "nbformat_minor": 5
}
